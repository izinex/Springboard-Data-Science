{
 "cells": [
  {
   "cell_type": "markdown",
   "metadata": {},
   "source": [
    "### Case Study on Student Performance"
   ]
  },
  {
   "cell_type": "code",
   "execution_count": 2,
   "metadata": {},
   "outputs": [],
   "source": [
    "import pandas as pd\n",
    "import numpy as np\n",
    "import seaborn as sns\n",
    "import matplotlib.pyplot as plt"
   ]
  },
  {
   "cell_type": "markdown",
   "metadata": {},
   "source": [
    "This is an fictional dataset comprised of students and their scores in math, reading and writing. Within there are information on their parents education level, ethnicity, what type of lunch program their in, and whether or not they have completed a test preparation course"
   ]
  },
  {
   "cell_type": "code",
   "execution_count": 281,
   "metadata": {},
   "outputs": [],
   "source": [
    "df = pd.read_csv('StudentsPerformance.csv')"
   ]
  },
  {
   "cell_type": "code",
   "execution_count": 827,
   "metadata": {},
   "outputs": [
    {
     "data": {
      "text/html": [
       "<div>\n",
       "<style scoped>\n",
       "    .dataframe tbody tr th:only-of-type {\n",
       "        vertical-align: middle;\n",
       "    }\n",
       "\n",
       "    .dataframe tbody tr th {\n",
       "        vertical-align: top;\n",
       "    }\n",
       "\n",
       "    .dataframe thead th {\n",
       "        text-align: right;\n",
       "    }\n",
       "</style>\n",
       "<table border=\"1\" class=\"dataframe\">\n",
       "  <thead>\n",
       "    <tr style=\"text-align: right;\">\n",
       "      <th></th>\n",
       "      <th>gender</th>\n",
       "      <th>race/ethnicity</th>\n",
       "      <th>parental level of education</th>\n",
       "      <th>lunch</th>\n",
       "      <th>test preparation course</th>\n",
       "      <th>math score</th>\n",
       "      <th>reading score</th>\n",
       "      <th>writing score</th>\n",
       "      <th>total_avg</th>\n",
       "      <th>grade</th>\n",
       "    </tr>\n",
       "  </thead>\n",
       "  <tbody>\n",
       "    <tr>\n",
       "      <th>0</th>\n",
       "      <td>female</td>\n",
       "      <td>group B</td>\n",
       "      <td>bachelor's degree</td>\n",
       "      <td>standard</td>\n",
       "      <td>none</td>\n",
       "      <td>72</td>\n",
       "      <td>72</td>\n",
       "      <td>74</td>\n",
       "      <td>73</td>\n",
       "      <td>C</td>\n",
       "    </tr>\n",
       "    <tr>\n",
       "      <th>1</th>\n",
       "      <td>female</td>\n",
       "      <td>group C</td>\n",
       "      <td>some college</td>\n",
       "      <td>standard</td>\n",
       "      <td>completed</td>\n",
       "      <td>69</td>\n",
       "      <td>90</td>\n",
       "      <td>88</td>\n",
       "      <td>82</td>\n",
       "      <td>B</td>\n",
       "    </tr>\n",
       "    <tr>\n",
       "      <th>2</th>\n",
       "      <td>female</td>\n",
       "      <td>group B</td>\n",
       "      <td>master's degree</td>\n",
       "      <td>standard</td>\n",
       "      <td>none</td>\n",
       "      <td>90</td>\n",
       "      <td>95</td>\n",
       "      <td>93</td>\n",
       "      <td>93</td>\n",
       "      <td>A</td>\n",
       "    </tr>\n",
       "    <tr>\n",
       "      <th>3</th>\n",
       "      <td>male</td>\n",
       "      <td>group A</td>\n",
       "      <td>associate's degree</td>\n",
       "      <td>free/reduced</td>\n",
       "      <td>none</td>\n",
       "      <td>47</td>\n",
       "      <td>57</td>\n",
       "      <td>44</td>\n",
       "      <td>49</td>\n",
       "      <td>F</td>\n",
       "    </tr>\n",
       "    <tr>\n",
       "      <th>4</th>\n",
       "      <td>male</td>\n",
       "      <td>group C</td>\n",
       "      <td>some college</td>\n",
       "      <td>standard</td>\n",
       "      <td>none</td>\n",
       "      <td>76</td>\n",
       "      <td>78</td>\n",
       "      <td>75</td>\n",
       "      <td>76</td>\n",
       "      <td>C</td>\n",
       "    </tr>\n",
       "  </tbody>\n",
       "</table>\n",
       "</div>"
      ],
      "text/plain": [
       "   gender race/ethnicity parental level of education         lunch  \\\n",
       "0  female        group B           bachelor's degree      standard   \n",
       "1  female        group C                some college      standard   \n",
       "2  female        group B             master's degree      standard   \n",
       "3    male        group A          associate's degree  free/reduced   \n",
       "4    male        group C                some college      standard   \n",
       "\n",
       "  test preparation course  math score  reading score  writing score  \\\n",
       "0                    none          72             72             74   \n",
       "1               completed          69             90             88   \n",
       "2                    none          90             95             93   \n",
       "3                    none          47             57             44   \n",
       "4                    none          76             78             75   \n",
       "\n",
       "   total_avg grade  \n",
       "0         73     C  \n",
       "1         82     B  \n",
       "2         93     A  \n",
       "3         49     F  \n",
       "4         76     C  "
      ]
     },
     "execution_count": 827,
     "metadata": {},
     "output_type": "execute_result"
    }
   ],
   "source": [
    "df['total_avg'] = (round(df[['math score', 'reading score', 'writing score']].sum(axis=1)/3)).astype('int')\n",
    "df.head()"
   ]
  },
  {
   "cell_type": "markdown",
   "metadata": {},
   "source": [
    "What are some questions can we ask given this data? \n",
    "Here are few\n",
    "    - How much does test preparation course help?\n",
    "    - Does a student's race matter?\n",
    "    - Does gender play a role?\n",
    "    - Does a student's parents education matter?"
   ]
  },
  {
   "cell_type": "code",
   "execution_count": 287,
   "metadata": {},
   "outputs": [],
   "source": [
    "math_mean = round(np.mean(df['math score']),2)\n",
    "read_mean = round(np.mean(df['reading score']),2)\n",
    "write_mean = round(np.mean(df['writing score']),2)\n",
    "total_mean = round(np.mean(df['total_avg']),2)\n",
    "total_std = round(np.std(df['total_avg']),2)"
   ]
  },
  {
   "cell_type": "code",
   "execution_count": 716,
   "metadata": {},
   "outputs": [
    {
     "data": {
      "image/png": "[encoded data removed]",
      "text/plain": [
       "<Figure size 864x576 with 1 Axes>"
      ]
     },
     "metadata": {
      "needs_background": "light"
     },
     "output_type": "display_data"
    }
   ],
   "source": [
    "fig, ax = plt.subplots(figsize=(12,8))\n",
    "\n",
    "sns.histplot(df.total_avg, ax=ax, bins=20)\n",
    "ax.text(0.05, 0.95, 'Mean = ' + str(total_mean), transform=ax.transAxes, fontsize=14,\n",
    "        verticalalignment='top')\n",
    "ax.text(0.05, 0.90, 'Std = ' + str(total_std), transform=ax.transAxes, fontsize=14,\n",
    "        verticalalignment='top')\n",
    "ax.axvline(x=total_mean, color='k', label='Mean', linestyle='-', linewidth=6)\n",
    "ax.axhline(y=60, color='m', label='Std', linestyle='--', linewidth=5, xmin=.53, xmax=.82)\n",
    "ax.set_xlim(0,100)\n",
    "ax.legend()\n",
    "plt.title('Distribution of Total Scores')\n",
    "plt.show()"
   ]
  },
  {
   "cell_type": "code",
   "execution_count": 725,
   "metadata": {},
   "outputs": [
    {
     "name": "stdout",
     "output_type": "stream",
     "text": [
      "The average grade for students in the three subjects are \n",
      "Math:66.09 \n",
      "Writing:68.05 \n",
      "Reading:69.17  \n",
      "The Total overall average of the 3 subjects is:67.76  \n"
     ]
    }
   ],
   "source": [
    "print(\"The average grade for students in the three subjects are \\nMath:%s \\nWriting:%s \\nReading:%s  \" %(math_mean,write_mean,read_mean) )\n",
    "\n",
    "print(\"The Total overall average of the 3 subjects is:%s  \" %total_mean)"
   ]
  },
  {
   "cell_type": "markdown",
   "metadata": {},
   "source": [
    "We want to see how much Test prep courses truly impact the overall grades of students. So if we break down each student grades into the standard letter grades it will be easier to visualize the data."
   ]
  },
  {
   "cell_type": "code",
   "execution_count": 289,
   "metadata": {},
   "outputs": [],
   "source": [
    "def grade(student):\n",
    "    if student['total_avg'] > 89:\n",
    "        grade = 'A'\n",
    "    elif student['total_avg'] > (79) and student['total_avg'] < (90):\n",
    "        grade = 'B'\n",
    "    elif student['total_avg'] > (69) and student['total_avg'] < (80):\n",
    "        grade = 'C'\n",
    "    elif student['total_avg']> (59) and student['total_avg'] < (70):\n",
    "        grade = 'D'\n",
    "    else:\n",
    "        grade = 'F'\n",
    "    return grade"
   ]
  },
  {
   "cell_type": "code",
   "execution_count": 290,
   "metadata": {},
   "outputs": [],
   "source": [
    "df['grade'] = df.apply(grade, axis=1)"
   ]
  },
  {
   "cell_type": "markdown",
   "metadata": {},
   "source": [
    "Let's see how much test prep actually impacts grades of students"
   ]
  },
  {
   "cell_type": "code",
   "execution_count": 622,
   "metadata": {
    "scrolled": true
   },
   "outputs": [
    {
     "data": {
      "text/html": [
       "<div>\n",
       "<style scoped>\n",
       "    .dataframe tbody tr th:only-of-type {\n",
       "        vertical-align: middle;\n",
       "    }\n",
       "\n",
       "    .dataframe tbody tr th {\n",
       "        vertical-align: top;\n",
       "    }\n",
       "\n",
       "    .dataframe thead tr th {\n",
       "        text-align: left;\n",
       "    }\n",
       "\n",
       "    .dataframe thead tr:last-of-type th {\n",
       "        text-align: right;\n",
       "    }\n",
       "</style>\n",
       "<table border=\"1\" class=\"dataframe\">\n",
       "  <thead>\n",
       "    <tr>\n",
       "      <th></th>\n",
       "      <th colspan=\"2\" halign=\"left\">test preparation course</th>\n",
       "    </tr>\n",
       "    <tr>\n",
       "      <th>test preparation course</th>\n",
       "      <th>completed</th>\n",
       "      <th>none</th>\n",
       "    </tr>\n",
       "    <tr>\n",
       "      <th>grade</th>\n",
       "      <th></th>\n",
       "      <th></th>\n",
       "    </tr>\n",
       "  </thead>\n",
       "  <tbody>\n",
       "    <tr>\n",
       "      <th>A</th>\n",
       "      <td>67.0</td>\n",
       "      <td>33.0</td>\n",
       "    </tr>\n",
       "    <tr>\n",
       "      <th>B</th>\n",
       "      <td>47.0</td>\n",
       "      <td>53.0</td>\n",
       "    </tr>\n",
       "    <tr>\n",
       "      <th>C</th>\n",
       "      <td>43.0</td>\n",
       "      <td>57.0</td>\n",
       "    </tr>\n",
       "    <tr>\n",
       "      <th>D</th>\n",
       "      <td>32.0</td>\n",
       "      <td>68.0</td>\n",
       "    </tr>\n",
       "    <tr>\n",
       "      <th>F</th>\n",
       "      <td>21.0</td>\n",
       "      <td>79.0</td>\n",
       "    </tr>\n",
       "  </tbody>\n",
       "</table>\n",
       "</div>"
      ],
      "text/plain": [
       "                        test preparation course      \n",
       "test preparation course               completed  none\n",
       "grade                                                \n",
       "A                                          67.0  33.0\n",
       "B                                          47.0  53.0\n",
       "C                                          43.0  57.0\n",
       "D                                          32.0  68.0\n",
       "F                                          21.0  79.0"
      ]
     },
     "execution_count": 622,
     "metadata": {},
     "output_type": "execute_result"
    }
   ],
   "source": [
    "group1 = df.groupby(['grade', 'test preparation course']).agg({'test preparation course':'count'})\n",
    "group2 = group1.groupby(level=0).apply(lambda x:\n",
    "                                                 round(100 * x / (x.sum())))\n",
    "group2.unstack()"
   ]
  },
  {
   "cell_type": "code",
   "execution_count": 637,
   "metadata": {
    "scrolled": false
   },
   "outputs": [
    {
     "data": {
      "image/png": "[encoded data removed]",
      "text/plain": [
       "<Figure size 720x576 with 1 Axes>"
      ]
     },
     "metadata": {
      "needs_background": "light"
     },
     "output_type": "display_data"
    }
   ],
   "source": [
    "plt.figure(figsize=(10,8))\n",
    "plt.title('Grades Distribution')\n",
    "sns.countplot(x='grade', hue='test preparation course', data=df,  order=['A', 'B', \"C\", 'D', 'F'])\n",
    "plt.show()"
   ]
  },
  {
   "cell_type": "markdown",
   "metadata": {},
   "source": [
    "Well it is quite evident that completing a test prep course have improved test scores avg but we can dive even deeper and look to see if it only helps a select few subjects or all 3 subjects"
   ]
  },
  {
   "cell_type": "code",
   "execution_count": 727,
   "metadata": {},
   "outputs": [
    {
     "data": {
      "text/html": [
       "<div>\n",
       "<style scoped>\n",
       "    .dataframe tbody tr th:only-of-type {\n",
       "        vertical-align: middle;\n",
       "    }\n",
       "\n",
       "    .dataframe tbody tr th {\n",
       "        vertical-align: top;\n",
       "    }\n",
       "\n",
       "    .dataframe thead th {\n",
       "        text-align: right;\n",
       "    }\n",
       "</style>\n",
       "<table border=\"1\" class=\"dataframe\">\n",
       "  <thead>\n",
       "    <tr style=\"text-align: right;\">\n",
       "      <th></th>\n",
       "      <th>test preparation course</th>\n",
       "      <th>math score</th>\n",
       "      <th>reading score</th>\n",
       "      <th>writing score</th>\n",
       "      <th>total_avg</th>\n",
       "    </tr>\n",
       "  </thead>\n",
       "  <tbody>\n",
       "    <tr>\n",
       "      <th>0</th>\n",
       "      <td>completed</td>\n",
       "      <td>69</td>\n",
       "      <td>73</td>\n",
       "      <td>74</td>\n",
       "      <td>72</td>\n",
       "    </tr>\n",
       "    <tr>\n",
       "      <th>1</th>\n",
       "      <td>none</td>\n",
       "      <td>64</td>\n",
       "      <td>66</td>\n",
       "      <td>64</td>\n",
       "      <td>65</td>\n",
       "    </tr>\n",
       "  </tbody>\n",
       "</table>\n",
       "</div>"
      ],
      "text/plain": [
       "  test preparation course  math score  reading score  writing score  total_avg\n",
       "0               completed          69             73             74         72\n",
       "1                    none          64             66             64         65"
      ]
     },
     "execution_count": 727,
     "metadata": {},
     "output_type": "execute_result"
    }
   ],
   "source": [
    "test_prep = df.groupby(['test preparation course']).mean().astype('int').reset_index()\n",
    "test_prep"
   ]
  },
  {
   "cell_type": "code",
   "execution_count": 728,
   "metadata": {},
   "outputs": [],
   "source": [
    "test_t = test_prep.melt(id_vars='test preparation course', var_name='Scores').rename(columns=str.title)"
   ]
  },
  {
   "cell_type": "code",
   "execution_count": 689,
   "metadata": {},
   "outputs": [
    {
     "data": {
      "image/png": "[encoded data removed]",
      "text/plain": [
       "<Figure size 1152x576 with 1 Axes>"
      ]
     },
     "metadata": {
      "needs_background": "light"
     },
     "output_type": "display_data"
    }
   ],
   "source": [
    "fig, ax = plt.subplots(figsize=(16,8))\n",
    "sns.barplot(y='Test Preparation Course', x='Value', hue='Scores', data=test_t)\n",
    "plt.title(\"Average Test Scores of Test Prep Course vs None\")\n",
    "sns.despine()"
   ]
  },
  {
   "cell_type": "markdown",
   "metadata": {},
   "source": [
    "Test prep course has helped students gained better scores across the board with writing seeing the largest gains of 10 points"
   ]
  },
  {
   "cell_type": "markdown",
   "metadata": {},
   "source": [
    "Lets look at the features distribution from students with different grades "
   ]
  },
  {
   "cell_type": "markdown",
   "metadata": {},
   "source": [
    "<!-- #### These barplots provide quite some insight into how each feature impacts students with their test scores and how those features affect whether or not a student completed a test prep courses\n",
    "    - we can see that students who tend to get higher tests scores have standard lunched vs's student who do more poorly have free or reduced lunch, this could be an effect of students not being able to afford test prep courses and this is even more evident as students who do receive free/reduced lunch and opted to take a test prep course have signficantly test score boost.\n",
    "    -  -->"
   ]
  },
  {
   "cell_type": "markdown",
   "metadata": {},
   "source": [
    "#### Let's see what role gender plays in all this, note there are 518 Females and 482 Males so while it may seem there is a higher female count for many of the observation this is purely due to there being more females than males"
   ]
  },
  {
   "cell_type": "code",
   "execution_count": 291,
   "metadata": {},
   "outputs": [
    {
     "data": {
      "image/png": "[encoded data removed]",
      "text/plain": [
       "<Figure size 720x576 with 1 Axes>"
      ]
     },
     "metadata": {
      "needs_background": "light"
     },
     "output_type": "display_data"
    }
   ],
   "source": [
    "palette = {'male': 'royalblue',\n",
    "           'female': 'plum'}\n",
    "plt.figure(figsize=(10,8))\n",
    "plt.title('Grades Distribution')\n",
    "sns.countplot(x='grade', hue='gender', data=df, palette=palette, order=['A', 'B', \"C\", 'D', 'F'])\n",
    "plt.show()"
   ]
  },
  {
   "cell_type": "markdown",
   "metadata": {},
   "source": [
    "We can see a trend that females are clearly getting higher grades than males, is this a gender inequality? or do females get more test prep"
   ]
  },
  {
   "cell_type": "code",
   "execution_count": 627,
   "metadata": {},
   "outputs": [
    {
     "data": {
      "image/png": "[encoded data removed]",
      "text/plain": [
       "<Figure size 720x576 with 1 Axes>"
      ]
     },
     "metadata": {
      "needs_background": "light"
     },
     "output_type": "display_data"
    }
   ],
   "source": [
    "\n",
    "palette = {'male': 'royalblue',\n",
    "           'female': 'plum'}\n",
    "plt.figure(figsize=(10,8))\n",
    "plt.title('Gender vs Test Prep')\n",
    "sns.countplot(x='test preparation course', hue='gender', data=df, palette=palette)\n",
    "plt.show()\n",
    "\n"
   ]
  },
  {
   "cell_type": "code",
   "execution_count": 624,
   "metadata": {},
   "outputs": [
    {
     "data": {
      "text/html": [
       "<div>\n",
       "<style scoped>\n",
       "    .dataframe tbody tr th:only-of-type {\n",
       "        vertical-align: middle;\n",
       "    }\n",
       "\n",
       "    .dataframe tbody tr th {\n",
       "        vertical-align: top;\n",
       "    }\n",
       "\n",
       "    .dataframe thead tr th {\n",
       "        text-align: left;\n",
       "    }\n",
       "\n",
       "    .dataframe thead tr:last-of-type th {\n",
       "        text-align: right;\n",
       "    }\n",
       "</style>\n",
       "<table border=\"1\" class=\"dataframe\">\n",
       "  <thead>\n",
       "    <tr>\n",
       "      <th></th>\n",
       "      <th colspan=\"2\" halign=\"left\">test preparation course</th>\n",
       "    </tr>\n",
       "    <tr>\n",
       "      <th>test preparation course</th>\n",
       "      <th>completed</th>\n",
       "      <th>none</th>\n",
       "    </tr>\n",
       "    <tr>\n",
       "      <th>gender</th>\n",
       "      <th></th>\n",
       "      <th></th>\n",
       "    </tr>\n",
       "  </thead>\n",
       "  <tbody>\n",
       "    <tr>\n",
       "      <th>female</th>\n",
       "      <td>184</td>\n",
       "      <td>334</td>\n",
       "    </tr>\n",
       "    <tr>\n",
       "      <th>male</th>\n",
       "      <td>174</td>\n",
       "      <td>308</td>\n",
       "    </tr>\n",
       "  </tbody>\n",
       "</table>\n",
       "</div>"
      ],
      "text/plain": [
       "                        test preparation course     \n",
       "test preparation course               completed none\n",
       "gender                                              \n",
       "female                                      184  334\n",
       "male                                        174  308"
      ]
     },
     "execution_count": 624,
     "metadata": {},
     "output_type": "execute_result"
    }
   ],
   "source": [
    "group1 = df.groupby(['gender', 'test preparation course']).agg({'test preparation course':'count'})\n",
    "group1.unstack()"
   ]
  },
  {
   "cell_type": "markdown",
   "metadata": {},
   "source": [
    "There does not seem to be a case where females are taking more test prep courses, it's safe to say that males and females are taking test prep courses are evenly distributed compared to each other.\n",
    "\n",
    "So if test preparation does not play a role in females getting higher test scores than males then what might?"
   ]
  },
  {
   "cell_type": "markdown",
   "metadata": {},
   "source": [
    "#### I like to see if race plays a factor into the grades"
   ]
  },
  {
   "cell_type": "code",
   "execution_count": 454,
   "metadata": {},
   "outputs": [
    {
     "data": {
      "text/html": [
       "<div>\n",
       "<style scoped>\n",
       "    .dataframe tbody tr th:only-of-type {\n",
       "        vertical-align: middle;\n",
       "    }\n",
       "\n",
       "    .dataframe tbody tr th {\n",
       "        vertical-align: top;\n",
       "    }\n",
       "\n",
       "    .dataframe thead th {\n",
       "        text-align: right;\n",
       "    }\n",
       "</style>\n",
       "<table border=\"1\" class=\"dataframe\">\n",
       "  <thead>\n",
       "    <tr style=\"text-align: right;\">\n",
       "      <th></th>\n",
       "      <th>math score</th>\n",
       "      <th>reading score</th>\n",
       "      <th>writing score</th>\n",
       "      <th>total_avg</th>\n",
       "    </tr>\n",
       "    <tr>\n",
       "      <th>race/ethnicity</th>\n",
       "      <th></th>\n",
       "      <th></th>\n",
       "      <th></th>\n",
       "      <th></th>\n",
       "    </tr>\n",
       "  </thead>\n",
       "  <tbody>\n",
       "    <tr>\n",
       "      <th>group A</th>\n",
       "      <td>61</td>\n",
       "      <td>64</td>\n",
       "      <td>62</td>\n",
       "      <td>62</td>\n",
       "    </tr>\n",
       "    <tr>\n",
       "      <th>group B</th>\n",
       "      <td>63</td>\n",
       "      <td>67</td>\n",
       "      <td>65</td>\n",
       "      <td>65</td>\n",
       "    </tr>\n",
       "    <tr>\n",
       "      <th>group C</th>\n",
       "      <td>64</td>\n",
       "      <td>69</td>\n",
       "      <td>67</td>\n",
       "      <td>67</td>\n",
       "    </tr>\n",
       "    <tr>\n",
       "      <th>group D</th>\n",
       "      <td>67</td>\n",
       "      <td>70</td>\n",
       "      <td>70</td>\n",
       "      <td>69</td>\n",
       "    </tr>\n",
       "    <tr>\n",
       "      <th>group E</th>\n",
       "      <td>73</td>\n",
       "      <td>73</td>\n",
       "      <td>71</td>\n",
       "      <td>72</td>\n",
       "    </tr>\n",
       "  </tbody>\n",
       "</table>\n",
       "</div>"
      ],
      "text/plain": [
       "                math score  reading score  writing score  total_avg\n",
       "race/ethnicity                                                     \n",
       "group A                 61             64             62         62\n",
       "group B                 63             67             65         65\n",
       "group C                 64             69             67         67\n",
       "group D                 67             70             70         69\n",
       "group E                 73             73             71         72"
      ]
     },
     "execution_count": 454,
     "metadata": {},
     "output_type": "execute_result"
    }
   ],
   "source": [
    "race_scores = df.groupby(['race/ethnicity']).mean().astype('int')\n",
    "race_scores"
   ]
  },
  {
   "cell_type": "markdown",
   "metadata": {},
   "source": [
    "fig, ax = plt.subplots(figsize=(15,8))\n",
    "race_scores.plot.bar( ax=ax)\n",
    "plt.show()"
   ]
  },
  {
   "cell_type": "code",
   "execution_count": 455,
   "metadata": {},
   "outputs": [],
   "source": [
    "race_df = race_scores.reset_index()"
   ]
  },
  {
   "cell_type": "code",
   "execution_count": 425,
   "metadata": {},
   "outputs": [],
   "source": [
    "tidy = race_df.melt(id_vars='race/ethnicity', var_name='Scores').rename(columns=str.title)"
   ]
  },
  {
   "cell_type": "code",
   "execution_count": 516,
   "metadata": {},
   "outputs": [
    {
     "data": {
      "image/png": "[encoded data removed]",
      "text/plain": [
       "<Figure size 1152x864 with 1 Axes>"
      ]
     },
     "metadata": {
      "needs_background": "light"
     },
     "output_type": "display_data"
    }
   ],
   "source": [
    "fig, ax = plt.subplots(figsize=(16, 12))\n",
    "sns.barplot(x='Race/Ethnicity', y='Value', hue='Scores', data=tidy, ax=ax, palette='tab10')\n",
    "\n",
    "\n",
    "race_count = [89,190,319,262,140]\n",
    "for i, j in enumerate(race_count):\n",
    "    ax.text(i , 40, f'{j}', ha='center', fontsize=14, weight='bold')\n",
    "\n",
    "plt.title('Race and their Average Test Scores', weight='bold')\n",
    "plt.show()"
   ]
  },
  {
   "cell_type": "code",
   "execution_count": 824,
   "metadata": {},
   "outputs": [],
   "source": [
    "# race_testprep = df.groupby(['race/ethnicity', 'test preparation course']).agg({'total_avg':'mean'}).reset_index()\n",
    "# df.groupby(['race/ethnicity', 'test preparation course']).agg({'total_avg':'mean'}).unstack()"
   ]
  },
  {
   "cell_type": "code",
   "execution_count": 826,
   "metadata": {},
   "outputs": [
    {
     "data": {
      "text/html": [
       "<div>\n",
       "<style scoped>\n",
       "    .dataframe tbody tr th:only-of-type {\n",
       "        vertical-align: middle;\n",
       "    }\n",
       "\n",
       "    .dataframe tbody tr th {\n",
       "        vertical-align: top;\n",
       "    }\n",
       "\n",
       "    .dataframe thead tr th {\n",
       "        text-align: left;\n",
       "    }\n",
       "\n",
       "    .dataframe thead tr:last-of-type th {\n",
       "        text-align: right;\n",
       "    }\n",
       "</style>\n",
       "<table border=\"1\" class=\"dataframe\">\n",
       "  <thead>\n",
       "    <tr>\n",
       "      <th></th>\n",
       "      <th colspan=\"2\" halign=\"left\">test preparation course</th>\n",
       "    </tr>\n",
       "    <tr>\n",
       "      <th>test preparation course</th>\n",
       "      <th>completed</th>\n",
       "      <th>none</th>\n",
       "    </tr>\n",
       "    <tr>\n",
       "      <th>race/ethnicity</th>\n",
       "      <th></th>\n",
       "      <th></th>\n",
       "    </tr>\n",
       "  </thead>\n",
       "  <tbody>\n",
       "    <tr>\n",
       "      <th>group A</th>\n",
       "      <td>35.0</td>\n",
       "      <td>65.0</td>\n",
       "    </tr>\n",
       "    <tr>\n",
       "      <th>group B</th>\n",
       "      <td>36.0</td>\n",
       "      <td>64.0</td>\n",
       "    </tr>\n",
       "    <tr>\n",
       "      <th>group C</th>\n",
       "      <td>37.0</td>\n",
       "      <td>63.0</td>\n",
       "    </tr>\n",
       "    <tr>\n",
       "      <th>group D</th>\n",
       "      <td>31.0</td>\n",
       "      <td>69.0</td>\n",
       "    </tr>\n",
       "    <tr>\n",
       "      <th>group E</th>\n",
       "      <td>43.0</td>\n",
       "      <td>57.0</td>\n",
       "    </tr>\n",
       "  </tbody>\n",
       "</table>\n",
       "</div>"
      ],
      "text/plain": [
       "                        test preparation course      \n",
       "test preparation course               completed  none\n",
       "race/ethnicity                                       \n",
       "group A                                    35.0  65.0\n",
       "group B                                    36.0  64.0\n",
       "group C                                    37.0  63.0\n",
       "group D                                    31.0  69.0\n",
       "group E                                    43.0  57.0"
      ]
     },
     "execution_count": 826,
     "metadata": {},
     "output_type": "execute_result"
    }
   ],
   "source": [
    "group1 = df.groupby(['race/ethnicity', 'test preparation course']).agg({'test preparation course':'count'})\n",
    "group2 = group1.groupby(level=0).apply(lambda x:\n",
    "                                                 round(100 * x / (x.sum())))\n",
    "group2.unstack()"
   ]
  },
  {
   "cell_type": "code",
   "execution_count": 823,
   "metadata": {},
   "outputs": [
    {
     "data": {
      "image/png": "[encoded data removed]",
      "text/plain": [
       "<Figure size 1440x1080 with 5 Axes>"
      ]
     },
     "metadata": {},
     "output_type": "display_data"
    }
   ],
   "source": [
    "piea = [35,65]\n",
    "pieb = [36,64]\n",
    "piec = [37,63]\n",
    "pied = [31,69]\n",
    "piee = [43,57]\n",
    "color = ['lime', 'red']\n",
    "label = ['completed', 'none']\n",
    "fig, ax = plt.subplots(1,5, figsize=(20,15))\n",
    "ax[0].pie(x=piea, labels=label, autopct='%.0f%%', colors=color)\n",
    "ax[0].set_title('Group A')\n",
    "ax[1].pie(x=pieb, labels=label, autopct='%.0f%%', colors=color)\n",
    "ax[1].set_title('Group B')\n",
    "ax[2].pie(x=piec, labels=label, autopct='%.0f%%', colors=color)\n",
    "ax[2].set_title('Group C')\n",
    "ax[3].pie(x=pied, labels=label, autopct='%.0f%%', colors=color)\n",
    "ax[3].set_title('Group D')\n",
    "ax[4].pie(x=piee, labels=label, autopct='%.0f%%', colors=color)\n",
    "ax[4].set_title('Group E')\n",
    "plt.show()"
   ]
  },
  {
   "cell_type": "code",
   "execution_count": 735,
   "metadata": {},
   "outputs": [],
   "source": [
    "# sns.barplot(x='race/ethnicity', y='total_avg', hue='test preparation course', data=race_testprep)"
   ]
  },
  {
   "cell_type": "markdown",
   "metadata": {},
   "source": [
    "We can see that group E has the highest percentage of students taking test prep courses, and they also have the highest test scores, while we see a correlation with groups who have higher percentage of students taking test prep courses with higher scores but group D puts all that in shambles as they have the 2nd highest average test scores but the lowest percentage of students taking test prep courses. Perphaps some digging into their parental education might reveal some insights"
   ]
  },
  {
   "cell_type": "code",
   "execution_count": 614,
   "metadata": {},
   "outputs": [
    {
     "data": {
      "text/html": [
       "<div>\n",
       "<style scoped>\n",
       "    .dataframe tbody tr th:only-of-type {\n",
       "        vertical-align: middle;\n",
       "    }\n",
       "\n",
       "    .dataframe tbody tr th {\n",
       "        vertical-align: top;\n",
       "    }\n",
       "\n",
       "    .dataframe thead tr th {\n",
       "        text-align: left;\n",
       "    }\n",
       "\n",
       "    .dataframe thead tr:last-of-type th {\n",
       "        text-align: right;\n",
       "    }\n",
       "</style>\n",
       "<table border=\"1\" class=\"dataframe\">\n",
       "  <thead>\n",
       "    <tr>\n",
       "      <th></th>\n",
       "      <th colspan=\"2\" halign=\"left\">total_avg</th>\n",
       "    </tr>\n",
       "    <tr>\n",
       "      <th>test preparation course</th>\n",
       "      <th>completed</th>\n",
       "      <th>none</th>\n",
       "    </tr>\n",
       "    <tr>\n",
       "      <th>parental level of education</th>\n",
       "      <th></th>\n",
       "      <th></th>\n",
       "    </tr>\n",
       "  </thead>\n",
       "  <tbody>\n",
       "    <tr>\n",
       "      <th>associate's degree</th>\n",
       "      <td>74.914634</td>\n",
       "      <td>66.421429</td>\n",
       "    </tr>\n",
       "    <tr>\n",
       "      <th>bachelor's degree</th>\n",
       "      <td>76.304348</td>\n",
       "      <td>69.166667</td>\n",
       "    </tr>\n",
       "    <tr>\n",
       "      <th>high school</th>\n",
       "      <td>67.017857</td>\n",
       "      <td>61.564286</td>\n",
       "    </tr>\n",
       "    <tr>\n",
       "      <th>master's degree</th>\n",
       "      <td>76.300000</td>\n",
       "      <td>72.179487</td>\n",
       "    </tr>\n",
       "    <tr>\n",
       "      <th>some college</th>\n",
       "      <td>74.649351</td>\n",
       "      <td>65.241611</td>\n",
       "    </tr>\n",
       "    <tr>\n",
       "      <th>some high school</th>\n",
       "      <td>69.298701</td>\n",
       "      <td>61.882353</td>\n",
       "    </tr>\n",
       "  </tbody>\n",
       "</table>\n",
       "</div>"
      ],
      "text/plain": [
       "                             total_avg           \n",
       "test preparation course      completed       none\n",
       "parental level of education                      \n",
       "associate's degree           74.914634  66.421429\n",
       "bachelor's degree            76.304348  69.166667\n",
       "high school                  67.017857  61.564286\n",
       "master's degree              76.300000  72.179487\n",
       "some college                 74.649351  65.241611\n",
       "some high school             69.298701  61.882353"
      ]
     },
     "execution_count": 614,
     "metadata": {},
     "output_type": "execute_result"
    }
   ],
   "source": [
    "parent_edu = df.groupby(['parental level of education', 'test preparation course']).agg({'total_avg':'mean'})\n",
    "parent_edu.unstack()"
   ]
  },
  {
   "cell_type": "code",
   "execution_count": 742,
   "metadata": {},
   "outputs": [],
   "source": [
    "parent_edu = parent_edu.reset_index()"
   ]
  },
  {
   "cell_type": "code",
   "execution_count": 546,
   "metadata": {
    "scrolled": false
   },
   "outputs": [
    {
     "data": {
      "image/png": "[encoded data removed]",
      "text/plain": [
       "<Figure size 864x648 with 1 Axes>"
      ]
     },
     "metadata": {
      "needs_background": "light"
     },
     "output_type": "display_data"
    }
   ],
   "source": [
    "fig, ax = plt.subplots(figsize=(12,9))\n",
    "edu_count = [179,196,226,222,118,59]\n",
    "sns.barplot(x='parental level of education', y='total_avg', hue='test preparation course',\n",
    "            order=['some high school','high school','some college',\n",
    "                   \"associate's degree\",\"bachelor's degree\",\"master's degree\"],\n",
    "            ax=ax, data=parent_edu, palette='pastel')\n",
    "plt.title('Parents Education Level and their Kids Avg Score', weight='bold')\n",
    "for i,j in enumerate(edu_count):\n",
    "    ax.text(i , 40, f'{j}', ha='center', fontsize=14)\n",
    "plt.xticks(rotation='45')\n",
    "sns.despine()"
   ]
  },
  {
   "cell_type": "markdown",
   "metadata": {},
   "source": [
    "We can see kids with parents who attain an higher level of education tend to perform better on their test scores, but students that have taken a test prep does not gain any meaningful boost from having parents with higher education level. We can clearly see that taking a test prep postively impacts test scores significantly more. "
   ]
  },
  {
   "cell_type": "markdown",
   "metadata": {},
   "source": [
    "Now to explain group how females are achieving higher test scores than males, could it be that the female's parental education level is leading to their overall higher test scores"
   ]
  },
  {
   "cell_type": "code",
   "execution_count": 775,
   "metadata": {},
   "outputs": [
    {
     "data": {
      "text/html": [
       "<div>\n",
       "<style scoped>\n",
       "    .dataframe tbody tr th:only-of-type {\n",
       "        vertical-align: middle;\n",
       "    }\n",
       "\n",
       "    .dataframe tbody tr th {\n",
       "        vertical-align: top;\n",
       "    }\n",
       "\n",
       "    .dataframe thead tr th {\n",
       "        text-align: left;\n",
       "    }\n",
       "\n",
       "    .dataframe thead tr:last-of-type th {\n",
       "        text-align: right;\n",
       "    }\n",
       "</style>\n",
       "<table border=\"1\" class=\"dataframe\">\n",
       "  <thead>\n",
       "    <tr>\n",
       "      <th></th>\n",
       "      <th colspan=\"2\" halign=\"left\">gender</th>\n",
       "    </tr>\n",
       "    <tr>\n",
       "      <th>gender</th>\n",
       "      <th>female</th>\n",
       "      <th>male</th>\n",
       "    </tr>\n",
       "    <tr>\n",
       "      <th>parental level of education</th>\n",
       "      <th></th>\n",
       "      <th></th>\n",
       "    </tr>\n",
       "  </thead>\n",
       "  <tbody>\n",
       "    <tr>\n",
       "      <th>associate's degree</th>\n",
       "      <td>22.39</td>\n",
       "      <td>21.99</td>\n",
       "    </tr>\n",
       "    <tr>\n",
       "      <th>bachelor's degree</th>\n",
       "      <td>12.16</td>\n",
       "      <td>11.41</td>\n",
       "    </tr>\n",
       "    <tr>\n",
       "      <th>high school</th>\n",
       "      <td>18.15</td>\n",
       "      <td>21.16</td>\n",
       "    </tr>\n",
       "    <tr>\n",
       "      <th>master's degree</th>\n",
       "      <td>6.95</td>\n",
       "      <td>4.77</td>\n",
       "    </tr>\n",
       "    <tr>\n",
       "      <th>some college</th>\n",
       "      <td>22.78</td>\n",
       "      <td>22.41</td>\n",
       "    </tr>\n",
       "    <tr>\n",
       "      <th>some high school</th>\n",
       "      <td>17.57</td>\n",
       "      <td>18.26</td>\n",
       "    </tr>\n",
       "  </tbody>\n",
       "</table>\n",
       "</div>"
      ],
      "text/plain": [
       "                            gender       \n",
       "gender                      female   male\n",
       "parental level of education              \n",
       "associate's degree           22.39  21.99\n",
       "bachelor's degree            12.16  11.41\n",
       "high school                  18.15  21.16\n",
       "master's degree               6.95   4.77\n",
       "some college                 22.78  22.41\n",
       "some high school             17.57  18.26"
      ]
     },
     "execution_count": 775,
     "metadata": {},
     "output_type": "execute_result"
    }
   ],
   "source": [
    "gender_df = df.groupby(['parental level of education', 'gender']).agg({'gender':'count'})\n",
    "gender_df2 = df.groupby(['gender']).agg({'gender':'count'})\n",
    "gender_df = round(gender_df.div(gender_df2, level='gender') * 100, 2)\n",
    "gender_df.unstack()"
   ]
  },
  {
   "cell_type": "markdown",
   "metadata": {},
   "source": [
    "We can see the there is a larger percentage of females whose parents attain some level of college education where as males parents have higher percentage of parents having education less than college, this explain why a higher percentage of females are getting better test scores even though there are about same when it comes to taking test prep courses. As we have noted earlier having parents who have good education leads to students doing better on their test scores. "
   ]
  },
  {
   "cell_type": "markdown",
   "metadata": {},
   "source": [
    "### Summary \n",
    "\n",
    "In this study we have shown that students who take test preparation courses do better on their test scores across the three subjects versus those who take none. This is further evident by different races who put more emphasis on test prep courses see their student's have higher test scores, as group E is shown to have the highest test scores among students while also having the highest percentage of students in their group to participate in test prep courses. \n",
    "\n",
    "We have also shown students with parents that have a higher educational background tend to do better than those that have parents with lesser educational background on average. As among all students who have not taken any test prep courses those who have parents with more education did much better on their test scores than those without. This is also shows why females had a overall higher test scores than males, this is explained as there is a higher percentage of females with parents with higher education background while males had a higher percentage of parents with less education."
   ]
  },
  {
   "cell_type": "code",
   "execution_count": 730,
   "metadata": {},
   "outputs": [],
   "source": [
    "# fig, ax = plt.subplots(2,2,figsize=(20,12))\n",
    "# hue_order = ['completed', 'none']\n",
    "# order = ['group A', 'group B', 'group C', 'group D', 'group E']\n",
    "# palette = {'none': 'orangered',\n",
    "#            'completed': 'springgreen'}\n",
    "# edu_order=['some high school','high school','some college',\n",
    "#                    \"associate's degree\",\"bachelor's degree\",\"master's degree\"]\n",
    "# sns.countplot(x='race/ethnicity', hue='test preparation course', hue_order=hue_order, \n",
    "#               data=df[df.grade == 'A'], ax=ax[0,0], order=order, palette=palette)\n",
    "# sns.countplot(x='lunch', hue='test preparation course', hue_order=hue_order,\n",
    "#               data=df[df.grade == 'A'], ax=ax[0,1], palette=palette)\n",
    "# sns.countplot(x='gender', hue='test preparation course', hue_order=hue_order,\n",
    "#               data=df[df.grade == 'A'], ax=ax[1,0], palette=palette)\n",
    "# sns.countplot(x='parental level of education', order = edu_order, hue='test preparation course', hue_order=hue_order,\n",
    "#               data=df[df.grade == 'A'], ax=ax[1,1], palette=palette)\n",
    "# plt.xticks(rotation='45')\n",
    "# fig.suptitle(\"Students who get A's and their features\", weight='bold')\n",
    "# plt.show()"
   ]
  },
  {
   "cell_type": "code",
   "execution_count": 731,
   "metadata": {},
   "outputs": [],
   "source": [
    "# fig, ax = plt.subplots(2,2,figsize=(20,12))\n",
    "# hue_order = ['completed', 'none']\n",
    "# order = ['group A', 'group B', 'group C', 'group D', 'group E']\n",
    "# palette = {'none': 'orangered',\n",
    "#            'completed': 'springgreen'}\n",
    "# edu_order=['some high school','high school','some college',\n",
    "#                    \"associate's degree\",\"bachelor's degree\",\"master's degree\"]\n",
    "# sns.countplot(x='race/ethnicity', hue='test preparation course', hue_order=hue_order, \n",
    "#               data=df[df.grade == 'B'], ax=ax[0,0], order=order, palette=palette)\n",
    "# sns.countplot(x='lunch', hue='test preparation course', hue_order=hue_order,\n",
    "#               data=df[df.grade == 'B'], ax=ax[0,1], palette=palette)\n",
    "# sns.countplot(x='gender', hue='test preparation course', hue_order=hue_order,\n",
    "#               data=df[df.grade == 'B'], ax=ax[1,0], palette=palette)\n",
    "# sns.countplot(x='parental level of education', order = edu_order, hue='test preparation course', hue_order=hue_order,\n",
    "#               data=df[df.grade == 'B'], ax=ax[1,1], palette=palette)\n",
    "# plt.xticks(rotation='45')\n",
    "# fig.suptitle(\"Students who get B's and their features\", weight='bold')\n",
    "# plt.show()"
   ]
  },
  {
   "cell_type": "code",
   "execution_count": 732,
   "metadata": {},
   "outputs": [],
   "source": [
    "# fig, ax = plt.subplots(2,2,figsize=(20,12))\n",
    "# hue_order = ['completed', 'none']\n",
    "# order = ['group A', 'group B', 'group C', 'group D', 'group E']\n",
    "# palette = {'none': 'orangered',\n",
    "#            'completed': 'springgreen'}\n",
    "# edu_order=['some high school','high school','some college',\n",
    "#                    \"associate's degree\",\"bachelor's degree\",\"master's degree\"]\n",
    "# sns.countplot(x='race/ethnicity', hue='test preparation course', hue_order=hue_order, \n",
    "#               data=df[df.grade == 'C'], ax=ax[0,0], order=order, palette=palette)\n",
    "# sns.countplot(x='lunch', hue='test preparation course', hue_order=hue_order,\n",
    "#               data=df[df.grade == 'C'], ax=ax[0,1], palette=palette)\n",
    "# sns.countplot(x='gender', hue='test preparation course', hue_order=hue_order,\n",
    "#               data=df[df.grade == 'C'], ax=ax[1,0], palette=palette)\n",
    "# sns.countplot(x='parental level of education', order = edu_order, hue='test preparation course', hue_order=hue_order,\n",
    "#               data=df[df.grade == 'C'], ax=ax[1,1], palette=palette)\n",
    "# plt.xticks(rotation='45')\n",
    "# fig.suptitle(\"Students who get C's and their features\", weight='bold')\n",
    "# plt.show()"
   ]
  },
  {
   "cell_type": "code",
   "execution_count": 733,
   "metadata": {},
   "outputs": [],
   "source": [
    "# fig, ax = plt.subplots(2,2,figsize=(20,12))\n",
    "# hue_order = ['completed', 'none']\n",
    "# order = ['group A', 'group B', 'group C', 'group D', 'group E']\n",
    "# palette = {'none': 'orangered',\n",
    "#            'completed': 'springgreen'}\n",
    "# edu_order=['some high school','high school','some college',\n",
    "#                    \"associate's degree\",\"bachelor's degree\",\"master's degree\"]\n",
    "# sns.countplot(x='race/ethnicity', hue='test preparation course', hue_order=hue_order, \n",
    "#               data=df[df.grade == 'D'], ax=ax[0,0], order=order, palette=palette)\n",
    "# sns.countplot(x='lunch', hue='test preparation course', hue_order=hue_order,\n",
    "#               data=df[df.grade == 'D'], ax=ax[0,1], palette=palette)\n",
    "# sns.countplot(x='gender', hue='test preparation course', hue_order=hue_order,\n",
    "#               data=df[df.grade == 'D'], ax=ax[1,0], palette=palette)\n",
    "# sns.countplot(x='parental level of education', order = edu_order, hue='test preparation course', hue_order=hue_order,\n",
    "#               data=df[df.grade == 'D'], ax=ax[1,1], palette=palette)\n",
    "# plt.xticks(rotation='45')\n",
    "# fig.suptitle(\"Students who get D's and their features\", weight='bold')\n",
    "# plt.show()"
   ]
  },
  {
   "cell_type": "code",
   "execution_count": 734,
   "metadata": {},
   "outputs": [],
   "source": [
    "# fig, ax = plt.subplots(2,2,figsize=(20,12))\n",
    "# hue_order = ['completed', 'none']\n",
    "# order = ['group A', 'group B', 'group C', 'group D', 'group E']\n",
    "# palette = {'none': 'orangered',\n",
    "#            'completed': 'springgreen'}\n",
    "# edu_order=['some high school','high school','some college',\n",
    "#                    \"associate's degree\",\"bachelor's degree\",\"master's degree\"]\n",
    "# sns.countplot(x='race/ethnicity', hue='test preparation course', hue_order=hue_order, \n",
    "#               data=df[df.grade == 'F'], ax=ax[0,0], order=order, palette=palette)\n",
    "# sns.countplot(x='lunch', hue='test preparation course', hue_order=hue_order,\n",
    "#               data=df[df.grade == 'F'], ax=ax[0,1], palette=palette)\n",
    "# sns.countplot(x='gender', hue='test preparation course', hue_order=hue_order,\n",
    "#               data=df[df.grade == 'F'], ax=ax[1,0], palette=palette)\n",
    "# sns.countplot(x='parental level of education', order = edu_order, hue='test preparation course', hue_order=hue_order,\n",
    "#               data=df[df.grade == 'F'], ax=ax[1,1], palette=palette)\n",
    "# plt.xticks(rotation='45')\n",
    "# fig.suptitle(\"Students who get F's and their features\", weight='bold')\n",
    "# plt.show()"
   ]
  }
 ],
 "metadata": {
  "kernelspec": {
   "display_name": "Python 3",
   "language": "python",
   "name": "python3"
  },
  "language_info": {
   "codemirror_mode": {
    "name": "ipython",
    "version": 3
   },
   "file_extension": ".py",
   "mimetype": "text/x-python",
   "name": "python",
   "nbconvert_exporter": "python",
   "pygments_lexer": "ipython3",
   "version": "3.8.5"
  }
 },
 "nbformat": 4,
 "nbformat_minor": 4
}
