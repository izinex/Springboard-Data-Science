{
 "cells": [
  {
   "cell_type": "markdown",
   "metadata": {},
   "source": [
    "# 5 Research and Analysis<a id='5_Research'></a>"
   ]
  },
  {
   "cell_type": "markdown",
   "metadata": {},
   "source": [
    "## 5.1 Contents<a id='5.1_Contents'></a>\n",
    "* [5 Research and Analysis](#5_Research)\n",
    "  * [5.1 Contents](#5.1_Contents)\n",
    "  * [5.2 Introduction](#5.2_Introduction)\n",
    "  * [5.3 Problems](#5.3_Problem)\n",
    "  * [5.4 Imports](#5.3_Imports)\n",
    "  * [5.4 Load The Data](#5.5_Load_The_Data)\n",
    "  * [5.5 Initial Average Mode](#5.5_Average_Model)\n",
    "  * [5.6 Metrics](#5.7_Metrics)\n",
    "  * [5.7 Models](#5.7_Models)\n",
    "      * [5.7.1 Linear Model](#5.7.1_Linear_Model)    \n",
    "      * [5.7.2 Nearest Neighbor](#5.7.2_Nearest_Neighbor)    \n",
    "      * [5.7.3 RandomForest](#5.7.3_RandomForest)    \n",
    "      * [5.7.5 GradientBoosting](#5.7.5_Gradient)    \n",
    "  * [5.8 Hyper-parameter Tuning Gradient Boost](#5.11_Hyper_parameter_Tuning)\n",
    "  * [5.9 Best Model](#5.9_Best_Model)\n",
    "  * [5.10 Summary](#5.10_Summary)\n"
   ]
  },
  {
   "cell_type": "markdown",
   "metadata": {},
   "source": [
    "## 5.2 Introduction<a id='5.2_Introduction'></a>\n",
    "#### Capital Fortune  is a real estate company who acquires land and builds housing buildings and are seeking advice from us on how to properly price their homes given the market conditions in NYC, they would like to properly price their houses and find which type of housing yields the greatest net-profits, with that in mind we have set out on a goal to first properly price their houses. We did this by acquiring Zillow's NYC dataset consisting of over 60k houses to find key features for these houses that effect the price and build a predictive model to properly predict Capital Fortune houses. \n",
    "\n",
    "#### Our predictive model has identified many key features from Lot size of an house to the school district or zipcode they are in to be key features on evaluating a price of an house. We will be doing a deeper analysis of the market condition and give our best recommendations to Capital Fortune on how to properly price their homes and the type of homes they should target. "
   ]
  },
  {
   "cell_type": "markdown",
   "metadata": {},
   "source": [
    "## 5.3 Problem<a id=5.3_Problem></a>\n",
    "\n",
    "#### Capital Fortune main concern is how to properly price their homes and hopefully our predictive model given their home data can gives a good estimate coupled with current market conditions. They also would like to identify the best housing setup which would yield the highest net-profits. Our goal here to identify key problems in solving their issue. \n",
    "\n",
    "#### We will utilize our predictive model and find key insights into how Capital Fortune can properly price their homes, by looking into their homes and how to fit into the current market. Here are some key questions we would like to unravel\n",
    "    - How are newly build homes priced compared to older homes? Do their value differ significantly and if so is it more expensive or cheaper.\n",
    "    - What are some costs of building such homes and reselling? And which give us the highest return and at what boroughs/neighborhoods?\n",
    "    - What is the current housing market situation? Is there a lot of demand for houses or is there an over-supply?"
   ]
  },
  {
   "cell_type": "markdown",
   "metadata": {},
   "source": [
    "## 5.4 Imports<a id='5.4_Imports'></a>"
   ]
  },
  {
   "cell_type": "code",
   "execution_count": 3,
   "metadata": {},
   "outputs": [],
   "source": [
    "import warnings\n",
    "warnings.filterwarnings('ignore')\n",
    "import numpy as np \n",
    "import pandas as pd \n",
    "import matplotlib.pyplot as plt\n",
    "import os\n",
    "import seaborn as sns\n",
    "import scipy.stats as stats\n",
    "import matplotlib.ticker as tick\n",
    "import sklearn.model_selection\n",
    "\n",
    "\n",
    "from sklearn.ensemble import (GradientBoostingRegressor, GradientBoostingClassifier)\n",
    "import xgboost as xgb\n",
    "\n",
    "import featuretools as ft\n",
    "from sklearn import neighbors, datasets, preprocessing\n",
    "from sklearn.decomposition import PCA\n",
    "from sklearn.metrics import accuracy_score\n",
    "from sklearn.preprocessing import StandardScaler\n",
    "from sklearn.preprocessing import Normalizer\n",
    "from sklearn.metrics import accuracy_score\n",
    "from sklearn.metrics import classification_report\n",
    "from sklearn.metrics import r2_score as r2\n",
    "from sklearn.metrics import mean_absolute_error as mae\n",
    "from sklearn.metrics import mean_squared_error as mse\n",
    "from sklearn.metrics import mean_squared_log_error as msle\n",
    "from sklearn.pipeline import make_pipeline\n",
    "from sklearn.impute import SimpleImputer\n",
    "\n",
    "class style:\n",
    "   BOLD = '\\033[1m'\n",
    "   END = '\\033[0m'"
   ]
  },
  {
   "cell_type": "code",
   "execution_count": null,
   "metadata": {},
   "outputs": [],
   "source": []
  }
 ],
 "metadata": {
  "kernelspec": {
   "display_name": "Python 3",
   "language": "python",
   "name": "python3"
  },
  "language_info": {
   "codemirror_mode": {
    "name": "ipython",
    "version": 3
   },
   "file_extension": ".py",
   "mimetype": "text/x-python",
   "name": "python",
   "nbconvert_exporter": "python",
   "pygments_lexer": "ipython3",
   "version": "3.8.5"
  }
 },
 "nbformat": 4,
 "nbformat_minor": 4
}
