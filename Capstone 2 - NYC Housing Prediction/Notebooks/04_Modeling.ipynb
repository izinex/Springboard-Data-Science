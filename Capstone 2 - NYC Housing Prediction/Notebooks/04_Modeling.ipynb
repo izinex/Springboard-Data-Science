{
 "cells": [
  {
   "cell_type": "markdown",
   "metadata": {},
   "source": [
    "# 4 Modeling "
   ]
  },
  {
   "cell_type": "markdown",
   "metadata": {},
   "source": [
    "## 4.1 Contents<a id='4.1_Contents'></a>\n",
    "* [4 Modeling](#4_Modeling)\n",
    "  * [4.1 Contents](#4.1_Contents)\n",
    "  * [4.2 Introduction](#4.2_Introduction)\n",
    "  * [4.3 Imports](#4.3_Imports)\n",
    "  * [4.4 Load The Data](#4.4_Load_The_Data)\n",
    "  * [4.5 Initial Average Mode](#4.5_Average_Model)\n",
    "  * [4.6 Metrics](#4.7_Metrics)\n",
    "  * [4.7 Models](#4.7_Models)\n",
    "      * [4.7.1 Linear Model](#4.7.1_Linear_Model)    \n",
    "      * [4.7.2 Nearest Neighbor](#4.7.2_Nearest_Neighbor)    \n",
    "      * [4.7.3 RandomForest](#4.7.3_RandomForest)    \n",
    "      * [4.7.4 GradientBoosting](#4.7.4_Gradient)    \n",
    "  * [4.8 Hyper-parameter Tuning Gradient Boost](#4.11_Hyper_parameter_Tuning)\n",
    "  * [4.9 Best Model](#4.9_Best_Model)\n",
    "  * [4.10 Summary](#4.10_Summary)\n"
   ]
  },
  {
   "cell_type": "markdown",
   "metadata": {},
   "source": [
    "## 4.2 Introduction<a id='4.2_Introduction'></a>\n",
    "#### In this notebook we take our preproccessed data from our Preprocessing notebook and try different models to see which yield the best performance and tune our hyper-parameters to maximize best results. Quick disclaimer the data used in the prior notebooks have been superseded by a new dataframe, while the dataset is the same I went back and redid my final dataset which has more observation and a different set of features. I felt that while the world I did originally was fine, but I needed to test few parameters and different features so I will be using a new feature set but for the most part everything else is the same. I also implement a MICE imputation method rather than just imputation of mean values for each feature set\n",
    "\n",
    "#### With the goal to make the best model which predicts house prices in the NYC market for capital fortune we have done a lot of data work cleaning and wrangling a very messy zillow dataset with various missing values and messy feature set. But after some tedious work we were able to establish a workable dataset to train our model. "
   ]
  },
  {
   "cell_type": "markdown",
   "metadata": {},
   "source": [
    "## 4.3 Imports<a id='4.3_Imports'></a>"
   ]
  },
  {
   "cell_type": "code",
   "execution_count": 126,
   "metadata": {},
   "outputs": [],
   "source": [
    "import warnings\n",
    "warnings.filterwarnings('ignore')\n",
    "import numpy as np \n",
    "import pandas as pd \n",
    "import matplotlib.pyplot as plt\n",
    "import os\n",
    "import seaborn as sns\n",
    "import scipy.stats as stats\n",
    "import matplotlib.ticker as tick\n",
    "import sklearn.model_selection\n",
    "\n",
    "from operator import itemgetter\n",
    "from sklearn.experimental import enable_iterative_imputer \n",
    "from sklearn.impute import IterativeImputer\n",
    "from sklearn.preprocessing import OrdinalEncoder\n",
    "from category_encoders.target_encoder import TargetEncoder\n",
    "from sklearn.preprocessing import StandardScaler\n",
    "from sklearn.ensemble import (GradientBoostingRegressor, GradientBoostingClassifier)\n",
    "import xgboost as xgb\n",
    "\n",
    "import featuretools as ft\n",
    "from sklearn import neighbors, datasets, preprocessing\n",
    "from sklearn.decomposition import PCA\n",
    "from sklearn.metrics import accuracy_score\n",
    "from sklearn.preprocessing import StandardScaler\n",
    "from sklearn.preprocessing import Normalizer\n",
    "from sklearn.metrics import accuracy_score\n",
    "from sklearn.metrics import classification_report\n",
    "from sklearn.metrics import r2_score as r2\n",
    "from sklearn.metrics import mean_absolute_error as mae\n",
    "from sklearn.metrics import mean_squared_error as mse\n",
    "from sklearn.metrics import mean_squared_log_error as msle\n",
    "from sklearn.pipeline import make_pipeline\n",
    "from sklearn.impute import SimpleImputer\n",
    "from sklearn.feature_selection import SelectKBest, f_regression\n",
    "from sklearn.model_selection import train_test_split, cross_validate, GridSearchCV, learning_curve\n",
    "\n",
    "class style:\n",
    "   BOLD = '\\033[1m'\n",
    "   END = '\\033[0m'"
   ]
  },
  {
   "cell_type": "code",
   "execution_count": 72,
   "metadata": {},
   "outputs": [],
   "source": [
    "## This is pulled from scikit learn source I do not own this code\n",
    "from sklearn.utils.validation import check_consistent_length, check_array\n",
    "\n",
    "def mape(y_true, y_pred,\n",
    "                                   sample_weight=None,\n",
    "                                   multioutput='uniform_average'):\n",
    "    \"\"\"Mean absolute percentage error regression loss.\n",
    "    Note here that we do not represent the output as a percentage in range\n",
    "    [0, 100]. Instead, we represent it in range [0, 1/eps]. Read more in the\n",
    "    :ref:`User Guide <mean_absolute_percentage_error>`.\n",
    "    .. versionadded:: 0.24\n",
    "    Parameters\n",
    "    ----------\n",
    "    y_true : array-like of shape (n_samples,) or (n_samples, n_outputs)\n",
    "        Ground truth (correct) target values.\n",
    "    y_pred : array-like of shape (n_samples,) or (n_samples, n_outputs)\n",
    "        Estimated target values.\n",
    "    sample_weight : array-like of shape (n_samples,), default=None\n",
    "        Sample weights.\n",
    "    multioutput : {'raw_values', 'uniform_average'} or array-like\n",
    "        Defines aggregating of multiple output values.\n",
    "        Array-like value defines weights used to average errors.\n",
    "        If input is list then the shape must be (n_outputs,).\n",
    "        'raw_values' :\n",
    "            Returns a full set of errors in case of multioutput input.\n",
    "        'uniform_average' :\n",
    "            Errors of all outputs are averaged with uniform weight.\n",
    "    Returns\n",
    "    -------\n",
    "    loss : float or ndarray of floats in the range [0, 1/eps]\n",
    "        If multioutput is 'raw_values', then mean absolute percentage error\n",
    "        is returned for each output separately.\n",
    "        If multioutput is 'uniform_average' or an ndarray of weights, then the\n",
    "        weighted average of all output errors is returned.\n",
    "        MAPE output is non-negative floating point. The best value is 0.0.\n",
    "        But note the fact that bad predictions can lead to arbitarily large\n",
    "        MAPE values, especially if some y_true values are very close to zero.\n",
    "        Note that we return a large value instead of `inf` when y_true is zero.\n",
    "    Examples\n",
    "    --------\n",
    "    >>> from sklearn.metrics import mean_absolute_percentage_error\n",
    "    >>> y_true = [3, -0.5, 2, 7]\n",
    "    >>> y_pred = [2.5, 0.0, 2, 8]\n",
    "    >>> mean_absolute_percentage_error(y_true, y_pred)\n",
    "    0.3273...\n",
    "    >>> y_true = [[0.5, 1], [-1, 1], [7, -6]]\n",
    "    >>> y_pred = [[0, 2], [-1, 2], [8, -5]]\n",
    "    >>> mean_absolute_percentage_error(y_true, y_pred)\n",
    "    0.5515...\n",
    "    >>> mean_absolute_percentage_error(y_true, y_pred, multioutput=[0.3, 0.7])\n",
    "    0.6198...\n",
    "    \"\"\"\n",
    "    y_type, y_true, y_pred, multioutput = _check_reg_targets(\n",
    "        y_true, y_pred, multioutput)\n",
    "    check_consistent_length(y_true, y_pred, sample_weight)\n",
    "    epsilon = np.finfo(np.float64).eps\n",
    "    mape = np.abs(y_pred - y_true) / np.maximum(np.abs(y_true), epsilon)\n",
    "    output_errors = np.average(mape,\n",
    "                               weights=sample_weight, axis=0)\n",
    "    if isinstance(multioutput, str):\n",
    "        if multioutput == 'raw_values':\n",
    "            return output_errors\n",
    "        elif multioutput == 'uniform_average':\n",
    "            # pass None as weights to np.average: uniform mean\n",
    "            multioutput = None\n",
    "\n",
    "    return np.average(output_errors, weights=multioutput)\n",
    "\n",
    "def _check_reg_targets(y_true, y_pred, multioutput, dtype=\"numeric\"):\n",
    "    \"\"\"Check that y_true and y_pred belong to the same regression task.\n",
    "    Parameters\n",
    "    ----------\n",
    "    y_true : array-like\n",
    "    y_pred : array-like\n",
    "    multioutput : array-like or string in ['raw_values', uniform_average',\n",
    "        'variance_weighted'] or None\n",
    "        None is accepted due to backward compatibility of r2_score().\n",
    "    Returns\n",
    "    -------\n",
    "    type_true : one of {'continuous', continuous-multioutput'}\n",
    "        The type of the true target data, as output by\n",
    "        'utils.multiclass.type_of_target'.\n",
    "    y_true : array-like of shape (n_samples, n_outputs)\n",
    "        Ground truth (correct) target values.\n",
    "    y_pred : array-like of shape (n_samples, n_outputs)\n",
    "        Estimated target values.\n",
    "    multioutput : array-like of shape (n_outputs) or string in ['raw_values',\n",
    "        uniform_average', 'variance_weighted'] or None\n",
    "        Custom output weights if ``multioutput`` is array-like or\n",
    "        just the corresponding argument if ``multioutput`` is a\n",
    "        correct keyword.\n",
    "    dtype : str or list, default=\"numeric\"\n",
    "        the dtype argument passed to check_array.\n",
    "    \"\"\"\n",
    "    check_consistent_length(y_true, y_pred)\n",
    "    y_true = check_array(y_true, ensure_2d=False, dtype=dtype)\n",
    "    y_pred = check_array(y_pred, ensure_2d=False, dtype=dtype)\n",
    "\n",
    "    if y_true.ndim == 1:\n",
    "        y_true = y_true.reshape((-1, 1))\n",
    "\n",
    "    if y_pred.ndim == 1:\n",
    "        y_pred = y_pred.reshape((-1, 1))\n",
    "\n",
    "    if y_true.shape[1] != y_pred.shape[1]:\n",
    "        raise ValueError(\"y_true and y_pred have different number of output \"\n",
    "                         \"({0}!={1})\".format(y_true.shape[1], y_pred.shape[1]))\n",
    "\n",
    "    n_outputs = y_true.shape[1]\n",
    "    allowed_multioutput_str = ('raw_values', 'uniform_average',\n",
    "                               'variance_weighted')\n",
    "    if isinstance(multioutput, str):\n",
    "        if multioutput not in allowed_multioutput_str:\n",
    "            raise ValueError(\"Allowed 'multioutput' string values are {}. \"\n",
    "                             \"You provided multioutput={!r}\".format(\n",
    "                                 allowed_multioutput_str,\n",
    "                                 multioutput))\n",
    "    elif multioutput is not None:\n",
    "        multioutput = check_array(multioutput, ensure_2d=False)\n",
    "        if n_outputs == 1:\n",
    "            raise ValueError(\"Custom weights are useful only in \"\n",
    "                             \"multi-output cases.\")\n",
    "        elif n_outputs != len(multioutput):\n",
    "            raise ValueError((\"There must be equally many custom weights \"\n",
    "                              \"(%d) as outputs (%d).\") %\n",
    "                             (len(multioutput), n_outputs))\n",
    "    y_type = 'continuous' if n_outputs == 1 else 'continuous-multioutput'\n",
    "\n",
    "    return y_type, y_true, y_pred, multioutput"
   ]
  },
  {
   "cell_type": "markdown",
   "metadata": {},
   "source": [
    "## 4.4 Load The Data<a id='4.4_Load_The_Data'></a>"
   ]
  },
  {
   "cell_type": "code",
   "execution_count": 27,
   "metadata": {},
   "outputs": [],
   "source": [
    "X_train = pd.read_csv('../data/X_train.csv')\n",
    "X_test = pd.read_csv('../data/X_test.csv')\n",
    "y_train = pd.read_csv('../data/y_train.csv')\n",
    "y_test = pd.read_csv('../data/y_test.csv')"
   ]
  },
  {
   "cell_type": "markdown",
   "metadata": {},
   "source": [
    "#### All of our data is imputed for their missing values utlizing the MICE imputation and, categorical values have been encoding to numbers, they are also not ordinal. As mentioned earlier few adjustments were made with features as few of school features were included as they had a positive impact on MAE reduction. "
   ]
  },
  {
   "cell_type": "code",
   "execution_count": 7,
   "metadata": {},
   "outputs": [
    {
     "data": {
      "text/html": [
       "<div>\n",
       "<style scoped>\n",
       "    .dataframe tbody tr th:only-of-type {\n",
       "        vertical-align: middle;\n",
       "    }\n",
       "\n",
       "    .dataframe tbody tr th {\n",
       "        vertical-align: top;\n",
       "    }\n",
       "\n",
       "    .dataframe thead th {\n",
       "        text-align: right;\n",
       "    }\n",
       "</style>\n",
       "<table border=\"1\" class=\"dataframe\">\n",
       "  <thead>\n",
       "    <tr style=\"text-align: right;\">\n",
       "      <th></th>\n",
       "      <th>ZipCode</th>\n",
       "      <th>latitude</th>\n",
       "      <th>livingArea</th>\n",
       "      <th>longitude</th>\n",
       "      <th>priceChangeRate</th>\n",
       "      <th>propertyTaxRate</th>\n",
       "      <th>HomeType</th>\n",
       "      <th>YearBuilt</th>\n",
       "      <th>Full_Bathrooms</th>\n",
       "      <th>Half_Bathrooms</th>\n",
       "      <th>...</th>\n",
       "      <th>Annual_Tax</th>\n",
       "      <th>Tax_Assessed_Value</th>\n",
       "      <th>school_1_distance</th>\n",
       "      <th>school_1_rating</th>\n",
       "      <th>school_1_size</th>\n",
       "      <th>school_1_s/t_ratio</th>\n",
       "      <th>school_2_distance</th>\n",
       "      <th>school_2_rating</th>\n",
       "      <th>school_2_size</th>\n",
       "      <th>school_2_s/t_ratio</th>\n",
       "    </tr>\n",
       "  </thead>\n",
       "  <tbody>\n",
       "    <tr>\n",
       "      <th>0</th>\n",
       "      <td>-1.154509</td>\n",
       "      <td>-1.724627</td>\n",
       "      <td>0.858494</td>\n",
       "      <td>-2.301475</td>\n",
       "      <td>-0.026462</td>\n",
       "      <td>0.447383</td>\n",
       "      <td>0.322011</td>\n",
       "      <td>1.794010</td>\n",
       "      <td>0.165641</td>\n",
       "      <td>0.086021</td>\n",
       "      <td>...</td>\n",
       "      <td>-0.068242</td>\n",
       "      <td>0.057307</td>\n",
       "      <td>3.087951</td>\n",
       "      <td>0.329303</td>\n",
       "      <td>-0.662430</td>\n",
       "      <td>-0.476408</td>\n",
       "      <td>0.529444</td>\n",
       "      <td>1.949000</td>\n",
       "      <td>0.123038</td>\n",
       "      <td>-0.146034</td>\n",
       "    </tr>\n",
       "    <tr>\n",
       "      <th>1</th>\n",
       "      <td>0.646870</td>\n",
       "      <td>-0.775620</td>\n",
       "      <td>-0.134432</td>\n",
       "      <td>0.003659</td>\n",
       "      <td>-0.026439</td>\n",
       "      <td>-1.811992</td>\n",
       "      <td>-0.919517</td>\n",
       "      <td>-1.181012</td>\n",
       "      <td>-0.686736</td>\n",
       "      <td>-0.030701</td>\n",
       "      <td>...</td>\n",
       "      <td>-0.071497</td>\n",
       "      <td>-0.289346</td>\n",
       "      <td>-0.272991</td>\n",
       "      <td>-1.099026</td>\n",
       "      <td>-0.023647</td>\n",
       "      <td>0.496564</td>\n",
       "      <td>0.129008</td>\n",
       "      <td>-0.303900</td>\n",
       "      <td>-0.657712</td>\n",
       "      <td>-0.146034</td>\n",
       "    </tr>\n",
       "    <tr>\n",
       "      <th>2</th>\n",
       "      <td>0.629343</td>\n",
       "      <td>-0.266081</td>\n",
       "      <td>0.475534</td>\n",
       "      <td>-0.201490</td>\n",
       "      <td>-0.026369</td>\n",
       "      <td>-1.811992</td>\n",
       "      <td>-0.919517</td>\n",
       "      <td>-0.874309</td>\n",
       "      <td>0.165641</td>\n",
       "      <td>-0.078314</td>\n",
       "      <td>...</td>\n",
       "      <td>-0.076955</td>\n",
       "      <td>0.724850</td>\n",
       "      <td>-0.578531</td>\n",
       "      <td>-0.622916</td>\n",
       "      <td>-0.978460</td>\n",
       "      <td>-0.476408</td>\n",
       "      <td>-0.805345</td>\n",
       "      <td>0.146680</td>\n",
       "      <td>-1.247349</td>\n",
       "      <td>-2.674455</td>\n",
       "    </tr>\n",
       "    <tr>\n",
       "      <th>3</th>\n",
       "      <td>-0.846814</td>\n",
       "      <td>1.863459</td>\n",
       "      <td>-0.572493</td>\n",
       "      <td>0.483297</td>\n",
       "      <td>-0.026454</td>\n",
       "      <td>1.268973</td>\n",
       "      <td>-2.161045</td>\n",
       "      <td>1.579318</td>\n",
       "      <td>-1.229475</td>\n",
       "      <td>-0.078314</td>\n",
       "      <td>...</td>\n",
       "      <td>-0.068559</td>\n",
       "      <td>0.102184</td>\n",
       "      <td>-0.578531</td>\n",
       "      <td>-0.622916</td>\n",
       "      <td>0.615136</td>\n",
       "      <td>0.496564</td>\n",
       "      <td>-0.538387</td>\n",
       "      <td>-1.655639</td>\n",
       "      <td>-0.659193</td>\n",
       "      <td>-0.146034</td>\n",
       "    </tr>\n",
       "    <tr>\n",
       "      <th>4</th>\n",
       "      <td>0.393703</td>\n",
       "      <td>0.550104</td>\n",
       "      <td>-1.033406</td>\n",
       "      <td>0.108092</td>\n",
       "      <td>-0.026462</td>\n",
       "      <td>0.139286</td>\n",
       "      <td>0.942775</td>\n",
       "      <td>-0.720957</td>\n",
       "      <td>-0.531917</td>\n",
       "      <td>0.086021</td>\n",
       "      <td>...</td>\n",
       "      <td>-0.077763</td>\n",
       "      <td>0.603266</td>\n",
       "      <td>0.032549</td>\n",
       "      <td>0.805413</td>\n",
       "      <td>0.961423</td>\n",
       "      <td>0.010078</td>\n",
       "      <td>-0.137950</td>\n",
       "      <td>1.047840</td>\n",
       "      <td>-0.395487</td>\n",
       "      <td>-0.146034</td>\n",
       "    </tr>\n",
       "  </tbody>\n",
       "</table>\n",
       "<p>5 rows × 23 columns</p>\n",
       "</div>"
      ],
      "text/plain": [
       "    ZipCode  latitude  livingArea  longitude  priceChangeRate  \\\n",
       "0 -1.154509 -1.724627    0.858494  -2.301475        -0.026462   \n",
       "1  0.646870 -0.775620   -0.134432   0.003659        -0.026439   \n",
       "2  0.629343 -0.266081    0.475534  -0.201490        -0.026369   \n",
       "3 -0.846814  1.863459   -0.572493   0.483297        -0.026454   \n",
       "4  0.393703  0.550104   -1.033406   0.108092        -0.026462   \n",
       "\n",
       "   propertyTaxRate  HomeType  YearBuilt  Full_Bathrooms  Half_Bathrooms  ...  \\\n",
       "0         0.447383  0.322011   1.794010        0.165641        0.086021  ...   \n",
       "1        -1.811992 -0.919517  -1.181012       -0.686736       -0.030701  ...   \n",
       "2        -1.811992 -0.919517  -0.874309        0.165641       -0.078314  ...   \n",
       "3         1.268973 -2.161045   1.579318       -1.229475       -0.078314  ...   \n",
       "4         0.139286  0.942775  -0.720957       -0.531917        0.086021  ...   \n",
       "\n",
       "   Annual_Tax  Tax_Assessed_Value  school_1_distance  school_1_rating  \\\n",
       "0   -0.068242            0.057307           3.087951         0.329303   \n",
       "1   -0.071497           -0.289346          -0.272991        -1.099026   \n",
       "2   -0.076955            0.724850          -0.578531        -0.622916   \n",
       "3   -0.068559            0.102184          -0.578531        -0.622916   \n",
       "4   -0.077763            0.603266           0.032549         0.805413   \n",
       "\n",
       "   school_1_size  school_1_s/t_ratio  school_2_distance  school_2_rating  \\\n",
       "0      -0.662430           -0.476408           0.529444         1.949000   \n",
       "1      -0.023647            0.496564           0.129008        -0.303900   \n",
       "2      -0.978460           -0.476408          -0.805345         0.146680   \n",
       "3       0.615136            0.496564          -0.538387        -1.655639   \n",
       "4       0.961423            0.010078          -0.137950         1.047840   \n",
       "\n",
       "   school_2_size  school_2_s/t_ratio  \n",
       "0       0.123038           -0.146034  \n",
       "1      -0.657712           -0.146034  \n",
       "2      -1.247349           -2.674455  \n",
       "3      -0.659193           -0.146034  \n",
       "4      -0.395487           -0.146034  \n",
       "\n",
       "[5 rows x 23 columns]"
      ]
     },
     "execution_count": 7,
     "metadata": {},
     "output_type": "execute_result"
    }
   ],
   "source": [
    "X_train.head()"
   ]
  },
  {
   "cell_type": "code",
   "execution_count": 29,
   "metadata": {},
   "outputs": [],
   "source": [
    "ss = StandardScaler()\n",
    "\n",
    "X_train = pd.DataFrame(ss.fit_transform(X_train),columns=X_train.columns,index=X_train.index)\n",
    "X_test = pd.DataFrame(ss.transform(X_test),columns=X_test.columns,index=X_test.index)"
   ]
  },
  {
   "cell_type": "markdown",
   "metadata": {},
   "source": [
    "## 4.5 Average Model<a id='4.5_Average_Model'></a>"
   ]
  },
  {
   "cell_type": "code",
   "execution_count": 22,
   "metadata": {},
   "outputs": [
    {
     "name": "stdout",
     "output_type": "stream",
     "text": [
      "MAE of Y_train Average prediction's: 496524.566655386\n",
      "MAE of Y_test Average prediction's: 495842.7715914151\n"
     ]
    }
   ],
   "source": [
    "train_mean = [y_train.mean()] * len(y_train)\n",
    "test_mean = [y_train.mean()] * len(y_test)\n",
    "\n",
    "print(\"MAE of Y_train Average prediction's:\",mean_absolute_error(y_train, train_mean))\n",
    "print(\"MAE of Y_test Average prediction's:\",mean_absolute_error(y_test, test_mean))"
   ]
  },
  {
   "cell_type": "markdown",
   "metadata": {},
   "source": [
    "## 4.6 Metrics<a id='4.6_Metrics'></a>"
   ]
  },
  {
   "cell_type": "markdown",
   "metadata": {},
   "source": [
    "#### - Metrics used will be     \n",
    "     - R²- R² shows how well terms (data points) fit a curve or line.\n",
    "     - MAE -Mean absolute error\n",
    "     - MSE -Mean squared error\n",
    "     - RMSE- Root mean squared error. It is the square root of the MSE.\n",
    "     - Mean Absolute Percentage Error (MAPE)\n",
    "     \n",
    "Ideally you like to see all the metrics improve with each respective metric but that is not always the case for that reason we will be using MAE as the main metric\n"
   ]
  },
  {
   "cell_type": "markdown",
   "metadata": {},
   "source": [
    "## 4.7 Models<a id='4.7_Models'></a>"
   ]
  },
  {
   "cell_type": "markdown",
   "metadata": {},
   "source": [
    "### 4.7.1 Linear Model<a id='4.7.1_Linear_Model'></a>"
   ]
  },
  {
   "cell_type": "code",
   "execution_count": 74,
   "metadata": {},
   "outputs": [],
   "source": [
    "from sklearn.linear_model import LinearRegression\n",
    "\n",
    "lr = LinearRegression()\n",
    "lr.fit(X_train, y_train)\n",
    "\n",
    "lr_pred = lr.predict(X_test)"
   ]
  },
  {
   "cell_type": "code",
   "execution_count": 83,
   "metadata": {},
   "outputs": [
    {
     "name": "stdout",
     "output_type": "stream",
     "text": [
      "R2  0.3476670695998434\n",
      "\u001b[1mMAE  379598.388210031\u001b[0m\n",
      "MSE  532111095846.1924\n",
      "RMSE  616.115564005675\n",
      "MAPE  0.5354992708284384\n"
     ]
    }
   ],
   "source": [
    "print('R2 ',r2(y_test, lr_pred))\n",
    "print(style.BOLD + 'MAE ', str(mae(y_test, lr_pred)) + style.END)\n",
    "print('MSE ',mse(y_test, lr_pred))\n",
    "print('RMSE ',np.sqrt(mae(y_test, lr_pred)))\n",
    "print('MAPE ',(mape(y_test, lr_pred)))"
   ]
  },
  {
   "cell_type": "markdown",
   "metadata": {},
   "source": [
    "### 4.7.2 Nearest Neighbor<a id='4.7.2_Nearest_Neighbor'></a>"
   ]
  },
  {
   "cell_type": "code",
   "execution_count": 76,
   "metadata": {},
   "outputs": [
    {
     "name": "stdout",
     "output_type": "stream",
     "text": [
      "R2  0.577790505087675\n",
      "MAE  261900.7622478386\n",
      "MSE  344398307282.5273\n",
      "RMSE  511.762408005745\n",
      "RMSLE  0.4104330214552605\n"
     ]
    }
   ],
   "source": [
    "from sklearn.neighbors import KNeighborsRegressor\n",
    "\n",
    "nn =  KNeighborsRegressor(n_neighbors=2)\n",
    "nn.fit(X_train, y_train)\n",
    "nn_pred = nn.predict(X_test)"
   ]
  },
  {
   "cell_type": "code",
   "execution_count": 84,
   "metadata": {},
   "outputs": [
    {
     "name": "stdout",
     "output_type": "stream",
     "text": [
      "R2  0.577790505087675\n",
      "\u001b[1mMAE  261900.7622478386\u001b[0m\n",
      "MSE  344398307282.5273\n",
      "RMSE  511.762408005745\n",
      "MAPE  0.31505120655524266\n"
     ]
    }
   ],
   "source": [
    "print('R2 ',r2(y_test, nn_pred))\n",
    "print(style.BOLD + 'MAE ', str(mae(y_test, nn_pred)) + style.END)\n",
    "print('MSE ',mse(y_test, nn_pred))\n",
    "print('RMSE ',np.sqrt(mae(y_test, nn_pred)))\n",
    "print('MAPE ',mape(y_test, nn_pred))"
   ]
  },
  {
   "cell_type": "markdown",
   "metadata": {},
   "source": [
    "#### Lets do some parameter tuning to find the best parameter n_neighbors "
   ]
  },
  {
   "cell_type": "code",
   "execution_count": 62,
   "metadata": {},
   "outputs": [],
   "source": [
    "gk = np.arange(1,50)\n",
    "gridsearch_params = {'n_neighbors': gk}"
   ]
  },
  {
   "cell_type": "code",
   "execution_count": 63,
   "metadata": {},
   "outputs": [],
   "source": [
    "from sklearn.model_selection import GridSearchCV\n",
    "from sklearn.model_selection import RandomizedSearchCV\n",
    "\n",
    "k = np.random.randint(1,50,25)\n",
    "estimator_KNN = KNeighborsRegressor()\n",
    "parameters_KNN = {\n",
    "    'n_neighbors': k\n",
    "\n",
    "}\n",
    "\n",
    "random_search_KNN = RandomizedSearchCV(\n",
    "    estimator=estimator_KNN,\n",
    "    param_distributions=parameters_KNN,\n",
    "    n_iter=5,\n",
    "    scoring= 'neg_mean_absolute_error',\n",
    "    n_jobs= -1,\n",
    "    cv= 5\n",
    ")\n",
    "                   "
   ]
  },
  {
   "cell_type": "code",
   "execution_count": 55,
   "metadata": {},
   "outputs": [],
   "source": [
    "knn_rs = random_search_KNN.fit(X_train, y_train)"
   ]
  },
  {
   "cell_type": "code",
   "execution_count": 56,
   "metadata": {},
   "outputs": [
    {
     "data": {
      "text/plain": [
       "{'n_neighbors': 18}"
      ]
     },
     "execution_count": 56,
     "metadata": {},
     "output_type": "execute_result"
    }
   ],
   "source": [
    "knn_rs.best_params_"
   ]
  },
  {
   "cell_type": "code",
   "execution_count": 85,
   "metadata": {},
   "outputs": [
    {
     "name": "stdout",
     "output_type": "stream",
     "text": [
      "R2  0.6243890936885258\n",
      "\u001b[1mMAE  249954.90951542323\u001b[0m\n",
      "MSE  306387615364.7142\n",
      "RMSE  499.95490748208806\n",
      "MAPE  0.32169259875363854\n"
     ]
    }
   ],
   "source": [
    "nn =  KNeighborsRegressor(n_neighbors=18)\n",
    "nn.fit(X_train, y_train)\n",
    "nn_pred = nn.predict(X_test)\n",
    "\n",
    "print('R2 ',r2(y_test, nn_pred))\n",
    "print(style.BOLD + 'MAE ', str(mae(y_test, nn_pred)) + style.END)\n",
    "print('MSE ',mse(y_test, nn_pred))\n",
    "print('RMSE ',np.sqrt(mae(y_test, nn_pred)))\n",
    "print('MAPE ',mape(y_test, nn_pred))"
   ]
  },
  {
   "cell_type": "markdown",
   "metadata": {},
   "source": [
    "### 4.7.3 RandomForest<a id='4.7.3_RandomForest'></a>"
   ]
  },
  {
   "cell_type": "code",
   "execution_count": 86,
   "metadata": {},
   "outputs": [],
   "source": [
    "from sklearn.ensemble import RandomForestRegressor\n",
    "rf = RandomForestRegressor(random_state=100, max_depth=10)\n",
    "rf.fit(X_train,y_train)\n",
    "\n",
    "rf_pred = rf.predict(X_test)"
   ]
  },
  {
   "cell_type": "code",
   "execution_count": 87,
   "metadata": {},
   "outputs": [
    {
     "name": "stdout",
     "output_type": "stream",
     "text": [
      "R2  0.6750328848517655\n",
      "\u001b[1mMAE  236077.92307150294\u001b[0m\n",
      "MSE  265077232341.20724\n",
      "RMSE  485.87850649262407\n",
      "MAPE  0.32627741299599256\n"
     ]
    }
   ],
   "source": [
    "print('R2 ',r2(y_test, rf_pred))\n",
    "print(style.BOLD + 'MAE ', str(mae(y_test, rf_pred)) + style.END)\n",
    "print('MSE ',mse(y_test, rf_pred))\n",
    "print('RMSE ',np.sqrt(mae(y_test, rf_pred)))\n",
    "print('MAPE ',mape(y_test, rf_pred))"
   ]
  },
  {
   "cell_type": "code",
   "execution_count": 95,
   "metadata": {},
   "outputs": [],
   "source": [
    "k = np.arange(50,150,10)\n",
    "md = np.arange(5,15)\n",
    "\n",
    "estimator_RF = RandomForestRegressor()\n",
    "parameters_RF = {\n",
    "    'n_estimators': k,\n",
    "    'max_depth' : md\n",
    "}\n",
    "\n",
    "random_search_RF = RandomizedSearchCV(\n",
    "    estimator=estimator_RF,\n",
    "    param_distributions=parameters_RF,\n",
    "    n_iter=5,\n",
    "    scoring= 'neg_mean_absolute_error',\n",
    "    n_jobs= -1,\n",
    "    cv= 5\n",
    ")\n",
    "     "
   ]
  },
  {
   "cell_type": "code",
   "execution_count": 96,
   "metadata": {},
   "outputs": [
    {
     "data": {
      "text/plain": [
       "{'n_estimators': 80, 'max_depth': 14}"
      ]
     },
     "execution_count": 96,
     "metadata": {},
     "output_type": "execute_result"
    }
   ],
   "source": [
    "rf_rs = random_search_RF.fit(X_train, y_train)\n",
    "rf_rs.best_params_"
   ]
  },
  {
   "cell_type": "code",
   "execution_count": 97,
   "metadata": {},
   "outputs": [
    {
     "name": "stdout",
     "output_type": "stream",
     "text": [
      "R2  0.6979017175517661\n",
      "\u001b[1mMAE  222413.3680726387\u001b[0m\n",
      "MSE  246423015971.57526\n",
      "RMSE  471.60721800311615\n",
      "MAPE  0.3014211033041731\n"
     ]
    }
   ],
   "source": [
    "rf = RandomForestRegressor(n_estimators=80, max_depth=14)\n",
    "rf.fit(X_train,y_train)\n",
    "\n",
    "rf_pred = rf.predict(X_test)\n",
    "print('R2 ',r2(y_test, rf_pred))\n",
    "print(style.BOLD + 'MAE ', str(mae(y_test, rf_pred)) + style.END)\n",
    "print('MSE ',mse(y_test, rf_pred))\n",
    "print('RMSE ',np.sqrt(mae(y_test, rf_pred)))\n",
    "print('MAPE ',mape(y_test, rf_pred))"
   ]
  },
  {
   "cell_type": "markdown",
   "metadata": {},
   "source": [
    "### 4.7.4 Gradient Boosting<a id='4.7.4_Gradient'></a>"
   ]
  },
  {
   "cell_type": "code",
   "execution_count": 98,
   "metadata": {},
   "outputs": [],
   "source": [
    "gb = xgb.XGBRegressor()\n",
    "\n",
    "gb.fit(X_train, y_train)\n",
    "gb_pred = gb.predict(X_test)\n",
    "gb_train = gb.predict(X_train)"
   ]
  },
  {
   "cell_type": "code",
   "execution_count": 99,
   "metadata": {},
   "outputs": [
    {
     "name": "stdout",
     "output_type": "stream",
     "text": [
      "R2  0.6965447340625471\n",
      "\u001b[1mMAE  220371.97907164492\u001b[0m\n",
      "MSE  247529913903.35767\n",
      "RMSE  469.4379395315689\n",
      "MAPE  0.28959049413396326\n"
     ]
    }
   ],
   "source": [
    "print('R2 ',r2(y_test, gb_pred))\n",
    "print(style.BOLD + 'MAE ', str(mae(y_test, gb_pred)) + style.END)\n",
    "print('MSE ',mse(y_test, gb_pred))\n",
    "print('RMSE ',np.sqrt(mae(y_test, gb_pred)))\n",
    "print('MAPE ',mape(y_test, gb_pred))"
   ]
  },
  {
   "cell_type": "markdown",
   "metadata": {},
   "source": [
    "#### From all the models it seems Gradient Boosting had the best results as for as MAE now lets go further into more hyper-tuning"
   ]
  },
  {
   "cell_type": "markdown",
   "metadata": {},
   "source": [
    "## 4.8 Hyperparameter Tuning<a id='4.11_Hyper_parameter_Tuning'></a>"
   ]
  },
  {
   "cell_type": "markdown",
   "metadata": {},
   "source": [
    "#### From all the models we got the best results from XGBoost's gradient boost and thus we will attempt to try to squeeze better results. We will first make a log-transformation of our target variable of 'price', this will help with outliers or the extremes of very high priced homes which don't contribute to majority of the distribution. Then we will proceed to tune the parameters of XGBoost in our case it will be\n",
    "    - eta which is the learning rate of our model which is the shrinkage you do at every step you are making, increasing this allows for much faster computation where as decreasing this allows for best optimum result\n",
    "    - max_depth controls how complex a model becomes, more depth more likely it is to over-fit where too little leads to simple and underfitting model\n",
    "    - min_child_weight is how much weight is placed on each leaf node, the larger it is the more conservative the algorithm will be.\n",
    "    - subsample is the ratio of training instances, this is the amount of observations to be randomly samples for each tree. Lower values make the algorithm more conservative and prevents overfitting but too small values might lead to under-fitting.\n",
    "    - colsample_bytree this is the same as subsample except this is for the columns in other words the features \n",
    " "
   ]
  },
  {
   "cell_type": "code",
   "execution_count": 100,
   "metadata": {},
   "outputs": [],
   "source": [
    "feature_names = X_train.columns\n",
    "\n",
    "log_y_train = np.log(y_train)\n",
    "log_y_test = np.log(y_test)\n",
    "\n",
    "dtrain = xgb.DMatrix(X_train, label=log_y_train, feature_names=feature_names)\n",
    "\n",
    "dtest = xgb.DMatrix(X_test, label=log_y_test, feature_names=feature_names)\n"
   ]
  },
  {
   "cell_type": "code",
   "execution_count": 113,
   "metadata": {},
   "outputs": [],
   "source": [
    "params = {\n",
    "    # Parameters that we are going to tune.\n",
    "    'max_depth':6,\n",
    "    'min_child_weight': 1,\n",
    "    'eta':.3,\n",
    "    'subsample': 1,\n",
    "    'colsample_bytree': 1,\n",
    "    # Other parameters\n",
    "    'objective':'reg:squarederror',\n",
    "}\n",
    "\n",
    "params['eval_metric'] = \"mae\"\n",
    "num_boost_round = 999\n",
    "evallist  = [(X_test,'eval'), (X_train,'train')]\n"
   ]
  },
  {
   "cell_type": "code",
   "execution_count": null,
   "metadata": {},
   "outputs": [],
   "source": [
    "model = xgb.train(\n",
    "    params,\n",
    "    dtrain,\n",
    "    num_boost_round=num_boost_round,\n",
    "    evals=[(dtest, \"Test\")],\n",
    "    early_stopping_rounds=10\n",
    ")\n",
    "\n",
    "print(\"Best MAE: {:.2f} with {} rounds\".format(\n",
    "                 model.best_score,\n",
    "                 model.best_iteration+1))"
   ]
  },
  {
   "cell_type": "code",
   "execution_count": 103,
   "metadata": {},
   "outputs": [
    {
     "data": {
      "text/html": [
       "<div>\n",
       "<style scoped>\n",
       "    .dataframe tbody tr th:only-of-type {\n",
       "        vertical-align: middle;\n",
       "    }\n",
       "\n",
       "    .dataframe tbody tr th {\n",
       "        vertical-align: top;\n",
       "    }\n",
       "\n",
       "    .dataframe thead th {\n",
       "        text-align: right;\n",
       "    }\n",
       "</style>\n",
       "<table border=\"1\" class=\"dataframe\">\n",
       "  <thead>\n",
       "    <tr style=\"text-align: right;\">\n",
       "      <th></th>\n",
       "      <th>train-mae-mean</th>\n",
       "      <th>train-mae-std</th>\n",
       "      <th>test-mae-mean</th>\n",
       "      <th>test-mae-std</th>\n",
       "    </tr>\n",
       "  </thead>\n",
       "  <tbody>\n",
       "    <tr>\n",
       "      <th>0</th>\n",
       "      <td>9.098022</td>\n",
       "      <td>0.000508</td>\n",
       "      <td>9.097941</td>\n",
       "      <td>0.002037</td>\n",
       "    </tr>\n",
       "    <tr>\n",
       "      <th>1</th>\n",
       "      <td>6.369637</td>\n",
       "      <td>0.000308</td>\n",
       "      <td>6.369566</td>\n",
       "      <td>0.001374</td>\n",
       "    </tr>\n",
       "    <tr>\n",
       "      <th>2</th>\n",
       "      <td>4.459765</td>\n",
       "      <td>0.000232</td>\n",
       "      <td>4.459718</td>\n",
       "      <td>0.001449</td>\n",
       "    </tr>\n",
       "    <tr>\n",
       "      <th>3</th>\n",
       "      <td>3.122816</td>\n",
       "      <td>0.000170</td>\n",
       "      <td>3.122906</td>\n",
       "      <td>0.001572</td>\n",
       "    </tr>\n",
       "    <tr>\n",
       "      <th>4</th>\n",
       "      <td>2.186898</td>\n",
       "      <td>0.000146</td>\n",
       "      <td>2.187020</td>\n",
       "      <td>0.001763</td>\n",
       "    </tr>\n",
       "    <tr>\n",
       "      <th>...</th>\n",
       "      <td>...</td>\n",
       "      <td>...</td>\n",
       "      <td>...</td>\n",
       "      <td>...</td>\n",
       "    </tr>\n",
       "    <tr>\n",
       "      <th>158</th>\n",
       "      <td>0.145527</td>\n",
       "      <td>0.001158</td>\n",
       "      <td>0.206422</td>\n",
       "      <td>0.002392</td>\n",
       "    </tr>\n",
       "    <tr>\n",
       "      <th>159</th>\n",
       "      <td>0.145283</td>\n",
       "      <td>0.001136</td>\n",
       "      <td>0.206397</td>\n",
       "      <td>0.002371</td>\n",
       "    </tr>\n",
       "    <tr>\n",
       "      <th>160</th>\n",
       "      <td>0.145076</td>\n",
       "      <td>0.001120</td>\n",
       "      <td>0.206376</td>\n",
       "      <td>0.002402</td>\n",
       "    </tr>\n",
       "    <tr>\n",
       "      <th>161</th>\n",
       "      <td>0.144823</td>\n",
       "      <td>0.001132</td>\n",
       "      <td>0.206335</td>\n",
       "      <td>0.002440</td>\n",
       "    </tr>\n",
       "    <tr>\n",
       "      <th>162</th>\n",
       "      <td>0.144561</td>\n",
       "      <td>0.001038</td>\n",
       "      <td>0.206324</td>\n",
       "      <td>0.002455</td>\n",
       "    </tr>\n",
       "  </tbody>\n",
       "</table>\n",
       "<p>163 rows × 4 columns</p>\n",
       "</div>"
      ],
      "text/plain": [
       "     train-mae-mean  train-mae-std  test-mae-mean  test-mae-std\n",
       "0          9.098022       0.000508       9.097941      0.002037\n",
       "1          6.369637       0.000308       6.369566      0.001374\n",
       "2          4.459765       0.000232       4.459718      0.001449\n",
       "3          3.122816       0.000170       3.122906      0.001572\n",
       "4          2.186898       0.000146       2.187020      0.001763\n",
       "..              ...            ...            ...           ...\n",
       "158        0.145527       0.001158       0.206422      0.002392\n",
       "159        0.145283       0.001136       0.206397      0.002371\n",
       "160        0.145076       0.001120       0.206376      0.002402\n",
       "161        0.144823       0.001132       0.206335      0.002440\n",
       "162        0.144561       0.001038       0.206324      0.002455\n",
       "\n",
       "[163 rows x 4 columns]"
      ]
     },
     "execution_count": 103,
     "metadata": {},
     "output_type": "execute_result"
    }
   ],
   "source": [
    "cv_results = xgb.cv(\n",
    "    params,\n",
    "    dtrain,\n",
    "    num_boost_round=num_boost_round,\n",
    "    seed=100,\n",
    "    nfold=5,\n",
    "    metrics={'mae'},\n",
    "    early_stopping_rounds=10\n",
    ")\n",
    "cv_results\n"
   ]
  },
  {
   "cell_type": "code",
   "execution_count": 111,
   "metadata": {},
   "outputs": [],
   "source": [
    "gridsearch_params = [\n",
    "    (max_depth, min_child_weight)\n",
    "    for max_depth in range(6,16)\n",
    "    for min_child_weight in range(3,7)\n",
    "]"
   ]
  },
  {
   "cell_type": "code",
   "execution_count": null,
   "metadata": {},
   "outputs": [],
   "source": [
    "min_mae = float(\"Inf\")\n",
    "best_params = None\n",
    "for max_depth, min_child_weight in gridsearch_params:\n",
    "    print(\"CV with max_depth={}, min_child_weight={}\".format(\n",
    "                             max_depth,\n",
    "                             min_child_weight))\n",
    "    # Update our parameters\n",
    "    params['max_depth'] = max_depth\n",
    "    params['min_child_weight'] = min_child_weight\n",
    "    # Run CV\n",
    "    cv_results = xgb.cv(\n",
    "        params,\n",
    "        dtrain,\n",
    "        num_boost_round=num_boost_round,\n",
    "        seed=100,\n",
    "        nfold=5,\n",
    "        metrics={'mae'},\n",
    "        early_stopping_rounds=10\n",
    "    )\n",
    "    # Update best MAE\n",
    "    mean_mae = cv_results['test-mae-mean'].min()\n",
    "    boost_rounds = cv_results['test-mae-mean'].argmin()\n",
    "    print(\"\\tMAE {} for {} rounds\".format(mean_mae, boost_rounds))\n",
    "    if mean_mae < min_mae:\n",
    "        min_mae = mean_mae\n",
    "        best_params = (max_depth,min_child_weight)"
   ]
  },
  {
   "cell_type": "code",
   "execution_count": null,
   "metadata": {},
   "outputs": [],
   "source": [
    "print(\"Best params: {}, {}, MAE: {}\".format(best_params[0], best_params[1], min_mae))"
   ]
  },
  {
   "cell_type": "code",
   "execution_count": 116,
   "metadata": {},
   "outputs": [],
   "source": [
    "params['max_depth'] = best_params[0]\n",
    "params['min_child_weight'] = best_params[1]"
   ]
  },
  {
   "cell_type": "code",
   "execution_count": null,
   "metadata": {},
   "outputs": [],
   "source": [
    "gridsearch_params = [\n",
    "    (subsample, colsample)\n",
    "    for subsample in [i/10. for i in range(7,11)]\n",
    "    for colsample in [i/10. for i in range(7,11)]\n",
    "]\n",
    "\n",
    "min_mae = float(\"Inf\")\n",
    "best_params = None\n",
    "# We start by the largest values and go down to the smallest\n",
    "for subsample, colsample in reversed(gridsearch_params):\n",
    "    print(\"CV with subsample={}, colsample={}\".format(\n",
    "                             subsample,\n",
    "                             colsample))\n",
    "    # We update our parameters\n",
    "    params['subsample'] = subsample\n",
    "    params['colsample_bytree'] = colsample\n",
    "    # Run CV\n",
    "    cv_results = xgb.cv(\n",
    "        params,\n",
    "        dtrain,\n",
    "        num_boost_round=num_boost_round,\n",
    "        seed=100,\n",
    "        nfold=5,\n",
    "        metrics={'mae'},\n",
    "        early_stopping_rounds=10\n",
    "    )\n",
    "    # Update best score\n",
    "    mean_mae = cv_results['test-mae-mean'].min()\n",
    "    boost_rounds = cv_results['test-mae-mean'].argmin()\n",
    "    print(\"\\tMAE {} for {} rounds\".format(mean_mae, boost_rounds))\n",
    "    if mean_mae < min_mae:\n",
    "        min_mae = mean_mae\n",
    "        best_params = (subsample,colsample)\n"
   ]
  },
  {
   "cell_type": "code",
   "execution_count": null,
   "metadata": {},
   "outputs": [],
   "source": [
    "print(\"Best params: {}, {}, MAE: {}\".format(best_params[0], best_params[1], min_mae))"
   ]
  },
  {
   "cell_type": "code",
   "execution_count": 118,
   "metadata": {},
   "outputs": [],
   "source": [
    "params['subsample'] = best_params[0]\n",
    "params['colsample_bytree'] = best_params[1]"
   ]
  },
  {
   "cell_type": "code",
   "execution_count": 119,
   "metadata": {},
   "outputs": [
    {
     "name": "stdout",
     "output_type": "stream",
     "text": [
      "Wall time: 0 ns\n",
      "CV with eta=0.3\n",
      "Wall time: 0 ns\n",
      "\tMAE 0.20504380000000003 for 160 rounds\n",
      "\n",
      "CV with eta=0.2\n",
      "Wall time: 0 ns\n",
      "\tMAE 0.198117 for 359 rounds\n",
      "\n",
      "CV with eta=0.1\n",
      "Wall time: 0 ns\n",
      "\tMAE 0.19227979999999997 for 626 rounds\n",
      "\n",
      "CV with eta=0.05\n",
      "Wall time: 0 ns\n",
      "\tMAE 0.18994719999999998 for 998 rounds\n",
      "\n",
      "CV with eta=0.01\n",
      "Wall time: 0 ns\n",
      "\tMAE 0.1956408 for 998 rounds\n",
      "\n",
      "CV with eta=0.005\n",
      "Wall time: 0 ns\n",
      "\tMAE 0.22772920000000002 for 998 rounds\n",
      "\n",
      "Best params: 0.05, MAE: 0.18994719999999998\n"
     ]
    }
   ],
   "source": [
    "%time\n",
    "# This can take some time…\n",
    "min_mae = float(\"Inf\")\n",
    "best_params = None\n",
    "for eta in [.3, .2, .1, .05, .01, .005]:\n",
    "    print(\"CV with eta={}\".format(eta))\n",
    "    # We update our parameters\n",
    "    params['eta'] = eta\n",
    "    # Run and time CV\n",
    "    %time \n",
    "    cv_results = xgb.cv(\n",
    "            params,\n",
    "            dtrain,\n",
    "            num_boost_round=num_boost_round,\n",
    "            seed=100,\n",
    "            nfold=5,\n",
    "            metrics=['mae'],\n",
    "            early_stopping_rounds=10)\n",
    "    # Update best score\n",
    "    mean_mae = cv_results['test-mae-mean'].min()\n",
    "    boost_rounds = cv_results['test-mae-mean'].argmin()\n",
    "    print(\"\\tMAE {} for {} rounds\\n\".format(mean_mae, boost_rounds))\n",
    "    if mean_mae < min_mae:\n",
    "        min_mae = mean_mae\n",
    "        best_params = eta\n"
   ]
  },
  {
   "cell_type": "code",
   "execution_count": null,
   "metadata": {},
   "outputs": [],
   "source": [
    "print(\"Best params: {}, MAE: {}\".format(best_params, min_mae))"
   ]
  },
  {
   "cell_type": "code",
   "execution_count": 120,
   "metadata": {},
   "outputs": [
    {
     "data": {
      "text/plain": [
       "{'max_depth': 9,\n",
       " 'min_child_weight': 3,\n",
       " 'eta': 0.05,\n",
       " 'subsample': 1.0,\n",
       " 'colsample_bytree': 0.8,\n",
       " 'objective': 'reg:squarederror',\n",
       " 'eval_metric': 'mae'}"
      ]
     },
     "execution_count": 120,
     "metadata": {},
     "output_type": "execute_result"
    }
   ],
   "source": [
    "params['eta'] = best_params\n",
    "params"
   ]
  },
  {
   "cell_type": "code",
   "execution_count": null,
   "metadata": {},
   "outputs": [],
   "source": [
    "model = xgb.train(\n",
    "    params,\n",
    "    dtrain,\n",
    "    num_boost_round=num_boost_round,\n",
    "    evals=[(dtest, \"Test\")],\n",
    "    early_stopping_rounds=10\n",
    ")"
   ]
  },
  {
   "cell_type": "code",
   "execution_count": null,
   "metadata": {},
   "outputs": [],
   "source": [
    "num_boost_round = model.best_iteration + 1\n",
    "best_model = xgb.train(\n",
    "    params,\n",
    "    dtrain,\n",
    "    num_boost_round=num_boost_round,\n",
    "    evals=[(dtest, \"Test\")]\n",
    ")"
   ]
  },
  {
   "cell_type": "code",
   "execution_count": 123,
   "metadata": {},
   "outputs": [
    {
     "name": "stdout",
     "output_type": "stream",
     "text": [
      "MAE of Y_train log GB prediction with HP Tuning: 0.0962218670146364\n",
      "MAE of Y_test log GB prediction with HP Tuning: 0.18909769583180996\n"
     ]
    }
   ],
   "source": [
    "bmlog_pred_test = best_model.predict(dtest)\n",
    "bmlog_pred_train = best_model.predict(dtrain)\n",
    "\n",
    "print(\"MAE of Y_train log GB prediction with HP Tuning:\",mean_absolute_error(log_y_train, bmlog_pred_train))\n",
    "print(\"MAE of Y_test log GB prediction with HP Tuning:\",mean_absolute_error(log_y_test, bmlog_pred_test))"
   ]
  },
  {
   "cell_type": "code",
   "execution_count": 124,
   "metadata": {},
   "outputs": [
    {
     "name": "stdout",
     "output_type": "stream",
     "text": [
      "The following Metrics are after Hyper-Parameter Tuning\n",
      "R2  0.7229631108758336\n",
      "\u001b[1mMAE  191770.8591292177\u001b[0m\n",
      "MSE  225980317399.05078\n",
      "RMSE  437.91649789568066\n",
      "MAPE  0.216080021395455\n",
      "MAE of Y_train GB prediction with HP Tuning: 155064.09292400978\n",
      "MAE of Y_test GB prediction with HP Tuning: 220371.97907164492\n",
      "MAE of Y_train GB prediction with HP Tuning: 89318.758322242\n",
      "MAE of Y_test GB prediction with HP Tuning: 191770.8591292177\n"
     ]
    }
   ],
   "source": [
    "bm_pred_test = np.exp(bmlog_pred_test)\n",
    "bm_pred_train = np.exp(bmlog_pred_train)\n",
    "\n",
    "# Turning our prediction back to base numbers on which we did log\n",
    "# Turning our prediction back to base numbers on which we did log\n",
    "print('The following Metrics are after Hyper-Parameter Tuning')\n",
    "print('R2 ',r2(y_test, bm_pred_test))\n",
    "print(style.BOLD + 'MAE ', str(mae(y_test, bm_pred_test)) + style.END)\n",
    "print('MSE ',mse(y_test, bm_pred_test))\n",
    "print('RMSE ',np.sqrt(mae(y_test, bm_pred_test)))\n",
    "print('MAPE ',mape(y_test, bm_pred_test))\n",
    "\n",
    "print(\"MAE of Y_train GB prediction with HP Tuning:\",mean_absolute_error(y_train, gb_train))\n",
    "print(\"MAE of Y_test GB prediction with HP Tuning:\",mean_absolute_error(y_test, gb_pred))\n",
    "print(\"MAE of Y_train GB prediction with HP Tuning:\",mean_absolute_error(y_train, bm_pred_train))\n",
    "print(\"MAE of Y_test GB prediction with HP Tuning:\",mean_absolute_error(y_test, bm_pred_test))\n"
   ]
  },
  {
   "cell_type": "markdown",
   "metadata": {},
   "source": [
    "## 4.9 Best Model<a id='4.9_Best_Model'></a>"
   ]
  },
  {
   "cell_type": "code",
   "execution_count": 125,
   "metadata": {},
   "outputs": [],
   "source": [
    "best_model.save_model(\"xgb_model.model\")"
   ]
  },
  {
   "cell_type": "markdown",
   "metadata": {},
   "source": [
    "#### Our best model was achieved with utilizing a gradient boosting algorithm specifically we used XGBoost and we further fined tuned our hyper-parameters for our xgboost model, where we found that the following were the best parameters which lowered our prefer metric of MAE \n",
    "    - max_depth: 9\n",
    "    -min_child_weight: 3\n",
    "    -eta: 0.05\n",
    "    -subsample: 1.0\n",
    "    -colsample_bytree: 0.8\n"
   ]
  },
  {
   "cell_type": "markdown",
   "metadata": {},
   "source": [
    "## 4.10 Summary<a id='4.10_Summary'></a>"
   ]
  },
  {
   "cell_type": "markdown",
   "metadata": {},
   "source": [
    "#### We started with our training and testing data from our previous notebook(*this is from a experimental notebook where the imputation was done via gradientboosting implementation of MICE and not from notebook 4 that notebook is Preprocessing and Modeling in REDO folder) and evaluated mutiple models to test which would give the best results. \n",
    "\n",
    "#### With modern algorithms such as gradient boosting we know it  would yield the best results but tried linear regression, nearest neighbor regression as well as randomforest regression while they were all outdone by gradient boosting, kNN and randomforest were not so far off. After I selected the best model being XGBoost's gradient boosting, I did further hyper-parameter tuning to squeeze a little more reduction in MAE our preffered choice of metric evaluation. This yield greater results and reduced our MAE from 220371 to 191770"
   ]
  }
 ],
 "metadata": {
  "kernelspec": {
   "display_name": "Python 3 (ipykernel)",
   "language": "python",
   "name": "python3"
  },
  "language_info": {
   "codemirror_mode": {
    "name": "ipython",
    "version": 3
   },
   "file_extension": ".py",
   "mimetype": "text/x-python",
   "name": "python",
   "nbconvert_exporter": "python",
   "pygments_lexer": "ipython3",
   "version": "3.8.12"
  }
 },
 "nbformat": 4,
 "nbformat_minor": 4
}
