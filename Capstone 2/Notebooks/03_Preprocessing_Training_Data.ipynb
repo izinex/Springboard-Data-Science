{
 "cells": [
  {
   "cell_type": "markdown",
   "metadata": {},
   "source": [
    "# 3 Preprocessing and Training Data"
   ]
  },
  {
   "cell_type": "markdown",
   "metadata": {},
   "source": [
    "## 3.1 Contents<a id='3.1_Contents'></a>\n",
    "* [3 Exploratory Data Analysis](#3_Exploratory_Data_Analysis)\n",
    "  * [3.1 Contents](#3.1_Contents)\n",
    "  * [3.2 Introduction](#3.2_Introduction)\n",
    "      * [3.2.1 Objective](#3.2.1_Objective)\n",
    "  * [3.3 Imports](#3.3_Imports)\n",
    "  * [3.4 Load The Data](#3.4_Load_The_Data)\n",
    "    * [3.4.1 Explore The Data](#3.4.1_Explore_The_Data)\n",
    "  * [3.5.1 Distributions](#3.5.1_Distributions)\n",
    "      * [3.5.1.1 Variable Relationship](#3.5.1.1_Variable_Relationship)\n",
    "      * [3.5.1.2 Scatterplots of features against price](#3.5.1.3_Scatterplots_of_features_against_price)\n",
    "      * [3.5.1.3 Feature correlation heatmap](#3.5.1.3_Feature_correlation_heatmap)\n",
    "      * [3.5.1.4 Borough Distribution](#3.5.1.3_Borough_Distribution)    \n",
    "      * [3.5.1.3 Neighborhood Average Price and Standard Deviation](#3.5.1.3_Neighborhood_Barplots)\n",
    "  * [3.6 Visualization of Houses on Maps](#3.6_Bokeh_visualization)\n",
    "  * [3.7 Summary](#3.7_Summary)\n"
   ]
  },
  {
   "cell_type": "markdown",
   "metadata": {},
   "source": [
    "## 3.2 Introduction<a id='3.2_Introduction'></a>"
   ]
  },
  {
   "cell_type": "markdown",
   "metadata": {},
   "source": [
    "##### With completion of Data Wrangling and Exploration of our dataset we now start processing and gathering training data. Our clients Capital Fortune asked us to find the best housing models/types that would yield the highest return on investment.  Our target feature is price in our final dataframe, which will be predicting for house prices which we will later analysis upon which houses yield the highest returns on investment for Capital Fortune. "
   ]
  },
  {
   "cell_type": "markdown",
   "metadata": {},
   "source": [
    "### 3.2.1 Objective<a id='3.2.1_Objective'></a>"
   ]
  },
  {
   "cell_type": "markdown",
   "metadata": {},
   "source": [
    "##### We want to make sure our data is as digestible as possible so we may implement machine learning algorithms to best estimate house prices, and which features leads to increased price on an house. We will start via analysis which features need to be re-evaluated and make proper adjustments so we may implement our algorithms with ease. For instances for catagorical variables we will need to utilize dummy variables so it can be inputed into our algorithm and etc. The main goal is to make our final dataset be able easily integratable into machine learning algorithms."
   ]
  },
  {
   "cell_type": "markdown",
   "metadata": {},
   "source": [
    "## 3.3 Imports<a id='3.3_Imports'></a>"
   ]
  },
  {
   "cell_type": "code",
   "execution_count": 1,
   "metadata": {},
   "outputs": [],
   "source": [
    "import pandas as pd\n",
    "import numpy as np\n",
    "import os\n",
    "import matplotlib.pyplot as plt\n",
    "import seaborn as sns\n",
    "import scipy.stats as stats\n",
    "import matplotlib.ticker as tick\n",
    "import sklearn.model_selection\n",
    "\n",
    "import featuretools as ft\n",
    "from sklearn import neighbors, datasets, preprocessing\n",
    "from sklearn.decomposition import PCA\n",
    "from sklearn.metrics import accuracy_score\n",
    "from sklearn.preprocessing import StandardScaler\n",
    "from sklearn.preprocessing import Normalizer\n",
    "from sklearn.metrics import accuracy_score\n",
    "from sklearn.metrics import classification_report\n",
    "from sklearn.metrics import r2_score\n",
    "from sklearn.metrics import mean_absolute_error\n",
    "from sklearn.metrics import mean_squared_error\n",
    "from sklearn.pipeline import make_pipeline\n",
    "from sklearn.impute import SimpleImputer\n",
    "from sklearn.feature_selection import SelectKBest, f_regression\n",
    "from sklearn.model_selection import train_test_split, cross_validate, GridSearchCV, learning_curve"
   ]
  },
  {
   "cell_type": "markdown",
   "metadata": {},
   "source": [
    "## 3.4 Load The Data<a id='3.4_Load_The_Data'></a>"
   ]
  },
  {
   "cell_type": "code",
   "execution_count": 2,
   "metadata": {},
   "outputs": [],
   "source": [
    "df = pd.read_csv('../Data/final_nyc_df.csv')"
   ]
  },
  {
   "cell_type": "markdown",
   "metadata": {},
   "source": [
    "### 3.4.1 Explore the data<a id='3.4.1_Explore_The_Data'></a>"
   ]
  },
  {
   "cell_type": "code",
   "execution_count": 3,
   "metadata": {},
   "outputs": [
    {
     "name": "stdout",
     "output_type": "stream",
     "text": [
      "(59262, 27)\n",
      "           ZipCode      latitude     longitude         price  propertyTaxRate  \\\n",
      "count  59255.00000  59262.000000  59262.000000  5.926200e+04     59250.000000   \n",
      "mean   10913.02977     40.696298    -73.926901  1.083250e+06         0.823852   \n",
      "std      514.46863      0.094100      0.132106  2.347253e+06         0.098343   \n",
      "min      148.00000     40.498634    -74.253983  1.000000e+05         0.650000   \n",
      "25%    10314.00000     40.618461    -73.996172  5.100000e+05         0.840000   \n",
      "50%    11210.00000     40.694778    -73.904606  7.000000e+05         0.840000   \n",
      "75%    11367.00000     40.756160    -73.829042  9.900000e+05         0.870000   \n",
      "max    13277.00000     40.912682    -73.700432  9.272502e+07         2.370000   \n",
      "\n",
      "         Annual_Tax  Tax_Assessed_Value  Lot_Size(SqFT)    $_Per_SqFT  \\\n",
      "count  5.060600e+04        4.881500e+04    4.998600e+04  4.998600e+04   \n",
      "mean   2.121627e+04        1.277692e+06    7.484192e+04  4.571731e+05   \n",
      "std    1.812653e+05        9.550726e+06    3.525331e+06  2.891510e+06   \n",
      "min    0.000000e+00        1.000000e+00    1.000000e-02  0.000000e+00   \n",
      "25%    4.407000e+03        5.030000e+05    2.000000e+03  1.700900e+02   \n",
      "50%    5.831000e+03        6.490000e+05    2.575000e+03  2.576400e+02   \n",
      "75%    7.732000e+03        9.300000e+05    3.998000e+03  4.204800e+02   \n",
      "max    1.458491e+07        1.680558e+09    4.541130e+08  9.500000e+07   \n",
      "\n",
      "       LivingArea_Space(SqFT)     YearBuilt      Bedrooms  Total_Bathrooms  \\\n",
      "count            52073.000000  55387.000000  59262.000000     59262.000000   \n",
      "mean              3576.226317   1945.906494      3.960751         2.743996   \n",
      "std              19576.443952     59.282747      6.526384         5.721718   \n",
      "min                  1.000000      0.000000      1.000000         0.500000   \n",
      "25%               1304.000000   1923.000000      3.000000         2.000000   \n",
      "50%               1824.000000   1940.000000      4.000000         3.000000   \n",
      "75%               2560.000000   1965.000000      5.000000         3.000000   \n",
      "max             986641.000000   4073.000000   1502.000000      1346.000000   \n",
      "\n",
      "       Full_Bathrooms  Half_Bathrooms  Story_Building  \n",
      "count    45281.000000    45343.000000    59262.000000  \n",
      "mean         1.962302        0.475244        2.017313  \n",
      "std          1.535149        6.370499        2.471840  \n",
      "min          0.000000        0.000000        1.000000  \n",
      "25%          1.000000        0.000000        1.000000  \n",
      "50%          2.000000        0.000000        2.000000  \n",
      "75%          3.000000        1.000000        2.000000  \n",
      "max         70.000000     1344.000000      112.000000  \n",
      "City                       object\n",
      "Borough                    object\n",
      "Neighborhood               object\n",
      "StreetAddress              object\n",
      "ZipCode                   float64\n",
      "latitude                  float64\n",
      "longitude                 float64\n",
      "price                     float64\n",
      "propertyTaxRate           float64\n",
      "Annual_Tax                float64\n",
      "Tax_Assessed_Value        float64\n",
      "Lot_Size(SqFT)            float64\n",
      "$_Per_SqFT                float64\n",
      "LivingArea_Space(SqFT)    float64\n",
      "HomeType                   object\n",
      "YearBuilt                 float64\n",
      "Bedrooms                  float64\n",
      "Total_Bathrooms           float64\n",
      "Full_Bathrooms            float64\n",
      "Half_Bathrooms            float64\n",
      "ParkingType                object\n",
      "Basement                     bool\n",
      "Cooling_Available            bool\n",
      "Fireplace_Available          bool\n",
      "Heating_Available            bool\n",
      "Spa_Available                bool\n",
      "Story_Building            float64\n",
      "dtype: object\n"
     ]
    }
   ],
   "source": [
    "print(df.shape)\n",
    "print(df.describe())\n",
    "print(df.dtypes)"
   ]
  },
  {
   "cell_type": "markdown",
   "metadata": {},
   "source": [
    "##### We want to make sure our data-types are compatible so we should try to change all catagorical variables to either numeric representation or dummy variables\n",
    "\n",
    "##### Lets start by working on Variables that are true and false by making them either 0 or 1 0 if false and 1 if true."
   ]
  },
  {
   "cell_type": "code",
   "execution_count": 4,
   "metadata": {},
   "outputs": [],
   "source": [
    "df.Basement = pd.get_dummies(df.Basement, drop_first=True).values\n",
    "df.Cooling_Available = pd.get_dummies(df.Cooling_Available, drop_first=True).values\n",
    "df.Fireplace_Available = pd.get_dummies(df.Fireplace_Available, drop_first=True).values\n",
    "df.Heating_Available = pd.get_dummies(df.Heating_Available, drop_first=True).values\n",
    "df.Spa_Available = pd.get_dummies(df.Spa_Available, drop_first=True).values"
   ]
  },
  {
   "cell_type": "markdown",
   "metadata": {},
   "source": [
    "### 3.4.2 Fixing Categorical Data<a id='3.4.2_Fixing_Data'></a>"
   ]
  },
  {
   "cell_type": "markdown",
   "metadata": {},
   "source": [
    "##### The zipcode only has 7 missing values I think it would appropriate to just fill in those missing values based on their address and location"
   ]
  },
  {
   "cell_type": "code",
   "execution_count": 5,
   "metadata": {},
   "outputs": [
    {
     "data": {
      "text/html": [
       "<div>\n",
       "<style scoped>\n",
       "    .dataframe tbody tr th:only-of-type {\n",
       "        vertical-align: middle;\n",
       "    }\n",
       "\n",
       "    .dataframe tbody tr th {\n",
       "        vertical-align: top;\n",
       "    }\n",
       "\n",
       "    .dataframe thead th {\n",
       "        text-align: right;\n",
       "    }\n",
       "</style>\n",
       "<table border=\"1\" class=\"dataframe\">\n",
       "  <thead>\n",
       "    <tr style=\"text-align: right;\">\n",
       "      <th></th>\n",
       "      <th>City</th>\n",
       "      <th>Borough</th>\n",
       "      <th>Neighborhood</th>\n",
       "      <th>StreetAddress</th>\n",
       "      <th>ZipCode</th>\n",
       "      <th>latitude</th>\n",
       "      <th>longitude</th>\n",
       "      <th>price</th>\n",
       "      <th>propertyTaxRate</th>\n",
       "      <th>Annual_Tax</th>\n",
       "      <th>...</th>\n",
       "      <th>Total_Bathrooms</th>\n",
       "      <th>Full_Bathrooms</th>\n",
       "      <th>Half_Bathrooms</th>\n",
       "      <th>ParkingType</th>\n",
       "      <th>Basement</th>\n",
       "      <th>Cooling_Available</th>\n",
       "      <th>Fireplace_Available</th>\n",
       "      <th>Heating_Available</th>\n",
       "      <th>Spa_Available</th>\n",
       "      <th>Story_Building</th>\n",
       "    </tr>\n",
       "  </thead>\n",
       "  <tbody>\n",
       "    <tr>\n",
       "      <th>1128</th>\n",
       "      <td>Bronx</td>\n",
       "      <td>Bronx</td>\n",
       "      <td>University Heights</td>\n",
       "      <td>W Fordham Rd</td>\n",
       "      <td>NaN</td>\n",
       "      <td>40.861465</td>\n",
       "      <td>-73.914680</td>\n",
       "      <td>31550000.0</td>\n",
       "      <td>0.95</td>\n",
       "      <td>97169.0</td>\n",
       "      <td>...</td>\n",
       "      <td>5.0</td>\n",
       "      <td>NaN</td>\n",
       "      <td>NaN</td>\n",
       "      <td>0 spaces</td>\n",
       "      <td>0</td>\n",
       "      <td>0</td>\n",
       "      <td>0</td>\n",
       "      <td>0</td>\n",
       "      <td>0</td>\n",
       "      <td>1.0</td>\n",
       "    </tr>\n",
       "    <tr>\n",
       "      <th>4725</th>\n",
       "      <td>Bronx</td>\n",
       "      <td>Bronx</td>\n",
       "      <td>Fordham Manor</td>\n",
       "      <td>Bailey Ave</td>\n",
       "      <td>NaN</td>\n",
       "      <td>40.866638</td>\n",
       "      <td>-73.908234</td>\n",
       "      <td>2775000.0</td>\n",
       "      <td>0.95</td>\n",
       "      <td>46.0</td>\n",
       "      <td>...</td>\n",
       "      <td>3.0</td>\n",
       "      <td>NaN</td>\n",
       "      <td>NaN</td>\n",
       "      <td>0 spaces</td>\n",
       "      <td>0</td>\n",
       "      <td>0</td>\n",
       "      <td>0</td>\n",
       "      <td>0</td>\n",
       "      <td>0</td>\n",
       "      <td>1.0</td>\n",
       "    </tr>\n",
       "    <tr>\n",
       "      <th>8927</th>\n",
       "      <td>Queens</td>\n",
       "      <td>Queens</td>\n",
       "      <td>Long Island City</td>\n",
       "      <td>50-02 Midtown Tun Plz</td>\n",
       "      <td>NaN</td>\n",
       "      <td>40.741753</td>\n",
       "      <td>-73.947235</td>\n",
       "      <td>1500000.0</td>\n",
       "      <td>0.84</td>\n",
       "      <td>64094.0</td>\n",
       "      <td>...</td>\n",
       "      <td>3.0</td>\n",
       "      <td>NaN</td>\n",
       "      <td>NaN</td>\n",
       "      <td>0 spaces</td>\n",
       "      <td>0</td>\n",
       "      <td>0</td>\n",
       "      <td>0</td>\n",
       "      <td>0</td>\n",
       "      <td>0</td>\n",
       "      <td>1.0</td>\n",
       "    </tr>\n",
       "    <tr>\n",
       "      <th>21171</th>\n",
       "      <td>Staten island</td>\n",
       "      <td>Staten Island</td>\n",
       "      <td>Castleton Corners</td>\n",
       "      <td>N Gannon Ave</td>\n",
       "      <td>NaN</td>\n",
       "      <td>40.609570</td>\n",
       "      <td>-74.125153</td>\n",
       "      <td>500000.0</td>\n",
       "      <td>0.87</td>\n",
       "      <td>2282.0</td>\n",
       "      <td>...</td>\n",
       "      <td>3.0</td>\n",
       "      <td>NaN</td>\n",
       "      <td>NaN</td>\n",
       "      <td>0 spaces</td>\n",
       "      <td>0</td>\n",
       "      <td>0</td>\n",
       "      <td>0</td>\n",
       "      <td>0</td>\n",
       "      <td>0</td>\n",
       "      <td>1.0</td>\n",
       "    </tr>\n",
       "    <tr>\n",
       "      <th>25046</th>\n",
       "      <td>Staten island</td>\n",
       "      <td>Staten Island</td>\n",
       "      <td>Charleston</td>\n",
       "      <td>Englewood Ave</td>\n",
       "      <td>NaN</td>\n",
       "      <td>40.531796</td>\n",
       "      <td>-74.220421</td>\n",
       "      <td>130000.0</td>\n",
       "      <td>0.87</td>\n",
       "      <td>2418.0</td>\n",
       "      <td>...</td>\n",
       "      <td>2.0</td>\n",
       "      <td>NaN</td>\n",
       "      <td>NaN</td>\n",
       "      <td>0 spaces</td>\n",
       "      <td>0</td>\n",
       "      <td>0</td>\n",
       "      <td>0</td>\n",
       "      <td>0</td>\n",
       "      <td>0</td>\n",
       "      <td>1.0</td>\n",
       "    </tr>\n",
       "    <tr>\n",
       "      <th>28989</th>\n",
       "      <td>Rochester</td>\n",
       "      <td>Queens</td>\n",
       "      <td>Jamaica</td>\n",
       "      <td>Cedar Dr</td>\n",
       "      <td>NaN</td>\n",
       "      <td>40.698139</td>\n",
       "      <td>-73.832207</td>\n",
       "      <td>115000.0</td>\n",
       "      <td>2.37</td>\n",
       "      <td>NaN</td>\n",
       "      <td>...</td>\n",
       "      <td>2.0</td>\n",
       "      <td>NaN</td>\n",
       "      <td>NaN</td>\n",
       "      <td>0 spaces</td>\n",
       "      <td>0</td>\n",
       "      <td>0</td>\n",
       "      <td>0</td>\n",
       "      <td>0</td>\n",
       "      <td>0</td>\n",
       "      <td>1.0</td>\n",
       "    </tr>\n",
       "    <tr>\n",
       "      <th>34045</th>\n",
       "      <td>Brooklyn</td>\n",
       "      <td>Brooklyn</td>\n",
       "      <td>Brighton Beach</td>\n",
       "      <td>24 Brighton 3 Ln</td>\n",
       "      <td>NaN</td>\n",
       "      <td>40.579765</td>\n",
       "      <td>-73.964851</td>\n",
       "      <td>549000.0</td>\n",
       "      <td>0.65</td>\n",
       "      <td>2500.0</td>\n",
       "      <td>...</td>\n",
       "      <td>1.0</td>\n",
       "      <td>1.0</td>\n",
       "      <td>0.0</td>\n",
       "      <td>None</td>\n",
       "      <td>0</td>\n",
       "      <td>0</td>\n",
       "      <td>0</td>\n",
       "      <td>1</td>\n",
       "      <td>0</td>\n",
       "      <td>1.0</td>\n",
       "    </tr>\n",
       "  </tbody>\n",
       "</table>\n",
       "<p>7 rows × 27 columns</p>\n",
       "</div>"
      ],
      "text/plain": [
       "                City        Borough        Neighborhood  \\\n",
       "1128           Bronx          Bronx  University Heights   \n",
       "4725           Bronx          Bronx       Fordham Manor   \n",
       "8927          Queens         Queens    Long Island City   \n",
       "21171  Staten island  Staten Island   Castleton Corners   \n",
       "25046  Staten island  Staten Island          Charleston   \n",
       "28989      Rochester         Queens             Jamaica   \n",
       "34045       Brooklyn       Brooklyn      Brighton Beach   \n",
       "\n",
       "               StreetAddress  ZipCode   latitude  longitude       price  \\\n",
       "1128            W Fordham Rd      NaN  40.861465 -73.914680  31550000.0   \n",
       "4725              Bailey Ave      NaN  40.866638 -73.908234   2775000.0   \n",
       "8927   50-02 Midtown Tun Plz      NaN  40.741753 -73.947235   1500000.0   \n",
       "21171           N Gannon Ave      NaN  40.609570 -74.125153    500000.0   \n",
       "25046          Englewood Ave      NaN  40.531796 -74.220421    130000.0   \n",
       "28989               Cedar Dr      NaN  40.698139 -73.832207    115000.0   \n",
       "34045       24 Brighton 3 Ln      NaN  40.579765 -73.964851    549000.0   \n",
       "\n",
       "       propertyTaxRate  Annual_Tax  ...  Total_Bathrooms  Full_Bathrooms  \\\n",
       "1128              0.95     97169.0  ...              5.0             NaN   \n",
       "4725              0.95        46.0  ...              3.0             NaN   \n",
       "8927              0.84     64094.0  ...              3.0             NaN   \n",
       "21171             0.87      2282.0  ...              3.0             NaN   \n",
       "25046             0.87      2418.0  ...              2.0             NaN   \n",
       "28989             2.37         NaN  ...              2.0             NaN   \n",
       "34045             0.65      2500.0  ...              1.0             1.0   \n",
       "\n",
       "       Half_Bathrooms  ParkingType Basement  Cooling_Available  \\\n",
       "1128              NaN     0 spaces        0                  0   \n",
       "4725              NaN     0 spaces        0                  0   \n",
       "8927              NaN     0 spaces        0                  0   \n",
       "21171             NaN     0 spaces        0                  0   \n",
       "25046             NaN     0 spaces        0                  0   \n",
       "28989             NaN     0 spaces        0                  0   \n",
       "34045             0.0         None        0                  0   \n",
       "\n",
       "       Fireplace_Available  Heating_Available  Spa_Available  Story_Building  \n",
       "1128                     0                  0              0             1.0  \n",
       "4725                     0                  0              0             1.0  \n",
       "8927                     0                  0              0             1.0  \n",
       "21171                    0                  0              0             1.0  \n",
       "25046                    0                  0              0             1.0  \n",
       "28989                    0                  0              0             1.0  \n",
       "34045                    0                  1              0             1.0  \n",
       "\n",
       "[7 rows x 27 columns]"
      ]
     },
     "execution_count": 5,
     "metadata": {},
     "output_type": "execute_result"
    }
   ],
   "source": [
    "df[df.ZipCode.isnull()]"
   ]
  },
  {
   "cell_type": "code",
   "execution_count": 6,
   "metadata": {},
   "outputs": [],
   "source": [
    "df.ZipCode.iloc[1128] = 10468\n",
    "df.ZipCode.iloc[4725] = 10463\n",
    "df.ZipCode.iloc[8927] = 11101\n",
    "df.ZipCode.iloc[21171] = 10314\n",
    "df.ZipCode.iloc[25046] = 10309\n",
    "df.ZipCode.iloc[28989] = 11411\n",
    "df.ZipCode.iloc[34045] = 11235"
   ]
  },
  {
   "cell_type": "markdown",
   "metadata": {},
   "source": [
    "### We also need to fix categorical data into numerical representation via encoding \n",
    "#### While we can encode street address into different numbers but this would be very large thus I believe it provides no relative information that impact our target variable price thus this will also be dropped"
   ]
  },
  {
   "cell_type": "markdown",
   "metadata": {},
   "source": [
    "#### After much analysis using randomforest most impactful features, as well as variance explained it was evident that feature ParkingType had little to no effect on price and given that it is a categorical data with over 600 different options it is clear that it should be dropped and \"$_Per_SqFT\" as it was a manufactured feature by me "
   ]
  },
  {
   "cell_type": "code",
   "execution_count": 8,
   "metadata": {},
   "outputs": [],
   "source": [
    "df = df.drop(['StreetAddress','ParkingType', '$_Per_SqFT' ], axis=1)"
   ]
  },
  {
   "cell_type": "markdown",
   "metadata": {},
   "source": [
    "##### We will convert HomeType catagorical values using dummy variable encoding with pandas get_dummies function"
   ]
  },
  {
   "cell_type": "code",
   "execution_count": 9,
   "metadata": {},
   "outputs": [],
   "source": [
    "counts = df.HomeType.value_counts()\n",
    "mask = df.HomeType.isin(counts[counts < 130].index)\n",
    "df.HomeType[mask] = 'Other'\n",
    "r_mask = df[df['HomeType'] == 'Residential Income']['HomeType'].index\n",
    "df.HomeType[r_mask] = 'Residential'\n",
    "df.HomeType = (pd.Categorical(df.HomeType))"
   ]
  },
  {
   "cell_type": "code",
   "execution_count": 10,
   "metadata": {},
   "outputs": [],
   "source": [
    "df.HomeType = pd.Categorical(df.HomeType)\n",
    "df.HomeType = df.HomeType.cat.codes"
   ]
  },
  {
   "cell_type": "code",
   "execution_count": 11,
   "metadata": {},
   "outputs": [],
   "source": [
    "df.Borough = pd.Categorical(df.Borough)\n",
    "df.Borough = df.Borough.cat.codes"
   ]
  },
  {
   "cell_type": "code",
   "execution_count": 12,
   "metadata": {},
   "outputs": [],
   "source": [
    "df.City = pd.Categorical(df.City)\n",
    "df.City = df.City.cat.codes"
   ]
  },
  {
   "cell_type": "code",
   "execution_count": 13,
   "metadata": {},
   "outputs": [],
   "source": [
    "df.Neighborhood = pd.Categorical(df.Neighborhood)\n",
    "df.Neighborhood = df.Neighborhood.cat.codes"
   ]
  },
  {
   "cell_type": "code",
   "execution_count": 14,
   "metadata": {},
   "outputs": [
    {
     "data": {
      "text/html": [
       "<div>\n",
       "<style scoped>\n",
       "    .dataframe tbody tr th:only-of-type {\n",
       "        vertical-align: middle;\n",
       "    }\n",
       "\n",
       "    .dataframe tbody tr th {\n",
       "        vertical-align: top;\n",
       "    }\n",
       "\n",
       "    .dataframe thead th {\n",
       "        text-align: right;\n",
       "    }\n",
       "</style>\n",
       "<table border=\"1\" class=\"dataframe\">\n",
       "  <thead>\n",
       "    <tr style=\"text-align: right;\">\n",
       "      <th></th>\n",
       "      <th>count</th>\n",
       "      <th>%</th>\n",
       "    </tr>\n",
       "  </thead>\n",
       "  <tbody>\n",
       "    <tr>\n",
       "      <th>City</th>\n",
       "      <td>0</td>\n",
       "      <td>0.000000</td>\n",
       "    </tr>\n",
       "    <tr>\n",
       "      <th>Borough</th>\n",
       "      <td>0</td>\n",
       "      <td>0.000000</td>\n",
       "    </tr>\n",
       "    <tr>\n",
       "      <th>Neighborhood</th>\n",
       "      <td>0</td>\n",
       "      <td>0.000000</td>\n",
       "    </tr>\n",
       "    <tr>\n",
       "      <th>ZipCode</th>\n",
       "      <td>0</td>\n",
       "      <td>0.000000</td>\n",
       "    </tr>\n",
       "    <tr>\n",
       "      <th>latitude</th>\n",
       "      <td>0</td>\n",
       "      <td>0.000000</td>\n",
       "    </tr>\n",
       "    <tr>\n",
       "      <th>longitude</th>\n",
       "      <td>0</td>\n",
       "      <td>0.000000</td>\n",
       "    </tr>\n",
       "    <tr>\n",
       "      <th>price</th>\n",
       "      <td>0</td>\n",
       "      <td>0.000000</td>\n",
       "    </tr>\n",
       "    <tr>\n",
       "      <th>HomeType</th>\n",
       "      <td>0</td>\n",
       "      <td>0.000000</td>\n",
       "    </tr>\n",
       "    <tr>\n",
       "      <th>Bedrooms</th>\n",
       "      <td>0</td>\n",
       "      <td>0.000000</td>\n",
       "    </tr>\n",
       "    <tr>\n",
       "      <th>Total_Bathrooms</th>\n",
       "      <td>0</td>\n",
       "      <td>0.000000</td>\n",
       "    </tr>\n",
       "    <tr>\n",
       "      <th>Basement</th>\n",
       "      <td>0</td>\n",
       "      <td>0.000000</td>\n",
       "    </tr>\n",
       "    <tr>\n",
       "      <th>Cooling_Available</th>\n",
       "      <td>0</td>\n",
       "      <td>0.000000</td>\n",
       "    </tr>\n",
       "    <tr>\n",
       "      <th>Fireplace_Available</th>\n",
       "      <td>0</td>\n",
       "      <td>0.000000</td>\n",
       "    </tr>\n",
       "    <tr>\n",
       "      <th>Heating_Available</th>\n",
       "      <td>0</td>\n",
       "      <td>0.000000</td>\n",
       "    </tr>\n",
       "    <tr>\n",
       "      <th>Spa_Available</th>\n",
       "      <td>0</td>\n",
       "      <td>0.000000</td>\n",
       "    </tr>\n",
       "    <tr>\n",
       "      <th>Story_Building</th>\n",
       "      <td>0</td>\n",
       "      <td>0.000000</td>\n",
       "    </tr>\n",
       "    <tr>\n",
       "      <th>propertyTaxRate</th>\n",
       "      <td>12</td>\n",
       "      <td>0.020249</td>\n",
       "    </tr>\n",
       "    <tr>\n",
       "      <th>YearBuilt</th>\n",
       "      <td>3875</td>\n",
       "      <td>6.538760</td>\n",
       "    </tr>\n",
       "    <tr>\n",
       "      <th>LivingArea_Space(SqFT)</th>\n",
       "      <td>7189</td>\n",
       "      <td>12.130876</td>\n",
       "    </tr>\n",
       "    <tr>\n",
       "      <th>Annual_Tax</th>\n",
       "      <td>8656</td>\n",
       "      <td>14.606324</td>\n",
       "    </tr>\n",
       "    <tr>\n",
       "      <th>Lot_Size(SqFT)</th>\n",
       "      <td>9276</td>\n",
       "      <td>15.652526</td>\n",
       "    </tr>\n",
       "    <tr>\n",
       "      <th>Tax_Assessed_Value</th>\n",
       "      <td>10447</td>\n",
       "      <td>17.628497</td>\n",
       "    </tr>\n",
       "    <tr>\n",
       "      <th>Half_Bathrooms</th>\n",
       "      <td>13919</td>\n",
       "      <td>23.487226</td>\n",
       "    </tr>\n",
       "    <tr>\n",
       "      <th>Full_Bathrooms</th>\n",
       "      <td>13981</td>\n",
       "      <td>23.591846</td>\n",
       "    </tr>\n",
       "  </tbody>\n",
       "</table>\n",
       "</div>"
      ],
      "text/plain": [
       "                        count          %\n",
       "City                        0   0.000000\n",
       "Borough                     0   0.000000\n",
       "Neighborhood                0   0.000000\n",
       "ZipCode                     0   0.000000\n",
       "latitude                    0   0.000000\n",
       "longitude                   0   0.000000\n",
       "price                       0   0.000000\n",
       "HomeType                    0   0.000000\n",
       "Bedrooms                    0   0.000000\n",
       "Total_Bathrooms             0   0.000000\n",
       "Basement                    0   0.000000\n",
       "Cooling_Available           0   0.000000\n",
       "Fireplace_Available         0   0.000000\n",
       "Heating_Available           0   0.000000\n",
       "Spa_Available               0   0.000000\n",
       "Story_Building              0   0.000000\n",
       "propertyTaxRate            12   0.020249\n",
       "YearBuilt                3875   6.538760\n",
       "LivingArea_Space(SqFT)   7189  12.130876\n",
       "Annual_Tax               8656  14.606324\n",
       "Lot_Size(SqFT)           9276  15.652526\n",
       "Tax_Assessed_Value      10447  17.628497\n",
       "Half_Bathrooms          13919  23.487226\n",
       "Full_Bathrooms          13981  23.591846"
      ]
     },
     "execution_count": 14,
     "metadata": {},
     "output_type": "execute_result"
    }
   ],
   "source": [
    "missing = pd.concat([df.isnull().sum(), 100 * df.isnull().mean()], axis=1)\n",
    "missing.columns=['count', '%']\n",
    "missing.sort_values(by=['count', '%'])"
   ]
  },
  {
   "cell_type": "markdown",
   "metadata": {},
   "source": [
    "## 3.5 Train/Test_Split<a id='3.5_Train/Test_Split'></a>"
   ]
  },
  {
   "cell_type": "code",
   "execution_count": 15,
   "metadata": {},
   "outputs": [],
   "source": [
    "X = df.drop([ 'price'] ,axis=1)\n",
    "y = df.price"
   ]
  },
  {
   "cell_type": "code",
   "execution_count": 16,
   "metadata": {},
   "outputs": [],
   "source": [
    "from sklearn.model_selection import train_test_split\n",
    "\n",
    "X_train, X_test, y_train, y_test = train_test_split(X, y, test_size=.3, random_state=100)"
   ]
  },
  {
   "cell_type": "code",
   "execution_count": 17,
   "metadata": {},
   "outputs": [
    {
     "name": "stdout",
     "output_type": "stream",
     "text": [
      "(41483, 23) (17779, 23)\n",
      "(41483,) (17779,)\n"
     ]
    }
   ],
   "source": [
    "print(X_train.shape, X_test.shape)\n",
    "print(y_train.shape, y_test.shape)"
   ]
  },
  {
   "cell_type": "code",
   "execution_count": 18,
   "metadata": {},
   "outputs": [
    {
     "data": {
      "text/plain": [
       "City                        int16\n",
       "Borough                      int8\n",
       "Neighborhood                int16\n",
       "ZipCode                   float64\n",
       "latitude                  float64\n",
       "longitude                 float64\n",
       "propertyTaxRate           float64\n",
       "Annual_Tax                float64\n",
       "Tax_Assessed_Value        float64\n",
       "Lot_Size(SqFT)            float64\n",
       "LivingArea_Space(SqFT)    float64\n",
       "HomeType                     int8\n",
       "YearBuilt                 float64\n",
       "Bedrooms                  float64\n",
       "Total_Bathrooms           float64\n",
       "Full_Bathrooms            float64\n",
       "Half_Bathrooms            float64\n",
       "Basement                    uint8\n",
       "Cooling_Available           uint8\n",
       "Fireplace_Available         uint8\n",
       "Heating_Available           uint8\n",
       "Spa_Available               uint8\n",
       "Story_Building            float64\n",
       "dtype: object"
      ]
     },
     "execution_count": 18,
     "metadata": {},
     "output_type": "execute_result"
    }
   ],
   "source": [
    "X_train.dtypes"
   ]
  },
  {
   "cell_type": "markdown",
   "metadata": {},
   "source": [
    "## 3.6 Initial Average Model<a id='3.6_Average_Model'></a>"
   ]
  },
  {
   "cell_type": "markdown",
   "metadata": {},
   "source": [
    "#### Let's start by seeing what an average guess would yield for some performance comparison"
   ]
  },
  {
   "cell_type": "code",
   "execution_count": 19,
   "metadata": {},
   "outputs": [],
   "source": [
    "train_mean = y_train.mean()"
   ]
  },
  {
   "cell_type": "code",
   "execution_count": 20,
   "metadata": {},
   "outputs": [
    {
     "name": "stdout",
     "output_type": "stream",
     "text": [
      "[[1082213.05079189]]\n"
     ]
    }
   ],
   "source": [
    "from sklearn.dummy import DummyRegressor\n",
    "\n",
    "dummy_reg = DummyRegressor(strategy='mean')\n",
    "dummy_reg.fit(X_train, y_train)\n",
    "print(dummy_reg.constant_)"
   ]
  },
  {
   "cell_type": "markdown",
   "metadata": {},
   "source": [
    "## 3.7 Metrics<a id='3.7_Metrics'></a>"
   ]
  },
  {
   "cell_type": "markdown",
   "metadata": {},
   "source": [
    "#### R-squared will be one of our metrics used to evaluate performance"
   ]
  },
  {
   "cell_type": "code",
   "execution_count": 21,
   "metadata": {},
   "outputs": [
    {
     "data": {
      "text/plain": [
       "-2.3654448335630462e-06"
      ]
     },
     "execution_count": 21,
     "metadata": {},
     "output_type": "execute_result"
    }
   ],
   "source": [
    "y_pred_mean = train_mean * np.ones(len(y_test))\n",
    "\n",
    "r2_score(y_test, y_pred_mean)\n",
    "\n",
    "#### Well that is bad  "
   ]
  },
  {
   "cell_type": "code",
   "execution_count": 22,
   "metadata": {},
   "outputs": [
    {
     "name": "stdout",
     "output_type": "stream",
     "text": [
      "730189.8869014217\n"
     ]
    }
   ],
   "source": [
    "print(mean_absolute_error(y_test, y_pred_mean))\n",
    "# Meaning there is on average a difference of 730k in actual price to predicted price which is pretty bad"
   ]
  },
  {
   "cell_type": "markdown",
   "metadata": {},
   "source": [
    "## 3.8 Imputations<a id='3.8_Imputations'></a>"
   ]
  },
  {
   "cell_type": "markdown",
   "metadata": {},
   "source": [
    "##### We will impute the property taxrate, annual taxrate and Tax_Assessed_Value with the average of each column rates of their respective neighborhood so if a house in Jamaica is missing a value for taxrate we will take the average taxrate in the houses in jamaica and impute in for the missing value"
   ]
  },
  {
   "cell_type": "code",
   "execution_count": 33,
   "metadata": {},
   "outputs": [],
   "source": [
    "X_mean = round(X_train.mean(),3)\n",
    "\n",
    "X_train_mean = X_train.fillna(X_mean)\n",
    "X_test_mean = X_test.fillna(X_mean)"
   ]
  },
  {
   "cell_type": "markdown",
   "metadata": {},
   "source": [
    "### 3.8.1 Scaling the Data<a id='3.8.1_Scale'></a>"
   ]
  },
  {
   "cell_type": "code",
   "execution_count": 25,
   "metadata": {},
   "outputs": [],
   "source": [
    "scaler = StandardScaler()\n",
    "scaler.fit(X_train_mean)\n",
    "X_train_mean_scaled = scaler.transform(X_train_mean)\n",
    "X_test_mean_scaled = scaler.transform(X_test_mean)"
   ]
  },
  {
   "cell_type": "markdown",
   "metadata": {},
   "source": [
    "#### Train the model on the train split and then make prediction using the test split"
   ]
  },
  {
   "cell_type": "code",
   "execution_count": 26,
   "metadata": {},
   "outputs": [],
   "source": [
    "from sklearn.linear_model import LinearRegression\n",
    "lm = LinearRegression().fit(X_train_mean_scaled, y_train)\n",
    "y_train_mean_pred = lm.predict(X_train_mean_scaled)\n",
    "y_test_mean_pred = lm.predict(X_test_mean_scaled)"
   ]
  },
  {
   "cell_type": "code",
   "execution_count": 27,
   "metadata": {},
   "outputs": [
    {
     "name": "stdout",
     "output_type": "stream",
     "text": [
      "R2 of Y_train mean prediction's: 0.15841941757207023\n",
      "R2 of Y_test mean prediction's: 0.01773073427116878\n",
      "MAE of Y_train mean prediction's: 718095.7450717168\n",
      "MAE of Y_test mean prediction's: 724749.2314584656\n"
     ]
    }
   ],
   "source": [
    "print(\"R2 of Y_train mean prediction's:\", r2_score(y_train, y_train_mean_pred))\n",
    "print(\"R2 of Y_test mean prediction's:\",r2_score(y_test, y_test_mean_pred))\n",
    "print(\"MAE of Y_train mean prediction's:\",mean_absolute_error(y_train, y_train_mean_pred))\n",
    "print(\"MAE of Y_test mean prediction's:\",mean_absolute_error(y_test, y_test_mean_pred))\n"
   ]
  },
  {
   "cell_type": "markdown",
   "metadata": {},
   "source": [
    "##### Well it didn't improve performance significantly but it seems some imputation has helped slightly "
   ]
  },
  {
   "cell_type": "markdown",
   "metadata": {},
   "source": [
    "#### Well we can see that the mean was a poor performer when it came to a linear regression, I suspect the results will be similar, but lets try the median "
   ]
  },
  {
   "cell_type": "code",
   "execution_count": 32,
   "metadata": {},
   "outputs": [],
   "source": [
    "X_median = round(X_train.median(),3)\n",
    "\n",
    "X_train_median = X_train.fillna(X_median)\n",
    "X_test_median = X_test.fillna(X_median)"
   ]
  },
  {
   "cell_type": "code",
   "execution_count": 30,
   "metadata": {},
   "outputs": [],
   "source": [
    "scaler = StandardScaler()\n",
    "scaler.fit(X_train_median)\n",
    "X_train_median_scaled = scaler.transform(X_train_median)\n",
    "X_test_median_scaled = scaler.transform(X_test_median)"
   ]
  },
  {
   "cell_type": "code",
   "execution_count": 31,
   "metadata": {},
   "outputs": [],
   "source": [
    "lm = LinearRegression().fit(X_train_median_scaled, y_train)\n",
    "y_train_median_pred = lm.predict(X_train_median_scaled)\n",
    "y_test_median_pred = lm.predict(X_test_median_scaled)"
   ]
  },
  {
   "cell_type": "code",
   "execution_count": 34,
   "metadata": {},
   "outputs": [
    {
     "name": "stdout",
     "output_type": "stream",
     "text": [
      "R2 of Y_train median prediction's: 0.15717979805933568\n",
      "R2 of Y_test median prediction's: -0.0026734136442474465\n",
      "MAE of Y_train median prediction's: 727378.021674121\n",
      "MAE of Y_test median prediction's: 735719.1408676488\n"
     ]
    }
   ],
   "source": [
    "print(\"R2 of Y_train median prediction's:\", r2_score(y_train, y_train_median_pred))\n",
    "print(\"R2 of Y_test median prediction's:\",r2_score(y_test, y_test_median_pred))\n",
    "print(\"MAE of Y_train median prediction's:\",mean_absolute_error(y_train, y_train_median_pred))\n",
    "print(\"MAE of Y_test median prediction's:\",mean_absolute_error(y_test, y_test_median_pred))"
   ]
  },
  {
   "cell_type": "markdown",
   "metadata": {},
   "source": [
    "#### No significant difference in results of using median vs mean, lets try a more intuitive approach, we can impute the taxrate, annual_tax and tax_assessed_value depending on the zipcode of the house which would align more properly rather than just use the mean or median"
   ]
  },
  {
   "cell_type": "markdown",
   "metadata": {},
   "source": [
    "## 3.9 Dimensitionality Reduction"
   ]
  },
  {
   "cell_type": "markdown",
   "metadata": {},
   "source": [
    "##### With 27 features let's take a look at how each feature impact our dependent variable 'Price' and attempt to reduce the number of features we have. We also need to acknowledge that 'Per_SqFT' was a feature created by me, as it was created combining price/lot_size thus it clearly has a big impact on price but we since it was manufactured and has price directly into it we need to drop this column. "
   ]
  },
  {
   "cell_type": "markdown",
   "metadata": {},
   "source": [
    "#### First lets split our data to train and split to see which features effect what and how we can further reduce the dimensitionality of our feature set"
   ]
  },
  {
   "cell_type": "markdown",
   "metadata": {},
   "source": [
    "### Using RandomForest to find most impactful features"
   ]
  },
  {
   "cell_type": "markdown",
   "metadata": {},
   "source": [
    "#### Lets use a different model which would yield greater results for instances randomforest"
   ]
  },
  {
   "cell_type": "code",
   "execution_count": 35,
   "metadata": {},
   "outputs": [],
   "source": [
    "from sklearn.ensemble import RandomForestRegressor\n",
    "rf = RandomForestRegressor(random_state=100, max_depth=10)\n",
    "rf.fit(X_train_mean_scaled,y_train)\n",
    "y_train_mean_pred = rf.predict(X_train_mean_scaled)\n",
    "y_test_mean_pred = rf.predict(X_test_mean_scaled)"
   ]
  },
  {
   "cell_type": "code",
   "execution_count": 36,
   "metadata": {},
   "outputs": [
    {
     "name": "stdout",
     "output_type": "stream",
     "text": [
      "R2 of Y_train mean prediction's: 0.892373332768055\n",
      "R2 of Y_test mean prediction's: 0.6516125159066295\n",
      "MAE of Y_train mean prediction's: 254973.42587724343\n",
      "MAE of Y_test mean prediction's: 321963.5118924205\n"
     ]
    }
   ],
   "source": [
    "print(\"R2 of Y_train mean prediction's:\", r2_score(y_train, y_train_mean_pred))\n",
    "print(\"R2 of Y_test mean prediction's:\",r2_score(y_test, y_test_mean_pred))\n",
    "print(\"MAE of Y_train mean prediction's:\",mean_absolute_error(y_train, y_train_mean_pred))\n",
    "print(\"MAE of Y_test mean prediction's:\",mean_absolute_error(y_test, y_test_mean_pred))"
   ]
  },
  {
   "cell_type": "markdown",
   "metadata": {},
   "source": [
    "#### It seems utilizing a different model has yield significant results we can see decision tree in this case randomforest has done much better than our standard linear model. While it seems our train set significantly more improvement than our test our ultimate goal is the get the best results for our test set without overfitting."
   ]
  },
  {
   "cell_type": "markdown",
   "metadata": {},
   "source": [
    "##### Let's take a look at the most impactful features utilizing randomforest"
   ]
  },
  {
   "cell_type": "code",
   "execution_count": 45,
   "metadata": {},
   "outputs": [
    {
     "data": {
      "image/png": "[encoded data removed]",
      "text/plain": [
       "<Figure size 1152x576 with 1 Axes>"
      ]
     },
     "metadata": {
      "needs_background": "light"
     },
     "output_type": "display_data"
    }
   ],
   "source": [
    "features = X_train_mean.columns\n",
    "importances = rf.feature_importances_\n",
    "indices = np.argsort(importances)[-26:] \n",
    "plt.figure(figsize=(16,8))\n",
    "plt.title('Feature Importances')\n",
    "plt.barh(range(len(indices)), importances[indices], color='b', align='center')\n",
    "plt.yticks(range(len(indices)), [features[i] for i in indices])\n",
    "plt.xlabel('Relative Importance')\n",
    "plt.show()"
   ]
  },
  {
   "cell_type": "code",
   "execution_count": 38,
   "metadata": {},
   "outputs": [
    {
     "data": {
      "text/html": [
       "<div>\n",
       "<style scoped>\n",
       "    .dataframe tbody tr th:only-of-type {\n",
       "        vertical-align: middle;\n",
       "    }\n",
       "\n",
       "    .dataframe tbody tr th {\n",
       "        vertical-align: top;\n",
       "    }\n",
       "\n",
       "    .dataframe thead th {\n",
       "        text-align: right;\n",
       "    }\n",
       "</style>\n",
       "<table border=\"1\" class=\"dataframe\">\n",
       "  <thead>\n",
       "    <tr style=\"text-align: right;\">\n",
       "      <th></th>\n",
       "      <th>count</th>\n",
       "      <th>%</th>\n",
       "    </tr>\n",
       "  </thead>\n",
       "  <tbody>\n",
       "    <tr>\n",
       "      <th>City</th>\n",
       "      <td>0</td>\n",
       "      <td>0.000000</td>\n",
       "    </tr>\n",
       "    <tr>\n",
       "      <th>Borough</th>\n",
       "      <td>0</td>\n",
       "      <td>0.000000</td>\n",
       "    </tr>\n",
       "    <tr>\n",
       "      <th>Neighborhood</th>\n",
       "      <td>0</td>\n",
       "      <td>0.000000</td>\n",
       "    </tr>\n",
       "    <tr>\n",
       "      <th>ZipCode</th>\n",
       "      <td>0</td>\n",
       "      <td>0.000000</td>\n",
       "    </tr>\n",
       "    <tr>\n",
       "      <th>latitude</th>\n",
       "      <td>0</td>\n",
       "      <td>0.000000</td>\n",
       "    </tr>\n",
       "    <tr>\n",
       "      <th>longitude</th>\n",
       "      <td>0</td>\n",
       "      <td>0.000000</td>\n",
       "    </tr>\n",
       "    <tr>\n",
       "      <th>price</th>\n",
       "      <td>0</td>\n",
       "      <td>0.000000</td>\n",
       "    </tr>\n",
       "    <tr>\n",
       "      <th>HomeType</th>\n",
       "      <td>0</td>\n",
       "      <td>0.000000</td>\n",
       "    </tr>\n",
       "    <tr>\n",
       "      <th>Bedrooms</th>\n",
       "      <td>0</td>\n",
       "      <td>0.000000</td>\n",
       "    </tr>\n",
       "    <tr>\n",
       "      <th>Total_Bathrooms</th>\n",
       "      <td>0</td>\n",
       "      <td>0.000000</td>\n",
       "    </tr>\n",
       "    <tr>\n",
       "      <th>Basement</th>\n",
       "      <td>0</td>\n",
       "      <td>0.000000</td>\n",
       "    </tr>\n",
       "    <tr>\n",
       "      <th>Cooling_Available</th>\n",
       "      <td>0</td>\n",
       "      <td>0.000000</td>\n",
       "    </tr>\n",
       "    <tr>\n",
       "      <th>Fireplace_Available</th>\n",
       "      <td>0</td>\n",
       "      <td>0.000000</td>\n",
       "    </tr>\n",
       "    <tr>\n",
       "      <th>Heating_Available</th>\n",
       "      <td>0</td>\n",
       "      <td>0.000000</td>\n",
       "    </tr>\n",
       "    <tr>\n",
       "      <th>Spa_Available</th>\n",
       "      <td>0</td>\n",
       "      <td>0.000000</td>\n",
       "    </tr>\n",
       "    <tr>\n",
       "      <th>Story_Building</th>\n",
       "      <td>0</td>\n",
       "      <td>0.000000</td>\n",
       "    </tr>\n",
       "    <tr>\n",
       "      <th>propertyTaxRate</th>\n",
       "      <td>12</td>\n",
       "      <td>0.020249</td>\n",
       "    </tr>\n",
       "    <tr>\n",
       "      <th>YearBuilt</th>\n",
       "      <td>3875</td>\n",
       "      <td>6.538760</td>\n",
       "    </tr>\n",
       "    <tr>\n",
       "      <th>LivingArea_Space(SqFT)</th>\n",
       "      <td>7189</td>\n",
       "      <td>12.130876</td>\n",
       "    </tr>\n",
       "    <tr>\n",
       "      <th>Annual_Tax</th>\n",
       "      <td>8656</td>\n",
       "      <td>14.606324</td>\n",
       "    </tr>\n",
       "    <tr>\n",
       "      <th>Lot_Size(SqFT)</th>\n",
       "      <td>9276</td>\n",
       "      <td>15.652526</td>\n",
       "    </tr>\n",
       "    <tr>\n",
       "      <th>Tax_Assessed_Value</th>\n",
       "      <td>10447</td>\n",
       "      <td>17.628497</td>\n",
       "    </tr>\n",
       "    <tr>\n",
       "      <th>Half_Bathrooms</th>\n",
       "      <td>13919</td>\n",
       "      <td>23.487226</td>\n",
       "    </tr>\n",
       "    <tr>\n",
       "      <th>Full_Bathrooms</th>\n",
       "      <td>13981</td>\n",
       "      <td>23.591846</td>\n",
       "    </tr>\n",
       "  </tbody>\n",
       "</table>\n",
       "</div>"
      ],
      "text/plain": [
       "                        count          %\n",
       "City                        0   0.000000\n",
       "Borough                     0   0.000000\n",
       "Neighborhood                0   0.000000\n",
       "ZipCode                     0   0.000000\n",
       "latitude                    0   0.000000\n",
       "longitude                   0   0.000000\n",
       "price                       0   0.000000\n",
       "HomeType                    0   0.000000\n",
       "Bedrooms                    0   0.000000\n",
       "Total_Bathrooms             0   0.000000\n",
       "Basement                    0   0.000000\n",
       "Cooling_Available           0   0.000000\n",
       "Fireplace_Available         0   0.000000\n",
       "Heating_Available           0   0.000000\n",
       "Spa_Available               0   0.000000\n",
       "Story_Building              0   0.000000\n",
       "propertyTaxRate            12   0.020249\n",
       "YearBuilt                3875   6.538760\n",
       "LivingArea_Space(SqFT)   7189  12.130876\n",
       "Annual_Tax               8656  14.606324\n",
       "Lot_Size(SqFT)           9276  15.652526\n",
       "Tax_Assessed_Value      10447  17.628497\n",
       "Half_Bathrooms          13919  23.487226\n",
       "Full_Bathrooms          13981  23.591846"
      ]
     },
     "execution_count": 38,
     "metadata": {},
     "output_type": "execute_result"
    }
   ],
   "source": [
    "missing = pd.concat([df.isnull().sum(), 100 * df.isnull().mean()], axis=1)\n",
    "missing.columns=['count', '%']\n",
    "missing.sort_values(by=['count', '%'])"
   ]
  },
  {
   "cell_type": "markdown",
   "metadata": {},
   "source": [
    "#### It seems the following had little to no impact on price, 'Basement', 'Cooling_Available', 'Fireplace_Available', 'Heating_Available', 'Spa_Available', 'City, 'Borough' and both Full_Bathrooms and Half_Bathrooms have high ratio of high missing data. "
   ]
  },
  {
   "cell_type": "markdown",
   "metadata": {},
   "source": [
    "#### We will try a selective imputation based off zipcode  to see if this yields better results than just imputing the mean"
   ]
  },
  {
   "cell_type": "code",
   "execution_count": 70,
   "metadata": {},
   "outputs": [],
   "source": [
    "X_train_im = X_train.drop(['Basement', 'Cooling_Available', 'Fireplace_Available', 'Heating_Available', 'Spa_Available', 'City', 'Borough', 'Full_Bathrooms', 'Half_Bathrooms'],axis=1)\n",
    "X_test_im = X_test.drop(['Basement', 'Cooling_Available', 'Fireplace_Available', 'Heating_Available', 'Spa_Available', 'City', 'Borough', 'Full_Bathrooms', 'Half_Bathrooms'],axis=1)\n"
   ]
  },
  {
   "cell_type": "code",
   "execution_count": 71,
   "metadata": {},
   "outputs": [],
   "source": [
    "train_TaxRate = X_train_im[X_train_im.propertyTaxRate.isnull()].index\n",
    "for i in train_TaxRate:\n",
    "    x  = (X_train_im.ZipCode[i])\n",
    "    y = X_train_im.propertyTaxRate[i]\n",
    "    y = (round(np.mean(X_train_im[X_train_im.ZipCode == x].propertyTaxRate),3))\n",
    "    X_train_im.propertyTaxRate[i] = y\n",
    "\n",
    "    \n",
    "test_TaxRate = X_test_im[X_test_im.propertyTaxRate.isnull()].index\n",
    "for i in test_TaxRate:\n",
    "    x  = (X_test_im.ZipCode[i])\n",
    "    y = X_test_im.propertyTaxRate[i]\n",
    "    y = (round(np.mean(X_test_im[X_test_im.ZipCode == x].propertyTaxRate),3))\n",
    "    X_test_im.propertyTaxRate[i] = y\n",
    "    "
   ]
  },
  {
   "cell_type": "code",
   "execution_count": 72,
   "metadata": {},
   "outputs": [],
   "source": [
    "train_meananTax = X_train_im[X_train_im.Annual_Tax.isnull()].index\n",
    "for i in train_meananTax:\n",
    "    x  = (X_train_im.ZipCode[i])\n",
    "    y = X_train_im.Annual_Tax[i]\n",
    "    y = (round(np.mean(X_train_im[X_train_im.ZipCode == x].Annual_Tax),3))\n",
    "    X_train_im.Annual_Tax[i] = y\n",
    "    \n",
    "test_meananTax = X_test_im[X_test_im.Annual_Tax.isnull()].index\n",
    "for i in test_meananTax:\n",
    "    x  = (X_test_im.ZipCode[i])\n",
    "    y = X_test_im.Annual_Tax[i]\n",
    "    y = (round(np.mean(X_test_im[X_test_im.ZipCode == x].Annual_Tax),3))\n",
    "    X_test_im.Annual_Tax[i] = y"
   ]
  },
  {
   "cell_type": "code",
   "execution_count": 73,
   "metadata": {},
   "outputs": [],
   "source": [
    "train_meanTATax = X_train_im[X_train_im.Tax_Assessed_Value.isnull()].index\n",
    "for i in train_meanTATax:\n",
    "    x  = (X_train_im.ZipCode[i])\n",
    "    y = X_train_im.Tax_Assessed_Value[i]\n",
    "    y = (round(np.mean(X_train_im[X_train_im.ZipCode == x].Tax_Assessed_Value),3))\n",
    "    X_train_im.Tax_Assessed_Value[i] = y\n",
    "\n",
    "test_meanTATax = X_test_im[X_test_im.Tax_Assessed_Value.isnull()].index\n",
    "for i in test_meanTATax:\n",
    "    x  = (X_test_im.ZipCode[i])\n",
    "    y = X_test_im.Tax_Assessed_Value[i]\n",
    "    y = (round(np.mean(X_test_im[X_test_im.ZipCode == x].Tax_Assessed_Value),3))\n",
    "    X_test_im.Tax_Assessed_Value[i] = y"
   ]
  },
  {
   "cell_type": "code",
   "execution_count": 74,
   "metadata": {},
   "outputs": [],
   "source": [
    "train_meanYRTax = X_train_im[X_train_im.YearBuilt.isnull()].index\n",
    "for i in train_meanYRTax:\n",
    "    x  = (X_train_im.ZipCode[i])\n",
    "    y = X_train_im.YearBuilt[i]\n",
    "    y = (round(np.mean(X_train_im[X_train_im.ZipCode == x].YearBuilt),3))\n",
    "    X_train_im.YearBuilt[i] = y\n",
    "    \n",
    "test_meanYRTax = X_test_im[X_test_im.YearBuilt.isnull()].index\n",
    "for i in test_meanYRTax:\n",
    "    x  = (X_test_im.ZipCode[i])\n",
    "    y = X_test_im.YearBuilt[i]\n",
    "    y = (round(np.mean(X_test_im[X_test_im.ZipCode == x].YearBuilt),3))\n",
    "    X_test_im.YearBuilt[i] = y"
   ]
  },
  {
   "cell_type": "code",
   "execution_count": 75,
   "metadata": {},
   "outputs": [],
   "source": [
    "train_meanLATax = X_train_im[X_train_im['LivingArea_Space(SqFT)'].isnull()].index\n",
    "for i in train_meanLATax:\n",
    "    x  = (X_train_im.ZipCode[i])\n",
    "    y = X_train_im['LivingArea_Space(SqFT)'][i]\n",
    "    y = (round(np.mean(X_train_im[X_train_im.ZipCode == x]['LivingArea_Space(SqFT)']),3))\n",
    "    X_train_im['LivingArea_Space(SqFT)'][i] = y\n",
    "    \n",
    "    \n",
    "test_meanLATax = X_test_im[X_test_im['LivingArea_Space(SqFT)'].isnull()].index\n",
    "for i in test_meanLATax:\n",
    "    x  = (X_test_im.ZipCode[i])\n",
    "    y = X_test_im['LivingArea_Space(SqFT)'][i]\n",
    "    y = (round(np.mean(X_test_im[X_test_im.ZipCode == x]['LivingArea_Space(SqFT)']),3))\n",
    "    X_test_im['LivingArea_Space(SqFT)'][i] = y"
   ]
  },
  {
   "cell_type": "code",
   "execution_count": 76,
   "metadata": {},
   "outputs": [],
   "source": [
    "train_meanLATax = X_train_im[X_train_im['Lot_Size(SqFT)'].isnull()].index\n",
    "for i in train_meanLATax:\n",
    "    x  = (X_train_im.ZipCode[i])\n",
    "    y = X_train_im['Lot_Size(SqFT)'][i]\n",
    "    y = (round(np.mean(X_train_im[X_train_im.ZipCode == x]['Lot_Size(SqFT)']),3))\n",
    "    X_train_im['Lot_Size(SqFT)'][i] = y\n",
    "    \n",
    "    \n",
    "test_meanLATax = X_test_im[X_test_im['Lot_Size(SqFT)'].isnull()].index\n",
    "for i in test_meanLATax:\n",
    "    x  = (X_test_im.ZipCode[i])\n",
    "    y = X_test_im['Lot_Size(SqFT)'][i]\n",
    "    y = (round(np.mean(X_test_im[X_test_im.ZipCode == x]['Lot_Size(SqFT)']),3))\n",
    "    X_test_im['Lot_Size(SqFT)'][i] = y"
   ]
  },
  {
   "cell_type": "code",
   "execution_count": 77,
   "metadata": {},
   "outputs": [],
   "source": [
    "X_train_im = X_train_im.fillna(X_train_im.mean())\n",
    "X_test_im = X_test_im.fillna(X_test_im.mean())"
   ]
  },
  {
   "cell_type": "code",
   "execution_count": 78,
   "metadata": {},
   "outputs": [],
   "source": [
    "rf = RandomForestRegressor(random_state=100, max_depth=10)\n",
    "rf.fit(X_train_im,y_train)\n",
    "y_train_im_pred = rf.predict(X_train_im)\n",
    "y_test_im_pred = rf.predict(X_test_im)"
   ]
  },
  {
   "cell_type": "code",
   "execution_count": 80,
   "metadata": {},
   "outputs": [
    {
     "name": "stdout",
     "output_type": "stream",
     "text": [
      "R2 of Y_train zipcode mean prediction's: 0.8824516875867265\n",
      "R2 of Y_test zipcode mean prediction's: 0.6281513477136729\n",
      "MAE of Y_train zipcode mean prediction's: 263302.42714863975\n",
      "MAE of Y_test zipcode mean prediction's: 339059.48904137703\n"
     ]
    }
   ],
   "source": [
    "print(\"R2 of Y_train zipcode mean prediction's:\", r2_score(y_train, y_train_im_pred))\n",
    "print(\"R2 of Y_test zipcode mean prediction's:\",r2_score(y_test, y_test_im_pred))\n",
    "print(\"MAE of Y_train zipcode mean prediction's:\",mean_absolute_error(y_train, y_train_im_pred))\n",
    "print(\"MAE of Y_test zipcode mean prediction's:\",mean_absolute_error(y_test, y_test_im_pred))"
   ]
  },
  {
   "cell_type": "code",
   "execution_count": 79,
   "metadata": {},
   "outputs": [
    {
     "data": {
      "image/png": "[encoded data removed]",
      "text/plain": [
       "<Figure size 1152x576 with 1 Axes>"
      ]
     },
     "metadata": {
      "needs_background": "light"
     },
     "output_type": "display_data"
    }
   ],
   "source": [
    "features = X_train_im.columns\n",
    "importances = rf.feature_importances_\n",
    "indices = np.argsort(importances)[-26:] \n",
    "plt.figure(figsize=(16,8))\n",
    "plt.title('Feature Importances')\n",
    "plt.barh(range(len(indices)), importances[indices], color='b', align='center')\n",
    "plt.yticks(range(len(indices)), [features[i] for i in indices])\n",
    "plt.xlabel('Relative Importance')\n",
    "plt.show()"
   ]
  },
  {
   "cell_type": "markdown",
   "metadata": {},
   "source": [
    "#### It did not yield better results, while insignificant  the performance was worse than the mean"
   ]
  },
  {
   "cell_type": "markdown",
   "metadata": {},
   "source": [
    "#### Let's check our feature importance using a mean imputation"
   ]
  },
  {
   "cell_type": "code",
   "execution_count": 81,
   "metadata": {},
   "outputs": [
    {
     "data": {
      "text/plain": [
       "RandomForestRegressor(max_depth=10, random_state=100)"
      ]
     },
     "execution_count": 81,
     "metadata": {},
     "output_type": "execute_result"
    }
   ],
   "source": [
    "from sklearn.ensemble import RandomForestRegressor\n",
    "model = RandomForestRegressor(random_state=100, max_depth=10)\n",
    "model.fit(X_train.fillna(X_train.mean()),y_train)"
   ]
  },
  {
   "cell_type": "code",
   "execution_count": 82,
   "metadata": {},
   "outputs": [
    {
     "name": "stdout",
     "output_type": "stream",
     "text": [
      "0.642122319659992 0.8923610089389832\n"
     ]
    }
   ],
   "source": [
    "y_pred_test = model.predict(X_test.fillna(X_test.mean()))\n",
    "y_pred_train = model.predict(X_train.fillna(X_train.mean()))\n",
    "print(r2_score(y_test, y_pred_test),r2_score(y_train, y_pred_train)) "
   ]
  },
  {
   "cell_type": "code",
   "execution_count": 83,
   "metadata": {},
   "outputs": [
    {
     "data": {
      "image/png": "[encoded data removed]",
      "text/plain": [
       "<Figure size 1152x576 with 1 Axes>"
      ]
     },
     "metadata": {
      "needs_background": "light"
     },
     "output_type": "display_data"
    }
   ],
   "source": [
    "features = X_train.columns\n",
    "importances = model.feature_importances_\n",
    "indices = np.argsort(importances)[-26:] \n",
    "plt.figure(figsize=(16,8))\n",
    "plt.title('Feature Importances')\n",
    "plt.barh(range(len(indices)), importances[indices], color='b', align='center')\n",
    "plt.yticks(range(len(indices)), [features[i] for i in indices])\n",
    "plt.xlabel('Relative Importance')\n",
    "plt.show()"
   ]
  },
  {
   "cell_type": "markdown",
   "metadata": {},
   "source": [
    "#### It seems that the following have little to no impact Neighborhood, ParkingType, City, Heating_Available, Half_Bathrooms, Fireplace, Cooling, Basement, and Spa_Available. Lets remove these features and try to see if we yield a better r2_score. Even though full_bathrooms might have some indication I am going to input on the train data and with 0 for missing values for it. "
   ]
  },
  {
   "cell_type": "code",
   "execution_count": 107,
   "metadata": {},
   "outputs": [],
   "source": [
    "train_df_2 = df.drop(columns=['City', 'Neighborhood', 'Half_Bathrooms',\n",
    "       'Basement', 'Cooling_Available', 'Fireplace_Available',\n",
    "       'Heating_Available', 'Spa_Available'], axis=1)"
   ]
  },
  {
   "cell_type": "code",
   "execution_count": 121,
   "metadata": {},
   "outputs": [
    {
     "data": {
      "text/plain": [
       "1        7.0\n",
       "2        3.0\n",
       "3        6.0\n",
       "6        2.0\n",
       "8        3.0\n",
       "        ... \n",
       "59256    0.0\n",
       "59257    0.0\n",
       "59258    5.0\n",
       "59259    4.0\n",
       "59261    1.0\n",
       "Name: Full_Bathrooms, Length: 33283, dtype: float64"
      ]
     },
     "execution_count": 121,
     "metadata": {},
     "output_type": "execute_result"
    }
   ],
   "source": [
    "train_df_2.Full_Bathrooms.fillna(round(np.mean(train_df_2.Full_Bathrooms), 2))"
   ]
  },
  {
   "cell_type": "code",
   "execution_count": 122,
   "metadata": {},
   "outputs": [],
   "source": [
    "train_df_2 = train_df_2.dropna()"
   ]
  },
  {
   "cell_type": "code",
   "execution_count": 123,
   "metadata": {},
   "outputs": [],
   "source": [
    "X_2 = train_df_2.drop([ 'price'] ,axis=1)\n",
    "y_2 = train_df_2.price"
   ]
  },
  {
   "cell_type": "code",
   "execution_count": 124,
   "metadata": {},
   "outputs": [
    {
     "data": {
      "text/plain": [
       "(33283, 15)"
      ]
     },
     "execution_count": 124,
     "metadata": {},
     "output_type": "execute_result"
    }
   ],
   "source": [
    "X_2.shape\n",
    "#While our dataset definately reduced its still a alot to work with I don't believe we will overfit as we still have 35k observations"
   ]
  },
  {
   "cell_type": "code",
   "execution_count": 125,
   "metadata": {},
   "outputs": [
    {
     "data": {
      "text/plain": [
       "RandomForestRegressor(max_depth=10, random_state=100)"
      ]
     },
     "execution_count": 125,
     "metadata": {},
     "output_type": "execute_result"
    }
   ],
   "source": [
    "X_train_2, X_test_2, y_train_2, y_test_2 = train_test_split(X_2, y_2, test_size=.3, random_state=100)\n",
    "rf = RandomForestRegressor(random_state=100, max_depth=10)\n",
    "rf.fit(X_train_2,y_train_2)"
   ]
  },
  {
   "cell_type": "code",
   "execution_count": 126,
   "metadata": {},
   "outputs": [
    {
     "name": "stdout",
     "output_type": "stream",
     "text": [
      "0.6457979953539843\n",
      "0.9317301155133008\n"
     ]
    }
   ],
   "source": [
    "y_pred = rf.predict(X_test_2)\n",
    "print(r2_score(y_test_2, y_pred))\n",
    "y_pred = rf.predict(X_train_2)\n",
    "print(r2_score(y_train_2, y_pred))"
   ]
  },
  {
   "cell_type": "markdown",
   "metadata": {},
   "source": [
    "#### These are the best results so far I think this is the best iterations of our training and test dataset and in our next notebook of modeling we will further fine tune and select the best machine learning algorithm to perform further test to get the best model."
   ]
  },
  {
   "cell_type": "code",
   "execution_count": 127,
   "metadata": {},
   "outputs": [
    {
     "data": {
      "image/png": "[encoded data removed]",
      "text/plain": [
       "<Figure size 1152x576 with 1 Axes>"
      ]
     },
     "metadata": {
      "needs_background": "light"
     },
     "output_type": "display_data"
    }
   ],
   "source": [
    "features = X_train_2.columns\n",
    "importances = rf.feature_importances_\n",
    "indices = np.argsort(importances)[-26:] \n",
    "plt.figure(figsize=(16,8))\n",
    "plt.title('Feature Importances')\n",
    "plt.barh(range(len(indices)), importances[indices], color='b', align='center')\n",
    "plt.yticks(range(len(indices)), [features[i] for i in indices])\n",
    "plt.xlabel('Relative Importance')\n",
    "plt.show()"
   ]
  },
  {
   "cell_type": "markdown",
   "metadata": {},
   "source": [
    "#### That was a great move, our R2_score has increased significantly so now we know which features to drop"
   ]
  },
  {
   "cell_type": "markdown",
   "metadata": {},
   "source": [
    "## 3.10 Gradient Boosting Model"
   ]
  },
  {
   "cell_type": "code",
   "execution_count": 321,
   "metadata": {},
   "outputs": [],
   "source": [
    "import xgboost as xgb"
   ]
  },
  {
   "cell_type": "code",
   "execution_count": 410,
   "metadata": {},
   "outputs": [],
   "source": [
    "X_df = df.drop(['City', 'Borough', 'Neighborhood', 'price', 'Basement', 'Cooling_Available', 'Fireplace_Available', 'Heating_Available', 'Spa_Available', 'Story_Building'], axis=1)\n",
    "X = X_df.values\n",
    "y = df.price.values"
   ]
  },
  {
   "cell_type": "code",
   "execution_count": 411,
   "metadata": {},
   "outputs": [],
   "source": [
    "X_train, X_test, y_train, y_test = train_test_split(X, y, test_size=.2, random_state=100)"
   ]
  },
  {
   "cell_type": "code",
   "execution_count": 412,
   "metadata": {},
   "outputs": [],
   "source": [
    "GB_pipe = make_pipeline(\n",
    "    SimpleImputer(strategy=\"mean\"),\n",
    "    StandardScaler(),\n",
    "    xgb.XGBRegressor()\n",
    ")"
   ]
  },
  {
   "cell_type": "code",
   "execution_count": 413,
   "metadata": {},
   "outputs": [
    {
     "data": {
      "text/plain": [
       "Pipeline(steps=[('simpleimputer', SimpleImputer()),\n",
       "                ('standardscaler', StandardScaler()),\n",
       "                ('xgbregressor',\n",
       "                 XGBRegressor(base_score=0.5, booster='gbtree',\n",
       "                              colsample_bylevel=1, colsample_bynode=1,\n",
       "                              colsample_bytree=1, gamma=0, gpu_id=-1,\n",
       "                              importance_type='gain',\n",
       "                              interaction_constraints='',\n",
       "                              learning_rate=0.300000012, max_delta_step=0,\n",
       "                              max_depth=6, min_child_weight=1, missing=nan,\n",
       "                              monotone_constraints='()', n_estimators=100,\n",
       "                              n_jobs=8, num_parallel_tree=1, random_state=0,\n",
       "                              reg_alpha=0, reg_lambda=1, scale_pos_weight=1,\n",
       "                              subsample=1, tree_method='exact',\n",
       "                              validate_parameters=1, verbosity=None))])"
      ]
     },
     "execution_count": 413,
     "metadata": {},
     "output_type": "execute_result"
    }
   ],
   "source": [
    "GB_pipe.fit(X_train, y_train)"
   ]
  },
  {
   "cell_type": "code",
   "execution_count": 394,
   "metadata": {},
   "outputs": [],
   "source": [
    "test_preds = GB_pipe.predict(X_test)\n",
    "train_preds = GB_pipe.predict(X_train)"
   ]
  },
  {
   "cell_type": "code",
   "execution_count": 395,
   "metadata": {},
   "outputs": [
    {
     "name": "stdout",
     "output_type": "stream",
     "text": [
      "R2 of Y_train  GB prediction's: 0.9721973242384186\n",
      "R2 of Y_test  GB prediction's: 0.674905875614883\n",
      "MAE of Y_train GB prediction's: 183873.36004355055\n",
      "MAE of Y_test GB prediction's: 308744.5659442098\n"
     ]
    }
   ],
   "source": [
    "print(\"R2 of Y_train  GB prediction's:\", r2_score(y_train, train_preds))\n",
    "print(\"R2 of Y_test  GB prediction's:\",r2_score(y_test, test_preds))\n",
    "print(\"MAE of Y_train GB prediction's:\",mean_absolute_error(y_train, train_preds))\n",
    "print(\"MAE of Y_test GB prediction's:\",mean_absolute_error(y_test, test_preds))"
   ]
  },
  {
   "cell_type": "code",
   "execution_count": 416,
   "metadata": {},
   "outputs": [],
   "source": [
    "gb = xgb.XGBRegressor()"
   ]
  },
  {
   "cell_type": "code",
   "execution_count": 417,
   "metadata": {},
   "outputs": [],
   "source": [
    "X_train, X_test, y_train, y_test = train_test_split(X, y, test_size=.2, random_state=100)"
   ]
  },
  {
   "cell_type": "code",
   "execution_count": 419,
   "metadata": {},
   "outputs": [
    {
     "data": {
      "text/plain": [
       "XGBRegressor(base_score=0.5, booster='gbtree', colsample_bylevel=1,\n",
       "             colsample_bynode=1, colsample_bytree=1, gamma=0, gpu_id=-1,\n",
       "             importance_type='gain', interaction_constraints='',\n",
       "             learning_rate=0.300000012, max_delta_step=0, max_depth=6,\n",
       "             min_child_weight=1, missing=nan, monotone_constraints='()',\n",
       "             n_estimators=100, n_jobs=8, num_parallel_tree=1, random_state=0,\n",
       "             reg_alpha=0, reg_lambda=1, scale_pos_weight=1, subsample=1,\n",
       "             tree_method='exact', validate_parameters=1, verbosity=None)"
      ]
     },
     "execution_count": 419,
     "metadata": {},
     "output_type": "execute_result"
    }
   ],
   "source": [
    "gb.fit(X_train, y_train)"
   ]
  },
  {
   "cell_type": "code",
   "execution_count": 420,
   "metadata": {},
   "outputs": [],
   "source": [
    "pred_test = gb.predict(X_test)\n",
    "pred_train = gb.predict(X_train)"
   ]
  },
  {
   "cell_type": "code",
   "execution_count": 421,
   "metadata": {},
   "outputs": [
    {
     "name": "stdout",
     "output_type": "stream",
     "text": [
      "R2 of Y_train  GB prediction's: 0.9741367029504042\n",
      "R2 of Y_test  GB prediction's: 0.732608903899179\n",
      "MAE of Y_train GB prediction's: 180999.81921811824\n",
      "MAE of Y_test GB prediction's: 296157.9898410476\n"
     ]
    }
   ],
   "source": [
    "print(\"R2 of Y_train  GB prediction's:\", r2_score(y_train, pred_train))\n",
    "print(\"R2 of Y_test  GB prediction's:\",r2_score(y_test, pred_test))\n",
    "print(\"MAE of Y_train GB prediction's:\",mean_absolute_error(y_train, pred_train))\n",
    "print(\"MAE of Y_test GB prediction's:\",mean_absolute_error(y_test, pred_test))"
   ]
  },
  {
   "cell_type": "markdown",
   "metadata": {},
   "source": [
    "#### It seems we get a slight performance boost without StandardScaler and mean imputation"
   ]
  },
  {
   "cell_type": "code",
   "execution_count": 422,
   "metadata": {},
   "outputs": [
    {
     "data": {
      "image/png": "[encoded data removed]",
      "text/plain": [
       "<Figure size 1152x576 with 1 Axes>"
      ]
     },
     "metadata": {
      "needs_background": "light"
     },
     "output_type": "display_data"
    }
   ],
   "source": [
    "features = X_df.columns\n",
    "importances = gb.feature_importances_\n",
    "indices = np.argsort(importances)[-26:] \n",
    "plt.figure(figsize=(16,8))\n",
    "plt.title('Feature Importances')\n",
    "plt.barh(range(len(indices)), importances[indices], color='b', align='center')\n",
    "plt.yticks(range(len(indices)), [features[i] for i in indices])\n",
    "plt.xlabel('Relative Importance')\n",
    "plt.show()"
   ]
  },
  {
   "cell_type": "markdown",
   "metadata": {},
   "source": [
    "### 3.11 Hyper-parameter Tuning  with Gradient Boost "
   ]
  },
  {
   "cell_type": "code",
   "execution_count": 423,
   "metadata": {},
   "outputs": [],
   "source": [
    "feature_names = X_df.columns\n",
    "dtrain = xgb.DMatrix(X_train, label=y_train, feature_names=feature_names)\n",
    "dtest = xgb.DMatrix(X_test, label=y_test, feature_names=feature_names)"
   ]
  },
  {
   "cell_type": "code",
   "execution_count": 424,
   "metadata": {},
   "outputs": [],
   "source": [
    "params = {\n",
    "    # Parameters that we are going to tune.\n",
    "    'max_depth':6,\n",
    "    'min_child_weight': 1,\n",
    "    'eta':.3,\n",
    "    'subsample': 1,\n",
    "    'colsample_bytree': 1,\n",
    "    # Other parameters\n",
    "    'objective':'reg:squarederror',\n",
    "}\n"
   ]
  },
  {
   "cell_type": "code",
   "execution_count": 425,
   "metadata": {},
   "outputs": [],
   "source": [
    "params['eval_metric'] = \"mae\"\n",
    "num_boost_round = 999\n",
    "evallist  = [(X_test,'eval'), (X_train,'train')]\n"
   ]
  },
  {
   "cell_type": "code",
   "execution_count": 257,
   "metadata": {},
   "outputs": [
    {
     "name": "stdout",
     "output_type": "stream",
     "text": [
      "[0]\tTest-mae:769709.06250\n",
      "[1]\tTest-mae:565849.68750\n",
      "[2]\tTest-mae:446868.12500\n",
      "[3]\tTest-mae:378399.31250\n",
      "[4]\tTest-mae:341816.34375\n",
      "[5]\tTest-mae:325107.90625\n",
      "[6]\tTest-mae:318500.06250\n",
      "[7]\tTest-mae:316095.53125\n",
      "[8]\tTest-mae:316323.25000\n",
      "[9]\tTest-mae:317011.37500\n",
      "[10]\tTest-mae:315827.68750\n",
      "[11]\tTest-mae:315474.96875\n",
      "[12]\tTest-mae:314274.34375\n",
      "[13]\tTest-mae:313992.93750\n",
      "[14]\tTest-mae:312873.00000\n",
      "[15]\tTest-mae:311101.12500\n",
      "[16]\tTest-mae:310880.68750\n",
      "[17]\tTest-mae:310262.37500\n",
      "[18]\tTest-mae:309752.00000\n",
      "[19]\tTest-mae:309435.62500\n",
      "[20]\tTest-mae:309002.56250\n",
      "[21]\tTest-mae:308815.34375\n",
      "[22]\tTest-mae:308751.68750\n",
      "[23]\tTest-mae:309715.93750\n",
      "[24]\tTest-mae:309360.84375\n",
      "[25]\tTest-mae:308464.93750\n",
      "[26]\tTest-mae:307626.00000\n",
      "[27]\tTest-mae:307572.18750\n",
      "[28]\tTest-mae:307151.46875\n",
      "[29]\tTest-mae:306703.40625\n",
      "[30]\tTest-mae:305996.31250\n",
      "[31]\tTest-mae:305760.68750\n",
      "[32]\tTest-mae:305595.62500\n",
      "[33]\tTest-mae:305814.78125\n",
      "[34]\tTest-mae:305795.12500\n",
      "[35]\tTest-mae:304927.43750\n",
      "[36]\tTest-mae:304789.06250\n",
      "[37]\tTest-mae:304604.71875\n",
      "[38]\tTest-mae:304514.12500\n",
      "[39]\tTest-mae:304595.84375\n",
      "[40]\tTest-mae:304445.78125\n",
      "[41]\tTest-mae:304063.65625\n",
      "[42]\tTest-mae:301819.00000\n",
      "[43]\tTest-mae:302042.62500\n",
      "[44]\tTest-mae:301886.18750\n",
      "[45]\tTest-mae:301608.53125\n",
      "[46]\tTest-mae:300994.00000\n",
      "[47]\tTest-mae:300825.25000\n",
      "[48]\tTest-mae:301051.90625\n",
      "[49]\tTest-mae:300994.00000\n",
      "[50]\tTest-mae:300733.03125\n",
      "[51]\tTest-mae:300395.43750\n",
      "[52]\tTest-mae:300471.15625\n",
      "[53]\tTest-mae:300405.15625\n",
      "[54]\tTest-mae:300199.37500\n",
      "[55]\tTest-mae:300124.06250\n",
      "[56]\tTest-mae:300640.18750\n",
      "[57]\tTest-mae:299491.09375\n",
      "[58]\tTest-mae:299578.78125\n",
      "[59]\tTest-mae:299639.46875\n",
      "[60]\tTest-mae:299563.93750\n",
      "[61]\tTest-mae:299192.25000\n",
      "[62]\tTest-mae:299013.46875\n",
      "[63]\tTest-mae:298832.84375\n",
      "[64]\tTest-mae:298813.09375\n",
      "[65]\tTest-mae:298760.06250\n",
      "[66]\tTest-mae:299014.59375\n",
      "[67]\tTest-mae:299099.71875\n",
      "[68]\tTest-mae:299116.56250\n",
      "[69]\tTest-mae:298881.37500\n",
      "[70]\tTest-mae:298412.15625\n",
      "[71]\tTest-mae:298325.34375\n",
      "[72]\tTest-mae:298164.12500\n",
      "[73]\tTest-mae:298350.40625\n",
      "[74]\tTest-mae:298373.46875\n",
      "[75]\tTest-mae:298269.31250\n",
      "[76]\tTest-mae:298198.15625\n",
      "[77]\tTest-mae:298061.93750\n",
      "[78]\tTest-mae:298021.93750\n",
      "[79]\tTest-mae:298126.87500\n",
      "[80]\tTest-mae:297940.62500\n",
      "[81]\tTest-mae:297746.84375\n",
      "[82]\tTest-mae:297978.15625\n",
      "[83]\tTest-mae:297683.84375\n",
      "[84]\tTest-mae:297588.84375\n",
      "[85]\tTest-mae:297755.18750\n",
      "[86]\tTest-mae:297685.31250\n",
      "[87]\tTest-mae:297446.81250\n",
      "[88]\tTest-mae:297369.93750\n",
      "[89]\tTest-mae:297104.21875\n",
      "[90]\tTest-mae:297076.56250\n",
      "[91]\tTest-mae:296644.09375\n",
      "[92]\tTest-mae:296274.87500\n",
      "[93]\tTest-mae:296166.84375\n",
      "[94]\tTest-mae:296153.03125\n",
      "[95]\tTest-mae:296106.59375\n",
      "[96]\tTest-mae:296262.59375\n",
      "[97]\tTest-mae:296151.68750\n",
      "[98]\tTest-mae:296358.18750\n",
      "[99]\tTest-mae:296157.96875\n",
      "[100]\tTest-mae:296183.15625\n",
      "[101]\tTest-mae:296247.81250\n",
      "[102]\tTest-mae:295455.90625\n",
      "[103]\tTest-mae:295238.59375\n",
      "[104]\tTest-mae:295102.40625\n",
      "[105]\tTest-mae:295306.56250\n",
      "[106]\tTest-mae:295457.03125\n",
      "[107]\tTest-mae:295547.59375\n",
      "[108]\tTest-mae:295521.15625\n",
      "[109]\tTest-mae:295574.43750\n",
      "[110]\tTest-mae:295553.12500\n",
      "[111]\tTest-mae:295476.84375\n",
      "[112]\tTest-mae:295710.81250\n",
      "[113]\tTest-mae:295698.90625\n",
      "[114]\tTest-mae:295446.71875\n"
     ]
    }
   ],
   "source": [
    "model = xgb.train(\n",
    "    params,\n",
    "    dtrain,\n",
    "    num_boost_round=num_boost_round,\n",
    "    evals=[(dtest, \"Test\")],\n",
    "    early_stopping_rounds=10\n",
    ")"
   ]
  },
  {
   "cell_type": "code",
   "execution_count": 258,
   "metadata": {},
   "outputs": [
    {
     "name": "stdout",
     "output_type": "stream",
     "text": [
      "Best MAE: 295102.41 with 105 rounds\n"
     ]
    }
   ],
   "source": [
    "print(\"Best MAE: {:.2f} with {} rounds\".format(\n",
    "                 model.best_score,\n",
    "                 model.best_iteration+1))"
   ]
  },
  {
   "cell_type": "code",
   "execution_count": 259,
   "metadata": {},
   "outputs": [
    {
     "data": {
      "text/html": [
       "<div>\n",
       "<style scoped>\n",
       "    .dataframe tbody tr th:only-of-type {\n",
       "        vertical-align: middle;\n",
       "    }\n",
       "\n",
       "    .dataframe tbody tr th {\n",
       "        vertical-align: top;\n",
       "    }\n",
       "\n",
       "    .dataframe thead th {\n",
       "        text-align: right;\n",
       "    }\n",
       "</style>\n",
       "<table border=\"1\" class=\"dataframe\">\n",
       "  <thead>\n",
       "    <tr style=\"text-align: right;\">\n",
       "      <th></th>\n",
       "      <th>train-mae-mean</th>\n",
       "      <th>train-mae-std</th>\n",
       "      <th>test-mae-mean</th>\n",
       "      <th>test-mae-std</th>\n",
       "    </tr>\n",
       "  </thead>\n",
       "  <tbody>\n",
       "    <tr>\n",
       "      <th>0</th>\n",
       "      <td>767021.725000</td>\n",
       "      <td>2773.159001</td>\n",
       "      <td>772098.27500</td>\n",
       "      <td>11569.268686</td>\n",
       "    </tr>\n",
       "    <tr>\n",
       "      <th>1</th>\n",
       "      <td>565104.825000</td>\n",
       "      <td>2013.910107</td>\n",
       "      <td>575626.81250</td>\n",
       "      <td>11403.966406</td>\n",
       "    </tr>\n",
       "    <tr>\n",
       "      <th>2</th>\n",
       "      <td>439889.025000</td>\n",
       "      <td>5307.927818</td>\n",
       "      <td>458049.81875</td>\n",
       "      <td>10406.454342</td>\n",
       "    </tr>\n",
       "    <tr>\n",
       "      <th>3</th>\n",
       "      <td>364961.925000</td>\n",
       "      <td>4591.501741</td>\n",
       "      <td>389780.59375</td>\n",
       "      <td>9656.641941</td>\n",
       "    </tr>\n",
       "    <tr>\n",
       "      <th>4</th>\n",
       "      <td>322983.868750</td>\n",
       "      <td>3780.708642</td>\n",
       "      <td>354216.25625</td>\n",
       "      <td>10007.916503</td>\n",
       "    </tr>\n",
       "    <tr>\n",
       "      <th>5</th>\n",
       "      <td>300787.375000</td>\n",
       "      <td>3867.258407</td>\n",
       "      <td>337587.11875</td>\n",
       "      <td>10737.148544</td>\n",
       "    </tr>\n",
       "    <tr>\n",
       "      <th>6</th>\n",
       "      <td>286360.225000</td>\n",
       "      <td>2898.621464</td>\n",
       "      <td>327701.75000</td>\n",
       "      <td>8822.639910</td>\n",
       "    </tr>\n",
       "    <tr>\n",
       "      <th>7</th>\n",
       "      <td>277958.356250</td>\n",
       "      <td>3675.964577</td>\n",
       "      <td>324226.90625</td>\n",
       "      <td>8207.524690</td>\n",
       "    </tr>\n",
       "    <tr>\n",
       "      <th>8</th>\n",
       "      <td>271733.737500</td>\n",
       "      <td>3552.175232</td>\n",
       "      <td>321472.63750</td>\n",
       "      <td>7184.502015</td>\n",
       "    </tr>\n",
       "    <tr>\n",
       "      <th>9</th>\n",
       "      <td>267424.493750</td>\n",
       "      <td>3445.979162</td>\n",
       "      <td>320597.56250</td>\n",
       "      <td>7288.545426</td>\n",
       "    </tr>\n",
       "    <tr>\n",
       "      <th>10</th>\n",
       "      <td>263477.746875</td>\n",
       "      <td>2937.304593</td>\n",
       "      <td>319477.35000</td>\n",
       "      <td>6842.344579</td>\n",
       "    </tr>\n",
       "    <tr>\n",
       "      <th>11</th>\n",
       "      <td>260662.959375</td>\n",
       "      <td>3407.742793</td>\n",
       "      <td>319198.33750</td>\n",
       "      <td>6993.412429</td>\n",
       "    </tr>\n",
       "    <tr>\n",
       "      <th>12</th>\n",
       "      <td>256264.050000</td>\n",
       "      <td>3165.537454</td>\n",
       "      <td>317522.35000</td>\n",
       "      <td>7727.668480</td>\n",
       "    </tr>\n",
       "    <tr>\n",
       "      <th>13</th>\n",
       "      <td>253472.075000</td>\n",
       "      <td>3108.455649</td>\n",
       "      <td>317275.14375</td>\n",
       "      <td>7439.439039</td>\n",
       "    </tr>\n",
       "    <tr>\n",
       "      <th>14</th>\n",
       "      <td>250917.109375</td>\n",
       "      <td>2795.541253</td>\n",
       "      <td>316754.93125</td>\n",
       "      <td>7520.173691</td>\n",
       "    </tr>\n",
       "    <tr>\n",
       "      <th>15</th>\n",
       "      <td>248644.806250</td>\n",
       "      <td>2904.712179</td>\n",
       "      <td>316142.96250</td>\n",
       "      <td>7451.463399</td>\n",
       "    </tr>\n",
       "    <tr>\n",
       "      <th>16</th>\n",
       "      <td>247368.871875</td>\n",
       "      <td>2787.992980</td>\n",
       "      <td>316102.66875</td>\n",
       "      <td>7166.419817</td>\n",
       "    </tr>\n",
       "    <tr>\n",
       "      <th>17</th>\n",
       "      <td>245272.884375</td>\n",
       "      <td>2551.377578</td>\n",
       "      <td>315664.96250</td>\n",
       "      <td>6803.642656</td>\n",
       "    </tr>\n",
       "    <tr>\n",
       "      <th>18</th>\n",
       "      <td>243217.921875</td>\n",
       "      <td>2023.343945</td>\n",
       "      <td>315015.44375</td>\n",
       "      <td>7290.621768</td>\n",
       "    </tr>\n",
       "    <tr>\n",
       "      <th>19</th>\n",
       "      <td>242029.640625</td>\n",
       "      <td>2341.084011</td>\n",
       "      <td>314990.43750</td>\n",
       "      <td>7344.290935</td>\n",
       "    </tr>\n",
       "    <tr>\n",
       "      <th>20</th>\n",
       "      <td>240203.959375</td>\n",
       "      <td>2449.270577</td>\n",
       "      <td>314654.09375</td>\n",
       "      <td>6650.670742</td>\n",
       "    </tr>\n",
       "    <tr>\n",
       "      <th>21</th>\n",
       "      <td>238594.893750</td>\n",
       "      <td>3061.371245</td>\n",
       "      <td>314136.20000</td>\n",
       "      <td>6951.362735</td>\n",
       "    </tr>\n",
       "    <tr>\n",
       "      <th>22</th>\n",
       "      <td>237439.506250</td>\n",
       "      <td>2777.507957</td>\n",
       "      <td>313852.09375</td>\n",
       "      <td>6931.675607</td>\n",
       "    </tr>\n",
       "    <tr>\n",
       "      <th>23</th>\n",
       "      <td>235892.959375</td>\n",
       "      <td>2863.506495</td>\n",
       "      <td>314219.69375</td>\n",
       "      <td>7083.318290</td>\n",
       "    </tr>\n",
       "    <tr>\n",
       "      <th>24</th>\n",
       "      <td>234084.634375</td>\n",
       "      <td>3226.500270</td>\n",
       "      <td>313552.89375</td>\n",
       "      <td>6995.062403</td>\n",
       "    </tr>\n",
       "    <tr>\n",
       "      <th>25</th>\n",
       "      <td>232774.200000</td>\n",
       "      <td>3418.008812</td>\n",
       "      <td>313451.81875</td>\n",
       "      <td>7183.014766</td>\n",
       "    </tr>\n",
       "    <tr>\n",
       "      <th>26</th>\n",
       "      <td>231401.709375</td>\n",
       "      <td>3765.034966</td>\n",
       "      <td>313324.33750</td>\n",
       "      <td>7312.066436</td>\n",
       "    </tr>\n",
       "    <tr>\n",
       "      <th>27</th>\n",
       "      <td>230546.056250</td>\n",
       "      <td>3408.356271</td>\n",
       "      <td>313000.86250</td>\n",
       "      <td>7126.928841</td>\n",
       "    </tr>\n",
       "    <tr>\n",
       "      <th>28</th>\n",
       "      <td>229078.862500</td>\n",
       "      <td>3762.712999</td>\n",
       "      <td>312603.61875</td>\n",
       "      <td>7049.909958</td>\n",
       "    </tr>\n",
       "    <tr>\n",
       "      <th>29</th>\n",
       "      <td>227374.096875</td>\n",
       "      <td>3897.583606</td>\n",
       "      <td>312420.74375</td>\n",
       "      <td>7303.573857</td>\n",
       "    </tr>\n",
       "    <tr>\n",
       "      <th>30</th>\n",
       "      <td>225781.443750</td>\n",
       "      <td>3662.835791</td>\n",
       "      <td>312156.14375</td>\n",
       "      <td>7130.121573</td>\n",
       "    </tr>\n",
       "    <tr>\n",
       "      <th>31</th>\n",
       "      <td>224455.178125</td>\n",
       "      <td>3750.412146</td>\n",
       "      <td>311922.75625</td>\n",
       "      <td>7276.976408</td>\n",
       "    </tr>\n",
       "    <tr>\n",
       "      <th>32</th>\n",
       "      <td>223032.112500</td>\n",
       "      <td>3165.949536</td>\n",
       "      <td>311614.52500</td>\n",
       "      <td>7025.665001</td>\n",
       "    </tr>\n",
       "    <tr>\n",
       "      <th>33</th>\n",
       "      <td>221545.515625</td>\n",
       "      <td>3426.280797</td>\n",
       "      <td>311288.88750</td>\n",
       "      <td>7247.935651</td>\n",
       "    </tr>\n",
       "    <tr>\n",
       "      <th>34</th>\n",
       "      <td>220685.646875</td>\n",
       "      <td>3169.433320</td>\n",
       "      <td>311020.18750</td>\n",
       "      <td>7103.423113</td>\n",
       "    </tr>\n",
       "    <tr>\n",
       "      <th>35</th>\n",
       "      <td>219740.365625</td>\n",
       "      <td>3125.134566</td>\n",
       "      <td>310712.69375</td>\n",
       "      <td>7406.878461</td>\n",
       "    </tr>\n",
       "    <tr>\n",
       "      <th>36</th>\n",
       "      <td>218116.475000</td>\n",
       "      <td>2971.797361</td>\n",
       "      <td>309997.28125</td>\n",
       "      <td>7672.618026</td>\n",
       "    </tr>\n",
       "    <tr>\n",
       "      <th>37</th>\n",
       "      <td>216741.446875</td>\n",
       "      <td>3193.132976</td>\n",
       "      <td>309755.93750</td>\n",
       "      <td>7833.384386</td>\n",
       "    </tr>\n",
       "    <tr>\n",
       "      <th>38</th>\n",
       "      <td>216005.675000</td>\n",
       "      <td>2993.438261</td>\n",
       "      <td>309595.80625</td>\n",
       "      <td>7685.583831</td>\n",
       "    </tr>\n",
       "    <tr>\n",
       "      <th>39</th>\n",
       "      <td>215133.009375</td>\n",
       "      <td>3045.856707</td>\n",
       "      <td>309354.06875</td>\n",
       "      <td>7539.433922</td>\n",
       "    </tr>\n",
       "    <tr>\n",
       "      <th>40</th>\n",
       "      <td>214056.840625</td>\n",
       "      <td>3042.624959</td>\n",
       "      <td>309300.72500</td>\n",
       "      <td>7404.513199</td>\n",
       "    </tr>\n",
       "    <tr>\n",
       "      <th>41</th>\n",
       "      <td>212945.193750</td>\n",
       "      <td>2961.293088</td>\n",
       "      <td>309252.55625</td>\n",
       "      <td>7258.280598</td>\n",
       "    </tr>\n",
       "    <tr>\n",
       "      <th>42</th>\n",
       "      <td>212093.837500</td>\n",
       "      <td>3039.145201</td>\n",
       "      <td>309422.83750</td>\n",
       "      <td>7251.309240</td>\n",
       "    </tr>\n",
       "    <tr>\n",
       "      <th>43</th>\n",
       "      <td>211054.331250</td>\n",
       "      <td>2834.417493</td>\n",
       "      <td>309259.16250</td>\n",
       "      <td>7432.020582</td>\n",
       "    </tr>\n",
       "    <tr>\n",
       "      <th>44</th>\n",
       "      <td>209968.453125</td>\n",
       "      <td>2590.262144</td>\n",
       "      <td>309293.87500</td>\n",
       "      <td>7665.058673</td>\n",
       "    </tr>\n",
       "    <tr>\n",
       "      <th>45</th>\n",
       "      <td>208577.121875</td>\n",
       "      <td>2625.113365</td>\n",
       "      <td>308692.46875</td>\n",
       "      <td>8120.535976</td>\n",
       "    </tr>\n",
       "    <tr>\n",
       "      <th>46</th>\n",
       "      <td>207634.340625</td>\n",
       "      <td>2703.192012</td>\n",
       "      <td>308396.07500</td>\n",
       "      <td>8174.236690</td>\n",
       "    </tr>\n",
       "    <tr>\n",
       "      <th>47</th>\n",
       "      <td>206612.553125</td>\n",
       "      <td>2311.089701</td>\n",
       "      <td>308221.63125</td>\n",
       "      <td>7820.334529</td>\n",
       "    </tr>\n",
       "    <tr>\n",
       "      <th>48</th>\n",
       "      <td>205359.959375</td>\n",
       "      <td>2445.670993</td>\n",
       "      <td>307714.73750</td>\n",
       "      <td>7668.128406</td>\n",
       "    </tr>\n",
       "  </tbody>\n",
       "</table>\n",
       "</div>"
      ],
      "text/plain": [
       "    train-mae-mean  train-mae-std  test-mae-mean  test-mae-std\n",
       "0    767021.725000    2773.159001   772098.27500  11569.268686\n",
       "1    565104.825000    2013.910107   575626.81250  11403.966406\n",
       "2    439889.025000    5307.927818   458049.81875  10406.454342\n",
       "3    364961.925000    4591.501741   389780.59375   9656.641941\n",
       "4    322983.868750    3780.708642   354216.25625  10007.916503\n",
       "5    300787.375000    3867.258407   337587.11875  10737.148544\n",
       "6    286360.225000    2898.621464   327701.75000   8822.639910\n",
       "7    277958.356250    3675.964577   324226.90625   8207.524690\n",
       "8    271733.737500    3552.175232   321472.63750   7184.502015\n",
       "9    267424.493750    3445.979162   320597.56250   7288.545426\n",
       "10   263477.746875    2937.304593   319477.35000   6842.344579\n",
       "11   260662.959375    3407.742793   319198.33750   6993.412429\n",
       "12   256264.050000    3165.537454   317522.35000   7727.668480\n",
       "13   253472.075000    3108.455649   317275.14375   7439.439039\n",
       "14   250917.109375    2795.541253   316754.93125   7520.173691\n",
       "15   248644.806250    2904.712179   316142.96250   7451.463399\n",
       "16   247368.871875    2787.992980   316102.66875   7166.419817\n",
       "17   245272.884375    2551.377578   315664.96250   6803.642656\n",
       "18   243217.921875    2023.343945   315015.44375   7290.621768\n",
       "19   242029.640625    2341.084011   314990.43750   7344.290935\n",
       "20   240203.959375    2449.270577   314654.09375   6650.670742\n",
       "21   238594.893750    3061.371245   314136.20000   6951.362735\n",
       "22   237439.506250    2777.507957   313852.09375   6931.675607\n",
       "23   235892.959375    2863.506495   314219.69375   7083.318290\n",
       "24   234084.634375    3226.500270   313552.89375   6995.062403\n",
       "25   232774.200000    3418.008812   313451.81875   7183.014766\n",
       "26   231401.709375    3765.034966   313324.33750   7312.066436\n",
       "27   230546.056250    3408.356271   313000.86250   7126.928841\n",
       "28   229078.862500    3762.712999   312603.61875   7049.909958\n",
       "29   227374.096875    3897.583606   312420.74375   7303.573857\n",
       "30   225781.443750    3662.835791   312156.14375   7130.121573\n",
       "31   224455.178125    3750.412146   311922.75625   7276.976408\n",
       "32   223032.112500    3165.949536   311614.52500   7025.665001\n",
       "33   221545.515625    3426.280797   311288.88750   7247.935651\n",
       "34   220685.646875    3169.433320   311020.18750   7103.423113\n",
       "35   219740.365625    3125.134566   310712.69375   7406.878461\n",
       "36   218116.475000    2971.797361   309997.28125   7672.618026\n",
       "37   216741.446875    3193.132976   309755.93750   7833.384386\n",
       "38   216005.675000    2993.438261   309595.80625   7685.583831\n",
       "39   215133.009375    3045.856707   309354.06875   7539.433922\n",
       "40   214056.840625    3042.624959   309300.72500   7404.513199\n",
       "41   212945.193750    2961.293088   309252.55625   7258.280598\n",
       "42   212093.837500    3039.145201   309422.83750   7251.309240\n",
       "43   211054.331250    2834.417493   309259.16250   7432.020582\n",
       "44   209968.453125    2590.262144   309293.87500   7665.058673\n",
       "45   208577.121875    2625.113365   308692.46875   8120.535976\n",
       "46   207634.340625    2703.192012   308396.07500   8174.236690\n",
       "47   206612.553125    2311.089701   308221.63125   7820.334529\n",
       "48   205359.959375    2445.670993   307714.73750   7668.128406"
      ]
     },
     "execution_count": 259,
     "metadata": {},
     "output_type": "execute_result"
    }
   ],
   "source": [
    "cv_results = xgb.cv(\n",
    "    params,\n",
    "    dtrain,\n",
    "    num_boost_round=num_boost_round,\n",
    "    seed=100,\n",
    "    nfold=5,\n",
    "    metrics={'mae'},\n",
    "    early_stopping_rounds=10\n",
    ")\n",
    "cv_results\n"
   ]
  },
  {
   "cell_type": "code",
   "execution_count": 260,
   "metadata": {},
   "outputs": [
    {
     "data": {
      "text/plain": [
       "307714.7375"
      ]
     },
     "execution_count": 260,
     "metadata": {},
     "output_type": "execute_result"
    }
   ],
   "source": [
    "cv_results['test-mae-mean'].min()"
   ]
  },
  {
   "cell_type": "code",
   "execution_count": 265,
   "metadata": {},
   "outputs": [],
   "source": [
    "gridsearch_params = [\n",
    "    (max_depth, min_child_weight)\n",
    "    for max_depth in range(9,16)\n",
    "    for min_child_weight in range(3,7)\n",
    "]"
   ]
  },
  {
   "cell_type": "markdown",
   "metadata": {},
   "source": [
    "### The following codes below takes significant amount of time"
   ]
  },
  {
   "cell_type": "code",
   "execution_count": 266,
   "metadata": {},
   "outputs": [
    {
     "name": "stdout",
     "output_type": "stream",
     "text": [
      "CV with max_depth=9, min_child_weight=3\n",
      "\tMAE 307254.65 for 9 rounds\n",
      "CV with max_depth=9, min_child_weight=4\n",
      "\tMAE 311186.48125 for 9 rounds\n",
      "CV with max_depth=9, min_child_weight=5\n",
      "\tMAE 311503.925 for 9 rounds\n",
      "CV with max_depth=9, min_child_weight=6\n",
      "\tMAE 311965.6625 for 8 rounds\n",
      "CV with max_depth=10, min_child_weight=3\n",
      "\tMAE 305920.10625 for 10 rounds\n",
      "CV with max_depth=10, min_child_weight=4\n",
      "\tMAE 306216.2875 for 8 rounds\n",
      "CV with max_depth=10, min_child_weight=5\n",
      "\tMAE 306471.3375 for 8 rounds\n",
      "CV with max_depth=10, min_child_weight=6\n",
      "\tMAE 308893.54375 for 8 rounds\n",
      "CV with max_depth=11, min_child_weight=3\n",
      "\tMAE 304014.95625 for 8 rounds\n",
      "CV with max_depth=11, min_child_weight=4\n",
      "\tMAE 308062.675 for 8 rounds\n",
      "CV with max_depth=11, min_child_weight=5\n",
      "\tMAE 304221.6375 for 8 rounds\n",
      "CV with max_depth=11, min_child_weight=6\n",
      "\tMAE 305904.48125 for 8 rounds\n",
      "CV with max_depth=12, min_child_weight=3\n",
      "\tMAE 304936.20625 for 8 rounds\n",
      "CV with max_depth=12, min_child_weight=4\n",
      "\tMAE 306821.24375 for 9 rounds\n",
      "CV with max_depth=12, min_child_weight=5\n",
      "\tMAE 306597.21875 for 8 rounds\n",
      "CV with max_depth=12, min_child_weight=6\n",
      "\tMAE 305994.7 for 8 rounds\n",
      "CV with max_depth=13, min_child_weight=3\n",
      "\tMAE 302176.575 for 9 rounds\n",
      "CV with max_depth=13, min_child_weight=4\n",
      "\tMAE 306195.275 for 8 rounds\n",
      "CV with max_depth=13, min_child_weight=5\n",
      "\tMAE 306324.06875 for 8 rounds\n",
      "CV with max_depth=13, min_child_weight=6\n",
      "\tMAE 303247.59375 for 8 rounds\n",
      "CV with max_depth=14, min_child_weight=3\n",
      "\tMAE 301923.45 for 9 rounds\n",
      "CV with max_depth=14, min_child_weight=4\n",
      "\tMAE 305121.88125 for 8 rounds\n",
      "CV with max_depth=14, min_child_weight=5\n",
      "\tMAE 305561.81875 for 8 rounds\n",
      "CV with max_depth=14, min_child_weight=6\n",
      "\tMAE 304604.0 for 8 rounds\n",
      "CV with max_depth=15, min_child_weight=3\n",
      "\tMAE 301846.7625 for 9 rounds\n",
      "CV with max_depth=15, min_child_weight=4\n",
      "\tMAE 307144.66875 for 7 rounds\n",
      "CV with max_depth=15, min_child_weight=5\n",
      "\tMAE 304785.45 for 8 rounds\n",
      "CV with max_depth=15, min_child_weight=6\n",
      "\tMAE 302443.18125 for 8 rounds\n",
      "Best params: 15, 3, MAE: 301846.7625\n"
     ]
    }
   ],
   "source": [
    "min_mae = float(\"Inf\")\n",
    "best_params = None\n",
    "for max_depth, min_child_weight in gridsearch_params:\n",
    "    print(\"CV with max_depth={}, min_child_weight={}\".format(\n",
    "                             max_depth,\n",
    "                             min_child_weight))\n",
    "    # Update our parameters\n",
    "    params['max_depth'] = max_depth\n",
    "    params['min_child_weight'] = min_child_weight\n",
    "    # Run CV\n",
    "    cv_results = xgb.cv(\n",
    "        params,\n",
    "        dtrain,\n",
    "        num_boost_round=num_boost_round,\n",
    "        seed=100,\n",
    "        nfold=5,\n",
    "        metrics={'mae'},\n",
    "        early_stopping_rounds=10\n",
    "    )\n",
    "    # Update best MAE\n",
    "    mean_mae = cv_results['test-mae-mean'].min()\n",
    "    boost_rounds = cv_results['test-mae-mean'].argmin()\n",
    "    print(\"\\tMAE {} for {} rounds\".format(mean_mae, boost_rounds))\n",
    "    if mean_mae < min_mae:\n",
    "        min_mae = mean_mae\n",
    "        best_params = (max_depth,min_child_weight)\n",
    "print(\"Best params: {}, {}, MAE: {}\".format(best_params[0], best_params[1], min_mae))"
   ]
  },
  {
   "cell_type": "code",
   "execution_count": 267,
   "metadata": {},
   "outputs": [],
   "source": [
    "params['max_depth'] = 15\n",
    "params['min_child_weight'] = 3"
   ]
  },
  {
   "cell_type": "code",
   "execution_count": 270,
   "metadata": {},
   "outputs": [],
   "source": [
    "gridsearch_params = [\n",
    "    (subsample, colsample)\n",
    "    for subsample in [i/10. for i in range(7,11)]\n",
    "    for colsample in [i/10. for i in range(7,11)]\n",
    "]"
   ]
  },
  {
   "cell_type": "code",
   "execution_count": 271,
   "metadata": {},
   "outputs": [
    {
     "name": "stdout",
     "output_type": "stream",
     "text": [
      "CV with subsample=1.0, colsample=1.0\n",
      "\tMAE 301846.7625 for 9 rounds\n",
      "CV with subsample=1.0, colsample=0.9\n",
      "\tMAE 304594.7625 for 9 rounds\n",
      "CV with subsample=1.0, colsample=0.8\n",
      "\tMAE 300900.5375 for 8 rounds\n",
      "CV with subsample=1.0, colsample=0.7\n",
      "\tMAE 306219.61875 for 8 rounds\n",
      "CV with subsample=0.9, colsample=1.0\n",
      "\tMAE 304773.85625 for 8 rounds\n",
      "CV with subsample=0.9, colsample=0.9\n",
      "\tMAE 307571.95 for 8 rounds\n",
      "CV with subsample=0.9, colsample=0.8\n",
      "\tMAE 302934.05625 for 9 rounds\n",
      "CV with subsample=0.9, colsample=0.7\n",
      "\tMAE 306892.84375 for 8 rounds\n",
      "CV with subsample=0.8, colsample=1.0\n",
      "\tMAE 309344.0125 for 8 rounds\n",
      "CV with subsample=0.8, colsample=0.9\n",
      "\tMAE 307103.19375 for 8 rounds\n",
      "CV with subsample=0.8, colsample=0.8\n",
      "\tMAE 308844.1875 for 9 rounds\n",
      "CV with subsample=0.8, colsample=0.7\n",
      "\tMAE 306747.2625 for 8 rounds\n",
      "CV with subsample=0.7, colsample=1.0\n",
      "\tMAE 309717.21875 for 7 rounds\n",
      "CV with subsample=0.7, colsample=0.9\n",
      "\tMAE 307559.6625 for 9 rounds\n",
      "CV with subsample=0.7, colsample=0.8\n",
      "\tMAE 310208.94375 for 8 rounds\n",
      "CV with subsample=0.7, colsample=0.7\n",
      "\tMAE 316670.50625 for 8 rounds\n",
      "Best params: 1.0, 0.8, MAE: 300900.5375\n"
     ]
    }
   ],
   "source": [
    "min_mae = float(\"Inf\")\n",
    "best_params = None\n",
    "# We start by the largest values and go down to the smallest\n",
    "for subsample, colsample in reversed(gridsearch_params):\n",
    "    print(\"CV with subsample={}, colsample={}\".format(\n",
    "                             subsample,\n",
    "                             colsample))\n",
    "    # We update our parameters\n",
    "    params['subsample'] = subsample\n",
    "    params['colsample_bytree'] = colsample\n",
    "    # Run CV\n",
    "    cv_results = xgb.cv(\n",
    "        params,\n",
    "        dtrain,\n",
    "        num_boost_round=num_boost_round,\n",
    "        seed=100,\n",
    "        nfold=5,\n",
    "        metrics={'mae'},\n",
    "        early_stopping_rounds=10\n",
    "    )\n",
    "    # Update best score\n",
    "    mean_mae = cv_results['test-mae-mean'].min()\n",
    "    boost_rounds = cv_results['test-mae-mean'].argmin()\n",
    "    print(\"\\tMAE {} for {} rounds\".format(mean_mae, boost_rounds))\n",
    "    if mean_mae < min_mae:\n",
    "        min_mae = mean_mae\n",
    "        best_params = (subsample,colsample)\n",
    "print(\"Best params: {}, {}, MAE: {}\".format(best_params[0], best_params[1], min_mae))"
   ]
  },
  {
   "cell_type": "code",
   "execution_count": 272,
   "metadata": {},
   "outputs": [],
   "source": [
    "params['subsample'] = 1.0\n",
    "params['colsample_bytree'] = 0.8"
   ]
  },
  {
   "cell_type": "code",
   "execution_count": 273,
   "metadata": {},
   "outputs": [
    {
     "name": "stdout",
     "output_type": "stream",
     "text": [
      "Wall time: 0 ns\n",
      "CV with eta=0.3\n",
      "Wall time: 0 ns\n",
      "\tMAE 300900.5375 for 8 rounds\n",
      "\n",
      "CV with eta=0.2\n",
      "Wall time: 0 ns\n",
      "\tMAE 294054.61875 for 15 rounds\n",
      "\n",
      "CV with eta=0.1\n",
      "Wall time: 0 ns\n",
      "\tMAE 284979.21875 for 32 rounds\n",
      "\n",
      "CV with eta=0.05\n",
      "Wall time: 0 ns\n",
      "\tMAE 281381.7875 for 63 rounds\n",
      "\n",
      "CV with eta=0.01\n",
      "Wall time: 0 ns\n",
      "\tMAE 279185.15625 for 329 rounds\n",
      "\n",
      "CV with eta=0.005\n",
      "Wall time: 0 ns\n",
      "\tMAE 278524.2125 for 677 rounds\n",
      "\n",
      "Best params: 0.005, MAE: 278524.2125\n"
     ]
    }
   ],
   "source": [
    "%time\n",
    "# This can take some time…\n",
    "min_mae = float(\"Inf\")\n",
    "best_params = None\n",
    "for eta in [.3, .2, .1, .05, .01, .005]:\n",
    "    print(\"CV with eta={}\".format(eta))\n",
    "    # We update our parameters\n",
    "    params['eta'] = eta\n",
    "    # Run and time CV\n",
    "    %time \n",
    "    cv_results = xgb.cv(\n",
    "            params,\n",
    "            dtrain,\n",
    "            num_boost_round=num_boost_round,\n",
    "            seed=100,\n",
    "            nfold=5,\n",
    "            metrics=['mae'],\n",
    "            early_stopping_rounds=10)\n",
    "    # Update best score\n",
    "    mean_mae = cv_results['test-mae-mean'].min()\n",
    "    boost_rounds = cv_results['test-mae-mean'].argmin()\n",
    "    print(\"\\tMAE {} for {} rounds\\n\".format(mean_mae, boost_rounds))\n",
    "    if mean_mae < min_mae:\n",
    "        min_mae = mean_mae\n",
    "        best_params = eta\n",
    "print(\"Best params: {}, MAE: {}\".format(best_params, min_mae))"
   ]
  },
  {
   "cell_type": "code",
   "execution_count": 277,
   "metadata": {},
   "outputs": [
    {
     "data": {
      "text/plain": [
       "{'max_depth': 15,\n",
       " 'min_child_weight': 3,\n",
       " 'eta': 0.01,\n",
       " 'subsample': 1.0,\n",
       " 'colsample_bytree': 0.8,\n",
       " 'objective': 'reg:squarederror',\n",
       " 'eval_metric': 'mae'}"
      ]
     },
     "execution_count": 277,
     "metadata": {},
     "output_type": "execute_result"
    }
   ],
   "source": [
    "params['eta'] = 0.01\n",
    "params"
   ]
  },
  {
   "cell_type": "code",
   "execution_count": 278,
   "metadata": {},
   "outputs": [
    {
     "name": "stdout",
     "output_type": "stream",
     "text": [
      "[0]\tTest-mae:1077801.37500\n",
      "[1]\tTest-mae:1067296.00000\n",
      "[2]\tTest-mae:1056875.87500\n",
      "[3]\tTest-mae:1046497.93750\n",
      "[4]\tTest-mae:1036313.56250\n",
      "[5]\tTest-mae:1026320.62500\n",
      "[6]\tTest-mae:1016395.12500\n",
      "[7]\tTest-mae:1006581.43750\n",
      "[8]\tTest-mae:996816.37500\n",
      "[9]\tTest-mae:987106.87500\n",
      "[10]\tTest-mae:977636.56250\n",
      "[11]\tTest-mae:968143.12500\n",
      "[12]\tTest-mae:958814.12500\n",
      "[13]\tTest-mae:949507.50000\n",
      "[14]\tTest-mae:940269.12500\n",
      "[15]\tTest-mae:931339.43750\n",
      "[16]\tTest-mae:922422.93750\n",
      "[17]\tTest-mae:913609.43750\n",
      "[18]\tTest-mae:904758.50000\n",
      "[19]\tTest-mae:896154.56250\n",
      "[20]\tTest-mae:887459.75000\n",
      "[21]\tTest-mae:878899.81250\n",
      "[22]\tTest-mae:870630.75000\n",
      "[23]\tTest-mae:862547.43750\n",
      "[24]\tTest-mae:854569.31250\n",
      "[25]\tTest-mae:846469.68750\n",
      "[26]\tTest-mae:838450.81250\n",
      "[27]\tTest-mae:830396.93750\n",
      "[28]\tTest-mae:822648.31250\n",
      "[29]\tTest-mae:815011.12500\n",
      "[30]\tTest-mae:807292.06250\n",
      "[31]\tTest-mae:799708.06250\n",
      "[32]\tTest-mae:792306.43750\n",
      "[33]\tTest-mae:784899.00000\n",
      "[34]\tTest-mae:777545.12500\n",
      "[35]\tTest-mae:770364.87500\n",
      "[36]\tTest-mae:763172.00000\n",
      "[37]\tTest-mae:756109.06250\n",
      "[38]\tTest-mae:749158.18750\n",
      "[39]\tTest-mae:742095.87500\n",
      "[40]\tTest-mae:735255.25000\n",
      "[41]\tTest-mae:728499.93750\n",
      "[42]\tTest-mae:721806.00000\n",
      "[43]\tTest-mae:715163.12500\n",
      "[44]\tTest-mae:708647.93750\n",
      "[45]\tTest-mae:702168.31250\n",
      "[46]\tTest-mae:695947.81250\n",
      "[47]\tTest-mae:689657.56250\n",
      "[48]\tTest-mae:683298.43750\n",
      "[49]\tTest-mae:677082.75000\n",
      "[50]\tTest-mae:670943.06250\n",
      "[51]\tTest-mae:664793.81250\n",
      "[52]\tTest-mae:658799.31250\n",
      "[53]\tTest-mae:652848.18750\n",
      "[54]\tTest-mae:646982.00000\n",
      "[55]\tTest-mae:641318.56250\n",
      "[56]\tTest-mae:635621.87500\n",
      "[57]\tTest-mae:630037.43750\n",
      "[58]\tTest-mae:624432.62500\n",
      "[59]\tTest-mae:619078.12500\n",
      "[60]\tTest-mae:613791.87500\n",
      "[61]\tTest-mae:608336.50000\n",
      "[62]\tTest-mae:603064.31250\n",
      "[63]\tTest-mae:597952.56250\n",
      "[64]\tTest-mae:592874.25000\n",
      "[65]\tTest-mae:587830.06250\n",
      "[66]\tTest-mae:582878.37500\n",
      "[67]\tTest-mae:578113.06250\n",
      "[68]\tTest-mae:573219.37500\n",
      "[69]\tTest-mae:568434.75000\n",
      "[70]\tTest-mae:563762.75000\n",
      "[71]\tTest-mae:559097.75000\n",
      "[72]\tTest-mae:554386.50000\n",
      "[73]\tTest-mae:549777.93750\n",
      "[74]\tTest-mae:545366.00000\n",
      "[75]\tTest-mae:540869.31250\n",
      "[76]\tTest-mae:536607.12500\n",
      "[77]\tTest-mae:532266.81250\n",
      "[78]\tTest-mae:527965.18750\n",
      "[79]\tTest-mae:523751.06250\n",
      "[80]\tTest-mae:519625.50000\n",
      "[81]\tTest-mae:515694.03125\n",
      "[82]\tTest-mae:511608.65625\n",
      "[83]\tTest-mae:507691.56250\n",
      "[84]\tTest-mae:503712.03125\n",
      "[85]\tTest-mae:499840.03125\n",
      "[86]\tTest-mae:495858.28125\n",
      "[87]\tTest-mae:492128.12500\n",
      "[88]\tTest-mae:488431.37500\n",
      "[89]\tTest-mae:484762.96875\n",
      "[90]\tTest-mae:481111.43750\n",
      "[91]\tTest-mae:477550.81250\n",
      "[92]\tTest-mae:474013.84375\n",
      "[93]\tTest-mae:470550.28125\n",
      "[94]\tTest-mae:467065.37500\n",
      "[95]\tTest-mae:463659.34375\n",
      "[96]\tTest-mae:460267.21875\n",
      "[97]\tTest-mae:456981.40625\n",
      "[98]\tTest-mae:453680.78125\n",
      "[99]\tTest-mae:450506.62500\n",
      "[100]\tTest-mae:447372.84375\n",
      "[101]\tTest-mae:444247.50000\n",
      "[102]\tTest-mae:441169.00000\n",
      "[103]\tTest-mae:438176.25000\n",
      "[104]\tTest-mae:435219.43750\n",
      "[105]\tTest-mae:432304.84375\n",
      "[106]\tTest-mae:429255.46875\n",
      "[107]\tTest-mae:426549.75000\n",
      "[108]\tTest-mae:423619.81250\n",
      "[109]\tTest-mae:420817.78125\n",
      "[110]\tTest-mae:418024.34375\n",
      "[111]\tTest-mae:415276.03125\n",
      "[112]\tTest-mae:412566.53125\n",
      "[113]\tTest-mae:409912.31250\n",
      "[114]\tTest-mae:407315.75000\n",
      "[115]\tTest-mae:404747.71875\n",
      "[116]\tTest-mae:402212.56250\n",
      "[117]\tTest-mae:399734.71875\n",
      "[118]\tTest-mae:397264.18750\n",
      "[119]\tTest-mae:394886.65625\n",
      "[120]\tTest-mae:392465.37500\n",
      "[121]\tTest-mae:390069.00000\n",
      "[122]\tTest-mae:387667.84375\n",
      "[123]\tTest-mae:385500.71875\n",
      "[124]\tTest-mae:383272.59375\n",
      "[125]\tTest-mae:381080.06250\n",
      "[126]\tTest-mae:378816.75000\n",
      "[127]\tTest-mae:376586.56250\n",
      "[128]\tTest-mae:374424.62500\n",
      "[129]\tTest-mae:372398.21875\n",
      "[130]\tTest-mae:370453.75000\n",
      "[131]\tTest-mae:368516.25000\n",
      "[132]\tTest-mae:366581.71875\n",
      "[133]\tTest-mae:364686.53125\n",
      "[134]\tTest-mae:362773.43750\n",
      "[135]\tTest-mae:360891.53125\n",
      "[136]\tTest-mae:358984.78125\n",
      "[137]\tTest-mae:357333.68750\n",
      "[138]\tTest-mae:355619.78125\n",
      "[139]\tTest-mae:353823.81250\n",
      "[140]\tTest-mae:352275.90625\n",
      "[141]\tTest-mae:350628.15625\n",
      "[142]\tTest-mae:348984.96875\n",
      "[143]\tTest-mae:347382.84375\n",
      "[144]\tTest-mae:345824.87500\n",
      "[145]\tTest-mae:344222.84375\n",
      "[146]\tTest-mae:342672.56250\n",
      "[147]\tTest-mae:341156.00000\n",
      "[148]\tTest-mae:339676.31250\n",
      "[149]\tTest-mae:338228.34375\n",
      "[150]\tTest-mae:336738.34375\n",
      "[151]\tTest-mae:335271.84375\n",
      "[152]\tTest-mae:333905.65625\n",
      "[153]\tTest-mae:332489.12500\n",
      "[154]\tTest-mae:331137.75000\n",
      "[155]\tTest-mae:329825.71875\n",
      "[156]\tTest-mae:328556.00000\n",
      "[157]\tTest-mae:327317.56250\n",
      "[158]\tTest-mae:326005.31250\n",
      "[159]\tTest-mae:324733.00000\n",
      "[160]\tTest-mae:323533.62500\n",
      "[161]\tTest-mae:322369.21875\n",
      "[162]\tTest-mae:321225.56250\n",
      "[163]\tTest-mae:320008.06250\n",
      "[164]\tTest-mae:318868.50000\n",
      "[165]\tTest-mae:317742.59375\n",
      "[166]\tTest-mae:316663.03125\n",
      "[167]\tTest-mae:315623.21875\n",
      "[168]\tTest-mae:314620.37500\n",
      "[169]\tTest-mae:313543.21875\n",
      "[170]\tTest-mae:312545.21875\n",
      "[171]\tTest-mae:311537.15625\n",
      "[172]\tTest-mae:310496.28125\n",
      "[173]\tTest-mae:309637.25000\n",
      "[174]\tTest-mae:308780.59375\n",
      "[175]\tTest-mae:307787.90625\n",
      "[176]\tTest-mae:306923.00000\n",
      "[177]\tTest-mae:305975.12500\n",
      "[178]\tTest-mae:305077.43750\n",
      "[179]\tTest-mae:304240.43750\n",
      "[180]\tTest-mae:303399.56250\n",
      "[181]\tTest-mae:302674.28125\n",
      "[182]\tTest-mae:301893.65625\n",
      "[183]\tTest-mae:301049.62500\n",
      "[184]\tTest-mae:300291.46875\n",
      "[185]\tTest-mae:299566.40625\n",
      "[186]\tTest-mae:298768.31250\n",
      "[187]\tTest-mae:298030.84375\n",
      "[188]\tTest-mae:297291.28125\n",
      "[189]\tTest-mae:296605.71875\n",
      "[190]\tTest-mae:295903.53125\n",
      "[191]\tTest-mae:295259.56250\n",
      "[192]\tTest-mae:294569.53125\n",
      "[193]\tTest-mae:293927.50000\n",
      "[194]\tTest-mae:293277.25000\n",
      "[195]\tTest-mae:292583.37500\n",
      "[196]\tTest-mae:291943.81250\n",
      "[197]\tTest-mae:291343.62500\n",
      "[198]\tTest-mae:290761.34375\n",
      "[199]\tTest-mae:290155.62500\n",
      "[200]\tTest-mae:289549.71875\n",
      "[201]\tTest-mae:288972.90625\n",
      "[202]\tTest-mae:288402.53125\n",
      "[203]\tTest-mae:287871.31250\n",
      "[204]\tTest-mae:287358.34375\n",
      "[205]\tTest-mae:286847.03125\n",
      "[206]\tTest-mae:286347.96875\n",
      "[207]\tTest-mae:285814.93750\n",
      "[208]\tTest-mae:285316.06250\n",
      "[209]\tTest-mae:284853.40625\n",
      "[210]\tTest-mae:284390.18750\n",
      "[211]\tTest-mae:283954.71875\n",
      "[212]\tTest-mae:283569.75000\n",
      "[213]\tTest-mae:283101.28125\n",
      "[214]\tTest-mae:282649.56250\n",
      "[215]\tTest-mae:282190.56250\n",
      "[216]\tTest-mae:281769.93750\n",
      "[217]\tTest-mae:281393.90625\n",
      "[218]\tTest-mae:280974.56250\n",
      "[219]\tTest-mae:280553.93750\n",
      "[220]\tTest-mae:280168.00000\n",
      "[221]\tTest-mae:279884.62500\n",
      "[222]\tTest-mae:279527.31250\n",
      "[223]\tTest-mae:279157.34375\n",
      "[224]\tTest-mae:278850.31250\n",
      "[225]\tTest-mae:278556.18750\n",
      "[226]\tTest-mae:278214.43750\n",
      "[227]\tTest-mae:277911.71875\n",
      "[228]\tTest-mae:277621.00000\n",
      "[229]\tTest-mae:277317.43750\n",
      "[230]\tTest-mae:277046.06250\n",
      "[231]\tTest-mae:276822.37500\n",
      "[232]\tTest-mae:276518.00000\n",
      "[233]\tTest-mae:276232.25000\n",
      "[234]\tTest-mae:275981.31250\n",
      "[235]\tTest-mae:275734.34375\n",
      "[236]\tTest-mae:275540.21875\n",
      "[237]\tTest-mae:275272.53125\n",
      "[238]\tTest-mae:275041.65625\n",
      "[239]\tTest-mae:274839.31250\n",
      "[240]\tTest-mae:274673.18750\n",
      "[241]\tTest-mae:274438.59375\n",
      "[242]\tTest-mae:274265.62500\n",
      "[243]\tTest-mae:274052.68750\n",
      "[244]\tTest-mae:273844.43750\n",
      "[245]\tTest-mae:273617.81250\n",
      "[246]\tTest-mae:273438.62500\n",
      "[247]\tTest-mae:273285.21875\n",
      "[248]\tTest-mae:273087.06250\n",
      "[249]\tTest-mae:272920.09375\n",
      "[250]\tTest-mae:272707.37500\n",
      "[251]\tTest-mae:272539.12500\n",
      "[252]\tTest-mae:272334.87500\n",
      "[253]\tTest-mae:272183.62500\n",
      "[254]\tTest-mae:272035.34375\n",
      "[255]\tTest-mae:271873.53125\n",
      "[256]\tTest-mae:271696.81250\n",
      "[257]\tTest-mae:271506.87500\n",
      "[258]\tTest-mae:271368.56250\n",
      "[259]\tTest-mae:271200.25000\n",
      "[260]\tTest-mae:271062.12500\n",
      "[261]\tTest-mae:270970.28125\n",
      "[262]\tTest-mae:270842.78125\n",
      "[263]\tTest-mae:270680.78125\n",
      "[264]\tTest-mae:270581.90625\n",
      "[265]\tTest-mae:270418.65625\n",
      "[266]\tTest-mae:270352.06250\n",
      "[267]\tTest-mae:270257.06250\n",
      "[268]\tTest-mae:270166.50000\n",
      "[269]\tTest-mae:270086.00000\n",
      "[270]\tTest-mae:269986.81250\n",
      "[271]\tTest-mae:269912.25000\n",
      "[272]\tTest-mae:269818.93750\n",
      "[273]\tTest-mae:269717.90625\n",
      "[274]\tTest-mae:269605.43750\n",
      "[275]\tTest-mae:269518.12500\n",
      "[276]\tTest-mae:269417.25000\n",
      "[277]\tTest-mae:269357.00000\n",
      "[278]\tTest-mae:269280.56250\n",
      "[279]\tTest-mae:269246.75000\n",
      "[280]\tTest-mae:269242.50000\n",
      "[281]\tTest-mae:269182.75000\n",
      "[282]\tTest-mae:269169.25000\n",
      "[283]\tTest-mae:269144.96875\n",
      "[284]\tTest-mae:269104.06250\n",
      "[285]\tTest-mae:269103.78125\n",
      "[286]\tTest-mae:269041.50000\n",
      "[287]\tTest-mae:268996.62500\n",
      "[288]\tTest-mae:268937.53125\n",
      "[289]\tTest-mae:268916.65625\n",
      "[290]\tTest-mae:268923.40625\n",
      "[291]\tTest-mae:268930.31250\n",
      "[292]\tTest-mae:268953.25000\n",
      "[293]\tTest-mae:268900.71875\n",
      "[294]\tTest-mae:268854.50000\n",
      "[295]\tTest-mae:268842.21875\n",
      "[296]\tTest-mae:268884.71875\n"
     ]
    },
    {
     "name": "stdout",
     "output_type": "stream",
     "text": [
      "[297]\tTest-mae:268872.62500\n",
      "[298]\tTest-mae:268884.15625\n",
      "[299]\tTest-mae:268890.90625\n",
      "[300]\tTest-mae:268840.59375\n",
      "[301]\tTest-mae:268859.62500\n",
      "[302]\tTest-mae:268857.65625\n",
      "[303]\tTest-mae:268848.90625\n",
      "[304]\tTest-mae:268843.90625\n",
      "[305]\tTest-mae:268887.68750\n",
      "[306]\tTest-mae:268867.21875\n",
      "[307]\tTest-mae:268848.59375\n",
      "[308]\tTest-mae:268789.59375\n",
      "[309]\tTest-mae:268765.37500\n",
      "[310]\tTest-mae:268789.12500\n",
      "[311]\tTest-mae:268812.06250\n",
      "[312]\tTest-mae:268808.59375\n",
      "[313]\tTest-mae:268856.68750\n",
      "[314]\tTest-mae:268884.12500\n",
      "[315]\tTest-mae:268857.62500\n",
      "[316]\tTest-mae:268858.87500\n",
      "[317]\tTest-mae:268888.00000\n",
      "[318]\tTest-mae:268863.25000\n",
      "[319]\tTest-mae:268882.90625\n"
     ]
    }
   ],
   "source": [
    "model = xgb.train(\n",
    "    params,\n",
    "    dtrain,\n",
    "    num_boost_round=num_boost_round,\n",
    "    evals=[(dtest, \"Test\")],\n",
    "    early_stopping_rounds=10\n",
    ")"
   ]
  },
  {
   "cell_type": "code",
   "execution_count": 280,
   "metadata": {},
   "outputs": [
    {
     "data": {
      "text/plain": [
       "309"
      ]
     },
     "execution_count": 280,
     "metadata": {},
     "output_type": "execute_result"
    }
   ],
   "source": [
    "model.best_iteration"
   ]
  },
  {
   "cell_type": "code",
   "execution_count": 426,
   "metadata": {},
   "outputs": [
    {
     "name": "stdout",
     "output_type": "stream",
     "text": [
      "[0]\tTest-mae:769709.06250\n",
      "[1]\tTest-mae:565849.68750\n",
      "[2]\tTest-mae:446868.12500\n",
      "[3]\tTest-mae:378399.31250\n",
      "[4]\tTest-mae:341816.34375\n",
      "[5]\tTest-mae:325107.90625\n",
      "[6]\tTest-mae:318500.06250\n",
      "[7]\tTest-mae:316095.53125\n",
      "[8]\tTest-mae:316323.25000\n",
      "[9]\tTest-mae:317011.37500\n",
      "[10]\tTest-mae:315827.68750\n",
      "[11]\tTest-mae:315474.96875\n",
      "[12]\tTest-mae:314274.34375\n",
      "[13]\tTest-mae:313992.93750\n",
      "[14]\tTest-mae:312873.00000\n",
      "[15]\tTest-mae:311101.12500\n",
      "[16]\tTest-mae:310880.68750\n",
      "[17]\tTest-mae:310262.37500\n",
      "[18]\tTest-mae:309752.00000\n",
      "[19]\tTest-mae:309435.62500\n",
      "[20]\tTest-mae:309002.56250\n",
      "[21]\tTest-mae:308815.34375\n",
      "[22]\tTest-mae:308751.68750\n",
      "[23]\tTest-mae:309715.93750\n",
      "[24]\tTest-mae:309360.84375\n",
      "[25]\tTest-mae:308464.93750\n",
      "[26]\tTest-mae:307626.00000\n",
      "[27]\tTest-mae:307572.18750\n",
      "[28]\tTest-mae:307151.46875\n",
      "[29]\tTest-mae:306703.40625\n",
      "[30]\tTest-mae:305996.31250\n",
      "[31]\tTest-mae:305760.68750\n",
      "[32]\tTest-mae:305595.62500\n",
      "[33]\tTest-mae:305814.78125\n",
      "[34]\tTest-mae:305795.12500\n",
      "[35]\tTest-mae:304927.43750\n",
      "[36]\tTest-mae:304789.06250\n",
      "[37]\tTest-mae:304604.71875\n",
      "[38]\tTest-mae:304514.12500\n",
      "[39]\tTest-mae:304595.84375\n",
      "[40]\tTest-mae:304445.78125\n",
      "[41]\tTest-mae:304063.65625\n",
      "[42]\tTest-mae:301819.00000\n",
      "[43]\tTest-mae:302042.62500\n",
      "[44]\tTest-mae:301886.18750\n",
      "[45]\tTest-mae:301608.53125\n",
      "[46]\tTest-mae:300994.00000\n",
      "[47]\tTest-mae:300825.25000\n",
      "[48]\tTest-mae:301051.90625\n",
      "[49]\tTest-mae:300994.00000\n",
      "[50]\tTest-mae:300733.03125\n",
      "[51]\tTest-mae:300395.43750\n",
      "[52]\tTest-mae:300471.15625\n",
      "[53]\tTest-mae:300405.15625\n",
      "[54]\tTest-mae:300199.37500\n",
      "[55]\tTest-mae:300124.06250\n",
      "[56]\tTest-mae:300640.18750\n",
      "[57]\tTest-mae:299491.09375\n",
      "[58]\tTest-mae:299578.78125\n",
      "[59]\tTest-mae:299639.46875\n",
      "[60]\tTest-mae:299563.93750\n",
      "[61]\tTest-mae:299192.25000\n",
      "[62]\tTest-mae:299013.46875\n",
      "[63]\tTest-mae:298832.84375\n",
      "[64]\tTest-mae:298813.09375\n",
      "[65]\tTest-mae:298760.06250\n",
      "[66]\tTest-mae:299014.59375\n",
      "[67]\tTest-mae:299099.71875\n",
      "[68]\tTest-mae:299116.56250\n",
      "[69]\tTest-mae:298881.37500\n",
      "[70]\tTest-mae:298412.15625\n",
      "[71]\tTest-mae:298325.34375\n",
      "[72]\tTest-mae:298164.12500\n",
      "[73]\tTest-mae:298350.40625\n",
      "[74]\tTest-mae:298373.46875\n",
      "[75]\tTest-mae:298269.31250\n",
      "[76]\tTest-mae:298198.15625\n",
      "[77]\tTest-mae:298061.93750\n",
      "[78]\tTest-mae:298021.93750\n",
      "[79]\tTest-mae:298126.87500\n",
      "[80]\tTest-mae:297940.62500\n",
      "[81]\tTest-mae:297746.84375\n",
      "[82]\tTest-mae:297978.15625\n",
      "[83]\tTest-mae:297683.84375\n",
      "[84]\tTest-mae:297588.84375\n",
      "[85]\tTest-mae:297755.18750\n",
      "[86]\tTest-mae:297685.31250\n",
      "[87]\tTest-mae:297446.81250\n",
      "[88]\tTest-mae:297369.93750\n",
      "[89]\tTest-mae:297104.21875\n",
      "[90]\tTest-mae:297076.56250\n",
      "[91]\tTest-mae:296644.09375\n",
      "[92]\tTest-mae:296274.87500\n",
      "[93]\tTest-mae:296166.84375\n",
      "[94]\tTest-mae:296153.03125\n",
      "[95]\tTest-mae:296106.59375\n",
      "[96]\tTest-mae:296262.59375\n",
      "[97]\tTest-mae:296151.68750\n",
      "[98]\tTest-mae:296358.18750\n",
      "[99]\tTest-mae:296157.96875\n",
      "[100]\tTest-mae:296183.15625\n",
      "[101]\tTest-mae:296247.81250\n",
      "[102]\tTest-mae:295455.90625\n",
      "[103]\tTest-mae:295238.59375\n",
      "[104]\tTest-mae:295102.40625\n",
      "[105]\tTest-mae:295306.56250\n",
      "[106]\tTest-mae:295457.03125\n",
      "[107]\tTest-mae:295547.59375\n",
      "[108]\tTest-mae:295521.15625\n",
      "[109]\tTest-mae:295574.43750\n",
      "[110]\tTest-mae:295553.12500\n",
      "[111]\tTest-mae:295476.84375\n",
      "[112]\tTest-mae:295710.81250\n",
      "[113]\tTest-mae:295698.90625\n",
      "[114]\tTest-mae:295446.71875\n",
      "[115]\tTest-mae:295422.62500\n",
      "[116]\tTest-mae:295428.87500\n",
      "[117]\tTest-mae:295479.28125\n",
      "[118]\tTest-mae:295579.46875\n",
      "[119]\tTest-mae:295077.93750\n",
      "[120]\tTest-mae:295087.18750\n",
      "[121]\tTest-mae:295150.90625\n",
      "[122]\tTest-mae:295179.71875\n",
      "[123]\tTest-mae:295205.96875\n",
      "[124]\tTest-mae:294983.00000\n",
      "[125]\tTest-mae:294900.21875\n",
      "[126]\tTest-mae:294868.25000\n",
      "[127]\tTest-mae:294569.06250\n",
      "[128]\tTest-mae:294435.50000\n",
      "[129]\tTest-mae:294433.93750\n",
      "[130]\tTest-mae:294329.96875\n",
      "[131]\tTest-mae:294373.50000\n",
      "[132]\tTest-mae:294678.62500\n",
      "[133]\tTest-mae:294675.31250\n",
      "[134]\tTest-mae:294744.28125\n",
      "[135]\tTest-mae:294739.65625\n",
      "[136]\tTest-mae:294457.93750\n",
      "[137]\tTest-mae:294452.18750\n",
      "[138]\tTest-mae:294528.50000\n",
      "[139]\tTest-mae:294332.03125\n",
      "[140]\tTest-mae:294449.71875\n",
      "[141]\tTest-mae:294506.75000\n",
      "[142]\tTest-mae:294479.31250\n",
      "[143]\tTest-mae:294697.00000\n",
      "[144]\tTest-mae:294538.18750\n",
      "[145]\tTest-mae:294570.31250\n",
      "[146]\tTest-mae:294459.06250\n",
      "[147]\tTest-mae:294421.93750\n",
      "[148]\tTest-mae:294419.40625\n",
      "[149]\tTest-mae:294350.84375\n",
      "[150]\tTest-mae:294246.28125\n",
      "[151]\tTest-mae:294286.12500\n",
      "[152]\tTest-mae:294329.84375\n",
      "[153]\tTest-mae:294353.03125\n",
      "[154]\tTest-mae:294376.28125\n",
      "[155]\tTest-mae:294531.40625\n",
      "[156]\tTest-mae:294637.84375\n",
      "[157]\tTest-mae:294528.43750\n",
      "[158]\tTest-mae:294603.78125\n",
      "[159]\tTest-mae:294649.81250\n",
      "[160]\tTest-mae:294546.25000\n",
      "[161]\tTest-mae:294520.43750\n",
      "[162]\tTest-mae:294488.50000\n",
      "[163]\tTest-mae:294559.81250\n",
      "[164]\tTest-mae:294782.56250\n",
      "[165]\tTest-mae:294712.87500\n",
      "[166]\tTest-mae:294705.15625\n",
      "[167]\tTest-mae:294671.90625\n",
      "[168]\tTest-mae:294690.12500\n",
      "[169]\tTest-mae:294693.68750\n",
      "[170]\tTest-mae:294684.84375\n",
      "[171]\tTest-mae:294817.50000\n",
      "[172]\tTest-mae:294833.09375\n",
      "[173]\tTest-mae:294714.71875\n",
      "[174]\tTest-mae:294859.71875\n",
      "[175]\tTest-mae:294925.09375\n",
      "[176]\tTest-mae:295016.90625\n",
      "[177]\tTest-mae:295073.50000\n",
      "[178]\tTest-mae:295125.96875\n",
      "[179]\tTest-mae:295079.50000\n",
      "[180]\tTest-mae:295085.40625\n",
      "[181]\tTest-mae:295113.90625\n",
      "[182]\tTest-mae:295077.40625\n",
      "[183]\tTest-mae:295140.06250\n",
      "[184]\tTest-mae:295017.09375\n",
      "[185]\tTest-mae:294893.59375\n",
      "[186]\tTest-mae:294859.50000\n",
      "[187]\tTest-mae:294802.03125\n",
      "[188]\tTest-mae:294575.87500\n",
      "[189]\tTest-mae:294511.46875\n",
      "[190]\tTest-mae:294515.46875\n",
      "[191]\tTest-mae:294341.25000\n",
      "[192]\tTest-mae:294137.53125\n",
      "[193]\tTest-mae:294163.53125\n",
      "[194]\tTest-mae:294229.21875\n",
      "[195]\tTest-mae:294285.00000\n",
      "[196]\tTest-mae:294357.75000\n",
      "[197]\tTest-mae:294364.18750\n",
      "[198]\tTest-mae:294437.15625\n",
      "[199]\tTest-mae:294430.25000\n",
      "[200]\tTest-mae:294414.31250\n",
      "[201]\tTest-mae:294409.96875\n",
      "[202]\tTest-mae:294556.46875\n",
      "[203]\tTest-mae:294593.81250\n",
      "[204]\tTest-mae:294653.00000\n",
      "[205]\tTest-mae:294599.34375\n",
      "[206]\tTest-mae:294615.62500\n",
      "[207]\tTest-mae:294409.46875\n",
      "[208]\tTest-mae:294377.25000\n",
      "[209]\tTest-mae:294422.09375\n",
      "[210]\tTest-mae:294484.43750\n",
      "[211]\tTest-mae:294515.56250\n",
      "[212]\tTest-mae:294559.40625\n",
      "[213]\tTest-mae:294545.43750\n",
      "[214]\tTest-mae:294519.34375\n",
      "[215]\tTest-mae:294446.34375\n",
      "[216]\tTest-mae:294421.56250\n",
      "[217]\tTest-mae:294461.28125\n",
      "[218]\tTest-mae:294379.18750\n",
      "[219]\tTest-mae:294269.00000\n",
      "[220]\tTest-mae:294268.12500\n",
      "[221]\tTest-mae:294284.03125\n",
      "[222]\tTest-mae:294354.78125\n",
      "[223]\tTest-mae:294410.40625\n",
      "[224]\tTest-mae:294365.50000\n",
      "[225]\tTest-mae:294424.50000\n",
      "[226]\tTest-mae:294371.50000\n",
      "[227]\tTest-mae:294249.34375\n",
      "[228]\tTest-mae:294271.00000\n",
      "[229]\tTest-mae:294261.68750\n",
      "[230]\tTest-mae:294312.71875\n",
      "[231]\tTest-mae:294325.18750\n",
      "[232]\tTest-mae:294394.46875\n",
      "[233]\tTest-mae:294395.56250\n",
      "[234]\tTest-mae:294406.40625\n",
      "[235]\tTest-mae:294412.40625\n",
      "[236]\tTest-mae:294385.68750\n",
      "[237]\tTest-mae:294531.68750\n",
      "[238]\tTest-mae:294502.71875\n",
      "[239]\tTest-mae:294495.90625\n",
      "[240]\tTest-mae:294432.56250\n",
      "[241]\tTest-mae:294400.31250\n",
      "[242]\tTest-mae:294303.68750\n",
      "[243]\tTest-mae:294300.12500\n",
      "[244]\tTest-mae:294285.71875\n",
      "[245]\tTest-mae:294314.28125\n",
      "[246]\tTest-mae:294337.25000\n",
      "[247]\tTest-mae:294228.00000\n",
      "[248]\tTest-mae:294325.59375\n",
      "[249]\tTest-mae:294308.93750\n",
      "[250]\tTest-mae:294302.81250\n",
      "[251]\tTest-mae:294218.43750\n",
      "[252]\tTest-mae:294071.03125\n",
      "[253]\tTest-mae:294092.62500\n",
      "[254]\tTest-mae:294112.87500\n",
      "[255]\tTest-mae:294259.09375\n",
      "[256]\tTest-mae:294301.43750\n",
      "[257]\tTest-mae:294153.46875\n",
      "[258]\tTest-mae:294124.00000\n",
      "[259]\tTest-mae:294159.65625\n",
      "[260]\tTest-mae:294090.12500\n",
      "[261]\tTest-mae:294073.75000\n",
      "[262]\tTest-mae:293966.00000\n",
      "[263]\tTest-mae:293984.81250\n",
      "[264]\tTest-mae:294024.31250\n",
      "[265]\tTest-mae:294025.59375\n",
      "[266]\tTest-mae:293970.46875\n",
      "[267]\tTest-mae:293740.15625\n",
      "[268]\tTest-mae:293666.78125\n",
      "[269]\tTest-mae:293759.40625\n",
      "[270]\tTest-mae:293764.50000\n",
      "[271]\tTest-mae:293734.59375\n",
      "[272]\tTest-mae:293823.50000\n",
      "[273]\tTest-mae:293840.96875\n",
      "[274]\tTest-mae:293858.96875\n",
      "[275]\tTest-mae:293870.09375\n",
      "[276]\tTest-mae:293879.78125\n",
      "[277]\tTest-mae:293844.59375\n",
      "[278]\tTest-mae:293845.15625\n",
      "[279]\tTest-mae:293856.09375\n",
      "[280]\tTest-mae:293801.18750\n",
      "[281]\tTest-mae:293798.84375\n",
      "[282]\tTest-mae:293747.56250\n",
      "[283]\tTest-mae:293689.62500\n",
      "[284]\tTest-mae:293730.50000\n",
      "[285]\tTest-mae:293765.50000\n",
      "[286]\tTest-mae:293786.21875\n",
      "[287]\tTest-mae:293809.53125\n",
      "[288]\tTest-mae:293714.50000\n",
      "[289]\tTest-mae:293716.59375\n",
      "[290]\tTest-mae:293717.00000\n",
      "[291]\tTest-mae:293732.90625\n",
      "[292]\tTest-mae:293715.25000\n",
      "[293]\tTest-mae:293653.71875\n",
      "[294]\tTest-mae:293695.96875\n",
      "[295]\tTest-mae:293702.21875\n"
     ]
    },
    {
     "name": "stdout",
     "output_type": "stream",
     "text": [
      "[296]\tTest-mae:293712.53125\n",
      "[297]\tTest-mae:293731.34375\n",
      "[298]\tTest-mae:293730.21875\n",
      "[299]\tTest-mae:293680.31250\n",
      "[300]\tTest-mae:293668.78125\n",
      "[301]\tTest-mae:293605.87500\n",
      "[302]\tTest-mae:293662.15625\n",
      "[303]\tTest-mae:293654.34375\n",
      "[304]\tTest-mae:293607.50000\n",
      "[305]\tTest-mae:293597.40625\n",
      "[306]\tTest-mae:293685.75000\n",
      "[307]\tTest-mae:293660.06250\n",
      "[308]\tTest-mae:293692.65625\n",
      "[309]\tTest-mae:293690.46875\n"
     ]
    }
   ],
   "source": [
    "num_boost_round = model.best_iteration + 1\n",
    "best_model = xgb.train(\n",
    "    params,\n",
    "    dtrain,\n",
    "    num_boost_round=num_boost_round,\n",
    "    evals=[(dtest, \"Test\")]\n",
    ")"
   ]
  },
  {
   "cell_type": "code",
   "execution_count": 427,
   "metadata": {},
   "outputs": [],
   "source": [
    "bm_pred_test = best_model.predict(dtest)\n",
    "bm_pred_train = best_model.predict(dtrain)"
   ]
  },
  {
   "cell_type": "markdown",
   "metadata": {},
   "source": [
    "### Here are the results of our Gradient Boosting model with and without Hyper-parameter Tuning"
   ]
  },
  {
   "cell_type": "code",
   "execution_count": 339,
   "metadata": {},
   "outputs": [
    {
     "name": "stdout",
     "output_type": "stream",
     "text": [
      "R2 of Y_train  GB prediction with HP tuning: 0.9937437784315438\n",
      "R2 of Y_train  GB prediction without HP tuning: 0.9779647494474859\n",
      "R2 of Y_test  GB prediction with HP Tuning 0.6879684283829105\n",
      "R2 of Y_test  GB prediction without HP Tuning 0.6905683723588347\n",
      "MAE of Y_train GB prediction with HP Tuning: 115643.894285897\n",
      "MAE of Y_train GB prediction without HP Tuning: 171759.18285447173\n",
      "MAE of Y_test GB prediction with HP Tuning: 296041.2372645627\n",
      "MAE of Y_test GB prediction without HP Tuning: 296111.689940445\n"
     ]
    }
   ],
   "source": [
    "print(\"R2 of Y_train  GB prediction with HP tuning:\", r2_score(y_train, bm_pred_train))\n",
    "print(\"R2 of Y_train  GB prediction without HP tuning:\", r2_score(y_train, pred_train))\n",
    "print(\"R2 of Y_test  GB prediction with HP Tuning\",r2_score(y_test, bm_pred_test))\n",
    "print(\"R2 of Y_test  GB prediction without HP Tuning\",r2_score(y_test, pred_test))\n",
    "print(\"MAE of Y_train GB prediction with HP Tuning:\",mean_absolute_error(y_train, bm_pred_train))\n",
    "print(\"MAE of Y_train GB prediction without HP Tuning:\",mean_absolute_error(y_train, pred_train))\n",
    "print(\"MAE of Y_test GB prediction with HP Tuning:\",mean_absolute_error(y_test, bm_pred_test))\n",
    "print(\"MAE of Y_test GB prediction without HP Tuning:\",mean_absolute_error(y_test, pred_test))"
   ]
  },
  {
   "cell_type": "code",
   "execution_count": 428,
   "metadata": {},
   "outputs": [
    {
     "name": "stdout",
     "output_type": "stream",
     "text": [
      "R2 of Y_train  GB prediction with HP tuning: 0.9920934407000481\n",
      "R2 of Y_train  GB prediction without HP tuning: 0.9741367029504042\n",
      "R2 of Y_test  GB prediction with HP Tuning 0.732715796791943\n",
      "R2 of Y_test  GB prediction without HP Tuning 0.732608903899179\n",
      "MAE of Y_train GB prediction with HP Tuning: 125130.67915184695\n",
      "MAE of Y_train GB prediction without HP Tuning: 180999.81921811824\n",
      "MAE of Y_test GB prediction with HP Tuning: 293690.52574667113\n",
      "MAE of Y_test GB prediction without HP Tuning: 296157.9898410476\n"
     ]
    }
   ],
   "source": [
    "print(\"R2 of Y_train  GB prediction with HP tuning:\", r2_score(y_train, bm_pred_train))\n",
    "print(\"R2 of Y_train  GB prediction without HP tuning:\", r2_score(y_train, pred_train))\n",
    "print(\"R2 of Y_test  GB prediction with HP Tuning\",r2_score(y_test, bm_pred_test))\n",
    "print(\"R2 of Y_test  GB prediction without HP Tuning\",r2_score(y_test, pred_test))\n",
    "print(\"MAE of Y_train GB prediction with HP Tuning:\",mean_absolute_error(y_train, bm_pred_train))\n",
    "print(\"MAE of Y_train GB prediction without HP Tuning:\",mean_absolute_error(y_train, pred_train))\n",
    "print(\"MAE of Y_test GB prediction with HP Tuning:\",mean_absolute_error(y_test, bm_pred_test))\n",
    "print(\"MAE of Y_test GB prediction without HP Tuning:\",mean_absolute_error(y_test, pred_test))"
   ]
  },
  {
   "cell_type": "code",
   "execution_count": 340,
   "metadata": {},
   "outputs": [
    {
     "data": {
      "text/plain": [
       "<AxesSubplot:>"
      ]
     },
     "execution_count": 340,
     "metadata": {},
     "output_type": "execute_result"
    },
    {
     "data": {
      "image/png": "[encoded data removed]",
      "text/plain": [
       "<Figure size 432x288 with 1 Axes>"
      ]
     },
     "metadata": {
      "needs_background": "light"
     },
     "output_type": "display_data"
    }
   ],
   "source": [
    "feature_important = best_model.get_score(importance_type='weight')\n",
    "keys = list(feature_important.keys())\n",
    "values = list(feature_important.values())\n",
    "\n",
    "data = pd.DataFrame(data=values, index=keys, columns=[\"score\"]).sort_values(by = \"score\")\n",
    "data.plot(kind='barh')"
   ]
  },
  {
   "cell_type": "code",
   "execution_count": null,
   "metadata": {},
   "outputs": [],
   "source": [
    "best_model.save_model(\"xgb_model.model\")"
   ]
  }
 ],
 "metadata": {
  "kernelspec": {
   "display_name": "Python 3",
   "language": "python",
   "name": "python3"
  },
  "language_info": {
   "codemirror_mode": {
    "name": "ipython",
    "version": 3
   },
   "file_extension": ".py",
   "mimetype": "text/x-python",
   "name": "python",
   "nbconvert_exporter": "python",
   "pygments_lexer": "ipython3",
   "version": "3.8.5"
  }
 },
 "nbformat": 4,
 "nbformat_minor": 4
}
