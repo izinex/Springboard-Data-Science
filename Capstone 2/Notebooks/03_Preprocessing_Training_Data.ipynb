{
 "cells": [
  {
   "cell_type": "markdown",
   "metadata": {},
   "source": [
    "# 3 Preprocessing and Training Data"
   ]
  },
  {
   "cell_type": "markdown",
   "metadata": {},
   "source": [
    "## 3.1 Contents<a id='3.1_Contents'></a>\n",
    "* [3 Exploratory Data Analysis](#3_Exploratory_Data_Analysis)\n",
    "  * [3.1 Contents](#3.1_Contents)\n",
    "  * [3.2 Introduction](#3.2_Introduction)\n",
    "      * [3.2.1 Objective](#3.2.1_Objective)\n",
    "  * [3.3 Imports](#3.3_Imports)\n",
    "  * [3.4 Load The Data](#3.4_Load_The_Data)\n",
    "    * [3.4.1 Explore The Data](#3.4.1_Explore_The_Data)\n",
    "  * [3.5.1 Distributions](#3.5.1_Distributions)\n",
    "      * [3.5.1.1 Variable Relationship](#3.5.1.1_Variable_Relationship)\n",
    "      * [3.5.1.2 Scatterplots of features against price](#3.5.1.3_Scatterplots_of_features_against_price)\n",
    "      * [3.5.1.3 Feature correlation heatmap](#3.5.1.3_Feature_correlation_heatmap)\n",
    "      * [3.5.1.4 Borough Distribution](#3.5.1.3_Borough_Distribution)    \n",
    "      * [3.5.1.3 Neighborhood Average Price and Standard Deviation](#3.5.1.3_Neighborhood_Barplots)\n",
    "  * [3.6 Visualization of Houses on Maps](#3.6_Bokeh_visualization)\n",
    "  * [3.7 Summary](#3.7_Summary)\n"
   ]
  },
  {
   "cell_type": "markdown",
   "metadata": {},
   "source": [
    "## 3.2 Introduction<a id='3.2_Introduction'></a>"
   ]
  },
  {
   "cell_type": "markdown",
   "metadata": {},
   "source": [
    "##### With completion of Data Wrangling and Exploration of our dataset we now start processing and gathering training data. Our clients Capital Fortune asked us to find the best housing models/types that would yield the highest return on investment.  Our target feature is price in our final dataframe, which will be predicting for house prices which we will later analysis upon which houses yield the highest returns on investment for Capital Fortune. "
   ]
  },
  {
   "cell_type": "markdown",
   "metadata": {},
   "source": [
    "### 3.2.1 Objective<a id='3.2.1_Objective'></a>"
   ]
  },
  {
   "cell_type": "markdown",
   "metadata": {},
   "source": [
    "##### We want to make sure our data is as digestible as possible so we may implement machine learning algorithms to best estimate house prices, and which features leads to increased price on an house. We will start via analysis which features need to be re-evaluated and make proper adjustments so we may implement our algorithms with ease. For instances for catagorical variables we will need to utilize dummy variables so it can be inputed into our algorithm and etc. The main goal is to make our final dataset be able easily integratable into machine learning algorithms."
   ]
  },
  {
   "cell_type": "markdown",
   "metadata": {},
   "source": [
    "## 3.3 Imports<a id='3.3_Imports'></a>"
   ]
  },
  {
   "cell_type": "code",
   "execution_count": 1,
   "metadata": {},
   "outputs": [],
   "source": [
    "import pandas as pd\n",
    "import numpy as np\n",
    "import os\n",
    "import matplotlib.pyplot as plt\n",
    "import seaborn as sns\n",
    "import scipy.stats as stats\n",
    "import matplotlib.ticker as tick\n",
    "import sklearn.model_selection\n",
    "\n",
    "import featuretools as ft\n",
    "from sklearn import neighbors, datasets, preprocessing\n",
    "from sklearn.decomposition import PCA\n",
    "from sklearn.metrics import accuracy_score\n",
    "from sklearn.preprocessing import StandardScaler\n",
    "from sklearn.preprocessing import Normalizer\n",
    "from sklearn.metrics import accuracy_score\n",
    "from sklearn.metrics import classification_report\n",
    "from sklearn.metrics import r2_score\n",
    "from sklearn.metrics import mean_absolute_error\n",
    "from sklearn.metrics import mean_squared_error\n",
    "from sklearn.pipeline import make_pipeline\n",
    "from sklearn.impute import SimpleImputer\n",
    "from sklearn.feature_selection import SelectKBest, f_regression\n",
    "from sklearn.model_selection import train_test_split, cross_validate, GridSearchCV, learning_curve"
   ]
  },
  {
   "cell_type": "code",
   "execution_count": 2,
   "metadata": {},
   "outputs": [],
   "source": [
    "#This is a function by Dan Friedman to change the labels of large numbers \n",
    "#Here is a link\n",
    "#https://dfrieds.com/data-visualizations/how-format-large-tick-values.html\n",
    "sns.set(font_scale=1.4)\n",
    "\n",
    "def reformat_large_tick_values(tick_val, pos):\n",
    "    \"\"\"\n",
    "    Turns large tick values (in the billions, millions and thousands) such as 4500 into 4.5K and also appropriately turns 4000 into 4K (no zero after the decimal).\n",
    "    \"\"\"\n",
    "    if tick_val >= 1000000000:\n",
    "        val = round(tick_val/1000000000, 1)\n",
    "        new_tick_format = '{:}B'.format(val)\n",
    "    elif tick_val >= 1000000:\n",
    "        val = round(tick_val/1000000, 1)\n",
    "        new_tick_format = '{:}M'.format(val)\n",
    "    elif tick_val >= 1000:\n",
    "        val = round(tick_val/1000, 1)\n",
    "        new_tick_format = '{:}K'.format(val)\n",
    "    elif tick_val < 1000:\n",
    "        new_tick_format = round(tick_val, 1)\n",
    "    else:\n",
    "        new_tick_format = tick_val\n",
    "\n",
    "    # make new_tick_format into a string value\n",
    "    new_tick_format = str(new_tick_format)\n",
    "    \n",
    "    # code below will keep 4.5M as is but change values such as 4.0M to 4M since that zero after the decimal isn't needed\n",
    "    index_of_decimal = new_tick_format.find(\".\")\n",
    "    \n",
    "    if index_of_decimal != -1:\n",
    "        value_after_decimal = new_tick_format[index_of_decimal+1]\n",
    "        if value_after_decimal == \"0\":\n",
    "            # remove the 0 after the decimal point since it's not needed\n",
    "            new_tick_format = new_tick_format[0:index_of_decimal] + new_tick_format[index_of_decimal+2:]\n",
    "            \n",
    "    return new_tick_format"
   ]
  },
  {
   "cell_type": "markdown",
   "metadata": {},
   "source": [
    "## 3.4 Load The Data<a id='3.4_Load_The_Data'></a>"
   ]
  },
  {
   "cell_type": "code",
   "execution_count": 3,
   "metadata": {},
   "outputs": [],
   "source": [
    "df = pd.read_csv('../Data/final_nyc_df.csv')"
   ]
  },
  {
   "cell_type": "markdown",
   "metadata": {},
   "source": [
    "### 3.4.1 Explore the data<a id='3.4.1_Explore_The_Data'></a>"
   ]
  },
  {
   "cell_type": "code",
   "execution_count": 4,
   "metadata": {},
   "outputs": [
    {
     "name": "stdout",
     "output_type": "stream",
     "text": [
      "(59262, 27)\n",
      "           ZipCode      latitude     longitude         price  propertyTaxRate  \\\n",
      "count  59255.00000  59262.000000  59262.000000  5.926200e+04     59250.000000   \n",
      "mean   10913.02977     40.696298    -73.926901  1.083250e+06         0.823852   \n",
      "std      514.46863      0.094100      0.132106  2.347253e+06         0.098343   \n",
      "min      148.00000     40.498634    -74.253983  1.000000e+05         0.650000   \n",
      "25%    10314.00000     40.618461    -73.996172  5.100000e+05         0.840000   \n",
      "50%    11210.00000     40.694778    -73.904606  7.000000e+05         0.840000   \n",
      "75%    11367.00000     40.756160    -73.829042  9.900000e+05         0.870000   \n",
      "max    13277.00000     40.912682    -73.700432  9.272502e+07         2.370000   \n",
      "\n",
      "         Annual_Tax  Tax_Assessed_Value  Lot_Size(SqFT)    $_Per_SqFT  \\\n",
      "count  5.060600e+04        4.881500e+04    4.998600e+04  4.998600e+04   \n",
      "mean   2.121627e+04        1.277692e+06    7.484192e+04  4.571731e+05   \n",
      "std    1.812653e+05        9.550726e+06    3.525331e+06  2.891510e+06   \n",
      "min    0.000000e+00        1.000000e+00    1.000000e-02  0.000000e+00   \n",
      "25%    4.407000e+03        5.030000e+05    2.000000e+03  1.700900e+02   \n",
      "50%    5.831000e+03        6.490000e+05    2.575000e+03  2.576400e+02   \n",
      "75%    7.732000e+03        9.300000e+05    3.998000e+03  4.204800e+02   \n",
      "max    1.458491e+07        1.680558e+09    4.541130e+08  9.500000e+07   \n",
      "\n",
      "       LivingArea_Space(SqFT)     YearBuilt      Bedrooms  Total_Bathrooms  \\\n",
      "count            52073.000000  55387.000000  59262.000000     59262.000000   \n",
      "mean              3576.226317   1945.906494      3.960751         2.743996   \n",
      "std              19576.443952     59.282747      6.526384         5.721718   \n",
      "min                  1.000000      0.000000      1.000000         0.500000   \n",
      "25%               1304.000000   1923.000000      3.000000         2.000000   \n",
      "50%               1824.000000   1940.000000      4.000000         3.000000   \n",
      "75%               2560.000000   1965.000000      5.000000         3.000000   \n",
      "max             986641.000000   4073.000000   1502.000000      1346.000000   \n",
      "\n",
      "       Full_Bathrooms  Half_Bathrooms  Story_Building  \n",
      "count    45281.000000    45343.000000    59262.000000  \n",
      "mean         1.962302        0.475244        2.017313  \n",
      "std          1.535149        6.370499        2.471840  \n",
      "min          0.000000        0.000000        1.000000  \n",
      "25%          1.000000        0.000000        1.000000  \n",
      "50%          2.000000        0.000000        2.000000  \n",
      "75%          3.000000        1.000000        2.000000  \n",
      "max         70.000000     1344.000000      112.000000  \n",
      "City                       object\n",
      "Borough                    object\n",
      "Neighborhood               object\n",
      "StreetAddress              object\n",
      "ZipCode                   float64\n",
      "latitude                  float64\n",
      "longitude                 float64\n",
      "price                     float64\n",
      "propertyTaxRate           float64\n",
      "Annual_Tax                float64\n",
      "Tax_Assessed_Value        float64\n",
      "Lot_Size(SqFT)            float64\n",
      "$_Per_SqFT                float64\n",
      "LivingArea_Space(SqFT)    float64\n",
      "HomeType                   object\n",
      "YearBuilt                 float64\n",
      "Bedrooms                  float64\n",
      "Total_Bathrooms           float64\n",
      "Full_Bathrooms            float64\n",
      "Half_Bathrooms            float64\n",
      "ParkingType                object\n",
      "Basement                     bool\n",
      "Cooling_Available            bool\n",
      "Fireplace_Available          bool\n",
      "Heating_Available            bool\n",
      "Spa_Available                bool\n",
      "Story_Building            float64\n",
      "dtype: object\n"
     ]
    }
   ],
   "source": [
    "print(df.shape)\n",
    "print(df.describe())\n",
    "print(df.dtypes)"
   ]
  },
  {
   "cell_type": "markdown",
   "metadata": {},
   "source": [
    "##### We want to make sure our data-types are compatible so we should try to change all catagorical variables to either numeric representation or dummy variables\n",
    "\n",
    "##### Lets start by working on Variables that are true and false by making them either 0 or 1 0 if false and 1 if true."
   ]
  },
  {
   "cell_type": "code",
   "execution_count": 5,
   "metadata": {},
   "outputs": [],
   "source": [
    "df.Basement = pd.get_dummies(df.Basement, drop_first=True).values\n",
    "df.Cooling_Available = pd.get_dummies(df.Cooling_Available, drop_first=True).values\n",
    "df.Fireplace_Available = pd.get_dummies(df.Fireplace_Available, drop_first=True).values\n",
    "df.Heating_Available = pd.get_dummies(df.Heating_Available, drop_first=True).values\n",
    "df.Spa_Available = pd.get_dummies(df.Spa_Available, drop_first=True).values"
   ]
  },
  {
   "cell_type": "markdown",
   "metadata": {},
   "source": [
    "### 3.4.2 Fixing Categorical Data<a id='3.4.2_Fixing_Data'></a>"
   ]
  },
  {
   "cell_type": "markdown",
   "metadata": {},
   "source": [
    "##### The zipcode only has 7 missing values I think it would appropriate to just fill in those missing values based on their address and location"
   ]
  },
  {
   "cell_type": "code",
   "execution_count": 6,
   "metadata": {},
   "outputs": [
    {
     "data": {
      "text/html": [
       "<div>\n",
       "<style scoped>\n",
       "    .dataframe tbody tr th:only-of-type {\n",
       "        vertical-align: middle;\n",
       "    }\n",
       "\n",
       "    .dataframe tbody tr th {\n",
       "        vertical-align: top;\n",
       "    }\n",
       "\n",
       "    .dataframe thead th {\n",
       "        text-align: right;\n",
       "    }\n",
       "</style>\n",
       "<table border=\"1\" class=\"dataframe\">\n",
       "  <thead>\n",
       "    <tr style=\"text-align: right;\">\n",
       "      <th></th>\n",
       "      <th>City</th>\n",
       "      <th>Borough</th>\n",
       "      <th>Neighborhood</th>\n",
       "      <th>StreetAddress</th>\n",
       "      <th>ZipCode</th>\n",
       "      <th>latitude</th>\n",
       "      <th>longitude</th>\n",
       "      <th>price</th>\n",
       "      <th>propertyTaxRate</th>\n",
       "      <th>Annual_Tax</th>\n",
       "      <th>...</th>\n",
       "      <th>Total_Bathrooms</th>\n",
       "      <th>Full_Bathrooms</th>\n",
       "      <th>Half_Bathrooms</th>\n",
       "      <th>ParkingType</th>\n",
       "      <th>Basement</th>\n",
       "      <th>Cooling_Available</th>\n",
       "      <th>Fireplace_Available</th>\n",
       "      <th>Heating_Available</th>\n",
       "      <th>Spa_Available</th>\n",
       "      <th>Story_Building</th>\n",
       "    </tr>\n",
       "  </thead>\n",
       "  <tbody>\n",
       "    <tr>\n",
       "      <th>1128</th>\n",
       "      <td>Bronx</td>\n",
       "      <td>Bronx</td>\n",
       "      <td>University Heights</td>\n",
       "      <td>W Fordham Rd</td>\n",
       "      <td>NaN</td>\n",
       "      <td>40.861465</td>\n",
       "      <td>-73.914680</td>\n",
       "      <td>31550000.0</td>\n",
       "      <td>0.95</td>\n",
       "      <td>97169.0</td>\n",
       "      <td>...</td>\n",
       "      <td>5.0</td>\n",
       "      <td>NaN</td>\n",
       "      <td>NaN</td>\n",
       "      <td>0 spaces</td>\n",
       "      <td>0</td>\n",
       "      <td>0</td>\n",
       "      <td>0</td>\n",
       "      <td>0</td>\n",
       "      <td>0</td>\n",
       "      <td>1.0</td>\n",
       "    </tr>\n",
       "    <tr>\n",
       "      <th>4725</th>\n",
       "      <td>Bronx</td>\n",
       "      <td>Bronx</td>\n",
       "      <td>Fordham Manor</td>\n",
       "      <td>Bailey Ave</td>\n",
       "      <td>NaN</td>\n",
       "      <td>40.866638</td>\n",
       "      <td>-73.908234</td>\n",
       "      <td>2775000.0</td>\n",
       "      <td>0.95</td>\n",
       "      <td>46.0</td>\n",
       "      <td>...</td>\n",
       "      <td>3.0</td>\n",
       "      <td>NaN</td>\n",
       "      <td>NaN</td>\n",
       "      <td>0 spaces</td>\n",
       "      <td>0</td>\n",
       "      <td>0</td>\n",
       "      <td>0</td>\n",
       "      <td>0</td>\n",
       "      <td>0</td>\n",
       "      <td>1.0</td>\n",
       "    </tr>\n",
       "    <tr>\n",
       "      <th>8927</th>\n",
       "      <td>Queens</td>\n",
       "      <td>Queens</td>\n",
       "      <td>Long Island City</td>\n",
       "      <td>50-02 Midtown Tun Plz</td>\n",
       "      <td>NaN</td>\n",
       "      <td>40.741753</td>\n",
       "      <td>-73.947235</td>\n",
       "      <td>1500000.0</td>\n",
       "      <td>0.84</td>\n",
       "      <td>64094.0</td>\n",
       "      <td>...</td>\n",
       "      <td>3.0</td>\n",
       "      <td>NaN</td>\n",
       "      <td>NaN</td>\n",
       "      <td>0 spaces</td>\n",
       "      <td>0</td>\n",
       "      <td>0</td>\n",
       "      <td>0</td>\n",
       "      <td>0</td>\n",
       "      <td>0</td>\n",
       "      <td>1.0</td>\n",
       "    </tr>\n",
       "    <tr>\n",
       "      <th>21171</th>\n",
       "      <td>Staten island</td>\n",
       "      <td>Staten Island</td>\n",
       "      <td>Castleton Corners</td>\n",
       "      <td>N Gannon Ave</td>\n",
       "      <td>NaN</td>\n",
       "      <td>40.609570</td>\n",
       "      <td>-74.125153</td>\n",
       "      <td>500000.0</td>\n",
       "      <td>0.87</td>\n",
       "      <td>2282.0</td>\n",
       "      <td>...</td>\n",
       "      <td>3.0</td>\n",
       "      <td>NaN</td>\n",
       "      <td>NaN</td>\n",
       "      <td>0 spaces</td>\n",
       "      <td>0</td>\n",
       "      <td>0</td>\n",
       "      <td>0</td>\n",
       "      <td>0</td>\n",
       "      <td>0</td>\n",
       "      <td>1.0</td>\n",
       "    </tr>\n",
       "    <tr>\n",
       "      <th>25046</th>\n",
       "      <td>Staten island</td>\n",
       "      <td>Staten Island</td>\n",
       "      <td>Charleston</td>\n",
       "      <td>Englewood Ave</td>\n",
       "      <td>NaN</td>\n",
       "      <td>40.531796</td>\n",
       "      <td>-74.220421</td>\n",
       "      <td>130000.0</td>\n",
       "      <td>0.87</td>\n",
       "      <td>2418.0</td>\n",
       "      <td>...</td>\n",
       "      <td>2.0</td>\n",
       "      <td>NaN</td>\n",
       "      <td>NaN</td>\n",
       "      <td>0 spaces</td>\n",
       "      <td>0</td>\n",
       "      <td>0</td>\n",
       "      <td>0</td>\n",
       "      <td>0</td>\n",
       "      <td>0</td>\n",
       "      <td>1.0</td>\n",
       "    </tr>\n",
       "    <tr>\n",
       "      <th>28989</th>\n",
       "      <td>Rochester</td>\n",
       "      <td>Queens</td>\n",
       "      <td>Jamaica</td>\n",
       "      <td>Cedar Dr</td>\n",
       "      <td>NaN</td>\n",
       "      <td>40.698139</td>\n",
       "      <td>-73.832207</td>\n",
       "      <td>115000.0</td>\n",
       "      <td>2.37</td>\n",
       "      <td>NaN</td>\n",
       "      <td>...</td>\n",
       "      <td>2.0</td>\n",
       "      <td>NaN</td>\n",
       "      <td>NaN</td>\n",
       "      <td>0 spaces</td>\n",
       "      <td>0</td>\n",
       "      <td>0</td>\n",
       "      <td>0</td>\n",
       "      <td>0</td>\n",
       "      <td>0</td>\n",
       "      <td>1.0</td>\n",
       "    </tr>\n",
       "    <tr>\n",
       "      <th>34045</th>\n",
       "      <td>Brooklyn</td>\n",
       "      <td>Brooklyn</td>\n",
       "      <td>Brighton Beach</td>\n",
       "      <td>24 Brighton 3 Ln</td>\n",
       "      <td>NaN</td>\n",
       "      <td>40.579765</td>\n",
       "      <td>-73.964851</td>\n",
       "      <td>549000.0</td>\n",
       "      <td>0.65</td>\n",
       "      <td>2500.0</td>\n",
       "      <td>...</td>\n",
       "      <td>1.0</td>\n",
       "      <td>1.0</td>\n",
       "      <td>0.0</td>\n",
       "      <td>None</td>\n",
       "      <td>0</td>\n",
       "      <td>0</td>\n",
       "      <td>0</td>\n",
       "      <td>1</td>\n",
       "      <td>0</td>\n",
       "      <td>1.0</td>\n",
       "    </tr>\n",
       "  </tbody>\n",
       "</table>\n",
       "<p>7 rows × 27 columns</p>\n",
       "</div>"
      ],
      "text/plain": [
       "                City        Borough        Neighborhood  \\\n",
       "1128           Bronx          Bronx  University Heights   \n",
       "4725           Bronx          Bronx       Fordham Manor   \n",
       "8927          Queens         Queens    Long Island City   \n",
       "21171  Staten island  Staten Island   Castleton Corners   \n",
       "25046  Staten island  Staten Island          Charleston   \n",
       "28989      Rochester         Queens             Jamaica   \n",
       "34045       Brooklyn       Brooklyn      Brighton Beach   \n",
       "\n",
       "               StreetAddress  ZipCode   latitude  longitude       price  \\\n",
       "1128            W Fordham Rd      NaN  40.861465 -73.914680  31550000.0   \n",
       "4725              Bailey Ave      NaN  40.866638 -73.908234   2775000.0   \n",
       "8927   50-02 Midtown Tun Plz      NaN  40.741753 -73.947235   1500000.0   \n",
       "21171           N Gannon Ave      NaN  40.609570 -74.125153    500000.0   \n",
       "25046          Englewood Ave      NaN  40.531796 -74.220421    130000.0   \n",
       "28989               Cedar Dr      NaN  40.698139 -73.832207    115000.0   \n",
       "34045       24 Brighton 3 Ln      NaN  40.579765 -73.964851    549000.0   \n",
       "\n",
       "       propertyTaxRate  Annual_Tax  ...  Total_Bathrooms  Full_Bathrooms  \\\n",
       "1128              0.95     97169.0  ...              5.0             NaN   \n",
       "4725              0.95        46.0  ...              3.0             NaN   \n",
       "8927              0.84     64094.0  ...              3.0             NaN   \n",
       "21171             0.87      2282.0  ...              3.0             NaN   \n",
       "25046             0.87      2418.0  ...              2.0             NaN   \n",
       "28989             2.37         NaN  ...              2.0             NaN   \n",
       "34045             0.65      2500.0  ...              1.0             1.0   \n",
       "\n",
       "       Half_Bathrooms  ParkingType Basement  Cooling_Available  \\\n",
       "1128              NaN     0 spaces        0                  0   \n",
       "4725              NaN     0 spaces        0                  0   \n",
       "8927              NaN     0 spaces        0                  0   \n",
       "21171             NaN     0 spaces        0                  0   \n",
       "25046             NaN     0 spaces        0                  0   \n",
       "28989             NaN     0 spaces        0                  0   \n",
       "34045             0.0         None        0                  0   \n",
       "\n",
       "       Fireplace_Available  Heating_Available  Spa_Available  Story_Building  \n",
       "1128                     0                  0              0             1.0  \n",
       "4725                     0                  0              0             1.0  \n",
       "8927                     0                  0              0             1.0  \n",
       "21171                    0                  0              0             1.0  \n",
       "25046                    0                  0              0             1.0  \n",
       "28989                    0                  0              0             1.0  \n",
       "34045                    0                  1              0             1.0  \n",
       "\n",
       "[7 rows x 27 columns]"
      ]
     },
     "execution_count": 6,
     "metadata": {},
     "output_type": "execute_result"
    }
   ],
   "source": [
    "df[df.ZipCode.isnull()]"
   ]
  },
  {
   "cell_type": "code",
   "execution_count": 7,
   "metadata": {},
   "outputs": [],
   "source": [
    "df.ZipCode.iloc[1128] = 10468\n",
    "df.ZipCode.iloc[4725] = 10463\n",
    "df.ZipCode.iloc[8927] = 11101\n",
    "df.ZipCode.iloc[21171] = 10314\n",
    "df.ZipCode.iloc[25046] = 10309\n",
    "df.ZipCode.iloc[28989] = 11411\n",
    "df.ZipCode.iloc[34045] = 11235"
   ]
  },
  {
   "cell_type": "markdown",
   "metadata": {},
   "source": [
    "### We also need to fix categorical data into numerical representation via encoding \n",
    "#### While we can encode street address into different numbers but this would be very large thus I believe it provides no relative information that impact our target variable price thus this will also be dropped"
   ]
  },
  {
   "cell_type": "markdown",
   "metadata": {},
   "source": [
    "#### After much analysis using randomforest most impactful features, as well as variance explained it was evident that feature ParkingType had little to no effect on price and given that it is a categorical data with over 600 different options it is clear that it should be dropped"
   ]
  },
  {
   "cell_type": "code",
   "execution_count": 8,
   "metadata": {},
   "outputs": [],
   "source": [
    "df = df.drop(['StreetAddress','ParkingType'], axis=1)"
   ]
  },
  {
   "cell_type": "markdown",
   "metadata": {},
   "source": [
    "##### We will convert HomeType catagorical values using dummy variable encoding with pandas get_dummies function"
   ]
  },
  {
   "cell_type": "code",
   "execution_count": 9,
   "metadata": {},
   "outputs": [],
   "source": [
    "counts = df.HomeType.value_counts()\n",
    "mask = df.HomeType.isin(counts[counts < 130].index)\n",
    "df.HomeType[mask] = 'Other'\n",
    "r_mask = df[df['HomeType'] == 'Residential Income']['HomeType'].index\n",
    "df.HomeType[r_mask] = 'Residential'\n",
    "df.HomeType = (pd.Categorical(df.HomeType))"
   ]
  },
  {
   "cell_type": "code",
   "execution_count": 10,
   "metadata": {},
   "outputs": [],
   "source": [
    "df.HomeType = pd.Categorical(df.HomeType)\n",
    "df.HomeType = df.HomeType.cat.codes"
   ]
  },
  {
   "cell_type": "code",
   "execution_count": 11,
   "metadata": {},
   "outputs": [],
   "source": [
    "df.Borough = pd.Categorical(df.Borough)\n",
    "df.Borough = df.Borough.cat.codes"
   ]
  },
  {
   "cell_type": "code",
   "execution_count": 12,
   "metadata": {},
   "outputs": [],
   "source": [
    "df.City = pd.Categorical(df.City)\n",
    "df.City = df.City.cat.codes"
   ]
  },
  {
   "cell_type": "code",
   "execution_count": 13,
   "metadata": {},
   "outputs": [],
   "source": [
    "df.Neighborhood = pd.Categorical(df.Neighborhood)\n",
    "df.Neighborhood = df.Neighborhood.cat.codes"
   ]
  },
  {
   "cell_type": "code",
   "execution_count": 14,
   "metadata": {},
   "outputs": [
    {
     "data": {
      "text/html": [
       "<div>\n",
       "<style scoped>\n",
       "    .dataframe tbody tr th:only-of-type {\n",
       "        vertical-align: middle;\n",
       "    }\n",
       "\n",
       "    .dataframe tbody tr th {\n",
       "        vertical-align: top;\n",
       "    }\n",
       "\n",
       "    .dataframe thead th {\n",
       "        text-align: right;\n",
       "    }\n",
       "</style>\n",
       "<table border=\"1\" class=\"dataframe\">\n",
       "  <thead>\n",
       "    <tr style=\"text-align: right;\">\n",
       "      <th></th>\n",
       "      <th>count</th>\n",
       "      <th>%</th>\n",
       "    </tr>\n",
       "  </thead>\n",
       "  <tbody>\n",
       "    <tr>\n",
       "      <th>City</th>\n",
       "      <td>0</td>\n",
       "      <td>0.000000</td>\n",
       "    </tr>\n",
       "    <tr>\n",
       "      <th>Borough</th>\n",
       "      <td>0</td>\n",
       "      <td>0.000000</td>\n",
       "    </tr>\n",
       "    <tr>\n",
       "      <th>Neighborhood</th>\n",
       "      <td>0</td>\n",
       "      <td>0.000000</td>\n",
       "    </tr>\n",
       "    <tr>\n",
       "      <th>ZipCode</th>\n",
       "      <td>0</td>\n",
       "      <td>0.000000</td>\n",
       "    </tr>\n",
       "    <tr>\n",
       "      <th>latitude</th>\n",
       "      <td>0</td>\n",
       "      <td>0.000000</td>\n",
       "    </tr>\n",
       "    <tr>\n",
       "      <th>longitude</th>\n",
       "      <td>0</td>\n",
       "      <td>0.000000</td>\n",
       "    </tr>\n",
       "    <tr>\n",
       "      <th>price</th>\n",
       "      <td>0</td>\n",
       "      <td>0.000000</td>\n",
       "    </tr>\n",
       "    <tr>\n",
       "      <th>HomeType</th>\n",
       "      <td>0</td>\n",
       "      <td>0.000000</td>\n",
       "    </tr>\n",
       "    <tr>\n",
       "      <th>Bedrooms</th>\n",
       "      <td>0</td>\n",
       "      <td>0.000000</td>\n",
       "    </tr>\n",
       "    <tr>\n",
       "      <th>Total_Bathrooms</th>\n",
       "      <td>0</td>\n",
       "      <td>0.000000</td>\n",
       "    </tr>\n",
       "    <tr>\n",
       "      <th>Basement</th>\n",
       "      <td>0</td>\n",
       "      <td>0.000000</td>\n",
       "    </tr>\n",
       "    <tr>\n",
       "      <th>Cooling_Available</th>\n",
       "      <td>0</td>\n",
       "      <td>0.000000</td>\n",
       "    </tr>\n",
       "    <tr>\n",
       "      <th>Fireplace_Available</th>\n",
       "      <td>0</td>\n",
       "      <td>0.000000</td>\n",
       "    </tr>\n",
       "    <tr>\n",
       "      <th>Heating_Available</th>\n",
       "      <td>0</td>\n",
       "      <td>0.000000</td>\n",
       "    </tr>\n",
       "    <tr>\n",
       "      <th>Spa_Available</th>\n",
       "      <td>0</td>\n",
       "      <td>0.000000</td>\n",
       "    </tr>\n",
       "    <tr>\n",
       "      <th>Story_Building</th>\n",
       "      <td>0</td>\n",
       "      <td>0.000000</td>\n",
       "    </tr>\n",
       "    <tr>\n",
       "      <th>propertyTaxRate</th>\n",
       "      <td>12</td>\n",
       "      <td>0.020249</td>\n",
       "    </tr>\n",
       "    <tr>\n",
       "      <th>YearBuilt</th>\n",
       "      <td>3875</td>\n",
       "      <td>6.538760</td>\n",
       "    </tr>\n",
       "    <tr>\n",
       "      <th>LivingArea_Space(SqFT)</th>\n",
       "      <td>7189</td>\n",
       "      <td>12.130876</td>\n",
       "    </tr>\n",
       "    <tr>\n",
       "      <th>Annual_Tax</th>\n",
       "      <td>8656</td>\n",
       "      <td>14.606324</td>\n",
       "    </tr>\n",
       "    <tr>\n",
       "      <th>Lot_Size(SqFT)</th>\n",
       "      <td>9276</td>\n",
       "      <td>15.652526</td>\n",
       "    </tr>\n",
       "    <tr>\n",
       "      <th>$_Per_SqFT</th>\n",
       "      <td>9276</td>\n",
       "      <td>15.652526</td>\n",
       "    </tr>\n",
       "    <tr>\n",
       "      <th>Tax_Assessed_Value</th>\n",
       "      <td>10447</td>\n",
       "      <td>17.628497</td>\n",
       "    </tr>\n",
       "    <tr>\n",
       "      <th>Half_Bathrooms</th>\n",
       "      <td>13919</td>\n",
       "      <td>23.487226</td>\n",
       "    </tr>\n",
       "    <tr>\n",
       "      <th>Full_Bathrooms</th>\n",
       "      <td>13981</td>\n",
       "      <td>23.591846</td>\n",
       "    </tr>\n",
       "  </tbody>\n",
       "</table>\n",
       "</div>"
      ],
      "text/plain": [
       "                        count          %\n",
       "City                        0   0.000000\n",
       "Borough                     0   0.000000\n",
       "Neighborhood                0   0.000000\n",
       "ZipCode                     0   0.000000\n",
       "latitude                    0   0.000000\n",
       "longitude                   0   0.000000\n",
       "price                       0   0.000000\n",
       "HomeType                    0   0.000000\n",
       "Bedrooms                    0   0.000000\n",
       "Total_Bathrooms             0   0.000000\n",
       "Basement                    0   0.000000\n",
       "Cooling_Available           0   0.000000\n",
       "Fireplace_Available         0   0.000000\n",
       "Heating_Available           0   0.000000\n",
       "Spa_Available               0   0.000000\n",
       "Story_Building              0   0.000000\n",
       "propertyTaxRate            12   0.020249\n",
       "YearBuilt                3875   6.538760\n",
       "LivingArea_Space(SqFT)   7189  12.130876\n",
       "Annual_Tax               8656  14.606324\n",
       "Lot_Size(SqFT)           9276  15.652526\n",
       "$_Per_SqFT               9276  15.652526\n",
       "Tax_Assessed_Value      10447  17.628497\n",
       "Half_Bathrooms          13919  23.487226\n",
       "Full_Bathrooms          13981  23.591846"
      ]
     },
     "execution_count": 14,
     "metadata": {},
     "output_type": "execute_result"
    }
   ],
   "source": [
    "missing = pd.concat([df.isnull().sum(), 100 * df.isnull().mean()], axis=1)\n",
    "missing.columns=['count', '%']\n",
    "missing.sort_values(by=['count', '%'])"
   ]
  },
  {
   "cell_type": "markdown",
   "metadata": {},
   "source": [
    "## 3.5 Train/Test_Split<a id='3.5_Train/Test_Split'></a>"
   ]
  },
  {
   "cell_type": "code",
   "execution_count": 15,
   "metadata": {},
   "outputs": [],
   "source": [
    "X = df.drop([ 'price', '$_Per_SqFT'] ,axis=1)\n",
    "y = df.price"
   ]
  },
  {
   "cell_type": "code",
   "execution_count": 106,
   "metadata": {},
   "outputs": [
    {
     "ename": "TypeError",
     "evalue": "Singleton array array(11850.01) cannot be considered a valid collection.",
     "output_type": "error",
     "traceback": [
      "\u001b[1;31m---------------------------------------------------------------------------\u001b[0m",
      "\u001b[1;31mTypeError\u001b[0m                                 Traceback (most recent call last)",
      "\u001b[1;32m<ipython-input-106-d43e1ffb5f87>\u001b[0m in \u001b[0;36m<module>\u001b[1;34m\u001b[0m\n\u001b[0;32m      1\u001b[0m \u001b[1;32mfrom\u001b[0m \u001b[0msklearn\u001b[0m\u001b[1;33m.\u001b[0m\u001b[0mmodel_selection\u001b[0m \u001b[1;32mimport\u001b[0m \u001b[0mtrain_test_split\u001b[0m\u001b[1;33m\u001b[0m\u001b[1;33m\u001b[0m\u001b[0m\n\u001b[0;32m      2\u001b[0m \u001b[1;33m\u001b[0m\u001b[0m\n\u001b[1;32m----> 3\u001b[1;33m \u001b[0mX_train\u001b[0m\u001b[1;33m,\u001b[0m \u001b[0mX_test\u001b[0m\u001b[1;33m,\u001b[0m \u001b[0my_train\u001b[0m\u001b[1;33m,\u001b[0m \u001b[0my_test\u001b[0m \u001b[1;33m=\u001b[0m \u001b[0mtrain_test_split\u001b[0m\u001b[1;33m(\u001b[0m\u001b[0mX\u001b[0m\u001b[1;33m,\u001b[0m \u001b[0my\u001b[0m\u001b[1;33m,\u001b[0m \u001b[0mtest_size\u001b[0m\u001b[1;33m=\u001b[0m\u001b[1;36m.3\u001b[0m\u001b[1;33m,\u001b[0m \u001b[0mrandom_state\u001b[0m\u001b[1;33m=\u001b[0m\u001b[1;36m100\u001b[0m\u001b[1;33m)\u001b[0m\u001b[1;33m\u001b[0m\u001b[1;33m\u001b[0m\u001b[0m\n\u001b[0m",
      "\u001b[1;32mC:\\ProgramData\\Anaconda3\\lib\\site-packages\\sklearn\\model_selection\\_split.py\u001b[0m in \u001b[0;36mtrain_test_split\u001b[1;34m(*arrays, **options)\u001b[0m\n\u001b[0;32m   2125\u001b[0m         \u001b[1;32mraise\u001b[0m \u001b[0mTypeError\u001b[0m\u001b[1;33m(\u001b[0m\u001b[1;34m\"Invalid parameters passed: %s\"\u001b[0m \u001b[1;33m%\u001b[0m \u001b[0mstr\u001b[0m\u001b[1;33m(\u001b[0m\u001b[0moptions\u001b[0m\u001b[1;33m)\u001b[0m\u001b[1;33m)\u001b[0m\u001b[1;33m\u001b[0m\u001b[1;33m\u001b[0m\u001b[0m\n\u001b[0;32m   2126\u001b[0m \u001b[1;33m\u001b[0m\u001b[0m\n\u001b[1;32m-> 2127\u001b[1;33m     \u001b[0marrays\u001b[0m \u001b[1;33m=\u001b[0m \u001b[0mindexable\u001b[0m\u001b[1;33m(\u001b[0m\u001b[1;33m*\u001b[0m\u001b[0marrays\u001b[0m\u001b[1;33m)\u001b[0m\u001b[1;33m\u001b[0m\u001b[1;33m\u001b[0m\u001b[0m\n\u001b[0m\u001b[0;32m   2128\u001b[0m \u001b[1;33m\u001b[0m\u001b[0m\n\u001b[0;32m   2129\u001b[0m     \u001b[0mn_samples\u001b[0m \u001b[1;33m=\u001b[0m \u001b[0m_num_samples\u001b[0m\u001b[1;33m(\u001b[0m\u001b[0marrays\u001b[0m\u001b[1;33m[\u001b[0m\u001b[1;36m0\u001b[0m\u001b[1;33m]\u001b[0m\u001b[1;33m)\u001b[0m\u001b[1;33m\u001b[0m\u001b[1;33m\u001b[0m\u001b[0m\n",
      "\u001b[1;32mC:\\ProgramData\\Anaconda3\\lib\\site-packages\\sklearn\\utils\\validation.py\u001b[0m in \u001b[0;36mindexable\u001b[1;34m(*iterables)\u001b[0m\n\u001b[0;32m    290\u001b[0m     \"\"\"\n\u001b[0;32m    291\u001b[0m     \u001b[0mresult\u001b[0m \u001b[1;33m=\u001b[0m \u001b[1;33m[\u001b[0m\u001b[0m_make_indexable\u001b[0m\u001b[1;33m(\u001b[0m\u001b[0mX\u001b[0m\u001b[1;33m)\u001b[0m \u001b[1;32mfor\u001b[0m \u001b[0mX\u001b[0m \u001b[1;32min\u001b[0m \u001b[0miterables\u001b[0m\u001b[1;33m]\u001b[0m\u001b[1;33m\u001b[0m\u001b[1;33m\u001b[0m\u001b[0m\n\u001b[1;32m--> 292\u001b[1;33m     \u001b[0mcheck_consistent_length\u001b[0m\u001b[1;33m(\u001b[0m\u001b[1;33m*\u001b[0m\u001b[0mresult\u001b[0m\u001b[1;33m)\u001b[0m\u001b[1;33m\u001b[0m\u001b[1;33m\u001b[0m\u001b[0m\n\u001b[0m\u001b[0;32m    293\u001b[0m     \u001b[1;32mreturn\u001b[0m \u001b[0mresult\u001b[0m\u001b[1;33m\u001b[0m\u001b[1;33m\u001b[0m\u001b[0m\n\u001b[0;32m    294\u001b[0m \u001b[1;33m\u001b[0m\u001b[0m\n",
      "\u001b[1;32mC:\\ProgramData\\Anaconda3\\lib\\site-packages\\sklearn\\utils\\validation.py\u001b[0m in \u001b[0;36mcheck_consistent_length\u001b[1;34m(*arrays)\u001b[0m\n\u001b[0;32m    250\u001b[0m     \"\"\"\n\u001b[0;32m    251\u001b[0m \u001b[1;33m\u001b[0m\u001b[0m\n\u001b[1;32m--> 252\u001b[1;33m     \u001b[0mlengths\u001b[0m \u001b[1;33m=\u001b[0m \u001b[1;33m[\u001b[0m\u001b[0m_num_samples\u001b[0m\u001b[1;33m(\u001b[0m\u001b[0mX\u001b[0m\u001b[1;33m)\u001b[0m \u001b[1;32mfor\u001b[0m \u001b[0mX\u001b[0m \u001b[1;32min\u001b[0m \u001b[0marrays\u001b[0m \u001b[1;32mif\u001b[0m \u001b[0mX\u001b[0m \u001b[1;32mis\u001b[0m \u001b[1;32mnot\u001b[0m \u001b[1;32mNone\u001b[0m\u001b[1;33m]\u001b[0m\u001b[1;33m\u001b[0m\u001b[1;33m\u001b[0m\u001b[0m\n\u001b[0m\u001b[0;32m    253\u001b[0m     \u001b[0muniques\u001b[0m \u001b[1;33m=\u001b[0m \u001b[0mnp\u001b[0m\u001b[1;33m.\u001b[0m\u001b[0munique\u001b[0m\u001b[1;33m(\u001b[0m\u001b[0mlengths\u001b[0m\u001b[1;33m)\u001b[0m\u001b[1;33m\u001b[0m\u001b[1;33m\u001b[0m\u001b[0m\n\u001b[0;32m    254\u001b[0m     \u001b[1;32mif\u001b[0m \u001b[0mlen\u001b[0m\u001b[1;33m(\u001b[0m\u001b[0muniques\u001b[0m\u001b[1;33m)\u001b[0m \u001b[1;33m>\u001b[0m \u001b[1;36m1\u001b[0m\u001b[1;33m:\u001b[0m\u001b[1;33m\u001b[0m\u001b[1;33m\u001b[0m\u001b[0m\n",
      "\u001b[1;32mC:\\ProgramData\\Anaconda3\\lib\\site-packages\\sklearn\\utils\\validation.py\u001b[0m in \u001b[0;36m<listcomp>\u001b[1;34m(.0)\u001b[0m\n\u001b[0;32m    250\u001b[0m     \"\"\"\n\u001b[0;32m    251\u001b[0m \u001b[1;33m\u001b[0m\u001b[0m\n\u001b[1;32m--> 252\u001b[1;33m     \u001b[0mlengths\u001b[0m \u001b[1;33m=\u001b[0m \u001b[1;33m[\u001b[0m\u001b[0m_num_samples\u001b[0m\u001b[1;33m(\u001b[0m\u001b[0mX\u001b[0m\u001b[1;33m)\u001b[0m \u001b[1;32mfor\u001b[0m \u001b[0mX\u001b[0m \u001b[1;32min\u001b[0m \u001b[0marrays\u001b[0m \u001b[1;32mif\u001b[0m \u001b[0mX\u001b[0m \u001b[1;32mis\u001b[0m \u001b[1;32mnot\u001b[0m \u001b[1;32mNone\u001b[0m\u001b[1;33m]\u001b[0m\u001b[1;33m\u001b[0m\u001b[1;33m\u001b[0m\u001b[0m\n\u001b[0m\u001b[0;32m    253\u001b[0m     \u001b[0muniques\u001b[0m \u001b[1;33m=\u001b[0m \u001b[0mnp\u001b[0m\u001b[1;33m.\u001b[0m\u001b[0munique\u001b[0m\u001b[1;33m(\u001b[0m\u001b[0mlengths\u001b[0m\u001b[1;33m)\u001b[0m\u001b[1;33m\u001b[0m\u001b[1;33m\u001b[0m\u001b[0m\n\u001b[0;32m    254\u001b[0m     \u001b[1;32mif\u001b[0m \u001b[0mlen\u001b[0m\u001b[1;33m(\u001b[0m\u001b[0muniques\u001b[0m\u001b[1;33m)\u001b[0m \u001b[1;33m>\u001b[0m \u001b[1;36m1\u001b[0m\u001b[1;33m:\u001b[0m\u001b[1;33m\u001b[0m\u001b[1;33m\u001b[0m\u001b[0m\n",
      "\u001b[1;32mC:\\ProgramData\\Anaconda3\\lib\\site-packages\\sklearn\\utils\\validation.py\u001b[0m in \u001b[0;36m_num_samples\u001b[1;34m(x)\u001b[0m\n\u001b[0;32m    193\u001b[0m     \u001b[1;32mif\u001b[0m \u001b[0mhasattr\u001b[0m\u001b[1;33m(\u001b[0m\u001b[0mx\u001b[0m\u001b[1;33m,\u001b[0m \u001b[1;34m'shape'\u001b[0m\u001b[1;33m)\u001b[0m \u001b[1;32mand\u001b[0m \u001b[0mx\u001b[0m\u001b[1;33m.\u001b[0m\u001b[0mshape\u001b[0m \u001b[1;32mis\u001b[0m \u001b[1;32mnot\u001b[0m \u001b[1;32mNone\u001b[0m\u001b[1;33m:\u001b[0m\u001b[1;33m\u001b[0m\u001b[1;33m\u001b[0m\u001b[0m\n\u001b[0;32m    194\u001b[0m         \u001b[1;32mif\u001b[0m \u001b[0mlen\u001b[0m\u001b[1;33m(\u001b[0m\u001b[0mx\u001b[0m\u001b[1;33m.\u001b[0m\u001b[0mshape\u001b[0m\u001b[1;33m)\u001b[0m \u001b[1;33m==\u001b[0m \u001b[1;36m0\u001b[0m\u001b[1;33m:\u001b[0m\u001b[1;33m\u001b[0m\u001b[1;33m\u001b[0m\u001b[0m\n\u001b[1;32m--> 195\u001b[1;33m             raise TypeError(\"Singleton array %r cannot be considered\"\n\u001b[0m\u001b[0;32m    196\u001b[0m                             \" a valid collection.\" % x)\n\u001b[0;32m    197\u001b[0m         \u001b[1;31m# Check that shape is returning an integer or default to len\u001b[0m\u001b[1;33m\u001b[0m\u001b[1;33m\u001b[0m\u001b[1;33m\u001b[0m\u001b[0m\n",
      "\u001b[1;31mTypeError\u001b[0m: Singleton array array(11850.01) cannot be considered a valid collection."
     ]
    }
   ],
   "source": [
    "from sklearn.model_selection import train_test_split\n",
    "\n",
    "X_train, X_test, y_train, y_test = train_test_split(X, y, test_size=.3, random_state=100)"
   ]
  },
  {
   "cell_type": "code",
   "execution_count": 17,
   "metadata": {},
   "outputs": [
    {
     "name": "stdout",
     "output_type": "stream",
     "text": [
      "(41483, 23) (17779, 23)\n",
      "(41483,) (17779,)\n"
     ]
    }
   ],
   "source": [
    "print(X_train.shape, X_test.shape)\n",
    "print(y_train.shape, y_test.shape)"
   ]
  },
  {
   "cell_type": "code",
   "execution_count": 18,
   "metadata": {},
   "outputs": [
    {
     "data": {
      "text/plain": [
       "City                        int16\n",
       "Borough                      int8\n",
       "Neighborhood                int16\n",
       "ZipCode                   float64\n",
       "latitude                  float64\n",
       "longitude                 float64\n",
       "propertyTaxRate           float64\n",
       "Annual_Tax                float64\n",
       "Tax_Assessed_Value        float64\n",
       "Lot_Size(SqFT)            float64\n",
       "LivingArea_Space(SqFT)    float64\n",
       "HomeType                     int8\n",
       "YearBuilt                 float64\n",
       "Bedrooms                  float64\n",
       "Total_Bathrooms           float64\n",
       "Full_Bathrooms            float64\n",
       "Half_Bathrooms            float64\n",
       "Basement                    uint8\n",
       "Cooling_Available           uint8\n",
       "Fireplace_Available         uint8\n",
       "Heating_Available           uint8\n",
       "Spa_Available               uint8\n",
       "Story_Building            float64\n",
       "dtype: object"
      ]
     },
     "execution_count": 18,
     "metadata": {},
     "output_type": "execute_result"
    }
   ],
   "source": [
    "X_train.dtypes"
   ]
  },
  {
   "cell_type": "markdown",
   "metadata": {},
   "source": [
    "## 3.6 Initial Average Model<a id='3.6_Average_Model'></a>"
   ]
  },
  {
   "cell_type": "markdown",
   "metadata": {},
   "source": [
    "#### Let's start by seeing what an average guess would yield for some performance comparison"
   ]
  },
  {
   "cell_type": "code",
   "execution_count": 19,
   "metadata": {},
   "outputs": [],
   "source": [
    "train_mean = y_train.mean()"
   ]
  },
  {
   "cell_type": "code",
   "execution_count": 20,
   "metadata": {},
   "outputs": [
    {
     "name": "stdout",
     "output_type": "stream",
     "text": [
      "[[1082213.05079189]]\n"
     ]
    }
   ],
   "source": [
    "from sklearn.dummy import DummyRegressor\n",
    "\n",
    "dummy_reg = DummyRegressor(strategy='mean')\n",
    "dummy_reg.fit(X_train, y_train)\n",
    "print(dummy_reg.constant_)"
   ]
  },
  {
   "cell_type": "markdown",
   "metadata": {},
   "source": [
    "## 3.7 Metrics<a id='3.7_Metrics'></a>"
   ]
  },
  {
   "cell_type": "markdown",
   "metadata": {},
   "source": [
    "#### R-squared will be one of our metrics used to evaluate performance"
   ]
  },
  {
   "cell_type": "code",
   "execution_count": 21,
   "metadata": {},
   "outputs": [
    {
     "data": {
      "text/plain": [
       "-2.3654448335630462e-06"
      ]
     },
     "execution_count": 21,
     "metadata": {},
     "output_type": "execute_result"
    }
   ],
   "source": [
    "y_pred_mean = train_mean * np.ones(len(y_test))\n",
    "\n",
    "r2_score(y_test, y_pred_mean)\n",
    "\n",
    "#### Well that is bad  "
   ]
  },
  {
   "cell_type": "code",
   "execution_count": 22,
   "metadata": {},
   "outputs": [
    {
     "name": "stdout",
     "output_type": "stream",
     "text": [
      "730189.8869014217\n"
     ]
    }
   ],
   "source": [
    "print(mean_absolute_error(y_test, y_pred_mean))\n",
    "# Meaning there is on average a difference of 730k in actual price to predicted price which is pretty bad"
   ]
  },
  {
   "cell_type": "markdown",
   "metadata": {},
   "source": [
    "## 3.8 Imputations<a id='3.8_Imputations'></a>"
   ]
  },
  {
   "cell_type": "markdown",
   "metadata": {},
   "source": [
    "##### We will impute the property taxrate, annual taxrate and Tax_Assessed_Value with the average of each column rates of their respective neighborhood so if a house in Jamaica is missing a value for taxrate we will take the average taxrate in the houses in jamaica and impute in for the missing value"
   ]
  },
  {
   "cell_type": "code",
   "execution_count": 25,
   "metadata": {},
   "outputs": [
    {
     "data": {
      "text/plain": [
       "City                           99.870\n",
       "Borough                         2.277\n",
       "Neighborhood                  146.822\n",
       "ZipCode                     10914.106\n",
       "latitude                       40.695\n",
       "longitude                     -73.927\n",
       "propertyTaxRate                 0.823\n",
       "Annual_Tax                  22241.148\n",
       "Tax_Assessed_Value        1295334.999\n",
       "Lot_Size(SqFT)              61167.815\n",
       "LivingArea_Space(SqFT)       3684.947\n",
       "HomeType                        3.465\n",
       "YearBuilt                    1946.125\n",
       "Bedrooms                        3.941\n",
       "Total_Bathrooms                 2.758\n",
       "Full_Bathrooms                  1.966\n",
       "Half_Bathrooms                  0.488\n",
       "Basement                        0.312\n",
       "Cooling_Available               0.349\n",
       "Fireplace_Available             0.098\n",
       "Heating_Available               0.419\n",
       "Spa_Available                   0.007\n",
       "Story_Building                  2.018\n",
       "dtype: float64"
      ]
     },
     "execution_count": 25,
     "metadata": {},
     "output_type": "execute_result"
    }
   ],
   "source": [
    "X_mean = round(X_train.mean(),3)\n",
    "X_mean"
   ]
  },
  {
   "cell_type": "code",
   "execution_count": 26,
   "metadata": {},
   "outputs": [],
   "source": [
    "X_train_mean = X_train.fillna(X_mean)\n",
    "X_test_mean = X_test.fillna(X_mean)"
   ]
  },
  {
   "cell_type": "markdown",
   "metadata": {},
   "source": [
    "### 3.8.1 Scaling the Data<a id='3.8.1_Scale'></a>"
   ]
  },
  {
   "cell_type": "code",
   "execution_count": 27,
   "metadata": {},
   "outputs": [],
   "source": [
    "scaler = StandardScaler()\n",
    "scaler.fit(X_train_mean)\n",
    "X_train_mean_scaled = scaler.transform(X_train_mean)\n",
    "X_test_mean_scaled = scaler.transform(X_test_mean)"
   ]
  },
  {
   "cell_type": "markdown",
   "metadata": {},
   "source": [
    "#### Train the model on the train split and then make prediction using the test split"
   ]
  },
  {
   "cell_type": "code",
   "execution_count": 28,
   "metadata": {},
   "outputs": [],
   "source": [
    "from sklearn.linear_model import LinearRegression\n",
    "lm = LinearRegression().fit(X_train_mean_scaled, y_train)\n",
    "y_train_mean_pred = lm.predict(X_train_mean_scaled)\n",
    "y_test_mean_pred = lm.predict(X_test_mean_scaled)"
   ]
  },
  {
   "cell_type": "code",
   "execution_count": 29,
   "metadata": {},
   "outputs": [
    {
     "name": "stdout",
     "output_type": "stream",
     "text": [
      "R2 of Y_train mean prediction's: 0.15841941757207023\n",
      "R2 of Y_test mean prediction's: 0.01773073427116878\n",
      "MAE of Y_train mean prediction's: 718095.7450717168\n",
      "MAE of Y_test mean prediction's: 724749.2314584656\n"
     ]
    }
   ],
   "source": [
    "print(\"R2 of Y_train mean prediction's:\", r2_score(y_train, y_train_mean_pred))\n",
    "print(\"R2 of Y_test mean prediction's:\",r2_score(y_test, y_test_mean_pred))\n",
    "print(\"MAE of Y_train mean prediction's:\",mean_absolute_error(y_train, y_train_mean_pred))\n",
    "print(\"MAE of Y_test mean prediction's:\",mean_absolute_error(y_test, y_test_mean_pred))\n"
   ]
  },
  {
   "cell_type": "markdown",
   "metadata": {},
   "source": [
    "##### Well it didn't improve performance significantly but it seems some imputation has helped slightly "
   ]
  },
  {
   "cell_type": "markdown",
   "metadata": {},
   "source": [
    "#### Well we can see that the mean was a poor performer when it came to a linear regression, I suspect the results will be similar, but lets try the median "
   ]
  },
  {
   "cell_type": "code",
   "execution_count": 30,
   "metadata": {},
   "outputs": [
    {
     "data": {
      "text/plain": [
       "City                          68.000\n",
       "Borough                        3.000\n",
       "Neighborhood                 148.000\n",
       "ZipCode                    11211.000\n",
       "latitude                      40.694\n",
       "longitude                    -73.905\n",
       "propertyTaxRate                0.840\n",
       "Annual_Tax                  5840.000\n",
       "Tax_Assessed_Value        650000.000\n",
       "Lot_Size(SqFT)              2577.000\n",
       "LivingArea_Space(SqFT)      1820.000\n",
       "HomeType                       4.000\n",
       "YearBuilt                   1940.000\n",
       "Bedrooms                       4.000\n",
       "Total_Bathrooms                3.000\n",
       "Full_Bathrooms                 2.000\n",
       "Half_Bathrooms                 0.000\n",
       "Basement                       0.000\n",
       "Cooling_Available              0.000\n",
       "Fireplace_Available            0.000\n",
       "Heating_Available              0.000\n",
       "Spa_Available                  0.000\n",
       "Story_Building                 2.000\n",
       "dtype: float64"
      ]
     },
     "execution_count": 30,
     "metadata": {},
     "output_type": "execute_result"
    }
   ],
   "source": [
    "X_median = round(X_train.median(),3)\n",
    "X_median"
   ]
  },
  {
   "cell_type": "code",
   "execution_count": 31,
   "metadata": {},
   "outputs": [],
   "source": [
    "X_train_median = X_train.fillna(X_median)\n",
    "X_test_median = X_test.fillna(X_median)"
   ]
  },
  {
   "cell_type": "code",
   "execution_count": 32,
   "metadata": {},
   "outputs": [],
   "source": [
    "scaler = StandardScaler()\n",
    "scaler.fit(X_train_median)\n",
    "X_train_median_scaled = scaler.transform(X_train_median)\n",
    "X_test_median_scaled = scaler.transform(X_test_median)"
   ]
  },
  {
   "cell_type": "code",
   "execution_count": 33,
   "metadata": {},
   "outputs": [],
   "source": [
    "lm = LinearRegression().fit(X_train_median_scaled, y_train)\n",
    "y_train_median_pred = lm.predict(X_train_median_scaled)\n",
    "y_test_median_pred = lm.predict(X_test_median_scaled)"
   ]
  },
  {
   "cell_type": "code",
   "execution_count": 34,
   "metadata": {},
   "outputs": [
    {
     "name": "stdout",
     "output_type": "stream",
     "text": [
      "R2 of Y_train median prediction's: 0.15717979805933568\n",
      "R2 of Y_test median prediction's: -0.0026734136442474465\n",
      "MAE of Y_train median prediction's: 727378.021674121\n",
      "MAE of Y_test median prediction's: 735719.1408676488\n"
     ]
    }
   ],
   "source": [
    "print(\"R2 of Y_train median prediction's:\", r2_score(y_train, y_train_median_pred))\n",
    "print(\"R2 of Y_test median prediction's:\",r2_score(y_test, y_test_median_pred))\n",
    "print(\"MAE of Y_train median prediction's:\",mean_absolute_error(y_train, y_train_median_pred))\n",
    "print(\"MAE of Y_test median prediction's:\",mean_absolute_error(y_test, y_test_median_pred))"
   ]
  },
  {
   "cell_type": "markdown",
   "metadata": {},
   "source": [
    "#### No significant difference in results of using median vs mean, lets try a more intuitive approach, we can impute the taxrate, annual_tax and tax_assessed_value depending on the zipcode of the house which would align more properly rather than just use the mean or median"
   ]
  },
  {
   "cell_type": "markdown",
   "metadata": {},
   "source": [
    "## 3.9 Dimensitionality Reduction"
   ]
  },
  {
   "cell_type": "markdown",
   "metadata": {},
   "source": [
    "##### With 27 features let's take a look at how each feature impact our dependent variable 'Price' and attempt to reduce the number of features we have. We also need to acknowledge that 'Per_SqFT' was a feature created by me, as it was created combining price/lot_size thus it clearly has a big impact on price but we since it was manufactured and has price directly into it we need to drop this column. "
   ]
  },
  {
   "cell_type": "markdown",
   "metadata": {},
   "source": [
    "#### First lets split our data to train and split to see which features effect what and how we can further reduce the dimensitionality of our feature set"
   ]
  },
  {
   "cell_type": "markdown",
   "metadata": {},
   "source": [
    "### Using RandomForest to find most impactful features"
   ]
  },
  {
   "cell_type": "markdown",
   "metadata": {},
   "source": [
    "#### Lets use a different model which would yield greater results for instances randomforest"
   ]
  },
  {
   "cell_type": "code",
   "execution_count": 35,
   "metadata": {},
   "outputs": [],
   "source": [
    "from sklearn.ensemble import RandomForestRegressor\n",
    "rf = RandomForestRegressor(random_state=100, max_depth=10)\n",
    "rf.fit(X_train_mean_scaled,y_train)\n",
    "y_train_mean_pred = rf.predict(X_train_mean_scaled)\n",
    "y_test_mean_pred = rf.predict(X_test_mean_scaled)"
   ]
  },
  {
   "cell_type": "code",
   "execution_count": 36,
   "metadata": {},
   "outputs": [
    {
     "name": "stdout",
     "output_type": "stream",
     "text": [
      "R2 of Y_train mean prediction's: 0.892373332768055\n",
      "R2 of Y_test mean prediction's: 0.6516125159066295\n",
      "MAE of Y_train mean prediction's: 254973.42587724343\n",
      "MAE of Y_test mean prediction's: 321963.5118924205\n"
     ]
    }
   ],
   "source": [
    "print(\"R2 of Y_train mean prediction's:\", r2_score(y_train, y_train_mean_pred))\n",
    "print(\"R2 of Y_test mean prediction's:\",r2_score(y_test, y_test_mean_pred))\n",
    "print(\"MAE of Y_train mean prediction's:\",mean_absolute_error(y_train, y_train_mean_pred))\n",
    "print(\"MAE of Y_test mean prediction's:\",mean_absolute_error(y_test, y_test_mean_pred))\n"
   ]
  },
  {
   "cell_type": "markdown",
   "metadata": {},
   "source": [
    "#### It seems utilizing a different model has yield significant results we can see decision tree in this case randomforest has done much better than our standard linear model. While it seems our train set significantly more improvement than our test our ultimate goal is the get the best results for our test set without overfitting."
   ]
  },
  {
   "cell_type": "markdown",
   "metadata": {},
   "source": [
    "##### Let's take a look at the most impactful features utilizing randomforest"
   ]
  },
  {
   "cell_type": "code",
   "execution_count": 37,
   "metadata": {},
   "outputs": [
    {
     "data": {
      "image/png": "[encoded data removed]",
      "text/plain": [
       "<Figure size 1152x576 with 1 Axes>"
      ]
     },
     "metadata": {},
     "output_type": "display_data"
    }
   ],
   "source": [
    "features = X_train_mean.columns\n",
    "importances = rf.feature_importances_\n",
    "indices = np.argsort(importances)[-26:] \n",
    "plt.figure(figsize=(16,8))\n",
    "plt.title('Feature Importances')\n",
    "plt.barh(range(len(indices)), importances[indices], color='b', align='center')\n",
    "plt.yticks(range(len(indices)), [features[i] for i in indices])\n",
    "plt.xlabel('Relative Importance')\n",
    "plt.show()"
   ]
  },
  {
   "cell_type": "code",
   "execution_count": 38,
   "metadata": {},
   "outputs": [
    {
     "data": {
      "text/html": [
       "<div>\n",
       "<style scoped>\n",
       "    .dataframe tbody tr th:only-of-type {\n",
       "        vertical-align: middle;\n",
       "    }\n",
       "\n",
       "    .dataframe tbody tr th {\n",
       "        vertical-align: top;\n",
       "    }\n",
       "\n",
       "    .dataframe thead th {\n",
       "        text-align: right;\n",
       "    }\n",
       "</style>\n",
       "<table border=\"1\" class=\"dataframe\">\n",
       "  <thead>\n",
       "    <tr style=\"text-align: right;\">\n",
       "      <th></th>\n",
       "      <th>count</th>\n",
       "      <th>%</th>\n",
       "    </tr>\n",
       "  </thead>\n",
       "  <tbody>\n",
       "    <tr>\n",
       "      <th>City</th>\n",
       "      <td>0</td>\n",
       "      <td>0.000000</td>\n",
       "    </tr>\n",
       "    <tr>\n",
       "      <th>Borough</th>\n",
       "      <td>0</td>\n",
       "      <td>0.000000</td>\n",
       "    </tr>\n",
       "    <tr>\n",
       "      <th>Neighborhood</th>\n",
       "      <td>0</td>\n",
       "      <td>0.000000</td>\n",
       "    </tr>\n",
       "    <tr>\n",
       "      <th>ZipCode</th>\n",
       "      <td>0</td>\n",
       "      <td>0.000000</td>\n",
       "    </tr>\n",
       "    <tr>\n",
       "      <th>latitude</th>\n",
       "      <td>0</td>\n",
       "      <td>0.000000</td>\n",
       "    </tr>\n",
       "    <tr>\n",
       "      <th>longitude</th>\n",
       "      <td>0</td>\n",
       "      <td>0.000000</td>\n",
       "    </tr>\n",
       "    <tr>\n",
       "      <th>price</th>\n",
       "      <td>0</td>\n",
       "      <td>0.000000</td>\n",
       "    </tr>\n",
       "    <tr>\n",
       "      <th>HomeType</th>\n",
       "      <td>0</td>\n",
       "      <td>0.000000</td>\n",
       "    </tr>\n",
       "    <tr>\n",
       "      <th>Bedrooms</th>\n",
       "      <td>0</td>\n",
       "      <td>0.000000</td>\n",
       "    </tr>\n",
       "    <tr>\n",
       "      <th>Total_Bathrooms</th>\n",
       "      <td>0</td>\n",
       "      <td>0.000000</td>\n",
       "    </tr>\n",
       "    <tr>\n",
       "      <th>Basement</th>\n",
       "      <td>0</td>\n",
       "      <td>0.000000</td>\n",
       "    </tr>\n",
       "    <tr>\n",
       "      <th>Cooling_Available</th>\n",
       "      <td>0</td>\n",
       "      <td>0.000000</td>\n",
       "    </tr>\n",
       "    <tr>\n",
       "      <th>Fireplace_Available</th>\n",
       "      <td>0</td>\n",
       "      <td>0.000000</td>\n",
       "    </tr>\n",
       "    <tr>\n",
       "      <th>Heating_Available</th>\n",
       "      <td>0</td>\n",
       "      <td>0.000000</td>\n",
       "    </tr>\n",
       "    <tr>\n",
       "      <th>Spa_Available</th>\n",
       "      <td>0</td>\n",
       "      <td>0.000000</td>\n",
       "    </tr>\n",
       "    <tr>\n",
       "      <th>Story_Building</th>\n",
       "      <td>0</td>\n",
       "      <td>0.000000</td>\n",
       "    </tr>\n",
       "    <tr>\n",
       "      <th>propertyTaxRate</th>\n",
       "      <td>12</td>\n",
       "      <td>0.020249</td>\n",
       "    </tr>\n",
       "    <tr>\n",
       "      <th>YearBuilt</th>\n",
       "      <td>3875</td>\n",
       "      <td>6.538760</td>\n",
       "    </tr>\n",
       "    <tr>\n",
       "      <th>LivingArea_Space(SqFT)</th>\n",
       "      <td>7189</td>\n",
       "      <td>12.130876</td>\n",
       "    </tr>\n",
       "    <tr>\n",
       "      <th>Annual_Tax</th>\n",
       "      <td>8656</td>\n",
       "      <td>14.606324</td>\n",
       "    </tr>\n",
       "    <tr>\n",
       "      <th>Lot_Size(SqFT)</th>\n",
       "      <td>9276</td>\n",
       "      <td>15.652526</td>\n",
       "    </tr>\n",
       "    <tr>\n",
       "      <th>$_Per_SqFT</th>\n",
       "      <td>9276</td>\n",
       "      <td>15.652526</td>\n",
       "    </tr>\n",
       "    <tr>\n",
       "      <th>Tax_Assessed_Value</th>\n",
       "      <td>10447</td>\n",
       "      <td>17.628497</td>\n",
       "    </tr>\n",
       "    <tr>\n",
       "      <th>Half_Bathrooms</th>\n",
       "      <td>13919</td>\n",
       "      <td>23.487226</td>\n",
       "    </tr>\n",
       "    <tr>\n",
       "      <th>Full_Bathrooms</th>\n",
       "      <td>13981</td>\n",
       "      <td>23.591846</td>\n",
       "    </tr>\n",
       "  </tbody>\n",
       "</table>\n",
       "</div>"
      ],
      "text/plain": [
       "                        count          %\n",
       "City                        0   0.000000\n",
       "Borough                     0   0.000000\n",
       "Neighborhood                0   0.000000\n",
       "ZipCode                     0   0.000000\n",
       "latitude                    0   0.000000\n",
       "longitude                   0   0.000000\n",
       "price                       0   0.000000\n",
       "HomeType                    0   0.000000\n",
       "Bedrooms                    0   0.000000\n",
       "Total_Bathrooms             0   0.000000\n",
       "Basement                    0   0.000000\n",
       "Cooling_Available           0   0.000000\n",
       "Fireplace_Available         0   0.000000\n",
       "Heating_Available           0   0.000000\n",
       "Spa_Available               0   0.000000\n",
       "Story_Building              0   0.000000\n",
       "propertyTaxRate            12   0.020249\n",
       "YearBuilt                3875   6.538760\n",
       "LivingArea_Space(SqFT)   7189  12.130876\n",
       "Annual_Tax               8656  14.606324\n",
       "Lot_Size(SqFT)           9276  15.652526\n",
       "$_Per_SqFT               9276  15.652526\n",
       "Tax_Assessed_Value      10447  17.628497\n",
       "Half_Bathrooms          13919  23.487226\n",
       "Full_Bathrooms          13981  23.591846"
      ]
     },
     "execution_count": 38,
     "metadata": {},
     "output_type": "execute_result"
    }
   ],
   "source": [
    "missing = pd.concat([df.isnull().sum(), 100 * df.isnull().mean()], axis=1)\n",
    "missing.columns=['count', '%']\n",
    "missing.sort_values(by=['count', '%'])"
   ]
  },
  {
   "cell_type": "markdown",
   "metadata": {},
   "source": [
    "#### It seems the following had little to no impact on price, 'Basement', 'Cooling_Available', 'Fireplace_Available', 'Heating_Available', 'Spa_Available', 'City, 'Borough' and both Full_Bathrooms and Half_Bathrooms have high ratio of high missing data. "
   ]
  },
  {
   "cell_type": "code",
   "execution_count": 39,
   "metadata": {},
   "outputs": [],
   "source": [
    "X_train_im = X_train.drop(['Basement', 'Cooling_Available', 'Fireplace_Available', 'Heating_Available', 'Spa_Available', 'City', 'Borough', 'Full_Bathrooms', 'Half_Bathrooms'],axis=1)\n",
    "X_test_im = X_test.drop(['Basement', 'Cooling_Available', 'Fireplace_Available', 'Heating_Available', 'Spa_Available', 'City', 'Borough', 'Full_Bathrooms', 'Half_Bathrooms'],axis=1)\n"
   ]
  },
  {
   "cell_type": "code",
   "execution_count": 40,
   "metadata": {},
   "outputs": [],
   "source": [
    "train_TaxRate = X_train_im[X_train_im.propertyTaxRate.isnull()].index\n",
    "for i in train_TaxRate:\n",
    "    x  = (X_train_im.ZipCode[i])\n",
    "    y = X_train_im.propertyTaxRate[i]\n",
    "    y = (round(np.mean(X_train_im[X_train_im.ZipCode == x].propertyTaxRate),3))\n",
    "    X_train_im.propertyTaxRate[i] = y\n",
    "\n",
    "    \n",
    "test_TaxRate = X_test_im[X_test_im.propertyTaxRate.isnull()].index\n",
    "for i in test_TaxRate:\n",
    "    x  = (X_test_im.ZipCode[i])\n",
    "    y = X_test_im.propertyTaxRate[i]\n",
    "    y = (round(np.mean(X_test_im[X_test_im.ZipCode == x].propertyTaxRate),3))\n",
    "    X_test_im.propertyTaxRate[i] = y\n",
    "    "
   ]
  },
  {
   "cell_type": "code",
   "execution_count": 41,
   "metadata": {},
   "outputs": [],
   "source": [
    "train_meananTax = X_train_im[X_train_im.Annual_Tax.isnull()].index\n",
    "for i in train_meananTax:\n",
    "    x  = (X_train_im.ZipCode[i])\n",
    "    y = X_train_im.Annual_Tax[i]\n",
    "    y = (round(np.mean(X_train_im[X_train_im.ZipCode == x].Annual_Tax),3))\n",
    "    X_train_im.Annual_Tax[i] = y\n",
    "    \n",
    "test_meananTax = X_test_im[X_test_im.Annual_Tax.isnull()].index\n",
    "for i in test_meananTax:\n",
    "    x  = (X_test_im.ZipCode[i])\n",
    "    y = X_test_im.Annual_Tax[i]\n",
    "    y = (round(np.mean(X_test_im[X_test_im.ZipCode == x].Annual_Tax),3))\n",
    "    X_test_im.Annual_Tax[i] = y"
   ]
  },
  {
   "cell_type": "code",
   "execution_count": 42,
   "metadata": {},
   "outputs": [],
   "source": [
    "train_meanTATax = X_train_im[X_train_im.Tax_Assessed_Value.isnull()].index\n",
    "for i in train_meanTATax:\n",
    "    x  = (X_train_im.ZipCode[i])\n",
    "    y = X_train_im.Tax_Assessed_Value[i]\n",
    "    y = (round(np.mean(X_train_im[X_train_im.ZipCode == x].Tax_Assessed_Value),3))\n",
    "    X_train_im.Tax_Assessed_Value[i] = y\n",
    "\n",
    "test_meanTATax = X_test_im[X_test_im.Tax_Assessed_Value.isnull()].index\n",
    "for i in test_meanTATax:\n",
    "    x  = (X_test_im.ZipCode[i])\n",
    "    y = X_test_im.Tax_Assessed_Value[i]\n",
    "    y = (round(np.mean(X_test_im[X_test_im.ZipCode == x].Tax_Assessed_Value),3))\n",
    "    X_test_im.Tax_Assessed_Value[i] = y"
   ]
  },
  {
   "cell_type": "code",
   "execution_count": 43,
   "metadata": {},
   "outputs": [],
   "source": [
    "train_meanYRTax = X_train_im[X_train_im.YearBuilt.isnull()].index\n",
    "for i in train_meanYRTax:\n",
    "    x  = (X_train_im.ZipCode[i])\n",
    "    y = X_train_im.YearBuilt[i]\n",
    "    y = (round(np.mean(X_train_im[X_train_im.ZipCode == x].YearBuilt),3))\n",
    "    X_train_im.YearBuilt[i] = y\n",
    "    \n",
    "test_meanYRTax = X_test_im[X_test_im.YearBuilt.isnull()].index\n",
    "for i in test_meanYRTax:\n",
    "    x  = (X_test_im.ZipCode[i])\n",
    "    y = X_test_im.YearBuilt[i]\n",
    "    y = (round(np.mean(X_test_im[X_test_im.ZipCode == x].YearBuilt),3))\n",
    "    X_test_im.YearBuilt[i] = y"
   ]
  },
  {
   "cell_type": "code",
   "execution_count": 44,
   "metadata": {},
   "outputs": [],
   "source": [
    "train_meanLATax = X_train_im[X_train_im['LivingArea_Space(SqFT)'].isnull()].index\n",
    "for i in train_meanLATax:\n",
    "    x  = (X_train_im.ZipCode[i])\n",
    "    y = X_train_im['LivingArea_Space(SqFT)'][i]\n",
    "    y = (round(np.mean(X_train_im[X_train_im.ZipCode == x]['LivingArea_Space(SqFT)']),3))\n",
    "    X_train_im['LivingArea_Space(SqFT)'][i] = y\n",
    "    \n",
    "    \n",
    "test_meanLATax = X_test_im[X_test_im['LivingArea_Space(SqFT)'].isnull()].index\n",
    "for i in test_meanLATax:\n",
    "    x  = (X_test_im.ZipCode[i])\n",
    "    y = X_test_im['LivingArea_Space(SqFT)'][i]\n",
    "    y = (round(np.mean(X_test_im[X_test_im.ZipCode == x]['LivingArea_Space(SqFT)']),3))\n",
    "    X_test_im['LivingArea_Space(SqFT)'][i] = y"
   ]
  },
  {
   "cell_type": "code",
   "execution_count": 45,
   "metadata": {},
   "outputs": [],
   "source": [
    "train_meanLATax = X_train_im[X_train_im['Lot_Size(SqFT)'].isnull()].index\n",
    "for i in train_meanLATax:\n",
    "    x  = (X_train_im.ZipCode[i])\n",
    "    y = X_train_im['Lot_Size(SqFT)'][i]\n",
    "    y = (round(np.mean(X_train_im[X_train_im.ZipCode == x]['Lot_Size(SqFT)']),3))\n",
    "    X_train_im['Lot_Size(SqFT)'][i] = y\n",
    "    \n",
    "    \n",
    "test_meanLATax = X_test_im[X_test_im['Lot_Size(SqFT)'].isnull()].index\n",
    "for i in test_meanLATax:\n",
    "    x  = (X_test_im.ZipCode[i])\n",
    "    y = X_test_im['Lot_Size(SqFT)'][i]\n",
    "    y = (round(np.mean(X_test_im[X_test_im.ZipCode == x]['Lot_Size(SqFT)']),3))\n",
    "    X_test_im['Lot_Size(SqFT)'][i] = y"
   ]
  },
  {
   "cell_type": "code",
   "execution_count": 46,
   "metadata": {},
   "outputs": [],
   "source": [
    "X_train_im = X_train_im.fillna(X_train_im.mean())\n",
    "X_test_im = X_test_im.fillna(X_test_im.mean())"
   ]
  },
  {
   "cell_type": "code",
   "execution_count": 47,
   "metadata": {},
   "outputs": [],
   "source": [
    "rf = RandomForestRegressor(random_state=100, max_depth=10)\n",
    "rf.fit(X_train_im,y_train)\n",
    "y_train_im_pred = rf.predict(X_train_im)\n",
    "y_test_im_pred = rf.predict(X_test_im)"
   ]
  },
  {
   "cell_type": "code",
   "execution_count": 48,
   "metadata": {},
   "outputs": [
    {
     "data": {
      "image/png": "[encoded data removed]",
      "text/plain": [
       "<Figure size 1152x576 with 1 Axes>"
      ]
     },
     "metadata": {},
     "output_type": "display_data"
    }
   ],
   "source": [
    "features = X_train_im.columns\n",
    "importances = rf.feature_importances_\n",
    "indices = np.argsort(importances)[-26:] \n",
    "plt.figure(figsize=(16,8))\n",
    "plt.title('Feature Importances')\n",
    "plt.barh(range(len(indices)), importances[indices], color='b', align='center')\n",
    "plt.yticks(range(len(indices)), [features[i] for i in indices])\n",
    "plt.xlabel('Relative Importance')\n",
    "plt.show()"
   ]
  },
  {
   "cell_type": "code",
   "execution_count": 49,
   "metadata": {},
   "outputs": [
    {
     "name": "stdout",
     "output_type": "stream",
     "text": [
      "R2 of Y_train zipcode mean prediction's: 0.8824516875867265\n",
      "R2 of Y_test zipcode mean prediction's: 0.6281513477136729\n",
      "MAE of Y_train zipcode mean prediction's: 263302.42714863975\n",
      "MAE of Y_test zipcode mean prediction's: 339059.48904137703\n"
     ]
    }
   ],
   "source": [
    "print(\"R2 of Y_train zipcode mean prediction's:\", r2_score(y_train, y_train_im_pred))\n",
    "print(\"R2 of Y_test zipcode mean prediction's:\",r2_score(y_test, y_test_im_pred))\n",
    "print(\"MAE of Y_train zipcode mean prediction's:\",mean_absolute_error(y_train, y_train_im_pred))\n",
    "print(\"MAE of Y_test zipcode mean prediction's:\",mean_absolute_error(y_test, y_test_im_pred))"
   ]
  },
  {
   "cell_type": "code",
   "execution_count": 50,
   "metadata": {},
   "outputs": [
    {
     "data": {
      "text/plain": [
       "RandomForestRegressor(max_depth=10, random_state=100)"
      ]
     },
     "execution_count": 50,
     "metadata": {},
     "output_type": "execute_result"
    }
   ],
   "source": [
    "from sklearn.ensemble import RandomForestRegressor\n",
    "model = RandomForestRegressor(random_state=100, max_depth=10)\n",
    "model.fit(X_train.fillna(X_train.mean()),y_train)"
   ]
  },
  {
   "cell_type": "code",
   "execution_count": 51,
   "metadata": {},
   "outputs": [
    {
     "name": "stdout",
     "output_type": "stream",
     "text": [
      "0.642122319659992 0.8923610089389832\n"
     ]
    }
   ],
   "source": [
    "y_pred_test = model.predict(X_test.fillna(X_test.mean()))\n",
    "y_pred_train = model.predict(X_train.fillna(X_train.mean()))\n",
    "print(r2_score(y_test, y_pred_test),r2_score(y_train, y_pred_train)) "
   ]
  },
  {
   "cell_type": "code",
   "execution_count": 52,
   "metadata": {},
   "outputs": [
    {
     "data": {
      "image/png": "[encoded data removed]",
      "text/plain": [
       "<Figure size 1152x576 with 1 Axes>"
      ]
     },
     "metadata": {},
     "output_type": "display_data"
    }
   ],
   "source": [
    "features = X_train.columns\n",
    "importances = model.feature_importances_\n",
    "indices = np.argsort(importances)[-26:] \n",
    "plt.figure(figsize=(16,8))\n",
    "plt.title('Feature Importances')\n",
    "plt.barh(range(len(indices)), importances[indices], color='b', align='center')\n",
    "plt.yticks(range(len(indices)), [features[i] for i in indices])\n",
    "plt.xlabel('Relative Importance')\n",
    "plt.show()"
   ]
  },
  {
   "cell_type": "markdown",
   "metadata": {},
   "source": [
    "#### It seems that the following have little to no impact Neighborhood, ParkingType, City, Heating_Available, Half_Bathrooms, Fireplace, Cooling, Basement, and Spa_Available. Lets remove these features and try to see if we yield a better r2_score. Even though full_bathrooms might have some indication I am going to input on the train data and with 0 for missing values for it. "
   ]
  },
  {
   "cell_type": "code",
   "execution_count": 53,
   "metadata": {},
   "outputs": [],
   "source": [
    "train_df_2 = df.drop(columns=['City', 'Neighborhood', 'Half_Bathrooms',\n",
    "       'Basement', 'Cooling_Available', 'Fireplace_Available',\n",
    "       'Heating_Available', 'Spa_Available'], axis=1)"
   ]
  },
  {
   "cell_type": "code",
   "execution_count": 54,
   "metadata": {},
   "outputs": [
    {
     "data": {
      "text/plain": [
       "0        1.0\n",
       "1        7.0\n",
       "2        3.0\n",
       "3        6.0\n",
       "4        5.0\n",
       "        ... \n",
       "59257    0.0\n",
       "59258    5.0\n",
       "59259    4.0\n",
       "59260    0.0\n",
       "59261    1.0\n",
       "Name: Full_Bathrooms, Length: 59262, dtype: float64"
      ]
     },
     "execution_count": 54,
     "metadata": {},
     "output_type": "execute_result"
    }
   ],
   "source": [
    "train_df_2.Full_Bathrooms.fillna(0)"
   ]
  },
  {
   "cell_type": "code",
   "execution_count": 55,
   "metadata": {},
   "outputs": [],
   "source": [
    "train_df_2 = train_df_2.dropna()"
   ]
  },
  {
   "cell_type": "code",
   "execution_count": 56,
   "metadata": {},
   "outputs": [],
   "source": [
    "X_2 = train_df_2.drop([ 'price', '$_Per_SqFT'] ,axis=1)\n",
    "y_2 = train_df_2.price"
   ]
  },
  {
   "cell_type": "code",
   "execution_count": 57,
   "metadata": {},
   "outputs": [
    {
     "data": {
      "text/plain": [
       "(33283, 15)"
      ]
     },
     "execution_count": 57,
     "metadata": {},
     "output_type": "execute_result"
    }
   ],
   "source": [
    "X_2.shape\n",
    "#While our dataset definately reduced its still a alot to work with I don't believe we will overfit as we still have 35k observations"
   ]
  },
  {
   "cell_type": "code",
   "execution_count": 97,
   "metadata": {},
   "outputs": [
    {
     "data": {
      "text/plain": [
       "RandomForestRegressor(max_depth=10, random_state=100)"
      ]
     },
     "execution_count": 97,
     "metadata": {},
     "output_type": "execute_result"
    }
   ],
   "source": [
    "X_train_2, X_test_2, y_train_2, y_test_2 = train_test_split(X_2, y_2, test_size=.3, random_state=100)\n",
    "rf = RandomForestRegressor(random_state=100, max_depth=10)\n",
    "rf.fit(X_train_2,y_train_2)"
   ]
  },
  {
   "cell_type": "code",
   "execution_count": 98,
   "metadata": {},
   "outputs": [
    {
     "name": "stdout",
     "output_type": "stream",
     "text": [
      "0.6457979953539843\n",
      "0.9317301155133008\n"
     ]
    }
   ],
   "source": [
    "y_pred = rf.predict(X_test_2)\n",
    "print(r2_score(y_test_2, y_pred))\n",
    "y_pred = rf.predict(X_train_2)\n",
    "print(r2_score(y_train_2, y_pred))"
   ]
  },
  {
   "cell_type": "markdown",
   "metadata": {},
   "source": [
    "#### These are the best results so far I think this is the best iterations of our training and test dataset and in our next notebook of modeling we will further fine tune and select the best machine learning algorithm to perform further test to get the best model."
   ]
  },
  {
   "cell_type": "code",
   "execution_count": 61,
   "metadata": {},
   "outputs": [
    {
     "data": {
      "image/png": "[encoded data removed]",
      "text/plain": [
       "<Figure size 1152x576 with 1 Axes>"
      ]
     },
     "metadata": {},
     "output_type": "display_data"
    }
   ],
   "source": [
    "features = X_train_2.columns\n",
    "importances = rf.feature_importances_\n",
    "indices = np.argsort(importances)[-26:] \n",
    "plt.figure(figsize=(16,8))\n",
    "plt.title('Feature Importances')\n",
    "plt.barh(range(len(indices)), importances[indices], color='b', align='center')\n",
    "plt.yticks(range(len(indices)), [features[i] for i in indices])\n",
    "plt.xlabel('Relative Importance')\n",
    "plt.show()"
   ]
  },
  {
   "cell_type": "markdown",
   "metadata": {},
   "source": [
    "#### That was a great move, our R2_score has increased significantly so now we know which features to drop"
   ]
  },
  {
   "cell_type": "markdown",
   "metadata": {},
   "source": [
    "## 3.10 Gradient Boosting Model"
   ]
  },
  {
   "cell_type": "code",
   "execution_count": 195,
   "metadata": {},
   "outputs": [],
   "source": [
    "import xgboost as xgb"
   ]
  },
  {
   "cell_type": "code",
   "execution_count": 161,
   "metadata": {},
   "outputs": [],
   "source": [
    "X = df.drop(['price', '$_Per_SqFT', 'Basement', 'Cooling_Available', 'Fireplace_Available', 'Heating_Available', 'Spa_Available', 'Story_Building'], axis=1).values\n",
    "y = df.price.values"
   ]
  },
  {
   "cell_type": "code",
   "execution_count": 186,
   "metadata": {},
   "outputs": [],
   "source": [
    "X_train, X_test, y_train, y_test = train_test_split(X, y, test_size=.35, random_state=100)"
   ]
  },
  {
   "cell_type": "code",
   "execution_count": 187,
   "metadata": {},
   "outputs": [],
   "source": [
    "GB_pipe = make_pipeline(\n",
    "    SimpleImputer(strategy=\"mean\"),\n",
    "    StandardScaler(),\n",
    "    xgb.XGBRegressor(random_state=100)\n",
    ")"
   ]
  },
  {
   "cell_type": "code",
   "execution_count": 188,
   "metadata": {},
   "outputs": [
    {
     "data": {
      "text/plain": [
       "Pipeline(steps=[('simpleimputer', SimpleImputer()),\n",
       "                ('standardscaler', StandardScaler()),\n",
       "                ('xgbregressor',\n",
       "                 XGBRegressor(base_score=0.5, booster='gbtree',\n",
       "                              colsample_bylevel=1, colsample_bynode=1,\n",
       "                              colsample_bytree=1, gamma=0, gpu_id=-1,\n",
       "                              importance_type='gain',\n",
       "                              interaction_constraints='',\n",
       "                              learning_rate=0.300000012, max_delta_step=0,\n",
       "                              max_depth=6, min_child_weight=1, missing=nan,\n",
       "                              monotone_constraints='()', n_estimators=100,\n",
       "                              n_jobs=8, num_parallel_tree=1, random_state=100,\n",
       "                              reg_alpha=0, reg_lambda=1, scale_pos_weight=1,\n",
       "                              subsample=1, tree_method='exact',\n",
       "                              validate_parameters=1, verbosity=None))])"
      ]
     },
     "execution_count": 188,
     "metadata": {},
     "output_type": "execute_result"
    }
   ],
   "source": [
    "GB_pipe.fit(X_train, y_train)"
   ]
  },
  {
   "cell_type": "code",
   "execution_count": 189,
   "metadata": {},
   "outputs": [],
   "source": [
    "test_preds = GB_pipe.predict(X_test)\n",
    "train_preds = GB_pipe.predict(X_train)"
   ]
  },
  {
   "cell_type": "code",
   "execution_count": 190,
   "metadata": {},
   "outputs": [
    {
     "name": "stdout",
     "output_type": "stream",
     "text": [
      "R2 of Y_train  GB prediction's: 0.9741759065696112\n",
      "R2 of Y_test  GB prediction's: 0.6996805761399063\n",
      "MAE of Y_train GB prediction's: 180355.2365092847\n",
      "MAE of Y_test GB prediction's: 303310.0333122832\n"
     ]
    }
   ],
   "source": [
    "print(\"R2 of Y_train  GB prediction's:\", r2_score(y_train, train_preds))\n",
    "print(\"R2 of Y_test  GB prediction's:\",r2_score(y_test, test_preds))\n",
    "print(\"MAE of Y_train GB prediction's:\",mean_absolute_error(y_train, train_preds))\n",
    "print(\"MAE of Y_test GB prediction's:\",mean_absolute_error(y_test, test_preds))"
   ]
  },
  {
   "cell_type": "code",
   "execution_count": 196,
   "metadata": {},
   "outputs": [],
   "source": [
    "gb_default_cv_results = cross_validate(GB_pipe, X_train, y_train, cv=5)"
   ]
  },
  {
   "cell_type": "code",
   "execution_count": 197,
   "metadata": {},
   "outputs": [
    {
     "data": {
      "text/plain": [
       "{'fit_time': array([2.06351519, 2.11086369, 2.0594914 , 2.19075632, 2.14032054]),\n",
       " 'score_time': array([0.00994682, 0.00997376, 0.00897646, 0.00996733, 0.00997376]),\n",
       " 'test_score': array([0.62674508, 0.60764391, 0.52406885, 0.47358701, 0.45281   ])}"
      ]
     },
     "execution_count": 197,
     "metadata": {},
     "output_type": "execute_result"
    }
   ],
   "source": [
    "gb_default_cv_results"
   ]
  },
  {
   "cell_type": "code",
   "execution_count": 191,
   "metadata": {},
   "outputs": [],
   "source": [
    "gb = xgb.XGBRegressor(random_state=100)"
   ]
  },
  {
   "cell_type": "code",
   "execution_count": 192,
   "metadata": {},
   "outputs": [
    {
     "data": {
      "text/plain": [
       "XGBRegressor(base_score=0.5, booster='gbtree', colsample_bylevel=1,\n",
       "             colsample_bynode=1, colsample_bytree=1, gamma=0, gpu_id=-1,\n",
       "             importance_type='gain', interaction_constraints='',\n",
       "             learning_rate=0.300000012, max_delta_step=0, max_depth=6,\n",
       "             min_child_weight=1, missing=nan, monotone_constraints='()',\n",
       "             n_estimators=100, n_jobs=8, num_parallel_tree=1, random_state=100,\n",
       "             reg_alpha=0, reg_lambda=1, scale_pos_weight=1, subsample=1,\n",
       "             tree_method='exact', validate_parameters=1, verbosity=None)"
      ]
     },
     "execution_count": 192,
     "metadata": {},
     "output_type": "execute_result"
    }
   ],
   "source": [
    "gb.fit(X_train, y_train)"
   ]
  },
  {
   "cell_type": "code",
   "execution_count": 193,
   "metadata": {},
   "outputs": [],
   "source": [
    "pred_test = gb.predict(X_test)\n",
    "pred_train = gb.predict(X_train)"
   ]
  },
  {
   "cell_type": "code",
   "execution_count": 194,
   "metadata": {},
   "outputs": [
    {
     "name": "stdout",
     "output_type": "stream",
     "text": [
      "R2 of Y_train  GB prediction's: 0.9775269151565826\n",
      "R2 of Y_test  GB prediction's: 0.6903184316727289\n",
      "MAE of Y_train GB prediction's: 171554.1046687236\n",
      "MAE of Y_test GB prediction's: 304751.44898669753\n"
     ]
    }
   ],
   "source": [
    "print(\"R2 of Y_train  GB prediction's:\", r2_score(y_train, pred_train))\n",
    "print(\"R2 of Y_test  GB prediction's:\",r2_score(y_test, pred_test))\n",
    "print(\"MAE of Y_train GB prediction's:\",mean_absolute_error(y_train, pred_train))\n",
    "print(\"MAE of Y_test GB prediction's:\",mean_absolute_error(y_test, pred_test))"
   ]
  },
  {
   "cell_type": "code",
   "execution_count": 171,
   "metadata": {},
   "outputs": [
    {
     "data": {
      "text/plain": [
       "array([0.99915482, 0.9991563 , 0.99902509, 0.99474051, 0.99925765])"
      ]
     },
     "execution_count": 171,
     "metadata": {},
     "output_type": "execute_result"
    }
   ],
   "source": [
    "gb_cv_scores = gb_default_cv_results['test_score']\n",
    "gb_cv_scores"
   ]
  },
  {
   "cell_type": "code",
   "execution_count": 172,
   "metadata": {},
   "outputs": [
    {
     "data": {
      "text/plain": [
       "(0.9982668767594177, 0.0017647263148281378)"
      ]
     },
     "execution_count": 172,
     "metadata": {},
     "output_type": "execute_result"
    }
   ],
   "source": [
    "np.mean(gb_cv_scores), np.std(gb_cv_scores)"
   ]
  },
  {
   "cell_type": "markdown",
   "metadata": {},
   "source": [
    "### 3.11 Hyper-parameter Tuning  with Gradient Boost "
   ]
  },
  {
   "cell_type": "code",
   "execution_count": 213,
   "metadata": {},
   "outputs": [],
   "source": [
    "dtrain = xgb.DMatrix(X_train, label=y_train)\n",
    "dtest = xgb.DMatrix(X_test, label=y_test)"
   ]
  },
  {
   "cell_type": "code",
   "execution_count": 198,
   "metadata": {},
   "outputs": [],
   "source": [
    "params = {\n",
    "    # Parameters that we are going to tune.\n",
    "    'max_depth':6,\n",
    "    'min_child_weight': 1,\n",
    "    'eta':.3,\n",
    "    'subsample': 1,\n",
    "    'colsample_bytree': 1,\n",
    "    # Other parameters\n",
    "    'objective':'reg:linear',\n",
    "}\n"
   ]
  },
  {
   "cell_type": "code",
   "execution_count": 206,
   "metadata": {},
   "outputs": [],
   "source": [
    "params['eval_metric'] = \"mae\"\n",
    "num_boost_round = 999\n",
    "evallist  = [(X_test,'eval'), (X_train,'train')]\n"
   ]
  },
  {
   "cell_type": "code",
   "execution_count": 214,
   "metadata": {},
   "outputs": [
    {
     "name": "stdout",
     "output_type": "stream",
     "text": [
      "[23:37:56] WARNING: d:\\bld\\xgboost-split_1619725139497\\work\\src\\objective\\regression_obj.cu:171: reg:linear is now deprecated in favor of reg:squarederror.\n",
      "[0]\tTest-mae:763658.81250\n",
      "[1]\tTest-mae:562080.43750\n",
      "[2]\tTest-mae:445592.68750\n",
      "[3]\tTest-mae:376867.84375\n",
      "[4]\tTest-mae:339311.78125\n",
      "[5]\tTest-mae:323415.90625\n",
      "[6]\tTest-mae:316051.37500\n",
      "[7]\tTest-mae:314485.00000\n",
      "[8]\tTest-mae:314545.81250\n",
      "[9]\tTest-mae:312820.18750\n",
      "[10]\tTest-mae:313140.59375\n",
      "[11]\tTest-mae:313317.37500\n",
      "[12]\tTest-mae:311008.93750\n",
      "[13]\tTest-mae:310372.28125\n",
      "[14]\tTest-mae:311191.18750\n",
      "[15]\tTest-mae:311862.75000\n",
      "[16]\tTest-mae:311248.93750\n",
      "[17]\tTest-mae:310879.50000\n",
      "[18]\tTest-mae:310810.75000\n",
      "[19]\tTest-mae:310165.25000\n",
      "[20]\tTest-mae:310303.50000\n",
      "[21]\tTest-mae:310128.50000\n",
      "[22]\tTest-mae:310298.62500\n",
      "[23]\tTest-mae:309860.75000\n",
      "[24]\tTest-mae:309728.46875\n",
      "[25]\tTest-mae:309975.18750\n",
      "[26]\tTest-mae:310187.31250\n",
      "[27]\tTest-mae:309723.62500\n",
      "[28]\tTest-mae:309615.37500\n",
      "[29]\tTest-mae:309258.50000\n",
      "[30]\tTest-mae:309084.15625\n",
      "[31]\tTest-mae:308555.31250\n",
      "[32]\tTest-mae:308332.37500\n",
      "[33]\tTest-mae:308092.71875\n",
      "[34]\tTest-mae:307356.78125\n",
      "[35]\tTest-mae:308284.93750\n",
      "[36]\tTest-mae:308123.59375\n",
      "[37]\tTest-mae:308091.87500\n",
      "[38]\tTest-mae:308526.78125\n",
      "[39]\tTest-mae:308001.09375\n",
      "[40]\tTest-mae:307494.18750\n",
      "[41]\tTest-mae:307577.50000\n",
      "[42]\tTest-mae:307801.81250\n",
      "[43]\tTest-mae:307420.18750\n"
     ]
    }
   ],
   "source": [
    "model = xgb.train(\n",
    "    params,\n",
    "    dtrain,\n",
    "    num_boost_round=num_boost_round,\n",
    "    evals=[(dtest, \"Test\")],\n",
    "    early_stopping_rounds=10\n",
    ")"
   ]
  },
  {
   "cell_type": "code",
   "execution_count": 215,
   "metadata": {},
   "outputs": [
    {
     "name": "stdout",
     "output_type": "stream",
     "text": [
      "Best MAE: 307356.78 with 35 rounds\n"
     ]
    }
   ],
   "source": [
    "print(\"Best MAE: {:.2f} with {} rounds\".format(\n",
    "                 model.best_score,\n",
    "                 model.best_iteration+1))"
   ]
  },
  {
   "cell_type": "code",
   "execution_count": 217,
   "metadata": {},
   "outputs": [
    {
     "name": "stdout",
     "output_type": "stream",
     "text": [
      "[23:39:26] WARNING: d:\\bld\\xgboost-split_1619725139497\\work\\src\\objective\\regression_obj.cu:171: reg:linear is now deprecated in favor of reg:squarederror.\n",
      "[23:39:26] WARNING: d:\\bld\\xgboost-split_1619725139497\\work\\src\\objective\\regression_obj.cu:171: reg:linear is now deprecated in favor of reg:squarederror.\n",
      "[23:39:26] WARNING: d:\\bld\\xgboost-split_1619725139497\\work\\src\\objective\\regression_obj.cu:171: reg:linear is now deprecated in favor of reg:squarederror.\n",
      "[23:39:26] WARNING: d:\\bld\\xgboost-split_1619725139497\\work\\src\\objective\\regression_obj.cu:171: reg:linear is now deprecated in favor of reg:squarederror.\n",
      "[23:39:26] WARNING: d:\\bld\\xgboost-split_1619725139497\\work\\src\\objective\\regression_obj.cu:171: reg:linear is now deprecated in favor of reg:squarederror.\n"
     ]
    },
    {
     "data": {
      "text/html": [
       "<div>\n",
       "<style scoped>\n",
       "    .dataframe tbody tr th:only-of-type {\n",
       "        vertical-align: middle;\n",
       "    }\n",
       "\n",
       "    .dataframe tbody tr th {\n",
       "        vertical-align: top;\n",
       "    }\n",
       "\n",
       "    .dataframe thead th {\n",
       "        text-align: right;\n",
       "    }\n",
       "</style>\n",
       "<table border=\"1\" class=\"dataframe\">\n",
       "  <thead>\n",
       "    <tr style=\"text-align: right;\">\n",
       "      <th></th>\n",
       "      <th>train-mae-mean</th>\n",
       "      <th>train-mae-std</th>\n",
       "      <th>test-mae-mean</th>\n",
       "      <th>test-mae-std</th>\n",
       "    </tr>\n",
       "  </thead>\n",
       "  <tbody>\n",
       "    <tr>\n",
       "      <th>0</th>\n",
       "      <td>768476.500000</td>\n",
       "      <td>5215.742696</td>\n",
       "      <td>775174.86250</td>\n",
       "      <td>24571.724050</td>\n",
       "    </tr>\n",
       "    <tr>\n",
       "      <th>1</th>\n",
       "      <td>565212.562500</td>\n",
       "      <td>4645.967786</td>\n",
       "      <td>582054.91250</td>\n",
       "      <td>22249.788326</td>\n",
       "    </tr>\n",
       "    <tr>\n",
       "      <th>2</th>\n",
       "      <td>439170.518750</td>\n",
       "      <td>4050.189287</td>\n",
       "      <td>466878.76250</td>\n",
       "      <td>19855.637274</td>\n",
       "    </tr>\n",
       "    <tr>\n",
       "      <th>3</th>\n",
       "      <td>364161.656250</td>\n",
       "      <td>5023.644873</td>\n",
       "      <td>401852.08125</td>\n",
       "      <td>16774.643721</td>\n",
       "    </tr>\n",
       "    <tr>\n",
       "      <th>4</th>\n",
       "      <td>323418.150000</td>\n",
       "      <td>5345.917147</td>\n",
       "      <td>368252.22500</td>\n",
       "      <td>15118.656148</td>\n",
       "    </tr>\n",
       "    <tr>\n",
       "      <th>...</th>\n",
       "      <td>...</td>\n",
       "      <td>...</td>\n",
       "      <td>...</td>\n",
       "      <td>...</td>\n",
       "    </tr>\n",
       "    <tr>\n",
       "      <th>125</th>\n",
       "      <td>150730.650000</td>\n",
       "      <td>1324.758380</td>\n",
       "      <td>314705.83125</td>\n",
       "      <td>12981.902668</td>\n",
       "    </tr>\n",
       "    <tr>\n",
       "      <th>126</th>\n",
       "      <td>150099.481250</td>\n",
       "      <td>1499.317920</td>\n",
       "      <td>314673.32500</td>\n",
       "      <td>12931.900848</td>\n",
       "    </tr>\n",
       "    <tr>\n",
       "      <th>127</th>\n",
       "      <td>149646.021875</td>\n",
       "      <td>1719.569284</td>\n",
       "      <td>314570.48750</td>\n",
       "      <td>12987.417432</td>\n",
       "    </tr>\n",
       "    <tr>\n",
       "      <th>128</th>\n",
       "      <td>149221.334375</td>\n",
       "      <td>1637.283592</td>\n",
       "      <td>314449.82500</td>\n",
       "      <td>12968.432644</td>\n",
       "    </tr>\n",
       "    <tr>\n",
       "      <th>129</th>\n",
       "      <td>148737.525000</td>\n",
       "      <td>1671.078566</td>\n",
       "      <td>314303.87500</td>\n",
       "      <td>12956.085030</td>\n",
       "    </tr>\n",
       "  </tbody>\n",
       "</table>\n",
       "<p>130 rows × 4 columns</p>\n",
       "</div>"
      ],
      "text/plain": [
       "     train-mae-mean  train-mae-std  test-mae-mean  test-mae-std\n",
       "0     768476.500000    5215.742696   775174.86250  24571.724050\n",
       "1     565212.562500    4645.967786   582054.91250  22249.788326\n",
       "2     439170.518750    4050.189287   466878.76250  19855.637274\n",
       "3     364161.656250    5023.644873   401852.08125  16774.643721\n",
       "4     323418.150000    5345.917147   368252.22500  15118.656148\n",
       "..              ...            ...            ...           ...\n",
       "125   150730.650000    1324.758380   314705.83125  12981.902668\n",
       "126   150099.481250    1499.317920   314673.32500  12931.900848\n",
       "127   149646.021875    1719.569284   314570.48750  12987.417432\n",
       "128   149221.334375    1637.283592   314449.82500  12968.432644\n",
       "129   148737.525000    1671.078566   314303.87500  12956.085030\n",
       "\n",
       "[130 rows x 4 columns]"
      ]
     },
     "execution_count": 217,
     "metadata": {},
     "output_type": "execute_result"
    }
   ],
   "source": [
    "cv_results = xgb.cv(\n",
    "    params,\n",
    "    dtrain,\n",
    "    num_boost_round=num_boost_round,\n",
    "    seed=100,\n",
    "    nfold=5,\n",
    "    metrics={'mae'},\n",
    "    early_stopping_rounds=10\n",
    ")\n",
    "cv_results\n"
   ]
  },
  {
   "cell_type": "code",
   "execution_count": 218,
   "metadata": {},
   "outputs": [
    {
     "data": {
      "text/plain": [
       "314303.875"
      ]
     },
     "execution_count": 218,
     "metadata": {},
     "output_type": "execute_result"
    }
   ],
   "source": [
    "cv_results['test-mae-mean'].min()"
   ]
  },
  {
   "cell_type": "code",
   "execution_count": 220,
   "metadata": {},
   "outputs": [],
   "source": [
    "gridsearch_params = [\n",
    "    (max_depth, min_child_weight)\n",
    "    for max_depth in range(5,15)\n",
    "    for min_child_weight in range(3,9)\n",
    "]"
   ]
  },
  {
   "cell_type": "code",
   "execution_count": 221,
   "metadata": {},
   "outputs": [
    {
     "name": "stdout",
     "output_type": "stream",
     "text": [
      "CV with max_depth=5, min_child_weight=3\n",
      "[23:41:28] WARNING: d:\\bld\\xgboost-split_1619725139497\\work\\src\\objective\\regression_obj.cu:171: reg:linear is now deprecated in favor of reg:squarederror.\n",
      "[23:41:28] WARNING: d:\\bld\\xgboost-split_1619725139497\\work\\src\\objective\\regression_obj.cu:171: reg:linear is now deprecated in favor of reg:squarederror.\n",
      "[23:41:28] WARNING: d:\\bld\\xgboost-split_1619725139497\\work\\src\\objective\\regression_obj.cu:171: reg:linear is now deprecated in favor of reg:squarederror.\n",
      "[23:41:28] WARNING: d:\\bld\\xgboost-split_1619725139497\\work\\src\\objective\\regression_obj.cu:171: reg:linear is now deprecated in favor of reg:squarederror.\n",
      "[23:41:28] WARNING: d:\\bld\\xgboost-split_1619725139497\\work\\src\\objective\\regression_obj.cu:171: reg:linear is now deprecated in favor of reg:squarederror.\n",
      "\tMAE 333416.7625 for 55 rounds\n",
      "CV with max_depth=5, min_child_weight=4\n",
      "[23:41:33] WARNING: d:\\bld\\xgboost-split_1619725139497\\work\\src\\objective\\regression_obj.cu:171: reg:linear is now deprecated in favor of reg:squarederror.\n",
      "[23:41:34] WARNING: d:\\bld\\xgboost-split_1619725139497\\work\\src\\objective\\regression_obj.cu:171: reg:linear is now deprecated in favor of reg:squarederror.\n",
      "[23:41:34] WARNING: d:\\bld\\xgboost-split_1619725139497\\work\\src\\objective\\regression_obj.cu:171: reg:linear is now deprecated in favor of reg:squarederror.\n",
      "[23:41:34] WARNING: d:\\bld\\xgboost-split_1619725139497\\work\\src\\objective\\regression_obj.cu:171: reg:linear is now deprecated in favor of reg:squarederror.\n",
      "[23:41:34] WARNING: d:\\bld\\xgboost-split_1619725139497\\work\\src\\objective\\regression_obj.cu:171: reg:linear is now deprecated in favor of reg:squarederror.\n",
      "\tMAE 339982.4875 for 50 rounds\n",
      "CV with max_depth=5, min_child_weight=5\n",
      "[23:41:39] WARNING: d:\\bld\\xgboost-split_1619725139497\\work\\src\\objective\\regression_obj.cu:171: reg:linear is now deprecated in favor of reg:squarederror.\n",
      "[23:41:39] WARNING: d:\\bld\\xgboost-split_1619725139497\\work\\src\\objective\\regression_obj.cu:171: reg:linear is now deprecated in favor of reg:squarederror.\n",
      "[23:41:39] WARNING: d:\\bld\\xgboost-split_1619725139497\\work\\src\\objective\\regression_obj.cu:171: reg:linear is now deprecated in favor of reg:squarederror.\n",
      "[23:41:39] WARNING: d:\\bld\\xgboost-split_1619725139497\\work\\src\\objective\\regression_obj.cu:171: reg:linear is now deprecated in favor of reg:squarederror.\n",
      "[23:41:39] WARNING: d:\\bld\\xgboost-split_1619725139497\\work\\src\\objective\\regression_obj.cu:171: reg:linear is now deprecated in favor of reg:squarederror.\n",
      "\tMAE 341487.28125 for 35 rounds\n",
      "CV with max_depth=5, min_child_weight=6\n",
      "[23:41:43] WARNING: d:\\bld\\xgboost-split_1619725139497\\work\\src\\objective\\regression_obj.cu:171: reg:linear is now deprecated in favor of reg:squarederror.\n",
      "[23:41:43] WARNING: d:\\bld\\xgboost-split_1619725139497\\work\\src\\objective\\regression_obj.cu:171: reg:linear is now deprecated in favor of reg:squarederror.\n",
      "[23:41:43] WARNING: d:\\bld\\xgboost-split_1619725139497\\work\\src\\objective\\regression_obj.cu:171: reg:linear is now deprecated in favor of reg:squarederror.\n",
      "[23:41:43] WARNING: d:\\bld\\xgboost-split_1619725139497\\work\\src\\objective\\regression_obj.cu:171: reg:linear is now deprecated in favor of reg:squarederror.\n",
      "[23:41:43] WARNING: d:\\bld\\xgboost-split_1619725139497\\work\\src\\objective\\regression_obj.cu:171: reg:linear is now deprecated in favor of reg:squarederror.\n",
      "\tMAE 345004.98125 for 43 rounds\n",
      "CV with max_depth=5, min_child_weight=7\n",
      "[23:41:50] WARNING: d:\\bld\\xgboost-split_1619725139497\\work\\src\\objective\\regression_obj.cu:171: reg:linear is now deprecated in favor of reg:squarederror.\n",
      "[23:41:50] WARNING: d:\\bld\\xgboost-split_1619725139497\\work\\src\\objective\\regression_obj.cu:171: reg:linear is now deprecated in favor of reg:squarederror.\n",
      "[23:41:50] WARNING: d:\\bld\\xgboost-split_1619725139497\\work\\src\\objective\\regression_obj.cu:171: reg:linear is now deprecated in favor of reg:squarederror.\n",
      "[23:41:50] WARNING: d:\\bld\\xgboost-split_1619725139497\\work\\src\\objective\\regression_obj.cu:171: reg:linear is now deprecated in favor of reg:squarederror.\n",
      "[23:41:50] WARNING: d:\\bld\\xgboost-split_1619725139497\\work\\src\\objective\\regression_obj.cu:171: reg:linear is now deprecated in favor of reg:squarederror.\n",
      "\tMAE 347454.54375 for 34 rounds\n",
      "CV with max_depth=5, min_child_weight=8\n",
      "[23:41:56] WARNING: d:\\bld\\xgboost-split_1619725139497\\work\\src\\objective\\regression_obj.cu:171: reg:linear is now deprecated in favor of reg:squarederror.\n",
      "[23:41:56] WARNING: d:\\bld\\xgboost-split_1619725139497\\work\\src\\objective\\regression_obj.cu:171: reg:linear is now deprecated in favor of reg:squarederror.\n",
      "[23:41:56] WARNING: d:\\bld\\xgboost-split_1619725139497\\work\\src\\objective\\regression_obj.cu:171: reg:linear is now deprecated in favor of reg:squarederror.\n",
      "[23:41:56] WARNING: d:\\bld\\xgboost-split_1619725139497\\work\\src\\objective\\regression_obj.cu:171: reg:linear is now deprecated in favor of reg:squarederror.\n",
      "[23:41:56] WARNING: d:\\bld\\xgboost-split_1619725139497\\work\\src\\objective\\regression_obj.cu:171: reg:linear is now deprecated in favor of reg:squarederror.\n",
      "\tMAE 345335.1875 for 35 rounds\n",
      "CV with max_depth=6, min_child_weight=3\n",
      "[23:42:01] WARNING: d:\\bld\\xgboost-split_1619725139497\\work\\src\\objective\\regression_obj.cu:171: reg:linear is now deprecated in favor of reg:squarederror.\n",
      "[23:42:01] WARNING: d:\\bld\\xgboost-split_1619725139497\\work\\src\\objective\\regression_obj.cu:171: reg:linear is now deprecated in favor of reg:squarederror.\n",
      "[23:42:01] WARNING: d:\\bld\\xgboost-split_1619725139497\\work\\src\\objective\\regression_obj.cu:171: reg:linear is now deprecated in favor of reg:squarederror.\n",
      "[23:42:01] WARNING: d:\\bld\\xgboost-split_1619725139497\\work\\src\\objective\\regression_obj.cu:171: reg:linear is now deprecated in favor of reg:squarederror.\n",
      "[23:42:01] WARNING: d:\\bld\\xgboost-split_1619725139497\\work\\src\\objective\\regression_obj.cu:171: reg:linear is now deprecated in favor of reg:squarederror.\n",
      "\tMAE 331436.15625 for 34 rounds\n",
      "CV with max_depth=6, min_child_weight=4\n",
      "[23:42:08] WARNING: d:\\bld\\xgboost-split_1619725139497\\work\\src\\objective\\regression_obj.cu:171: reg:linear is now deprecated in favor of reg:squarederror.\n",
      "[23:42:08] WARNING: d:\\bld\\xgboost-split_1619725139497\\work\\src\\objective\\regression_obj.cu:171: reg:linear is now deprecated in favor of reg:squarederror.\n",
      "[23:42:08] WARNING: d:\\bld\\xgboost-split_1619725139497\\work\\src\\objective\\regression_obj.cu:171: reg:linear is now deprecated in favor of reg:squarederror.\n",
      "[23:42:08] WARNING: d:\\bld\\xgboost-split_1619725139497\\work\\src\\objective\\regression_obj.cu:171: reg:linear is now deprecated in favor of reg:squarederror.\n",
      "[23:42:09] WARNING: d:\\bld\\xgboost-split_1619725139497\\work\\src\\objective\\regression_obj.cu:171: reg:linear is now deprecated in favor of reg:squarederror.\n",
      "\tMAE 336971.075 for 11 rounds\n",
      "CV with max_depth=6, min_child_weight=5\n",
      "[23:42:12] WARNING: d:\\bld\\xgboost-split_1619725139497\\work\\src\\objective\\regression_obj.cu:171: reg:linear is now deprecated in favor of reg:squarederror.\n",
      "[23:42:12] WARNING: d:\\bld\\xgboost-split_1619725139497\\work\\src\\objective\\regression_obj.cu:171: reg:linear is now deprecated in favor of reg:squarederror.\n",
      "[23:42:12] WARNING: d:\\bld\\xgboost-split_1619725139497\\work\\src\\objective\\regression_obj.cu:171: reg:linear is now deprecated in favor of reg:squarederror.\n",
      "[23:42:12] WARNING: d:\\bld\\xgboost-split_1619725139497\\work\\src\\objective\\regression_obj.cu:171: reg:linear is now deprecated in favor of reg:squarederror.\n",
      "[23:42:12] WARNING: d:\\bld\\xgboost-split_1619725139497\\work\\src\\objective\\regression_obj.cu:171: reg:linear is now deprecated in favor of reg:squarederror.\n",
      "\tMAE 335381.00625 for 45 rounds\n",
      "CV with max_depth=6, min_child_weight=6\n",
      "[23:42:20] WARNING: d:\\bld\\xgboost-split_1619725139497\\work\\src\\objective\\regression_obj.cu:171: reg:linear is now deprecated in favor of reg:squarederror.\n",
      "[23:42:20] WARNING: d:\\bld\\xgboost-split_1619725139497\\work\\src\\objective\\regression_obj.cu:171: reg:linear is now deprecated in favor of reg:squarederror.\n",
      "[23:42:20] WARNING: d:\\bld\\xgboost-split_1619725139497\\work\\src\\objective\\regression_obj.cu:171: reg:linear is now deprecated in favor of reg:squarederror.\n",
      "[23:42:20] WARNING: d:\\bld\\xgboost-split_1619725139497\\work\\src\\objective\\regression_obj.cu:171: reg:linear is now deprecated in favor of reg:squarederror.\n",
      "[23:42:20] WARNING: d:\\bld\\xgboost-split_1619725139497\\work\\src\\objective\\regression_obj.cu:171: reg:linear is now deprecated in favor of reg:squarederror.\n"
     ]
    },
    {
     "name": "stdout",
     "output_type": "stream",
     "text": [
      "\tMAE 340895.125 for 9 rounds\n",
      "CV with max_depth=6, min_child_weight=7\n",
      "[23:42:23] WARNING: d:\\bld\\xgboost-split_1619725139497\\work\\src\\objective\\regression_obj.cu:171: reg:linear is now deprecated in favor of reg:squarederror.\n",
      "[23:42:23] WARNING: d:\\bld\\xgboost-split_1619725139497\\work\\src\\objective\\regression_obj.cu:171: reg:linear is now deprecated in favor of reg:squarederror.\n",
      "[23:42:23] WARNING: d:\\bld\\xgboost-split_1619725139497\\work\\src\\objective\\regression_obj.cu:171: reg:linear is now deprecated in favor of reg:squarederror.\n",
      "[23:42:23] WARNING: d:\\bld\\xgboost-split_1619725139497\\work\\src\\objective\\regression_obj.cu:171: reg:linear is now deprecated in favor of reg:squarederror.\n",
      "[23:42:23] WARNING: d:\\bld\\xgboost-split_1619725139497\\work\\src\\objective\\regression_obj.cu:171: reg:linear is now deprecated in favor of reg:squarederror.\n",
      "\tMAE 338480.4375 for 10 rounds\n",
      "CV with max_depth=6, min_child_weight=8\n",
      "[23:42:26] WARNING: d:\\bld\\xgboost-split_1619725139497\\work\\src\\objective\\regression_obj.cu:171: reg:linear is now deprecated in favor of reg:squarederror.\n",
      "[23:42:26] WARNING: d:\\bld\\xgboost-split_1619725139497\\work\\src\\objective\\regression_obj.cu:171: reg:linear is now deprecated in favor of reg:squarederror.\n",
      "[23:42:26] WARNING: d:\\bld\\xgboost-split_1619725139497\\work\\src\\objective\\regression_obj.cu:171: reg:linear is now deprecated in favor of reg:squarederror.\n",
      "[23:42:26] WARNING: d:\\bld\\xgboost-split_1619725139497\\work\\src\\objective\\regression_obj.cu:171: reg:linear is now deprecated in favor of reg:squarederror.\n",
      "[23:42:26] WARNING: d:\\bld\\xgboost-split_1619725139497\\work\\src\\objective\\regression_obj.cu:171: reg:linear is now deprecated in favor of reg:squarederror.\n",
      "\tMAE 345887.90625 for 9 rounds\n",
      "CV with max_depth=7, min_child_weight=3\n",
      "[23:42:29] WARNING: d:\\bld\\xgboost-split_1619725139497\\work\\src\\objective\\regression_obj.cu:171: reg:linear is now deprecated in favor of reg:squarederror.\n",
      "[23:42:29] WARNING: d:\\bld\\xgboost-split_1619725139497\\work\\src\\objective\\regression_obj.cu:171: reg:linear is now deprecated in favor of reg:squarederror.\n",
      "[23:42:29] WARNING: d:\\bld\\xgboost-split_1619725139497\\work\\src\\objective\\regression_obj.cu:171: reg:linear is now deprecated in favor of reg:squarederror.\n",
      "[23:42:29] WARNING: d:\\bld\\xgboost-split_1619725139497\\work\\src\\objective\\regression_obj.cu:171: reg:linear is now deprecated in favor of reg:squarederror.\n",
      "[23:42:29] WARNING: d:\\bld\\xgboost-split_1619725139497\\work\\src\\objective\\regression_obj.cu:171: reg:linear is now deprecated in favor of reg:squarederror.\n",
      "\tMAE 323009.66875 for 30 rounds\n",
      "CV with max_depth=7, min_child_weight=4\n",
      "[23:42:37] WARNING: d:\\bld\\xgboost-split_1619725139497\\work\\src\\objective\\regression_obj.cu:171: reg:linear is now deprecated in favor of reg:squarederror.\n",
      "[23:42:37] WARNING: d:\\bld\\xgboost-split_1619725139497\\work\\src\\objective\\regression_obj.cu:171: reg:linear is now deprecated in favor of reg:squarederror.\n",
      "[23:42:37] WARNING: d:\\bld\\xgboost-split_1619725139497\\work\\src\\objective\\regression_obj.cu:171: reg:linear is now deprecated in favor of reg:squarederror.\n",
      "[23:42:37] WARNING: d:\\bld\\xgboost-split_1619725139497\\work\\src\\objective\\regression_obj.cu:171: reg:linear is now deprecated in favor of reg:squarederror.\n",
      "[23:42:37] WARNING: d:\\bld\\xgboost-split_1619725139497\\work\\src\\objective\\regression_obj.cu:171: reg:linear is now deprecated in favor of reg:squarederror.\n",
      "\tMAE 327768.0375 for 11 rounds\n",
      "CV with max_depth=7, min_child_weight=5\n",
      "[23:42:41] WARNING: d:\\bld\\xgboost-split_1619725139497\\work\\src\\objective\\regression_obj.cu:171: reg:linear is now deprecated in favor of reg:squarederror.\n",
      "[23:42:41] WARNING: d:\\bld\\xgboost-split_1619725139497\\work\\src\\objective\\regression_obj.cu:171: reg:linear is now deprecated in favor of reg:squarederror.\n",
      "[23:42:41] WARNING: d:\\bld\\xgboost-split_1619725139497\\work\\src\\objective\\regression_obj.cu:171: reg:linear is now deprecated in favor of reg:squarederror.\n",
      "[23:42:41] WARNING: d:\\bld\\xgboost-split_1619725139497\\work\\src\\objective\\regression_obj.cu:171: reg:linear is now deprecated in favor of reg:squarederror.\n",
      "[23:42:41] WARNING: d:\\bld\\xgboost-split_1619725139497\\work\\src\\objective\\regression_obj.cu:171: reg:linear is now deprecated in favor of reg:squarederror.\n",
      "\tMAE 331013.40625 for 8 rounds\n",
      "CV with max_depth=7, min_child_weight=6\n",
      "[23:42:44] WARNING: d:\\bld\\xgboost-split_1619725139497\\work\\src\\objective\\regression_obj.cu:171: reg:linear is now deprecated in favor of reg:squarederror.\n",
      "[23:42:44] WARNING: d:\\bld\\xgboost-split_1619725139497\\work\\src\\objective\\regression_obj.cu:171: reg:linear is now deprecated in favor of reg:squarederror.\n",
      "[23:42:44] WARNING: d:\\bld\\xgboost-split_1619725139497\\work\\src\\objective\\regression_obj.cu:171: reg:linear is now deprecated in favor of reg:squarederror.\n",
      "[23:42:44] WARNING: d:\\bld\\xgboost-split_1619725139497\\work\\src\\objective\\regression_obj.cu:171: reg:linear is now deprecated in favor of reg:squarederror.\n",
      "[23:42:44] WARNING: d:\\bld\\xgboost-split_1619725139497\\work\\src\\objective\\regression_obj.cu:171: reg:linear is now deprecated in favor of reg:squarederror.\n",
      "\tMAE 329301.98125 for 9 rounds\n",
      "CV with max_depth=7, min_child_weight=7\n",
      "[23:42:47] WARNING: d:\\bld\\xgboost-split_1619725139497\\work\\src\\objective\\regression_obj.cu:171: reg:linear is now deprecated in favor of reg:squarederror.\n",
      "[23:42:47] WARNING: d:\\bld\\xgboost-split_1619725139497\\work\\src\\objective\\regression_obj.cu:171: reg:linear is now deprecated in favor of reg:squarederror.\n",
      "[23:42:47] WARNING: d:\\bld\\xgboost-split_1619725139497\\work\\src\\objective\\regression_obj.cu:171: reg:linear is now deprecated in favor of reg:squarederror.\n",
      "[23:42:48] WARNING: d:\\bld\\xgboost-split_1619725139497\\work\\src\\objective\\regression_obj.cu:171: reg:linear is now deprecated in favor of reg:squarederror.\n",
      "[23:42:48] WARNING: d:\\bld\\xgboost-split_1619725139497\\work\\src\\objective\\regression_obj.cu:171: reg:linear is now deprecated in favor of reg:squarederror.\n",
      "\tMAE 331116.5625 for 7 rounds\n",
      "CV with max_depth=7, min_child_weight=8\n",
      "[23:42:51] WARNING: d:\\bld\\xgboost-split_1619725139497\\work\\src\\objective\\regression_obj.cu:171: reg:linear is now deprecated in favor of reg:squarederror.\n",
      "[23:42:51] WARNING: d:\\bld\\xgboost-split_1619725139497\\work\\src\\objective\\regression_obj.cu:171: reg:linear is now deprecated in favor of reg:squarederror.\n",
      "[23:42:51] WARNING: d:\\bld\\xgboost-split_1619725139497\\work\\src\\objective\\regression_obj.cu:171: reg:linear is now deprecated in favor of reg:squarederror.\n",
      "[23:42:51] WARNING: d:\\bld\\xgboost-split_1619725139497\\work\\src\\objective\\regression_obj.cu:171: reg:linear is now deprecated in favor of reg:squarederror.\n",
      "[23:42:51] WARNING: d:\\bld\\xgboost-split_1619725139497\\work\\src\\objective\\regression_obj.cu:171: reg:linear is now deprecated in favor of reg:squarederror.\n",
      "\tMAE 326772.96875 for 9 rounds\n",
      "CV with max_depth=8, min_child_weight=3\n",
      "[23:42:54] WARNING: d:\\bld\\xgboost-split_1619725139497\\work\\src\\objective\\regression_obj.cu:171: reg:linear is now deprecated in favor of reg:squarederror.\n",
      "[23:42:54] WARNING: d:\\bld\\xgboost-split_1619725139497\\work\\src\\objective\\regression_obj.cu:171: reg:linear is now deprecated in favor of reg:squarederror.\n",
      "[23:42:54] WARNING: d:\\bld\\xgboost-split_1619725139497\\work\\src\\objective\\regression_obj.cu:171: reg:linear is now deprecated in favor of reg:squarederror.\n",
      "[23:42:54] WARNING: d:\\bld\\xgboost-split_1619725139497\\work\\src\\objective\\regression_obj.cu:171: reg:linear is now deprecated in favor of reg:squarederror.\n",
      "[23:42:54] WARNING: d:\\bld\\xgboost-split_1619725139497\\work\\src\\objective\\regression_obj.cu:171: reg:linear is now deprecated in favor of reg:squarederror.\n",
      "\tMAE 323300.325 for 7 rounds\n",
      "CV with max_depth=8, min_child_weight=4\n",
      "[23:42:58] WARNING: d:\\bld\\xgboost-split_1619725139497\\work\\src\\objective\\regression_obj.cu:171: reg:linear is now deprecated in favor of reg:squarederror.\n",
      "[23:42:58] WARNING: d:\\bld\\xgboost-split_1619725139497\\work\\src\\objective\\regression_obj.cu:171: reg:linear is now deprecated in favor of reg:squarederror.\n"
     ]
    },
    {
     "name": "stdout",
     "output_type": "stream",
     "text": [
      "[23:42:58] WARNING: d:\\bld\\xgboost-split_1619725139497\\work\\src\\objective\\regression_obj.cu:171: reg:linear is now deprecated in favor of reg:squarederror.\n",
      "[23:42:58] WARNING: d:\\bld\\xgboost-split_1619725139497\\work\\src\\objective\\regression_obj.cu:171: reg:linear is now deprecated in favor of reg:squarederror.\n",
      "[23:42:59] WARNING: d:\\bld\\xgboost-split_1619725139497\\work\\src\\objective\\regression_obj.cu:171: reg:linear is now deprecated in favor of reg:squarederror.\n",
      "\tMAE 324162.875 for 8 rounds\n",
      "CV with max_depth=8, min_child_weight=5\n",
      "[23:43:03] WARNING: d:\\bld\\xgboost-split_1619725139497\\work\\src\\objective\\regression_obj.cu:171: reg:linear is now deprecated in favor of reg:squarederror.\n",
      "[23:43:03] WARNING: d:\\bld\\xgboost-split_1619725139497\\work\\src\\objective\\regression_obj.cu:171: reg:linear is now deprecated in favor of reg:squarederror.\n",
      "[23:43:03] WARNING: d:\\bld\\xgboost-split_1619725139497\\work\\src\\objective\\regression_obj.cu:171: reg:linear is now deprecated in favor of reg:squarederror.\n",
      "[23:43:03] WARNING: d:\\bld\\xgboost-split_1619725139497\\work\\src\\objective\\regression_obj.cu:171: reg:linear is now deprecated in favor of reg:squarederror.\n",
      "[23:43:03] WARNING: d:\\bld\\xgboost-split_1619725139497\\work\\src\\objective\\regression_obj.cu:171: reg:linear is now deprecated in favor of reg:squarederror.\n",
      "\tMAE 323644.35625 for 7 rounds\n",
      "CV with max_depth=8, min_child_weight=6\n",
      "[23:43:06] WARNING: d:\\bld\\xgboost-split_1619725139497\\work\\src\\objective\\regression_obj.cu:171: reg:linear is now deprecated in favor of reg:squarederror.\n",
      "[23:43:07] WARNING: d:\\bld\\xgboost-split_1619725139497\\work\\src\\objective\\regression_obj.cu:171: reg:linear is now deprecated in favor of reg:squarederror.\n",
      "[23:43:07] WARNING: d:\\bld\\xgboost-split_1619725139497\\work\\src\\objective\\regression_obj.cu:171: reg:linear is now deprecated in favor of reg:squarederror.\n",
      "[23:43:07] WARNING: d:\\bld\\xgboost-split_1619725139497\\work\\src\\objective\\regression_obj.cu:171: reg:linear is now deprecated in favor of reg:squarederror.\n",
      "[23:43:07] WARNING: d:\\bld\\xgboost-split_1619725139497\\work\\src\\objective\\regression_obj.cu:171: reg:linear is now deprecated in favor of reg:squarederror.\n",
      "\tMAE 327162.78125 for 7 rounds\n",
      "CV with max_depth=8, min_child_weight=7\n",
      "[23:43:10] WARNING: d:\\bld\\xgboost-split_1619725139497\\work\\src\\objective\\regression_obj.cu:171: reg:linear is now deprecated in favor of reg:squarederror.\n",
      "[23:43:10] WARNING: d:\\bld\\xgboost-split_1619725139497\\work\\src\\objective\\regression_obj.cu:171: reg:linear is now deprecated in favor of reg:squarederror.\n",
      "[23:43:10] WARNING: d:\\bld\\xgboost-split_1619725139497\\work\\src\\objective\\regression_obj.cu:171: reg:linear is now deprecated in favor of reg:squarederror.\n",
      "[23:43:10] WARNING: d:\\bld\\xgboost-split_1619725139497\\work\\src\\objective\\regression_obj.cu:171: reg:linear is now deprecated in favor of reg:squarederror.\n",
      "[23:43:11] WARNING: d:\\bld\\xgboost-split_1619725139497\\work\\src\\objective\\regression_obj.cu:171: reg:linear is now deprecated in favor of reg:squarederror.\n",
      "\tMAE 325076.0625 for 7 rounds\n",
      "CV with max_depth=8, min_child_weight=8\n",
      "[23:43:14] WARNING: d:\\bld\\xgboost-split_1619725139497\\work\\src\\objective\\regression_obj.cu:171: reg:linear is now deprecated in favor of reg:squarederror.\n",
      "[23:43:14] WARNING: d:\\bld\\xgboost-split_1619725139497\\work\\src\\objective\\regression_obj.cu:171: reg:linear is now deprecated in favor of reg:squarederror.\n",
      "[23:43:14] WARNING: d:\\bld\\xgboost-split_1619725139497\\work\\src\\objective\\regression_obj.cu:171: reg:linear is now deprecated in favor of reg:squarederror.\n",
      "[23:43:14] WARNING: d:\\bld\\xgboost-split_1619725139497\\work\\src\\objective\\regression_obj.cu:171: reg:linear is now deprecated in favor of reg:squarederror.\n",
      "[23:43:14] WARNING: d:\\bld\\xgboost-split_1619725139497\\work\\src\\objective\\regression_obj.cu:171: reg:linear is now deprecated in favor of reg:squarederror.\n",
      "\tMAE 327670.1375 for 8 rounds\n",
      "CV with max_depth=9, min_child_weight=3\n",
      "[23:43:19] WARNING: d:\\bld\\xgboost-split_1619725139497\\work\\src\\objective\\regression_obj.cu:171: reg:linear is now deprecated in favor of reg:squarederror.\n",
      "[23:43:19] WARNING: d:\\bld\\xgboost-split_1619725139497\\work\\src\\objective\\regression_obj.cu:171: reg:linear is now deprecated in favor of reg:squarederror.\n",
      "[23:43:19] WARNING: d:\\bld\\xgboost-split_1619725139497\\work\\src\\objective\\regression_obj.cu:171: reg:linear is now deprecated in favor of reg:squarederror.\n",
      "[23:43:19] WARNING: d:\\bld\\xgboost-split_1619725139497\\work\\src\\objective\\regression_obj.cu:171: reg:linear is now deprecated in favor of reg:squarederror.\n",
      "[23:43:19] WARNING: d:\\bld\\xgboost-split_1619725139497\\work\\src\\objective\\regression_obj.cu:171: reg:linear is now deprecated in favor of reg:squarederror.\n",
      "\tMAE 316591.21875 for 8 rounds\n",
      "CV with max_depth=9, min_child_weight=4\n",
      "[23:43:23] WARNING: d:\\bld\\xgboost-split_1619725139497\\work\\src\\objective\\regression_obj.cu:171: reg:linear is now deprecated in favor of reg:squarederror.\n",
      "[23:43:23] WARNING: d:\\bld\\xgboost-split_1619725139497\\work\\src\\objective\\regression_obj.cu:171: reg:linear is now deprecated in favor of reg:squarederror.\n",
      "[23:43:23] WARNING: d:\\bld\\xgboost-split_1619725139497\\work\\src\\objective\\regression_obj.cu:171: reg:linear is now deprecated in favor of reg:squarederror.\n",
      "[23:43:23] WARNING: d:\\bld\\xgboost-split_1619725139497\\work\\src\\objective\\regression_obj.cu:171: reg:linear is now deprecated in favor of reg:squarederror.\n",
      "[23:43:23] WARNING: d:\\bld\\xgboost-split_1619725139497\\work\\src\\objective\\regression_obj.cu:171: reg:linear is now deprecated in favor of reg:squarederror.\n",
      "\tMAE 319945.13125 for 8 rounds\n",
      "CV with max_depth=9, min_child_weight=5\n",
      "[23:43:28] WARNING: d:\\bld\\xgboost-split_1619725139497\\work\\src\\objective\\regression_obj.cu:171: reg:linear is now deprecated in favor of reg:squarederror.\n",
      "[23:43:28] WARNING: d:\\bld\\xgboost-split_1619725139497\\work\\src\\objective\\regression_obj.cu:171: reg:linear is now deprecated in favor of reg:squarederror.\n",
      "[23:43:28] WARNING: d:\\bld\\xgboost-split_1619725139497\\work\\src\\objective\\regression_obj.cu:171: reg:linear is now deprecated in favor of reg:squarederror.\n",
      "[23:43:28] WARNING: d:\\bld\\xgboost-split_1619725139497\\work\\src\\objective\\regression_obj.cu:171: reg:linear is now deprecated in favor of reg:squarederror.\n",
      "[23:43:28] WARNING: d:\\bld\\xgboost-split_1619725139497\\work\\src\\objective\\regression_obj.cu:171: reg:linear is now deprecated in favor of reg:squarederror.\n",
      "\tMAE 318279.7625 for 8 rounds\n",
      "CV with max_depth=9, min_child_weight=6\n",
      "[23:43:33] WARNING: d:\\bld\\xgboost-split_1619725139497\\work\\src\\objective\\regression_obj.cu:171: reg:linear is now deprecated in favor of reg:squarederror.\n",
      "[23:43:33] WARNING: d:\\bld\\xgboost-split_1619725139497\\work\\src\\objective\\regression_obj.cu:171: reg:linear is now deprecated in favor of reg:squarederror.\n",
      "[23:43:33] WARNING: d:\\bld\\xgboost-split_1619725139497\\work\\src\\objective\\regression_obj.cu:171: reg:linear is now deprecated in favor of reg:squarederror.\n",
      "[23:43:33] WARNING: d:\\bld\\xgboost-split_1619725139497\\work\\src\\objective\\regression_obj.cu:171: reg:linear is now deprecated in favor of reg:squarederror.\n",
      "[23:43:33] WARNING: d:\\bld\\xgboost-split_1619725139497\\work\\src\\objective\\regression_obj.cu:171: reg:linear is now deprecated in favor of reg:squarederror.\n",
      "\tMAE 318711.91875 for 8 rounds\n",
      "CV with max_depth=9, min_child_weight=7\n",
      "[23:43:37] WARNING: d:\\bld\\xgboost-split_1619725139497\\work\\src\\objective\\regression_obj.cu:171: reg:linear is now deprecated in favor of reg:squarederror.\n",
      "[23:43:37] WARNING: d:\\bld\\xgboost-split_1619725139497\\work\\src\\objective\\regression_obj.cu:171: reg:linear is now deprecated in favor of reg:squarederror.\n",
      "[23:43:37] WARNING: d:\\bld\\xgboost-split_1619725139497\\work\\src\\objective\\regression_obj.cu:171: reg:linear is now deprecated in favor of reg:squarederror.\n",
      "[23:43:37] WARNING: d:\\bld\\xgboost-split_1619725139497\\work\\src\\objective\\regression_obj.cu:171: reg:linear is now deprecated in favor of reg:squarederror.\n",
      "[23:43:37] WARNING: d:\\bld\\xgboost-split_1619725139497\\work\\src\\objective\\regression_obj.cu:171: reg:linear is now deprecated in favor of reg:squarederror.\n",
      "\tMAE 319414.2375 for 7 rounds\n",
      "CV with max_depth=9, min_child_weight=8\n",
      "[23:43:41] WARNING: d:\\bld\\xgboost-split_1619725139497\\work\\src\\objective\\regression_obj.cu:171: reg:linear is now deprecated in favor of reg:squarederror.\n",
      "[23:43:41] WARNING: d:\\bld\\xgboost-split_1619725139497\\work\\src\\objective\\regression_obj.cu:171: reg:linear is now deprecated in favor of reg:squarederror.\n"
     ]
    },
    {
     "name": "stdout",
     "output_type": "stream",
     "text": [
      "[23:43:41] WARNING: d:\\bld\\xgboost-split_1619725139497\\work\\src\\objective\\regression_obj.cu:171: reg:linear is now deprecated in favor of reg:squarederror.\n",
      "[23:43:41] WARNING: d:\\bld\\xgboost-split_1619725139497\\work\\src\\objective\\regression_obj.cu:171: reg:linear is now deprecated in favor of reg:squarederror.\n",
      "[23:43:41] WARNING: d:\\bld\\xgboost-split_1619725139497\\work\\src\\objective\\regression_obj.cu:171: reg:linear is now deprecated in favor of reg:squarederror.\n",
      "\tMAE 320516.43125 for 8 rounds\n",
      "CV with max_depth=10, min_child_weight=3\n",
      "[23:43:45] WARNING: d:\\bld\\xgboost-split_1619725139497\\work\\src\\objective\\regression_obj.cu:171: reg:linear is now deprecated in favor of reg:squarederror.\n",
      "[23:43:45] WARNING: d:\\bld\\xgboost-split_1619725139497\\work\\src\\objective\\regression_obj.cu:171: reg:linear is now deprecated in favor of reg:squarederror.\n",
      "[23:43:45] WARNING: d:\\bld\\xgboost-split_1619725139497\\work\\src\\objective\\regression_obj.cu:171: reg:linear is now deprecated in favor of reg:squarederror.\n",
      "[23:43:45] WARNING: d:\\bld\\xgboost-split_1619725139497\\work\\src\\objective\\regression_obj.cu:171: reg:linear is now deprecated in favor of reg:squarederror.\n",
      "[23:43:46] WARNING: d:\\bld\\xgboost-split_1619725139497\\work\\src\\objective\\regression_obj.cu:171: reg:linear is now deprecated in favor of reg:squarederror.\n",
      "\tMAE 313465.2 for 10 rounds\n",
      "CV with max_depth=10, min_child_weight=4\n",
      "[23:43:50] WARNING: d:\\bld\\xgboost-split_1619725139497\\work\\src\\objective\\regression_obj.cu:171: reg:linear is now deprecated in favor of reg:squarederror.\n",
      "[23:43:51] WARNING: d:\\bld\\xgboost-split_1619725139497\\work\\src\\objective\\regression_obj.cu:171: reg:linear is now deprecated in favor of reg:squarederror.\n",
      "[23:43:51] WARNING: d:\\bld\\xgboost-split_1619725139497\\work\\src\\objective\\regression_obj.cu:171: reg:linear is now deprecated in favor of reg:squarederror.\n",
      "[23:43:51] WARNING: d:\\bld\\xgboost-split_1619725139497\\work\\src\\objective\\regression_obj.cu:171: reg:linear is now deprecated in favor of reg:squarederror.\n",
      "[23:43:51] WARNING: d:\\bld\\xgboost-split_1619725139497\\work\\src\\objective\\regression_obj.cu:171: reg:linear is now deprecated in favor of reg:squarederror.\n",
      "\tMAE 319638.66875 for 8 rounds\n",
      "CV with max_depth=10, min_child_weight=5\n",
      "[23:43:56] WARNING: d:\\bld\\xgboost-split_1619725139497\\work\\src\\objective\\regression_obj.cu:171: reg:linear is now deprecated in favor of reg:squarederror.\n",
      "[23:43:56] WARNING: d:\\bld\\xgboost-split_1619725139497\\work\\src\\objective\\regression_obj.cu:171: reg:linear is now deprecated in favor of reg:squarederror.\n",
      "[23:43:56] WARNING: d:\\bld\\xgboost-split_1619725139497\\work\\src\\objective\\regression_obj.cu:171: reg:linear is now deprecated in favor of reg:squarederror.\n",
      "[23:43:56] WARNING: d:\\bld\\xgboost-split_1619725139497\\work\\src\\objective\\regression_obj.cu:171: reg:linear is now deprecated in favor of reg:squarederror.\n",
      "[23:43:56] WARNING: d:\\bld\\xgboost-split_1619725139497\\work\\src\\objective\\regression_obj.cu:171: reg:linear is now deprecated in favor of reg:squarederror.\n",
      "\tMAE 314532.2125 for 8 rounds\n",
      "CV with max_depth=10, min_child_weight=6\n",
      "[23:44:01] WARNING: d:\\bld\\xgboost-split_1619725139497\\work\\src\\objective\\regression_obj.cu:171: reg:linear is now deprecated in favor of reg:squarederror.\n",
      "[23:44:01] WARNING: d:\\bld\\xgboost-split_1619725139497\\work\\src\\objective\\regression_obj.cu:171: reg:linear is now deprecated in favor of reg:squarederror.\n",
      "[23:44:01] WARNING: d:\\bld\\xgboost-split_1619725139497\\work\\src\\objective\\regression_obj.cu:171: reg:linear is now deprecated in favor of reg:squarederror.\n",
      "[23:44:01] WARNING: d:\\bld\\xgboost-split_1619725139497\\work\\src\\objective\\regression_obj.cu:171: reg:linear is now deprecated in favor of reg:squarederror.\n",
      "[23:44:01] WARNING: d:\\bld\\xgboost-split_1619725139497\\work\\src\\objective\\regression_obj.cu:171: reg:linear is now deprecated in favor of reg:squarederror.\n",
      "\tMAE 321639.70625 for 8 rounds\n",
      "CV with max_depth=10, min_child_weight=7\n",
      "[23:44:06] WARNING: d:\\bld\\xgboost-split_1619725139497\\work\\src\\objective\\regression_obj.cu:171: reg:linear is now deprecated in favor of reg:squarederror.\n",
      "[23:44:06] WARNING: d:\\bld\\xgboost-split_1619725139497\\work\\src\\objective\\regression_obj.cu:171: reg:linear is now deprecated in favor of reg:squarederror.\n",
      "[23:44:06] WARNING: d:\\bld\\xgboost-split_1619725139497\\work\\src\\objective\\regression_obj.cu:171: reg:linear is now deprecated in favor of reg:squarederror.\n",
      "[23:44:06] WARNING: d:\\bld\\xgboost-split_1619725139497\\work\\src\\objective\\regression_obj.cu:171: reg:linear is now deprecated in favor of reg:squarederror.\n",
      "[23:44:06] WARNING: d:\\bld\\xgboost-split_1619725139497\\work\\src\\objective\\regression_obj.cu:171: reg:linear is now deprecated in favor of reg:squarederror.\n",
      "\tMAE 320334.09375 for 8 rounds\n",
      "CV with max_depth=10, min_child_weight=8\n",
      "[23:44:11] WARNING: d:\\bld\\xgboost-split_1619725139497\\work\\src\\objective\\regression_obj.cu:171: reg:linear is now deprecated in favor of reg:squarederror.\n",
      "[23:44:11] WARNING: d:\\bld\\xgboost-split_1619725139497\\work\\src\\objective\\regression_obj.cu:171: reg:linear is now deprecated in favor of reg:squarederror.\n",
      "[23:44:11] WARNING: d:\\bld\\xgboost-split_1619725139497\\work\\src\\objective\\regression_obj.cu:171: reg:linear is now deprecated in favor of reg:squarederror.\n",
      "[23:44:11] WARNING: d:\\bld\\xgboost-split_1619725139497\\work\\src\\objective\\regression_obj.cu:171: reg:linear is now deprecated in favor of reg:squarederror.\n",
      "[23:44:11] WARNING: d:\\bld\\xgboost-split_1619725139497\\work\\src\\objective\\regression_obj.cu:171: reg:linear is now deprecated in favor of reg:squarederror.\n",
      "\tMAE 314555.9875 for 8 rounds\n",
      "CV with max_depth=11, min_child_weight=3\n",
      "[23:44:16] WARNING: d:\\bld\\xgboost-split_1619725139497\\work\\src\\objective\\regression_obj.cu:171: reg:linear is now deprecated in favor of reg:squarederror.\n",
      "[23:44:16] WARNING: d:\\bld\\xgboost-split_1619725139497\\work\\src\\objective\\regression_obj.cu:171: reg:linear is now deprecated in favor of reg:squarederror.\n",
      "[23:44:16] WARNING: d:\\bld\\xgboost-split_1619725139497\\work\\src\\objective\\regression_obj.cu:171: reg:linear is now deprecated in favor of reg:squarederror.\n",
      "[23:44:16] WARNING: d:\\bld\\xgboost-split_1619725139497\\work\\src\\objective\\regression_obj.cu:171: reg:linear is now deprecated in favor of reg:squarederror.\n",
      "[23:44:16] WARNING: d:\\bld\\xgboost-split_1619725139497\\work\\src\\objective\\regression_obj.cu:171: reg:linear is now deprecated in favor of reg:squarederror.\n",
      "\tMAE 312516.60625 for 9 rounds\n",
      "CV with max_depth=11, min_child_weight=4\n",
      "[23:44:22] WARNING: d:\\bld\\xgboost-split_1619725139497\\work\\src\\objective\\regression_obj.cu:171: reg:linear is now deprecated in favor of reg:squarederror.\n",
      "[23:44:22] WARNING: d:\\bld\\xgboost-split_1619725139497\\work\\src\\objective\\regression_obj.cu:171: reg:linear is now deprecated in favor of reg:squarederror.\n",
      "[23:44:22] WARNING: d:\\bld\\xgboost-split_1619725139497\\work\\src\\objective\\regression_obj.cu:171: reg:linear is now deprecated in favor of reg:squarederror.\n",
      "[23:44:22] WARNING: d:\\bld\\xgboost-split_1619725139497\\work\\src\\objective\\regression_obj.cu:171: reg:linear is now deprecated in favor of reg:squarederror.\n",
      "[23:44:22] WARNING: d:\\bld\\xgboost-split_1619725139497\\work\\src\\objective\\regression_obj.cu:171: reg:linear is now deprecated in favor of reg:squarederror.\n",
      "\tMAE 316818.7 for 8 rounds\n",
      "CV with max_depth=11, min_child_weight=5\n",
      "[23:44:28] WARNING: d:\\bld\\xgboost-split_1619725139497\\work\\src\\objective\\regression_obj.cu:171: reg:linear is now deprecated in favor of reg:squarederror.\n",
      "[23:44:28] WARNING: d:\\bld\\xgboost-split_1619725139497\\work\\src\\objective\\regression_obj.cu:171: reg:linear is now deprecated in favor of reg:squarederror.\n",
      "[23:44:28] WARNING: d:\\bld\\xgboost-split_1619725139497\\work\\src\\objective\\regression_obj.cu:171: reg:linear is now deprecated in favor of reg:squarederror.\n",
      "[23:44:28] WARNING: d:\\bld\\xgboost-split_1619725139497\\work\\src\\objective\\regression_obj.cu:171: reg:linear is now deprecated in favor of reg:squarederror.\n",
      "[23:44:28] WARNING: d:\\bld\\xgboost-split_1619725139497\\work\\src\\objective\\regression_obj.cu:171: reg:linear is now deprecated in favor of reg:squarederror.\n",
      "\tMAE 314434.075 for 7 rounds\n",
      "CV with max_depth=11, min_child_weight=6\n",
      "[23:44:33] WARNING: d:\\bld\\xgboost-split_1619725139497\\work\\src\\objective\\regression_obj.cu:171: reg:linear is now deprecated in favor of reg:squarederror.\n",
      "[23:44:33] WARNING: d:\\bld\\xgboost-split_1619725139497\\work\\src\\objective\\regression_obj.cu:171: reg:linear is now deprecated in favor of reg:squarederror.\n"
     ]
    },
    {
     "name": "stdout",
     "output_type": "stream",
     "text": [
      "[23:44:33] WARNING: d:\\bld\\xgboost-split_1619725139497\\work\\src\\objective\\regression_obj.cu:171: reg:linear is now deprecated in favor of reg:squarederror.\n",
      "[23:44:33] WARNING: d:\\bld\\xgboost-split_1619725139497\\work\\src\\objective\\regression_obj.cu:171: reg:linear is now deprecated in favor of reg:squarederror.\n",
      "[23:44:33] WARNING: d:\\bld\\xgboost-split_1619725139497\\work\\src\\objective\\regression_obj.cu:171: reg:linear is now deprecated in favor of reg:squarederror.\n",
      "\tMAE 319091.80625 for 7 rounds\n",
      "CV with max_depth=11, min_child_weight=7\n",
      "[23:44:38] WARNING: d:\\bld\\xgboost-split_1619725139497\\work\\src\\objective\\regression_obj.cu:171: reg:linear is now deprecated in favor of reg:squarederror.\n",
      "[23:44:38] WARNING: d:\\bld\\xgboost-split_1619725139497\\work\\src\\objective\\regression_obj.cu:171: reg:linear is now deprecated in favor of reg:squarederror.\n",
      "[23:44:38] WARNING: d:\\bld\\xgboost-split_1619725139497\\work\\src\\objective\\regression_obj.cu:171: reg:linear is now deprecated in favor of reg:squarederror.\n",
      "[23:44:38] WARNING: d:\\bld\\xgboost-split_1619725139497\\work\\src\\objective\\regression_obj.cu:171: reg:linear is now deprecated in favor of reg:squarederror.\n",
      "[23:44:39] WARNING: d:\\bld\\xgboost-split_1619725139497\\work\\src\\objective\\regression_obj.cu:171: reg:linear is now deprecated in favor of reg:squarederror.\n",
      "\tMAE 317887.25 for 8 rounds\n",
      "CV with max_depth=11, min_child_weight=8\n",
      "[23:44:44] WARNING: d:\\bld\\xgboost-split_1619725139497\\work\\src\\objective\\regression_obj.cu:171: reg:linear is now deprecated in favor of reg:squarederror.\n",
      "[23:44:44] WARNING: d:\\bld\\xgboost-split_1619725139497\\work\\src\\objective\\regression_obj.cu:171: reg:linear is now deprecated in favor of reg:squarederror.\n",
      "[23:44:44] WARNING: d:\\bld\\xgboost-split_1619725139497\\work\\src\\objective\\regression_obj.cu:171: reg:linear is now deprecated in favor of reg:squarederror.\n",
      "[23:44:44] WARNING: d:\\bld\\xgboost-split_1619725139497\\work\\src\\objective\\regression_obj.cu:171: reg:linear is now deprecated in favor of reg:squarederror.\n",
      "[23:44:44] WARNING: d:\\bld\\xgboost-split_1619725139497\\work\\src\\objective\\regression_obj.cu:171: reg:linear is now deprecated in favor of reg:squarederror.\n",
      "\tMAE 313442.3125 for 7 rounds\n",
      "CV with max_depth=12, min_child_weight=3\n",
      "[23:44:49] WARNING: d:\\bld\\xgboost-split_1619725139497\\work\\src\\objective\\regression_obj.cu:171: reg:linear is now deprecated in favor of reg:squarederror.\n",
      "[23:44:49] WARNING: d:\\bld\\xgboost-split_1619725139497\\work\\src\\objective\\regression_obj.cu:171: reg:linear is now deprecated in favor of reg:squarederror.\n",
      "[23:44:49] WARNING: d:\\bld\\xgboost-split_1619725139497\\work\\src\\objective\\regression_obj.cu:171: reg:linear is now deprecated in favor of reg:squarederror.\n",
      "[23:44:49] WARNING: d:\\bld\\xgboost-split_1619725139497\\work\\src\\objective\\regression_obj.cu:171: reg:linear is now deprecated in favor of reg:squarederror.\n",
      "[23:44:49] WARNING: d:\\bld\\xgboost-split_1619725139497\\work\\src\\objective\\regression_obj.cu:171: reg:linear is now deprecated in favor of reg:squarederror.\n",
      "\tMAE 311316.7 for 8 rounds\n",
      "CV with max_depth=12, min_child_weight=4\n",
      "[23:44:55] WARNING: d:\\bld\\xgboost-split_1619725139497\\work\\src\\objective\\regression_obj.cu:171: reg:linear is now deprecated in favor of reg:squarederror.\n",
      "[23:44:55] WARNING: d:\\bld\\xgboost-split_1619725139497\\work\\src\\objective\\regression_obj.cu:171: reg:linear is now deprecated in favor of reg:squarederror.\n",
      "[23:44:55] WARNING: d:\\bld\\xgboost-split_1619725139497\\work\\src\\objective\\regression_obj.cu:171: reg:linear is now deprecated in favor of reg:squarederror.\n",
      "[23:44:55] WARNING: d:\\bld\\xgboost-split_1619725139497\\work\\src\\objective\\regression_obj.cu:171: reg:linear is now deprecated in favor of reg:squarederror.\n",
      "[23:44:55] WARNING: d:\\bld\\xgboost-split_1619725139497\\work\\src\\objective\\regression_obj.cu:171: reg:linear is now deprecated in favor of reg:squarederror.\n",
      "\tMAE 314183.4125 for 8 rounds\n",
      "CV with max_depth=12, min_child_weight=5\n",
      "[23:45:02] WARNING: d:\\bld\\xgboost-split_1619725139497\\work\\src\\objective\\regression_obj.cu:171: reg:linear is now deprecated in favor of reg:squarederror.\n",
      "[23:45:02] WARNING: d:\\bld\\xgboost-split_1619725139497\\work\\src\\objective\\regression_obj.cu:171: reg:linear is now deprecated in favor of reg:squarederror.\n",
      "[23:45:02] WARNING: d:\\bld\\xgboost-split_1619725139497\\work\\src\\objective\\regression_obj.cu:171: reg:linear is now deprecated in favor of reg:squarederror.\n",
      "[23:45:02] WARNING: d:\\bld\\xgboost-split_1619725139497\\work\\src\\objective\\regression_obj.cu:171: reg:linear is now deprecated in favor of reg:squarederror.\n",
      "[23:45:02] WARNING: d:\\bld\\xgboost-split_1619725139497\\work\\src\\objective\\regression_obj.cu:171: reg:linear is now deprecated in favor of reg:squarederror.\n",
      "\tMAE 313712.3 for 8 rounds\n",
      "CV with max_depth=12, min_child_weight=6\n",
      "[23:45:08] WARNING: d:\\bld\\xgboost-split_1619725139497\\work\\src\\objective\\regression_obj.cu:171: reg:linear is now deprecated in favor of reg:squarederror.\n",
      "[23:45:09] WARNING: d:\\bld\\xgboost-split_1619725139497\\work\\src\\objective\\regression_obj.cu:171: reg:linear is now deprecated in favor of reg:squarederror.\n",
      "[23:45:09] WARNING: d:\\bld\\xgboost-split_1619725139497\\work\\src\\objective\\regression_obj.cu:171: reg:linear is now deprecated in favor of reg:squarederror.\n",
      "[23:45:09] WARNING: d:\\bld\\xgboost-split_1619725139497\\work\\src\\objective\\regression_obj.cu:171: reg:linear is now deprecated in favor of reg:squarederror.\n",
      "[23:45:09] WARNING: d:\\bld\\xgboost-split_1619725139497\\work\\src\\objective\\regression_obj.cu:171: reg:linear is now deprecated in favor of reg:squarederror.\n",
      "\tMAE 314515.99375 for 8 rounds\n",
      "CV with max_depth=12, min_child_weight=7\n",
      "[23:45:15] WARNING: d:\\bld\\xgboost-split_1619725139497\\work\\src\\objective\\regression_obj.cu:171: reg:linear is now deprecated in favor of reg:squarederror.\n",
      "[23:45:15] WARNING: d:\\bld\\xgboost-split_1619725139497\\work\\src\\objective\\regression_obj.cu:171: reg:linear is now deprecated in favor of reg:squarederror.\n",
      "[23:45:15] WARNING: d:\\bld\\xgboost-split_1619725139497\\work\\src\\objective\\regression_obj.cu:171: reg:linear is now deprecated in favor of reg:squarederror.\n",
      "[23:45:15] WARNING: d:\\bld\\xgboost-split_1619725139497\\work\\src\\objective\\regression_obj.cu:171: reg:linear is now deprecated in favor of reg:squarederror.\n",
      "[23:45:15] WARNING: d:\\bld\\xgboost-split_1619725139497\\work\\src\\objective\\regression_obj.cu:171: reg:linear is now deprecated in favor of reg:squarederror.\n",
      "\tMAE 316247.425 for 8 rounds\n",
      "CV with max_depth=12, min_child_weight=8\n",
      "[23:45:21] WARNING: d:\\bld\\xgboost-split_1619725139497\\work\\src\\objective\\regression_obj.cu:171: reg:linear is now deprecated in favor of reg:squarederror.\n",
      "[23:45:21] WARNING: d:\\bld\\xgboost-split_1619725139497\\work\\src\\objective\\regression_obj.cu:171: reg:linear is now deprecated in favor of reg:squarederror.\n",
      "[23:45:21] WARNING: d:\\bld\\xgboost-split_1619725139497\\work\\src\\objective\\regression_obj.cu:171: reg:linear is now deprecated in favor of reg:squarederror.\n",
      "[23:45:21] WARNING: d:\\bld\\xgboost-split_1619725139497\\work\\src\\objective\\regression_obj.cu:171: reg:linear is now deprecated in favor of reg:squarederror.\n",
      "[23:45:21] WARNING: d:\\bld\\xgboost-split_1619725139497\\work\\src\\objective\\regression_obj.cu:171: reg:linear is now deprecated in favor of reg:squarederror.\n",
      "\tMAE 311924.28125 for 8 rounds\n",
      "CV with max_depth=13, min_child_weight=3\n",
      "[23:45:26] WARNING: d:\\bld\\xgboost-split_1619725139497\\work\\src\\objective\\regression_obj.cu:171: reg:linear is now deprecated in favor of reg:squarederror.\n",
      "[23:45:26] WARNING: d:\\bld\\xgboost-split_1619725139497\\work\\src\\objective\\regression_obj.cu:171: reg:linear is now deprecated in favor of reg:squarederror.\n",
      "[23:45:26] WARNING: d:\\bld\\xgboost-split_1619725139497\\work\\src\\objective\\regression_obj.cu:171: reg:linear is now deprecated in favor of reg:squarederror.\n",
      "[23:45:27] WARNING: d:\\bld\\xgboost-split_1619725139497\\work\\src\\objective\\regression_obj.cu:171: reg:linear is now deprecated in favor of reg:squarederror.\n",
      "[23:45:27] WARNING: d:\\bld\\xgboost-split_1619725139497\\work\\src\\objective\\regression_obj.cu:171: reg:linear is now deprecated in favor of reg:squarederror.\n",
      "\tMAE 311140.49375 for 8 rounds\n",
      "CV with max_depth=13, min_child_weight=4\n",
      "[23:45:33] WARNING: d:\\bld\\xgboost-split_1619725139497\\work\\src\\objective\\regression_obj.cu:171: reg:linear is now deprecated in favor of reg:squarederror.\n"
     ]
    },
    {
     "name": "stdout",
     "output_type": "stream",
     "text": [
      "[23:45:33] WARNING: d:\\bld\\xgboost-split_1619725139497\\work\\src\\objective\\regression_obj.cu:171: reg:linear is now deprecated in favor of reg:squarederror.\n",
      "[23:45:33] WARNING: d:\\bld\\xgboost-split_1619725139497\\work\\src\\objective\\regression_obj.cu:171: reg:linear is now deprecated in favor of reg:squarederror.\n",
      "[23:45:33] WARNING: d:\\bld\\xgboost-split_1619725139497\\work\\src\\objective\\regression_obj.cu:171: reg:linear is now deprecated in favor of reg:squarederror.\n",
      "[23:45:34] WARNING: d:\\bld\\xgboost-split_1619725139497\\work\\src\\objective\\regression_obj.cu:171: reg:linear is now deprecated in favor of reg:squarederror.\n",
      "\tMAE 312885.23125 for 8 rounds\n",
      "CV with max_depth=13, min_child_weight=5\n",
      "[23:45:39] WARNING: d:\\bld\\xgboost-split_1619725139497\\work\\src\\objective\\regression_obj.cu:171: reg:linear is now deprecated in favor of reg:squarederror.\n",
      "[23:45:40] WARNING: d:\\bld\\xgboost-split_1619725139497\\work\\src\\objective\\regression_obj.cu:171: reg:linear is now deprecated in favor of reg:squarederror.\n",
      "[23:45:40] WARNING: d:\\bld\\xgboost-split_1619725139497\\work\\src\\objective\\regression_obj.cu:171: reg:linear is now deprecated in favor of reg:squarederror.\n",
      "[23:45:40] WARNING: d:\\bld\\xgboost-split_1619725139497\\work\\src\\objective\\regression_obj.cu:171: reg:linear is now deprecated in favor of reg:squarederror.\n",
      "[23:45:40] WARNING: d:\\bld\\xgboost-split_1619725139497\\work\\src\\objective\\regression_obj.cu:171: reg:linear is now deprecated in favor of reg:squarederror.\n",
      "\tMAE 314269.31875 for 8 rounds\n",
      "CV with max_depth=13, min_child_weight=6\n",
      "[23:45:46] WARNING: d:\\bld\\xgboost-split_1619725139497\\work\\src\\objective\\regression_obj.cu:171: reg:linear is now deprecated in favor of reg:squarederror.\n",
      "[23:45:46] WARNING: d:\\bld\\xgboost-split_1619725139497\\work\\src\\objective\\regression_obj.cu:171: reg:linear is now deprecated in favor of reg:squarederror.\n",
      "[23:45:46] WARNING: d:\\bld\\xgboost-split_1619725139497\\work\\src\\objective\\regression_obj.cu:171: reg:linear is now deprecated in favor of reg:squarederror.\n",
      "[23:45:46] WARNING: d:\\bld\\xgboost-split_1619725139497\\work\\src\\objective\\regression_obj.cu:171: reg:linear is now deprecated in favor of reg:squarederror.\n",
      "[23:45:46] WARNING: d:\\bld\\xgboost-split_1619725139497\\work\\src\\objective\\regression_obj.cu:171: reg:linear is now deprecated in favor of reg:squarederror.\n",
      "\tMAE 314999.55 for 8 rounds\n",
      "CV with max_depth=13, min_child_weight=7\n",
      "[23:45:53] WARNING: d:\\bld\\xgboost-split_1619725139497\\work\\src\\objective\\regression_obj.cu:171: reg:linear is now deprecated in favor of reg:squarederror.\n",
      "[23:45:53] WARNING: d:\\bld\\xgboost-split_1619725139497\\work\\src\\objective\\regression_obj.cu:171: reg:linear is now deprecated in favor of reg:squarederror.\n",
      "[23:45:53] WARNING: d:\\bld\\xgboost-split_1619725139497\\work\\src\\objective\\regression_obj.cu:171: reg:linear is now deprecated in favor of reg:squarederror.\n",
      "[23:45:53] WARNING: d:\\bld\\xgboost-split_1619725139497\\work\\src\\objective\\regression_obj.cu:171: reg:linear is now deprecated in favor of reg:squarederror.\n",
      "[23:45:53] WARNING: d:\\bld\\xgboost-split_1619725139497\\work\\src\\objective\\regression_obj.cu:171: reg:linear is now deprecated in favor of reg:squarederror.\n",
      "\tMAE 315821.725 for 8 rounds\n",
      "CV with max_depth=13, min_child_weight=8\n",
      "[23:45:59] WARNING: d:\\bld\\xgboost-split_1619725139497\\work\\src\\objective\\regression_obj.cu:171: reg:linear is now deprecated in favor of reg:squarederror.\n",
      "[23:45:59] WARNING: d:\\bld\\xgboost-split_1619725139497\\work\\src\\objective\\regression_obj.cu:171: reg:linear is now deprecated in favor of reg:squarederror.\n",
      "[23:46:00] WARNING: d:\\bld\\xgboost-split_1619725139497\\work\\src\\objective\\regression_obj.cu:171: reg:linear is now deprecated in favor of reg:squarederror.\n",
      "[23:46:00] WARNING: d:\\bld\\xgboost-split_1619725139497\\work\\src\\objective\\regression_obj.cu:171: reg:linear is now deprecated in favor of reg:squarederror.\n",
      "[23:46:00] WARNING: d:\\bld\\xgboost-split_1619725139497\\work\\src\\objective\\regression_obj.cu:171: reg:linear is now deprecated in favor of reg:squarederror.\n",
      "\tMAE 313017.18125 for 7 rounds\n",
      "CV with max_depth=14, min_child_weight=3\n",
      "[23:46:05] WARNING: d:\\bld\\xgboost-split_1619725139497\\work\\src\\objective\\regression_obj.cu:171: reg:linear is now deprecated in favor of reg:squarederror.\n",
      "[23:46:05] WARNING: d:\\bld\\xgboost-split_1619725139497\\work\\src\\objective\\regression_obj.cu:171: reg:linear is now deprecated in favor of reg:squarederror.\n",
      "[23:46:06] WARNING: d:\\bld\\xgboost-split_1619725139497\\work\\src\\objective\\regression_obj.cu:171: reg:linear is now deprecated in favor of reg:squarederror.\n",
      "[23:46:06] WARNING: d:\\bld\\xgboost-split_1619725139497\\work\\src\\objective\\regression_obj.cu:171: reg:linear is now deprecated in favor of reg:squarederror.\n",
      "[23:46:06] WARNING: d:\\bld\\xgboost-split_1619725139497\\work\\src\\objective\\regression_obj.cu:171: reg:linear is now deprecated in favor of reg:squarederror.\n",
      "\tMAE 310360.65625 for 9 rounds\n",
      "CV with max_depth=14, min_child_weight=4\n",
      "[23:46:14] WARNING: d:\\bld\\xgboost-split_1619725139497\\work\\src\\objective\\regression_obj.cu:171: reg:linear is now deprecated in favor of reg:squarederror.\n",
      "[23:46:14] WARNING: d:\\bld\\xgboost-split_1619725139497\\work\\src\\objective\\regression_obj.cu:171: reg:linear is now deprecated in favor of reg:squarederror.\n",
      "[23:46:14] WARNING: d:\\bld\\xgboost-split_1619725139497\\work\\src\\objective\\regression_obj.cu:171: reg:linear is now deprecated in favor of reg:squarederror.\n",
      "[23:46:14] WARNING: d:\\bld\\xgboost-split_1619725139497\\work\\src\\objective\\regression_obj.cu:171: reg:linear is now deprecated in favor of reg:squarederror.\n",
      "[23:46:14] WARNING: d:\\bld\\xgboost-split_1619725139497\\work\\src\\objective\\regression_obj.cu:171: reg:linear is now deprecated in favor of reg:squarederror.\n",
      "\tMAE 315211.80625 for 8 rounds\n",
      "CV with max_depth=14, min_child_weight=5\n",
      "[23:46:22] WARNING: d:\\bld\\xgboost-split_1619725139497\\work\\src\\objective\\regression_obj.cu:171: reg:linear is now deprecated in favor of reg:squarederror.\n",
      "[23:46:22] WARNING: d:\\bld\\xgboost-split_1619725139497\\work\\src\\objective\\regression_obj.cu:171: reg:linear is now deprecated in favor of reg:squarederror.\n",
      "[23:46:22] WARNING: d:\\bld\\xgboost-split_1619725139497\\work\\src\\objective\\regression_obj.cu:171: reg:linear is now deprecated in favor of reg:squarederror.\n",
      "[23:46:22] WARNING: d:\\bld\\xgboost-split_1619725139497\\work\\src\\objective\\regression_obj.cu:171: reg:linear is now deprecated in favor of reg:squarederror.\n",
      "[23:46:22] WARNING: d:\\bld\\xgboost-split_1619725139497\\work\\src\\objective\\regression_obj.cu:171: reg:linear is now deprecated in favor of reg:squarederror.\n",
      "\tMAE 314512.88125 for 7 rounds\n",
      "CV with max_depth=14, min_child_weight=6\n",
      "[23:46:29] WARNING: d:\\bld\\xgboost-split_1619725139497\\work\\src\\objective\\regression_obj.cu:171: reg:linear is now deprecated in favor of reg:squarederror.\n",
      "[23:46:29] WARNING: d:\\bld\\xgboost-split_1619725139497\\work\\src\\objective\\regression_obj.cu:171: reg:linear is now deprecated in favor of reg:squarederror.\n",
      "[23:46:29] WARNING: d:\\bld\\xgboost-split_1619725139497\\work\\src\\objective\\regression_obj.cu:171: reg:linear is now deprecated in favor of reg:squarederror.\n",
      "[23:46:29] WARNING: d:\\bld\\xgboost-split_1619725139497\\work\\src\\objective\\regression_obj.cu:171: reg:linear is now deprecated in favor of reg:squarederror.\n",
      "[23:46:29] WARNING: d:\\bld\\xgboost-split_1619725139497\\work\\src\\objective\\regression_obj.cu:171: reg:linear is now deprecated in favor of reg:squarederror.\n",
      "\tMAE 315783.18125 for 7 rounds\n",
      "CV with max_depth=14, min_child_weight=7\n",
      "[23:46:36] WARNING: d:\\bld\\xgboost-split_1619725139497\\work\\src\\objective\\regression_obj.cu:171: reg:linear is now deprecated in favor of reg:squarederror.\n",
      "[23:46:36] WARNING: d:\\bld\\xgboost-split_1619725139497\\work\\src\\objective\\regression_obj.cu:171: reg:linear is now deprecated in favor of reg:squarederror.\n",
      "[23:46:36] WARNING: d:\\bld\\xgboost-split_1619725139497\\work\\src\\objective\\regression_obj.cu:171: reg:linear is now deprecated in favor of reg:squarederror.\n",
      "[23:46:36] WARNING: d:\\bld\\xgboost-split_1619725139497\\work\\src\\objective\\regression_obj.cu:171: reg:linear is now deprecated in favor of reg:squarederror.\n",
      "[23:46:37] WARNING: d:\\bld\\xgboost-split_1619725139497\\work\\src\\objective\\regression_obj.cu:171: reg:linear is now deprecated in favor of reg:squarederror.\n"
     ]
    },
    {
     "name": "stdout",
     "output_type": "stream",
     "text": [
      "\tMAE 316366.41875 for 8 rounds\n",
      "CV with max_depth=14, min_child_weight=8\n",
      "[23:46:43] WARNING: d:\\bld\\xgboost-split_1619725139497\\work\\src\\objective\\regression_obj.cu:171: reg:linear is now deprecated in favor of reg:squarederror.\n",
      "[23:46:43] WARNING: d:\\bld\\xgboost-split_1619725139497\\work\\src\\objective\\regression_obj.cu:171: reg:linear is now deprecated in favor of reg:squarederror.\n",
      "[23:46:43] WARNING: d:\\bld\\xgboost-split_1619725139497\\work\\src\\objective\\regression_obj.cu:171: reg:linear is now deprecated in favor of reg:squarederror.\n",
      "[23:46:43] WARNING: d:\\bld\\xgboost-split_1619725139497\\work\\src\\objective\\regression_obj.cu:171: reg:linear is now deprecated in favor of reg:squarederror.\n",
      "[23:46:43] WARNING: d:\\bld\\xgboost-split_1619725139497\\work\\src\\objective\\regression_obj.cu:171: reg:linear is now deprecated in favor of reg:squarederror.\n",
      "\tMAE 313221.99375 for 7 rounds\n",
      "Best params: 14, 3, MAE: 310360.65625\n"
     ]
    }
   ],
   "source": [
    "min_mae = float(\"Inf\")\n",
    "best_params = None\n",
    "for max_depth, min_child_weight in gridsearch_params:\n",
    "    print(\"CV with max_depth={}, min_child_weight={}\".format(\n",
    "                             max_depth,\n",
    "                             min_child_weight))\n",
    "    # Update our parameters\n",
    "    params['max_depth'] = max_depth\n",
    "    params['min_child_weight'] = min_child_weight\n",
    "    # Run CV\n",
    "    cv_results = xgb.cv(\n",
    "        params,\n",
    "        dtrain,\n",
    "        num_boost_round=num_boost_round,\n",
    "        seed=42,\n",
    "        nfold=5,\n",
    "        metrics={'mae'},\n",
    "        early_stopping_rounds=10\n",
    "    )\n",
    "    # Update best MAE\n",
    "    mean_mae = cv_results['test-mae-mean'].min()\n",
    "    boost_rounds = cv_results['test-mae-mean'].argmin()\n",
    "    print(\"\\tMAE {} for {} rounds\".format(mean_mae, boost_rounds))\n",
    "    if mean_mae < min_mae:\n",
    "        min_mae = mean_mae\n",
    "        best_params = (max_depth,min_child_weight)\n",
    "print(\"Best params: {}, {}, MAE: {}\".format(best_params[0], best_params[1], min_mae))"
   ]
  },
  {
   "cell_type": "code",
   "execution_count": 222,
   "metadata": {},
   "outputs": [],
   "source": [
    "params['max_depth'] = 14\n",
    "params['min_child_weight'] = 3"
   ]
  },
  {
   "cell_type": "code",
   "execution_count": 223,
   "metadata": {},
   "outputs": [],
   "source": [
    "gridsearch_params = [\n",
    "    (subsample, colsample)\n",
    "    for subsample in [i/10. for i in range(7,11)]\n",
    "    for colsample in [i/10. for i in range(7,11)]\n",
    "]"
   ]
  },
  {
   "cell_type": "code",
   "execution_count": 224,
   "metadata": {},
   "outputs": [
    {
     "name": "stdout",
     "output_type": "stream",
     "text": [
      "CV with subsample=1.0, colsample=1.0\n",
      "[23:50:00] WARNING: d:\\bld\\xgboost-split_1619725139497\\work\\src\\objective\\regression_obj.cu:171: reg:linear is now deprecated in favor of reg:squarederror.\n",
      "[23:50:01] WARNING: d:\\bld\\xgboost-split_1619725139497\\work\\src\\objective\\regression_obj.cu:171: reg:linear is now deprecated in favor of reg:squarederror.\n",
      "[23:50:01] WARNING: d:\\bld\\xgboost-split_1619725139497\\work\\src\\objective\\regression_obj.cu:171: reg:linear is now deprecated in favor of reg:squarederror.\n",
      "[23:50:01] WARNING: d:\\bld\\xgboost-split_1619725139497\\work\\src\\objective\\regression_obj.cu:171: reg:linear is now deprecated in favor of reg:squarederror.\n",
      "[23:50:01] WARNING: d:\\bld\\xgboost-split_1619725139497\\work\\src\\objective\\regression_obj.cu:171: reg:linear is now deprecated in favor of reg:squarederror.\n",
      "\tMAE 310360.65625 for 9 rounds\n",
      "CV with subsample=1.0, colsample=0.9\n",
      "[23:50:06] WARNING: d:\\bld\\xgboost-split_1619725139497\\work\\src\\objective\\regression_obj.cu:171: reg:linear is now deprecated in favor of reg:squarederror.\n",
      "[23:50:06] WARNING: d:\\bld\\xgboost-split_1619725139497\\work\\src\\objective\\regression_obj.cu:171: reg:linear is now deprecated in favor of reg:squarederror.\n",
      "[23:50:06] WARNING: d:\\bld\\xgboost-split_1619725139497\\work\\src\\objective\\regression_obj.cu:171: reg:linear is now deprecated in favor of reg:squarederror.\n",
      "[23:50:06] WARNING: d:\\bld\\xgboost-split_1619725139497\\work\\src\\objective\\regression_obj.cu:171: reg:linear is now deprecated in favor of reg:squarederror.\n",
      "[23:50:06] WARNING: d:\\bld\\xgboost-split_1619725139497\\work\\src\\objective\\regression_obj.cu:171: reg:linear is now deprecated in favor of reg:squarederror.\n",
      "\tMAE 312696.7875 for 8 rounds\n",
      "CV with subsample=1.0, colsample=0.8\n",
      "[23:50:12] WARNING: d:\\bld\\xgboost-split_1619725139497\\work\\src\\objective\\regression_obj.cu:171: reg:linear is now deprecated in favor of reg:squarederror.\n",
      "[23:50:12] WARNING: d:\\bld\\xgboost-split_1619725139497\\work\\src\\objective\\regression_obj.cu:171: reg:linear is now deprecated in favor of reg:squarederror.\n",
      "[23:50:12] WARNING: d:\\bld\\xgboost-split_1619725139497\\work\\src\\objective\\regression_obj.cu:171: reg:linear is now deprecated in favor of reg:squarederror.\n",
      "[23:50:12] WARNING: d:\\bld\\xgboost-split_1619725139497\\work\\src\\objective\\regression_obj.cu:171: reg:linear is now deprecated in favor of reg:squarederror.\n",
      "[23:50:12] WARNING: d:\\bld\\xgboost-split_1619725139497\\work\\src\\objective\\regression_obj.cu:171: reg:linear is now deprecated in favor of reg:squarederror.\n",
      "\tMAE 316350.75625 for 8 rounds\n",
      "CV with subsample=1.0, colsample=0.7\n",
      "[23:50:17] WARNING: d:\\bld\\xgboost-split_1619725139497\\work\\src\\objective\\regression_obj.cu:171: reg:linear is now deprecated in favor of reg:squarederror.\n",
      "[23:50:18] WARNING: d:\\bld\\xgboost-split_1619725139497\\work\\src\\objective\\regression_obj.cu:171: reg:linear is now deprecated in favor of reg:squarederror.\n",
      "[23:50:18] WARNING: d:\\bld\\xgboost-split_1619725139497\\work\\src\\objective\\regression_obj.cu:171: reg:linear is now deprecated in favor of reg:squarederror.\n",
      "[23:50:18] WARNING: d:\\bld\\xgboost-split_1619725139497\\work\\src\\objective\\regression_obj.cu:171: reg:linear is now deprecated in favor of reg:squarederror.\n",
      "[23:50:18] WARNING: d:\\bld\\xgboost-split_1619725139497\\work\\src\\objective\\regression_obj.cu:171: reg:linear is now deprecated in favor of reg:squarederror.\n",
      "\tMAE 320561.9375 for 8 rounds\n",
      "CV with subsample=0.9, colsample=1.0\n",
      "[23:50:24] WARNING: d:\\bld\\xgboost-split_1619725139497\\work\\src\\objective\\regression_obj.cu:171: reg:linear is now deprecated in favor of reg:squarederror.\n",
      "[23:50:24] WARNING: d:\\bld\\xgboost-split_1619725139497\\work\\src\\objective\\regression_obj.cu:171: reg:linear is now deprecated in favor of reg:squarederror.\n",
      "[23:50:24] WARNING: d:\\bld\\xgboost-split_1619725139497\\work\\src\\objective\\regression_obj.cu:171: reg:linear is now deprecated in favor of reg:squarederror.\n",
      "[23:50:24] WARNING: d:\\bld\\xgboost-split_1619725139497\\work\\src\\objective\\regression_obj.cu:171: reg:linear is now deprecated in favor of reg:squarederror.\n",
      "[23:50:24] WARNING: d:\\bld\\xgboost-split_1619725139497\\work\\src\\objective\\regression_obj.cu:171: reg:linear is now deprecated in favor of reg:squarederror.\n",
      "\tMAE 313158.9125 for 8 rounds\n",
      "CV with subsample=0.9, colsample=0.9\n",
      "[23:50:31] WARNING: d:\\bld\\xgboost-split_1619725139497\\work\\src\\objective\\regression_obj.cu:171: reg:linear is now deprecated in favor of reg:squarederror.\n",
      "[23:50:31] WARNING: d:\\bld\\xgboost-split_1619725139497\\work\\src\\objective\\regression_obj.cu:171: reg:linear is now deprecated in favor of reg:squarederror.\n",
      "[23:50:31] WARNING: d:\\bld\\xgboost-split_1619725139497\\work\\src\\objective\\regression_obj.cu:171: reg:linear is now deprecated in favor of reg:squarederror.\n",
      "[23:50:31] WARNING: d:\\bld\\xgboost-split_1619725139497\\work\\src\\objective\\regression_obj.cu:171: reg:linear is now deprecated in favor of reg:squarederror.\n",
      "[23:50:31] WARNING: d:\\bld\\xgboost-split_1619725139497\\work\\src\\objective\\regression_obj.cu:171: reg:linear is now deprecated in favor of reg:squarederror.\n",
      "\tMAE 317174.85 for 9 rounds\n",
      "CV with subsample=0.9, colsample=0.8\n",
      "[23:50:38] WARNING: d:\\bld\\xgboost-split_1619725139497\\work\\src\\objective\\regression_obj.cu:171: reg:linear is now deprecated in favor of reg:squarederror.\n",
      "[23:50:38] WARNING: d:\\bld\\xgboost-split_1619725139497\\work\\src\\objective\\regression_obj.cu:171: reg:linear is now deprecated in favor of reg:squarederror.\n",
      "[23:50:38] WARNING: d:\\bld\\xgboost-split_1619725139497\\work\\src\\objective\\regression_obj.cu:171: reg:linear is now deprecated in favor of reg:squarederror.\n",
      "[23:50:38] WARNING: d:\\bld\\xgboost-split_1619725139497\\work\\src\\objective\\regression_obj.cu:171: reg:linear is now deprecated in favor of reg:squarederror.\n",
      "[23:50:38] WARNING: d:\\bld\\xgboost-split_1619725139497\\work\\src\\objective\\regression_obj.cu:171: reg:linear is now deprecated in favor of reg:squarederror.\n",
      "\tMAE 323375.225 for 8 rounds\n",
      "CV with subsample=0.9, colsample=0.7\n",
      "[23:50:44] WARNING: d:\\bld\\xgboost-split_1619725139497\\work\\src\\objective\\regression_obj.cu:171: reg:linear is now deprecated in favor of reg:squarederror.\n",
      "[23:50:44] WARNING: d:\\bld\\xgboost-split_1619725139497\\work\\src\\objective\\regression_obj.cu:171: reg:linear is now deprecated in favor of reg:squarederror.\n",
      "[23:50:44] WARNING: d:\\bld\\xgboost-split_1619725139497\\work\\src\\objective\\regression_obj.cu:171: reg:linear is now deprecated in favor of reg:squarederror.\n",
      "[23:50:44] WARNING: d:\\bld\\xgboost-split_1619725139497\\work\\src\\objective\\regression_obj.cu:171: reg:linear is now deprecated in favor of reg:squarederror.\n",
      "[23:50:44] WARNING: d:\\bld\\xgboost-split_1619725139497\\work\\src\\objective\\regression_obj.cu:171: reg:linear is now deprecated in favor of reg:squarederror.\n",
      "\tMAE 325459.26875 for 9 rounds\n",
      "CV with subsample=0.8, colsample=1.0\n",
      "[23:50:51] WARNING: d:\\bld\\xgboost-split_1619725139497\\work\\src\\objective\\regression_obj.cu:171: reg:linear is now deprecated in favor of reg:squarederror.\n",
      "[23:50:51] WARNING: d:\\bld\\xgboost-split_1619725139497\\work\\src\\objective\\regression_obj.cu:171: reg:linear is now deprecated in favor of reg:squarederror.\n",
      "[23:50:51] WARNING: d:\\bld\\xgboost-split_1619725139497\\work\\src\\objective\\regression_obj.cu:171: reg:linear is now deprecated in favor of reg:squarederror.\n",
      "[23:50:51] WARNING: d:\\bld\\xgboost-split_1619725139497\\work\\src\\objective\\regression_obj.cu:171: reg:linear is now deprecated in favor of reg:squarederror.\n",
      "[23:50:51] WARNING: d:\\bld\\xgboost-split_1619725139497\\work\\src\\objective\\regression_obj.cu:171: reg:linear is now deprecated in favor of reg:squarederror.\n",
      "\tMAE 318139.425 for 9 rounds\n",
      "CV with subsample=0.8, colsample=0.9\n",
      "[23:50:58] WARNING: d:\\bld\\xgboost-split_1619725139497\\work\\src\\objective\\regression_obj.cu:171: reg:linear is now deprecated in favor of reg:squarederror.\n",
      "[23:50:58] WARNING: d:\\bld\\xgboost-split_1619725139497\\work\\src\\objective\\regression_obj.cu:171: reg:linear is now deprecated in favor of reg:squarederror.\n",
      "[23:50:58] WARNING: d:\\bld\\xgboost-split_1619725139497\\work\\src\\objective\\regression_obj.cu:171: reg:linear is now deprecated in favor of reg:squarederror.\n"
     ]
    },
    {
     "name": "stdout",
     "output_type": "stream",
     "text": [
      "[23:50:58] WARNING: d:\\bld\\xgboost-split_1619725139497\\work\\src\\objective\\regression_obj.cu:171: reg:linear is now deprecated in favor of reg:squarederror.\n",
      "[23:50:58] WARNING: d:\\bld\\xgboost-split_1619725139497\\work\\src\\objective\\regression_obj.cu:171: reg:linear is now deprecated in favor of reg:squarederror.\n",
      "\tMAE 322867.70625 for 8 rounds\n",
      "CV with subsample=0.8, colsample=0.8\n",
      "[23:51:05] WARNING: d:\\bld\\xgboost-split_1619725139497\\work\\src\\objective\\regression_obj.cu:171: reg:linear is now deprecated in favor of reg:squarederror.\n",
      "[23:51:05] WARNING: d:\\bld\\xgboost-split_1619725139497\\work\\src\\objective\\regression_obj.cu:171: reg:linear is now deprecated in favor of reg:squarederror.\n",
      "[23:51:05] WARNING: d:\\bld\\xgboost-split_1619725139497\\work\\src\\objective\\regression_obj.cu:171: reg:linear is now deprecated in favor of reg:squarederror.\n",
      "[23:51:05] WARNING: d:\\bld\\xgboost-split_1619725139497\\work\\src\\objective\\regression_obj.cu:171: reg:linear is now deprecated in favor of reg:squarederror.\n",
      "[23:51:05] WARNING: d:\\bld\\xgboost-split_1619725139497\\work\\src\\objective\\regression_obj.cu:171: reg:linear is now deprecated in favor of reg:squarederror.\n",
      "\tMAE 327893.65 for 8 rounds\n",
      "CV with subsample=0.8, colsample=0.7\n",
      "[23:51:12] WARNING: d:\\bld\\xgboost-split_1619725139497\\work\\src\\objective\\regression_obj.cu:171: reg:linear is now deprecated in favor of reg:squarederror.\n",
      "[23:51:12] WARNING: d:\\bld\\xgboost-split_1619725139497\\work\\src\\objective\\regression_obj.cu:171: reg:linear is now deprecated in favor of reg:squarederror.\n",
      "[23:51:12] WARNING: d:\\bld\\xgboost-split_1619725139497\\work\\src\\objective\\regression_obj.cu:171: reg:linear is now deprecated in favor of reg:squarederror.\n",
      "[23:51:12] WARNING: d:\\bld\\xgboost-split_1619725139497\\work\\src\\objective\\regression_obj.cu:171: reg:linear is now deprecated in favor of reg:squarederror.\n",
      "[23:51:12] WARNING: d:\\bld\\xgboost-split_1619725139497\\work\\src\\objective\\regression_obj.cu:171: reg:linear is now deprecated in favor of reg:squarederror.\n",
      "\tMAE 333424.2 for 8 rounds\n",
      "CV with subsample=0.7, colsample=1.0\n",
      "[23:51:19] WARNING: d:\\bld\\xgboost-split_1619725139497\\work\\src\\objective\\regression_obj.cu:171: reg:linear is now deprecated in favor of reg:squarederror.\n",
      "[23:51:19] WARNING: d:\\bld\\xgboost-split_1619725139497\\work\\src\\objective\\regression_obj.cu:171: reg:linear is now deprecated in favor of reg:squarederror.\n",
      "[23:51:19] WARNING: d:\\bld\\xgboost-split_1619725139497\\work\\src\\objective\\regression_obj.cu:171: reg:linear is now deprecated in favor of reg:squarederror.\n",
      "[23:51:19] WARNING: d:\\bld\\xgboost-split_1619725139497\\work\\src\\objective\\regression_obj.cu:171: reg:linear is now deprecated in favor of reg:squarederror.\n",
      "[23:51:19] WARNING: d:\\bld\\xgboost-split_1619725139497\\work\\src\\objective\\regression_obj.cu:171: reg:linear is now deprecated in favor of reg:squarederror.\n",
      "\tMAE 322575.35 for 7 rounds\n",
      "CV with subsample=0.7, colsample=0.9\n",
      "[23:51:25] WARNING: d:\\bld\\xgboost-split_1619725139497\\work\\src\\objective\\regression_obj.cu:171: reg:linear is now deprecated in favor of reg:squarederror.\n",
      "[23:51:25] WARNING: d:\\bld\\xgboost-split_1619725139497\\work\\src\\objective\\regression_obj.cu:171: reg:linear is now deprecated in favor of reg:squarederror.\n",
      "[23:51:25] WARNING: d:\\bld\\xgboost-split_1619725139497\\work\\src\\objective\\regression_obj.cu:171: reg:linear is now deprecated in favor of reg:squarederror.\n",
      "[23:51:25] WARNING: d:\\bld\\xgboost-split_1619725139497\\work\\src\\objective\\regression_obj.cu:171: reg:linear is now deprecated in favor of reg:squarederror.\n",
      "[23:51:25] WARNING: d:\\bld\\xgboost-split_1619725139497\\work\\src\\objective\\regression_obj.cu:171: reg:linear is now deprecated in favor of reg:squarederror.\n",
      "\tMAE 324388.0875 for 7 rounds\n",
      "CV with subsample=0.7, colsample=0.8\n",
      "[23:51:31] WARNING: d:\\bld\\xgboost-split_1619725139497\\work\\src\\objective\\regression_obj.cu:171: reg:linear is now deprecated in favor of reg:squarederror.\n",
      "[23:51:31] WARNING: d:\\bld\\xgboost-split_1619725139497\\work\\src\\objective\\regression_obj.cu:171: reg:linear is now deprecated in favor of reg:squarederror.\n",
      "[23:51:31] WARNING: d:\\bld\\xgboost-split_1619725139497\\work\\src\\objective\\regression_obj.cu:171: reg:linear is now deprecated in favor of reg:squarederror.\n",
      "[23:51:31] WARNING: d:\\bld\\xgboost-split_1619725139497\\work\\src\\objective\\regression_obj.cu:171: reg:linear is now deprecated in favor of reg:squarederror.\n",
      "[23:51:31] WARNING: d:\\bld\\xgboost-split_1619725139497\\work\\src\\objective\\regression_obj.cu:171: reg:linear is now deprecated in favor of reg:squarederror.\n",
      "\tMAE 332759.3375 for 8 rounds\n",
      "CV with subsample=0.7, colsample=0.7\n",
      "[23:51:37] WARNING: d:\\bld\\xgboost-split_1619725139497\\work\\src\\objective\\regression_obj.cu:171: reg:linear is now deprecated in favor of reg:squarederror.\n",
      "[23:51:37] WARNING: d:\\bld\\xgboost-split_1619725139497\\work\\src\\objective\\regression_obj.cu:171: reg:linear is now deprecated in favor of reg:squarederror.\n",
      "[23:51:37] WARNING: d:\\bld\\xgboost-split_1619725139497\\work\\src\\objective\\regression_obj.cu:171: reg:linear is now deprecated in favor of reg:squarederror.\n",
      "[23:51:37] WARNING: d:\\bld\\xgboost-split_1619725139497\\work\\src\\objective\\regression_obj.cu:171: reg:linear is now deprecated in favor of reg:squarederror.\n",
      "[23:51:37] WARNING: d:\\bld\\xgboost-split_1619725139497\\work\\src\\objective\\regression_obj.cu:171: reg:linear is now deprecated in favor of reg:squarederror.\n",
      "\tMAE 340402.65625 for 8 rounds\n",
      "Best params: 1.0, 1.0, MAE: 310360.65625\n"
     ]
    }
   ],
   "source": [
    "min_mae = float(\"Inf\")\n",
    "best_params = None\n",
    "# We start by the largest values and go down to the smallest\n",
    "for subsample, colsample in reversed(gridsearch_params):\n",
    "    print(\"CV with subsample={}, colsample={}\".format(\n",
    "                             subsample,\n",
    "                             colsample))\n",
    "    # We update our parameters\n",
    "    params['subsample'] = subsample\n",
    "    params['colsample_bytree'] = colsample\n",
    "    # Run CV\n",
    "    cv_results = xgb.cv(\n",
    "        params,\n",
    "        dtrain,\n",
    "        num_boost_round=num_boost_round,\n",
    "        seed=42,\n",
    "        nfold=5,\n",
    "        metrics={'mae'},\n",
    "        early_stopping_rounds=10\n",
    "    )\n",
    "    # Update best score\n",
    "    mean_mae = cv_results['test-mae-mean'].min()\n",
    "    boost_rounds = cv_results['test-mae-mean'].argmin()\n",
    "    print(\"\\tMAE {} for {} rounds\".format(mean_mae, boost_rounds))\n",
    "    if mean_mae < min_mae:\n",
    "        min_mae = mean_mae\n",
    "        best_params = (subsample,colsample)\n",
    "print(\"Best params: {}, {}, MAE: {}\".format(best_params[0], best_params[1], min_mae))"
   ]
  },
  {
   "cell_type": "code",
   "execution_count": 225,
   "metadata": {},
   "outputs": [],
   "source": [
    "params['subsample'] = 1.0\n",
    "params['colsample_bytree'] = 1.0"
   ]
  },
  {
   "cell_type": "code",
   "execution_count": null,
   "metadata": {},
   "outputs": [
    {
     "name": "stdout",
     "output_type": "stream",
     "text": [
      "Wall time: 0 ns\n",
      "CV with eta=0.3\n",
      "Wall time: 0 ns\n",
      "[23:52:43] WARNING: d:\\bld\\xgboost-split_1619725139497\\work\\src\\objective\\regression_obj.cu:171: reg:linear is now deprecated in favor of reg:squarederror.\n",
      "[23:52:43] WARNING: d:\\bld\\xgboost-split_1619725139497\\work\\src\\objective\\regression_obj.cu:171: reg:linear is now deprecated in favor of reg:squarederror.\n",
      "[23:52:43] WARNING: d:\\bld\\xgboost-split_1619725139497\\work\\src\\objective\\regression_obj.cu:171: reg:linear is now deprecated in favor of reg:squarederror.\n",
      "[23:52:43] WARNING: d:\\bld\\xgboost-split_1619725139497\\work\\src\\objective\\regression_obj.cu:171: reg:linear is now deprecated in favor of reg:squarederror.\n",
      "[23:52:43] WARNING: d:\\bld\\xgboost-split_1619725139497\\work\\src\\objective\\regression_obj.cu:171: reg:linear is now deprecated in favor of reg:squarederror.\n",
      "\tMAE 310360.65625 for 9 rounds\n",
      "\n",
      "CV with eta=0.2\n",
      "Wall time: 0 ns\n",
      "[23:52:48] WARNING: d:\\bld\\xgboost-split_1619725139497\\work\\src\\objective\\regression_obj.cu:171: reg:linear is now deprecated in favor of reg:squarederror.\n",
      "[23:52:48] WARNING: d:\\bld\\xgboost-split_1619725139497\\work\\src\\objective\\regression_obj.cu:171: reg:linear is now deprecated in favor of reg:squarederror.\n",
      "[23:52:48] WARNING: d:\\bld\\xgboost-split_1619725139497\\work\\src\\objective\\regression_obj.cu:171: reg:linear is now deprecated in favor of reg:squarederror.\n",
      "[23:52:48] WARNING: d:\\bld\\xgboost-split_1619725139497\\work\\src\\objective\\regression_obj.cu:171: reg:linear is now deprecated in favor of reg:squarederror.\n",
      "[23:52:48] WARNING: d:\\bld\\xgboost-split_1619725139497\\work\\src\\objective\\regression_obj.cu:171: reg:linear is now deprecated in favor of reg:squarederror.\n",
      "\tMAE 307539.3625 for 15 rounds\n",
      "\n",
      "CV with eta=0.1\n",
      "Wall time: 0 ns\n",
      "[23:52:55] WARNING: d:\\bld\\xgboost-split_1619725139497\\work\\src\\objective\\regression_obj.cu:171: reg:linear is now deprecated in favor of reg:squarederror.\n",
      "[23:52:55] WARNING: d:\\bld\\xgboost-split_1619725139497\\work\\src\\objective\\regression_obj.cu:171: reg:linear is now deprecated in favor of reg:squarederror.\n",
      "[23:52:55] WARNING: d:\\bld\\xgboost-split_1619725139497\\work\\src\\objective\\regression_obj.cu:171: reg:linear is now deprecated in favor of reg:squarederror.\n",
      "[23:52:55] WARNING: d:\\bld\\xgboost-split_1619725139497\\work\\src\\objective\\regression_obj.cu:171: reg:linear is now deprecated in favor of reg:squarederror.\n",
      "[23:52:55] WARNING: d:\\bld\\xgboost-split_1619725139497\\work\\src\\objective\\regression_obj.cu:171: reg:linear is now deprecated in favor of reg:squarederror.\n",
      "\tMAE 305873.55625 for 31 rounds\n",
      "\n",
      "CV with eta=0.05\n",
      "Wall time: 0 ns\n",
      "[23:53:13] WARNING: d:\\bld\\xgboost-split_1619725139497\\work\\src\\objective\\regression_obj.cu:171: reg:linear is now deprecated in favor of reg:squarederror.\n",
      "[23:53:13] WARNING: d:\\bld\\xgboost-split_1619725139497\\work\\src\\objective\\regression_obj.cu:171: reg:linear is now deprecated in favor of reg:squarederror.\n",
      "[23:53:13] WARNING: d:\\bld\\xgboost-split_1619725139497\\work\\src\\objective\\regression_obj.cu:171: reg:linear is now deprecated in favor of reg:squarederror.\n",
      "[23:53:13] WARNING: d:\\bld\\xgboost-split_1619725139497\\work\\src\\objective\\regression_obj.cu:171: reg:linear is now deprecated in favor of reg:squarederror.\n",
      "[23:53:13] WARNING: d:\\bld\\xgboost-split_1619725139497\\work\\src\\objective\\regression_obj.cu:171: reg:linear is now deprecated in favor of reg:squarederror.\n",
      "\tMAE 304153.5 for 65 rounds\n",
      "\n",
      "CV with eta=0.01\n",
      "Wall time: 0 ns\n",
      "[23:53:44] WARNING: d:\\bld\\xgboost-split_1619725139497\\work\\src\\objective\\regression_obj.cu:171: reg:linear is now deprecated in favor of reg:squarederror.\n",
      "[23:53:44] WARNING: d:\\bld\\xgboost-split_1619725139497\\work\\src\\objective\\regression_obj.cu:171: reg:linear is now deprecated in favor of reg:squarederror.\n",
      "[23:53:44] WARNING: d:\\bld\\xgboost-split_1619725139497\\work\\src\\objective\\regression_obj.cu:171: reg:linear is now deprecated in favor of reg:squarederror.\n",
      "[23:53:44] WARNING: d:\\bld\\xgboost-split_1619725139497\\work\\src\\objective\\regression_obj.cu:171: reg:linear is now deprecated in favor of reg:squarederror.\n",
      "[23:53:44] WARNING: d:\\bld\\xgboost-split_1619725139497\\work\\src\\objective\\regression_obj.cu:171: reg:linear is now deprecated in favor of reg:squarederror.\n",
      "\tMAE 303878.6125 for 337 rounds\n",
      "\n",
      "CV with eta=0.005\n",
      "Wall time: 0 ns\n",
      "[23:56:13] WARNING: d:\\bld\\xgboost-split_1619725139497\\work\\src\\objective\\regression_obj.cu:171: reg:linear is now deprecated in favor of reg:squarederror.\n",
      "[23:56:13] WARNING: d:\\bld\\xgboost-split_1619725139497\\work\\src\\objective\\regression_obj.cu:171: reg:linear is now deprecated in favor of reg:squarederror.\n",
      "[23:56:13] WARNING: d:\\bld\\xgboost-split_1619725139497\\work\\src\\objective\\regression_obj.cu:171: reg:linear is now deprecated in favor of reg:squarederror.\n",
      "[23:56:13] WARNING: d:\\bld\\xgboost-split_1619725139497\\work\\src\\objective\\regression_obj.cu:171: reg:linear is now deprecated in favor of reg:squarederror.\n",
      "[23:56:14] WARNING: d:\\bld\\xgboost-split_1619725139497\\work\\src\\objective\\regression_obj.cu:171: reg:linear is now deprecated in favor of reg:squarederror.\n"
     ]
    }
   ],
   "source": [
    "%time\n",
    "# This can take some time…\n",
    "min_mae = float(\"Inf\")\n",
    "best_params = None\n",
    "for eta in [.3, .2, .1, .05, .01, .005]:\n",
    "    print(\"CV with eta={}\".format(eta))\n",
    "    # We update our parameters\n",
    "    params['eta'] = eta\n",
    "    # Run and time CV\n",
    "    %time \n",
    "    cv_results = xgb.cv(\n",
    "            params,\n",
    "            dtrain,\n",
    "            num_boost_round=num_boost_round,\n",
    "            seed=42,\n",
    "            nfold=5,\n",
    "            metrics=['mae'],\n",
    "            early_stopping_rounds=10)\n",
    "    # Update best score\n",
    "    mean_mae = cv_results['test-mae-mean'].min()\n",
    "    boost_rounds = cv_results['test-mae-mean'].argmin()\n",
    "    print(\"\\tMAE {} for {} rounds\\n\".format(mean_mae, boost_rounds))\n",
    "    if mean_mae < min_mae:\n",
    "        min_mae = mean_mae\n",
    "        best_params = eta\n",
    "print(\"Best params: {}, MAE: {}\".format(best_params, min_mae))"
   ]
  },
  {
   "cell_type": "code",
   "execution_count": null,
   "metadata": {},
   "outputs": [],
   "source": [
    "params['eta'] = .01\n"
   ]
  },
  {
   "cell_type": "code",
   "execution_count": null,
   "metadata": {},
   "outputs": [],
   "source": [
    "model = xgb.train(\n",
    "    params,\n",
    "    dtrain,\n",
    "    num_boost_round=num_boost_round,\n",
    "    evals=[(dtest, \"Test\")],\n",
    "    early_stopping_rounds=10\n",
    ")"
   ]
  },
  {
   "cell_type": "code",
   "execution_count": null,
   "metadata": {},
   "outputs": [],
   "source": [
    "num_boost_round = model.best_iteration + 1\n",
    "best_model = xgb.train(\n",
    "    params,\n",
    "    dtrain,\n",
    "    num_boost_round=num_boost_round,\n",
    "    evals=[(dtest, \"Test\")]\n",
    ")"
   ]
  },
  {
   "cell_type": "code",
   "execution_count": null,
   "metadata": {},
   "outputs": [],
   "source": [
    "mean_absolute_error(best_model.predict(dtest), y_test)\n"
   ]
  },
  {
   "cell_type": "code",
   "execution_count": null,
   "metadata": {},
   "outputs": [],
   "source": [
    "best_model.save_model(\"xgb_model.model\")\n"
   ]
  }
 ],
 "metadata": {
  "kernelspec": {
   "display_name": "Python 3",
   "language": "python",
   "name": "python3"
  },
  "language_info": {
   "codemirror_mode": {
    "name": "ipython",
    "version": 3
   },
   "file_extension": ".py",
   "mimetype": "text/x-python",
   "name": "python",
   "nbconvert_exporter": "python",
   "pygments_lexer": "ipython3",
   "version": "3.8.5"
  }
 },
 "nbformat": 4,
 "nbformat_minor": 4
}
