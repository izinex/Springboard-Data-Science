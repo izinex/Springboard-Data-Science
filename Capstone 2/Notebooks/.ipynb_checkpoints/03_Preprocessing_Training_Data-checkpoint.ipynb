{
 "cells": [
  {
   "cell_type": "markdown",
   "metadata": {},
   "source": [
    "# 3 Preprocessing and Training Data"
   ]
  },
  {
   "cell_type": "markdown",
   "metadata": {},
   "source": [
    "## 3.1 Contents<a id='3.1_Contents'></a>\n",
    "* [3 Exploratory Data Analysis](#3_Exploratory_Data_Analysis)\n",
    "  * [3.1 Contents](#3.1_Contents)\n",
    "  * [3.2 Introduction](#3.2_Introduction)\n",
    "      * [3.2.1 Objective](#3.2.1_Objective)\n",
    "  * [3.3 Imports](#3.3_Imports)\n",
    "  * [3.4 Load The Data](#3.4_Load_The_Data)\n",
    "    * [3.4.1 Explore The Data](#3.4.1_Explore_The_Data)\n",
    "    * [3.4.2 Fixing Categorical Data](#3.4.2_Fixing_Data)\n",
    "  * [3.5 Train/Test_Split](#3.5_Train/Test_Split)\n",
    "  * [3.6 Initial Average Mode](#3.6_Average_Model)\n",
    "  * [3.7 Metrics](#3.7_Metrics)\n",
    "  * [3.8 Imputations](#3.8_Imputations)\n",
    "  * [3.9 Dimensitionality Reduction](#3.9_Dimensionality)\n",
    "      * [3.9.1 Manual Imputation](#3.9.1_Manual_Imputations)   \n",
    "  * [3.10 Gradient Boosting Model](#3.10_Gradient_Boosting)\n",
    "  * [3.11 Hyper-parameter Tuning Gradient Boost](#3.11_Hyper_parameter_Tuning)\n",
    "  * [3.12 Best Model](#3.12_Best_Model)"
   ]
  },
  {
   "cell_type": "markdown",
   "metadata": {},
   "source": [
    "## 3.2 Introduction<a id='3.2_Introduction'></a>"
   ]
  },
  {
   "cell_type": "markdown",
   "metadata": {},
   "source": [
    "##### With completion of Data Wrangling and Exploration of our dataset we now start processing and gathering training data. Our clients Capital Fortune asked us to find the best housing models/types that would yield the highest return on investment.  Our target feature is price in our final dataframe, which will be predicting for house prices which we will later analysis upon which houses yield the highest returns on investment for Capital Fortune. "
   ]
  },
  {
   "cell_type": "markdown",
   "metadata": {},
   "source": [
    "### 3.2.1 Objective<a id='3.2.1_Objective'></a>"
   ]
  },
  {
   "cell_type": "markdown",
   "metadata": {},
   "source": [
    "##### We want to make sure our data is as digestible as possible so we may implement machine learning algorithms to best estimate house prices, and which features leads to increased price on an house. We will start via analysis which features need to be re-evaluated and make proper adjustments so we may implement our algorithms with ease. For instances for catagorical variables we will need to utilize dummy variables so it can be inputed into our algorithm and etc. The main goal is to make our final dataset be able easily integratable into machine learning algorithms."
   ]
  },
  {
   "cell_type": "markdown",
   "metadata": {},
   "source": [
    "## 3.3 Imports<a id='3.3_Imports'></a>"
   ]
  },
  {
   "cell_type": "code",
   "execution_count": 1,
   "metadata": {},
   "outputs": [],
   "source": [
    "import pandas as pd\n",
    "import numpy as np\n",
    "import os\n",
    "import matplotlib.pyplot as plt\n",
    "import seaborn as sns\n",
    "import scipy.stats as stats\n",
    "import matplotlib.ticker as tick\n",
    "import sklearn.model_selection\n",
    "\n",
    "import featuretools as ft\n",
    "from sklearn import neighbors, datasets, preprocessing\n",
    "from sklearn.decomposition import PCA\n",
    "from sklearn.metrics import accuracy_score\n",
    "from sklearn.preprocessing import StandardScaler\n",
    "from sklearn.preprocessing import Normalizer\n",
    "from sklearn.metrics import accuracy_score\n",
    "from sklearn.metrics import classification_report\n",
    "from sklearn.metrics import r2_score\n",
    "from sklearn.metrics import mean_absolute_error\n",
    "from sklearn.metrics import mean_squared_error\n",
    "from sklearn.pipeline import make_pipeline\n",
    "from sklearn.impute import SimpleImputer\n",
    "from sklearn.feature_selection import SelectKBest, f_regression\n",
    "from sklearn.model_selection import train_test_split, cross_validate, GridSearchCV, learning_curve"
   ]
  },
  {
   "cell_type": "markdown",
   "metadata": {},
   "source": [
    "## 3.4 Load The Data<a id='3.4_Load_The_Data'></a>"
   ]
  },
  {
   "cell_type": "code",
   "execution_count": 2,
   "metadata": {},
   "outputs": [],
   "source": [
    "df = pd.read_csv('../Data/final_nyc_df.csv')"
   ]
  },
  {
   "cell_type": "markdown",
   "metadata": {},
   "source": [
    "### 3.4.1 Explore the data<a id='3.4.1_Explore_The_Data'></a>"
   ]
  },
  {
   "cell_type": "code",
   "execution_count": 3,
   "metadata": {},
   "outputs": [
    {
     "name": "stdout",
     "output_type": "stream",
     "text": [
      "(59262, 27)\n",
      "           ZipCode      latitude     longitude         price  propertyTaxRate  \\\n",
      "count  59255.00000  59262.000000  59262.000000  5.926200e+04     59250.000000   \n",
      "mean   10913.02977     40.696298    -73.926901  1.083250e+06         0.823852   \n",
      "std      514.46863      0.094100      0.132106  2.347253e+06         0.098343   \n",
      "min      148.00000     40.498634    -74.253983  1.000000e+05         0.650000   \n",
      "25%    10314.00000     40.618461    -73.996172  5.100000e+05         0.840000   \n",
      "50%    11210.00000     40.694778    -73.904606  7.000000e+05         0.840000   \n",
      "75%    11367.00000     40.756160    -73.829042  9.900000e+05         0.870000   \n",
      "max    13277.00000     40.912682    -73.700432  9.272502e+07         2.370000   \n",
      "\n",
      "         Annual_Tax  Tax_Assessed_Value  Lot_Size(SqFT)    $_Per_SqFT  \\\n",
      "count  5.060600e+04        4.881500e+04    4.998600e+04  4.998600e+04   \n",
      "mean   2.121627e+04        1.277692e+06    7.484192e+04  4.571731e+05   \n",
      "std    1.812653e+05        9.550726e+06    3.525331e+06  2.891510e+06   \n",
      "min    0.000000e+00        1.000000e+00    1.000000e-02  0.000000e+00   \n",
      "25%    4.407000e+03        5.030000e+05    2.000000e+03  1.700900e+02   \n",
      "50%    5.831000e+03        6.490000e+05    2.575000e+03  2.576400e+02   \n",
      "75%    7.732000e+03        9.300000e+05    3.998000e+03  4.204800e+02   \n",
      "max    1.458491e+07        1.680558e+09    4.541130e+08  9.500000e+07   \n",
      "\n",
      "       LivingArea_Space(SqFT)     YearBuilt      Bedrooms  Total_Bathrooms  \\\n",
      "count            52073.000000  55387.000000  59262.000000     59262.000000   \n",
      "mean              3576.226317   1945.906494      3.960751         2.743996   \n",
      "std              19576.443952     59.282747      6.526384         5.721718   \n",
      "min                  1.000000      0.000000      1.000000         0.500000   \n",
      "25%               1304.000000   1923.000000      3.000000         2.000000   \n",
      "50%               1824.000000   1940.000000      4.000000         3.000000   \n",
      "75%               2560.000000   1965.000000      5.000000         3.000000   \n",
      "max             986641.000000   4073.000000   1502.000000      1346.000000   \n",
      "\n",
      "       Full_Bathrooms  Half_Bathrooms  Story_Building  \n",
      "count    45281.000000    45343.000000    59262.000000  \n",
      "mean         1.962302        0.475244        2.017313  \n",
      "std          1.535149        6.370499        2.471840  \n",
      "min          0.000000        0.000000        1.000000  \n",
      "25%          1.000000        0.000000        1.000000  \n",
      "50%          2.000000        0.000000        2.000000  \n",
      "75%          3.000000        1.000000        2.000000  \n",
      "max         70.000000     1344.000000      112.000000  \n",
      "City                       object\n",
      "Borough                    object\n",
      "Neighborhood               object\n",
      "StreetAddress              object\n",
      "ZipCode                   float64\n",
      "latitude                  float64\n",
      "longitude                 float64\n",
      "price                     float64\n",
      "propertyTaxRate           float64\n",
      "Annual_Tax                float64\n",
      "Tax_Assessed_Value        float64\n",
      "Lot_Size(SqFT)            float64\n",
      "$_Per_SqFT                float64\n",
      "LivingArea_Space(SqFT)    float64\n",
      "HomeType                   object\n",
      "YearBuilt                 float64\n",
      "Bedrooms                  float64\n",
      "Total_Bathrooms           float64\n",
      "Full_Bathrooms            float64\n",
      "Half_Bathrooms            float64\n",
      "ParkingType                object\n",
      "Basement                     bool\n",
      "Cooling_Available            bool\n",
      "Fireplace_Available          bool\n",
      "Heating_Available            bool\n",
      "Spa_Available                bool\n",
      "Story_Building            float64\n",
      "dtype: object\n"
     ]
    }
   ],
   "source": [
    "print(df.shape)\n",
    "print(df.describe())\n",
    "print(df.dtypes)"
   ]
  },
  {
   "cell_type": "markdown",
   "metadata": {},
   "source": [
    "##### We want to make sure our data-types are compatible so we should try to change all catagorical variables to either numeric representation or dummy variables\n",
    "\n",
    "##### Lets start by working on Variables that are true and false by making them either 0 or 1 0 if false and 1 if true."
   ]
  },
  {
   "cell_type": "code",
   "execution_count": 4,
   "metadata": {},
   "outputs": [],
   "source": [
    "df.Basement = pd.get_dummies(df.Basement, drop_first=True).values\n",
    "df.Cooling_Available = pd.get_dummies(df.Cooling_Available, drop_first=True).values\n",
    "df.Fireplace_Available = pd.get_dummies(df.Fireplace_Available, drop_first=True).values\n",
    "df.Heating_Available = pd.get_dummies(df.Heating_Available, drop_first=True).values\n",
    "df.Spa_Available = pd.get_dummies(df.Spa_Available, drop_first=True).values"
   ]
  },
  {
   "cell_type": "markdown",
   "metadata": {},
   "source": [
    "### 3.4.2 Fixing Categorical Data<a id='3.4.2_Fixing_Data'></a>"
   ]
  },
  {
   "cell_type": "markdown",
   "metadata": {},
   "source": [
    "##### The zipcode only has 7 missing values I think it would appropriate to just fill in those missing values based on their address and location"
   ]
  },
  {
   "cell_type": "code",
   "execution_count": 5,
   "metadata": {},
   "outputs": [
    {
     "data": {
      "text/html": [
       "<div>\n",
       "<style scoped>\n",
       "    .dataframe tbody tr th:only-of-type {\n",
       "        vertical-align: middle;\n",
       "    }\n",
       "\n",
       "    .dataframe tbody tr th {\n",
       "        vertical-align: top;\n",
       "    }\n",
       "\n",
       "    .dataframe thead th {\n",
       "        text-align: right;\n",
       "    }\n",
       "</style>\n",
       "<table border=\"1\" class=\"dataframe\">\n",
       "  <thead>\n",
       "    <tr style=\"text-align: right;\">\n",
       "      <th></th>\n",
       "      <th>City</th>\n",
       "      <th>Borough</th>\n",
       "      <th>Neighborhood</th>\n",
       "      <th>StreetAddress</th>\n",
       "      <th>ZipCode</th>\n",
       "      <th>latitude</th>\n",
       "      <th>longitude</th>\n",
       "      <th>price</th>\n",
       "      <th>propertyTaxRate</th>\n",
       "      <th>Annual_Tax</th>\n",
       "      <th>...</th>\n",
       "      <th>Total_Bathrooms</th>\n",
       "      <th>Full_Bathrooms</th>\n",
       "      <th>Half_Bathrooms</th>\n",
       "      <th>ParkingType</th>\n",
       "      <th>Basement</th>\n",
       "      <th>Cooling_Available</th>\n",
       "      <th>Fireplace_Available</th>\n",
       "      <th>Heating_Available</th>\n",
       "      <th>Spa_Available</th>\n",
       "      <th>Story_Building</th>\n",
       "    </tr>\n",
       "  </thead>\n",
       "  <tbody>\n",
       "    <tr>\n",
       "      <th>1128</th>\n",
       "      <td>Bronx</td>\n",
       "      <td>Bronx</td>\n",
       "      <td>University Heights</td>\n",
       "      <td>W Fordham Rd</td>\n",
       "      <td>NaN</td>\n",
       "      <td>40.861465</td>\n",
       "      <td>-73.914680</td>\n",
       "      <td>31550000.0</td>\n",
       "      <td>0.95</td>\n",
       "      <td>97169.0</td>\n",
       "      <td>...</td>\n",
       "      <td>5.0</td>\n",
       "      <td>NaN</td>\n",
       "      <td>NaN</td>\n",
       "      <td>0 spaces</td>\n",
       "      <td>0</td>\n",
       "      <td>0</td>\n",
       "      <td>0</td>\n",
       "      <td>0</td>\n",
       "      <td>0</td>\n",
       "      <td>1.0</td>\n",
       "    </tr>\n",
       "    <tr>\n",
       "      <th>4725</th>\n",
       "      <td>Bronx</td>\n",
       "      <td>Bronx</td>\n",
       "      <td>Fordham Manor</td>\n",
       "      <td>Bailey Ave</td>\n",
       "      <td>NaN</td>\n",
       "      <td>40.866638</td>\n",
       "      <td>-73.908234</td>\n",
       "      <td>2775000.0</td>\n",
       "      <td>0.95</td>\n",
       "      <td>46.0</td>\n",
       "      <td>...</td>\n",
       "      <td>3.0</td>\n",
       "      <td>NaN</td>\n",
       "      <td>NaN</td>\n",
       "      <td>0 spaces</td>\n",
       "      <td>0</td>\n",
       "      <td>0</td>\n",
       "      <td>0</td>\n",
       "      <td>0</td>\n",
       "      <td>0</td>\n",
       "      <td>1.0</td>\n",
       "    </tr>\n",
       "    <tr>\n",
       "      <th>8927</th>\n",
       "      <td>Queens</td>\n",
       "      <td>Queens</td>\n",
       "      <td>Long Island City</td>\n",
       "      <td>50-02 Midtown Tun Plz</td>\n",
       "      <td>NaN</td>\n",
       "      <td>40.741753</td>\n",
       "      <td>-73.947235</td>\n",
       "      <td>1500000.0</td>\n",
       "      <td>0.84</td>\n",
       "      <td>64094.0</td>\n",
       "      <td>...</td>\n",
       "      <td>3.0</td>\n",
       "      <td>NaN</td>\n",
       "      <td>NaN</td>\n",
       "      <td>0 spaces</td>\n",
       "      <td>0</td>\n",
       "      <td>0</td>\n",
       "      <td>0</td>\n",
       "      <td>0</td>\n",
       "      <td>0</td>\n",
       "      <td>1.0</td>\n",
       "    </tr>\n",
       "    <tr>\n",
       "      <th>21171</th>\n",
       "      <td>Staten island</td>\n",
       "      <td>Staten Island</td>\n",
       "      <td>Castleton Corners</td>\n",
       "      <td>N Gannon Ave</td>\n",
       "      <td>NaN</td>\n",
       "      <td>40.609570</td>\n",
       "      <td>-74.125153</td>\n",
       "      <td>500000.0</td>\n",
       "      <td>0.87</td>\n",
       "      <td>2282.0</td>\n",
       "      <td>...</td>\n",
       "      <td>3.0</td>\n",
       "      <td>NaN</td>\n",
       "      <td>NaN</td>\n",
       "      <td>0 spaces</td>\n",
       "      <td>0</td>\n",
       "      <td>0</td>\n",
       "      <td>0</td>\n",
       "      <td>0</td>\n",
       "      <td>0</td>\n",
       "      <td>1.0</td>\n",
       "    </tr>\n",
       "    <tr>\n",
       "      <th>25046</th>\n",
       "      <td>Staten island</td>\n",
       "      <td>Staten Island</td>\n",
       "      <td>Charleston</td>\n",
       "      <td>Englewood Ave</td>\n",
       "      <td>NaN</td>\n",
       "      <td>40.531796</td>\n",
       "      <td>-74.220421</td>\n",
       "      <td>130000.0</td>\n",
       "      <td>0.87</td>\n",
       "      <td>2418.0</td>\n",
       "      <td>...</td>\n",
       "      <td>2.0</td>\n",
       "      <td>NaN</td>\n",
       "      <td>NaN</td>\n",
       "      <td>0 spaces</td>\n",
       "      <td>0</td>\n",
       "      <td>0</td>\n",
       "      <td>0</td>\n",
       "      <td>0</td>\n",
       "      <td>0</td>\n",
       "      <td>1.0</td>\n",
       "    </tr>\n",
       "    <tr>\n",
       "      <th>28989</th>\n",
       "      <td>Rochester</td>\n",
       "      <td>Queens</td>\n",
       "      <td>Jamaica</td>\n",
       "      <td>Cedar Dr</td>\n",
       "      <td>NaN</td>\n",
       "      <td>40.698139</td>\n",
       "      <td>-73.832207</td>\n",
       "      <td>115000.0</td>\n",
       "      <td>2.37</td>\n",
       "      <td>NaN</td>\n",
       "      <td>...</td>\n",
       "      <td>2.0</td>\n",
       "      <td>NaN</td>\n",
       "      <td>NaN</td>\n",
       "      <td>0 spaces</td>\n",
       "      <td>0</td>\n",
       "      <td>0</td>\n",
       "      <td>0</td>\n",
       "      <td>0</td>\n",
       "      <td>0</td>\n",
       "      <td>1.0</td>\n",
       "    </tr>\n",
       "    <tr>\n",
       "      <th>34045</th>\n",
       "      <td>Brooklyn</td>\n",
       "      <td>Brooklyn</td>\n",
       "      <td>Brighton Beach</td>\n",
       "      <td>24 Brighton 3 Ln</td>\n",
       "      <td>NaN</td>\n",
       "      <td>40.579765</td>\n",
       "      <td>-73.964851</td>\n",
       "      <td>549000.0</td>\n",
       "      <td>0.65</td>\n",
       "      <td>2500.0</td>\n",
       "      <td>...</td>\n",
       "      <td>1.0</td>\n",
       "      <td>1.0</td>\n",
       "      <td>0.0</td>\n",
       "      <td>None</td>\n",
       "      <td>0</td>\n",
       "      <td>0</td>\n",
       "      <td>0</td>\n",
       "      <td>1</td>\n",
       "      <td>0</td>\n",
       "      <td>1.0</td>\n",
       "    </tr>\n",
       "  </tbody>\n",
       "</table>\n",
       "<p>7 rows × 27 columns</p>\n",
       "</div>"
      ],
      "text/plain": [
       "                City        Borough        Neighborhood  \\\n",
       "1128           Bronx          Bronx  University Heights   \n",
       "4725           Bronx          Bronx       Fordham Manor   \n",
       "8927          Queens         Queens    Long Island City   \n",
       "21171  Staten island  Staten Island   Castleton Corners   \n",
       "25046  Staten island  Staten Island          Charleston   \n",
       "28989      Rochester         Queens             Jamaica   \n",
       "34045       Brooklyn       Brooklyn      Brighton Beach   \n",
       "\n",
       "               StreetAddress  ZipCode   latitude  longitude       price  \\\n",
       "1128            W Fordham Rd      NaN  40.861465 -73.914680  31550000.0   \n",
       "4725              Bailey Ave      NaN  40.866638 -73.908234   2775000.0   \n",
       "8927   50-02 Midtown Tun Plz      NaN  40.741753 -73.947235   1500000.0   \n",
       "21171           N Gannon Ave      NaN  40.609570 -74.125153    500000.0   \n",
       "25046          Englewood Ave      NaN  40.531796 -74.220421    130000.0   \n",
       "28989               Cedar Dr      NaN  40.698139 -73.832207    115000.0   \n",
       "34045       24 Brighton 3 Ln      NaN  40.579765 -73.964851    549000.0   \n",
       "\n",
       "       propertyTaxRate  Annual_Tax  ...  Total_Bathrooms  Full_Bathrooms  \\\n",
       "1128              0.95     97169.0  ...              5.0             NaN   \n",
       "4725              0.95        46.0  ...              3.0             NaN   \n",
       "8927              0.84     64094.0  ...              3.0             NaN   \n",
       "21171             0.87      2282.0  ...              3.0             NaN   \n",
       "25046             0.87      2418.0  ...              2.0             NaN   \n",
       "28989             2.37         NaN  ...              2.0             NaN   \n",
       "34045             0.65      2500.0  ...              1.0             1.0   \n",
       "\n",
       "       Half_Bathrooms  ParkingType Basement  Cooling_Available  \\\n",
       "1128              NaN     0 spaces        0                  0   \n",
       "4725              NaN     0 spaces        0                  0   \n",
       "8927              NaN     0 spaces        0                  0   \n",
       "21171             NaN     0 spaces        0                  0   \n",
       "25046             NaN     0 spaces        0                  0   \n",
       "28989             NaN     0 spaces        0                  0   \n",
       "34045             0.0         None        0                  0   \n",
       "\n",
       "       Fireplace_Available  Heating_Available  Spa_Available  Story_Building  \n",
       "1128                     0                  0              0             1.0  \n",
       "4725                     0                  0              0             1.0  \n",
       "8927                     0                  0              0             1.0  \n",
       "21171                    0                  0              0             1.0  \n",
       "25046                    0                  0              0             1.0  \n",
       "28989                    0                  0              0             1.0  \n",
       "34045                    0                  1              0             1.0  \n",
       "\n",
       "[7 rows x 27 columns]"
      ]
     },
     "execution_count": 5,
     "metadata": {},
     "output_type": "execute_result"
    }
   ],
   "source": [
    "df[df.ZipCode.isnull()]"
   ]
  },
  {
   "cell_type": "code",
   "execution_count": 6,
   "metadata": {},
   "outputs": [],
   "source": [
    "df.ZipCode.iloc[1128] = 10468\n",
    "df.ZipCode.iloc[4725] = 10463\n",
    "df.ZipCode.iloc[8927] = 11101\n",
    "df.ZipCode.iloc[21171] = 10314\n",
    "df.ZipCode.iloc[25046] = 10309\n",
    "df.ZipCode.iloc[28989] = 11411\n",
    "df.ZipCode.iloc[34045] = 11235"
   ]
  },
  {
   "cell_type": "markdown",
   "metadata": {},
   "source": [
    "### We also need to fix categorical data into numerical representation via encoding \n",
    "#### While we can encode street address into different numbers but this would be very large thus I believe it provides no relative information that impact our target variable price thus this will also be dropped"
   ]
  },
  {
   "cell_type": "markdown",
   "metadata": {},
   "source": [
    "#### After much analysis using randomforest most impactful features, as well as variance explained it was evident that feature ParkingType had little to no effect on price and given that it is a categorical data with over 600 different options it is clear that it should be dropped and \"$_Per_SqFT\" as it was a manufactured feature by me "
   ]
  },
  {
   "cell_type": "code",
   "execution_count": 7,
   "metadata": {},
   "outputs": [],
   "source": [
    "df = df.drop(['StreetAddress','ParkingType', '$_Per_SqFT' ], axis=1)"
   ]
  },
  {
   "cell_type": "markdown",
   "metadata": {},
   "source": [
    "##### We will convert HomeType catagorical values using dummy variable encoding with pandas get_dummies function"
   ]
  },
  {
   "cell_type": "code",
   "execution_count": 8,
   "metadata": {},
   "outputs": [],
   "source": [
    "counts = df.HomeType.value_counts()\n",
    "mask = df.HomeType.isin(counts[counts < 130].index)\n",
    "df.HomeType[mask] = 'Other'\n",
    "r_mask = df[df['HomeType'] == 'Residential Income']['HomeType'].index\n",
    "df.HomeType[r_mask] = 'Residential'\n",
    "df.HomeType = (pd.Categorical(df.HomeType))"
   ]
  },
  {
   "cell_type": "code",
   "execution_count": 9,
   "metadata": {},
   "outputs": [],
   "source": [
    "df.HomeType = pd.Categorical(df.HomeType)\n",
    "df.HomeType = df.HomeType.cat.codes"
   ]
  },
  {
   "cell_type": "code",
   "execution_count": 10,
   "metadata": {},
   "outputs": [],
   "source": [
    "df.Borough = pd.Categorical(df.Borough)\n",
    "df.Borough = df.Borough.cat.codes"
   ]
  },
  {
   "cell_type": "code",
   "execution_count": 11,
   "metadata": {},
   "outputs": [],
   "source": [
    "df.City = pd.Categorical(df.City)\n",
    "df.City = df.City.cat.codes"
   ]
  },
  {
   "cell_type": "code",
   "execution_count": 12,
   "metadata": {},
   "outputs": [],
   "source": [
    "df.Neighborhood = pd.Categorical(df.Neighborhood)\n",
    "df.Neighborhood = df.Neighborhood.cat.codes"
   ]
  },
  {
   "cell_type": "code",
   "execution_count": 13,
   "metadata": {},
   "outputs": [
    {
     "data": {
      "text/plain": [
       "38     12757\n",
       "204    11991\n",
       "37      8718\n",
       "102     6306\n",
       "68      5996\n",
       "       ...  \n",
       "207        1\n",
       "175        1\n",
       "143        1\n",
       "79         1\n",
       "0          1\n",
       "Name: City, Length: 274, dtype: int64"
      ]
     },
     "execution_count": 13,
     "metadata": {},
     "output_type": "execute_result"
    }
   ],
   "source": [
    "df.City.value_counts()"
   ]
  },
  {
   "cell_type": "code",
   "execution_count": 14,
   "metadata": {},
   "outputs": [
    {
     "data": {
      "text/html": [
       "<div>\n",
       "<style scoped>\n",
       "    .dataframe tbody tr th:only-of-type {\n",
       "        vertical-align: middle;\n",
       "    }\n",
       "\n",
       "    .dataframe tbody tr th {\n",
       "        vertical-align: top;\n",
       "    }\n",
       "\n",
       "    .dataframe thead th {\n",
       "        text-align: right;\n",
       "    }\n",
       "</style>\n",
       "<table border=\"1\" class=\"dataframe\">\n",
       "  <thead>\n",
       "    <tr style=\"text-align: right;\">\n",
       "      <th></th>\n",
       "      <th>count</th>\n",
       "      <th>%</th>\n",
       "    </tr>\n",
       "  </thead>\n",
       "  <tbody>\n",
       "    <tr>\n",
       "      <th>City</th>\n",
       "      <td>0</td>\n",
       "      <td>0.000000</td>\n",
       "    </tr>\n",
       "    <tr>\n",
       "      <th>Borough</th>\n",
       "      <td>0</td>\n",
       "      <td>0.000000</td>\n",
       "    </tr>\n",
       "    <tr>\n",
       "      <th>Neighborhood</th>\n",
       "      <td>0</td>\n",
       "      <td>0.000000</td>\n",
       "    </tr>\n",
       "    <tr>\n",
       "      <th>ZipCode</th>\n",
       "      <td>0</td>\n",
       "      <td>0.000000</td>\n",
       "    </tr>\n",
       "    <tr>\n",
       "      <th>latitude</th>\n",
       "      <td>0</td>\n",
       "      <td>0.000000</td>\n",
       "    </tr>\n",
       "    <tr>\n",
       "      <th>longitude</th>\n",
       "      <td>0</td>\n",
       "      <td>0.000000</td>\n",
       "    </tr>\n",
       "    <tr>\n",
       "      <th>price</th>\n",
       "      <td>0</td>\n",
       "      <td>0.000000</td>\n",
       "    </tr>\n",
       "    <tr>\n",
       "      <th>HomeType</th>\n",
       "      <td>0</td>\n",
       "      <td>0.000000</td>\n",
       "    </tr>\n",
       "    <tr>\n",
       "      <th>Bedrooms</th>\n",
       "      <td>0</td>\n",
       "      <td>0.000000</td>\n",
       "    </tr>\n",
       "    <tr>\n",
       "      <th>Total_Bathrooms</th>\n",
       "      <td>0</td>\n",
       "      <td>0.000000</td>\n",
       "    </tr>\n",
       "    <tr>\n",
       "      <th>Basement</th>\n",
       "      <td>0</td>\n",
       "      <td>0.000000</td>\n",
       "    </tr>\n",
       "    <tr>\n",
       "      <th>Cooling_Available</th>\n",
       "      <td>0</td>\n",
       "      <td>0.000000</td>\n",
       "    </tr>\n",
       "    <tr>\n",
       "      <th>Fireplace_Available</th>\n",
       "      <td>0</td>\n",
       "      <td>0.000000</td>\n",
       "    </tr>\n",
       "    <tr>\n",
       "      <th>Heating_Available</th>\n",
       "      <td>0</td>\n",
       "      <td>0.000000</td>\n",
       "    </tr>\n",
       "    <tr>\n",
       "      <th>Spa_Available</th>\n",
       "      <td>0</td>\n",
       "      <td>0.000000</td>\n",
       "    </tr>\n",
       "    <tr>\n",
       "      <th>Story_Building</th>\n",
       "      <td>0</td>\n",
       "      <td>0.000000</td>\n",
       "    </tr>\n",
       "    <tr>\n",
       "      <th>propertyTaxRate</th>\n",
       "      <td>12</td>\n",
       "      <td>0.020249</td>\n",
       "    </tr>\n",
       "    <tr>\n",
       "      <th>YearBuilt</th>\n",
       "      <td>3875</td>\n",
       "      <td>6.538760</td>\n",
       "    </tr>\n",
       "    <tr>\n",
       "      <th>LivingArea_Space(SqFT)</th>\n",
       "      <td>7189</td>\n",
       "      <td>12.130876</td>\n",
       "    </tr>\n",
       "    <tr>\n",
       "      <th>Annual_Tax</th>\n",
       "      <td>8656</td>\n",
       "      <td>14.606324</td>\n",
       "    </tr>\n",
       "    <tr>\n",
       "      <th>Lot_Size(SqFT)</th>\n",
       "      <td>9276</td>\n",
       "      <td>15.652526</td>\n",
       "    </tr>\n",
       "    <tr>\n",
       "      <th>Tax_Assessed_Value</th>\n",
       "      <td>10447</td>\n",
       "      <td>17.628497</td>\n",
       "    </tr>\n",
       "    <tr>\n",
       "      <th>Half_Bathrooms</th>\n",
       "      <td>13919</td>\n",
       "      <td>23.487226</td>\n",
       "    </tr>\n",
       "    <tr>\n",
       "      <th>Full_Bathrooms</th>\n",
       "      <td>13981</td>\n",
       "      <td>23.591846</td>\n",
       "    </tr>\n",
       "  </tbody>\n",
       "</table>\n",
       "</div>"
      ],
      "text/plain": [
       "                        count          %\n",
       "City                        0   0.000000\n",
       "Borough                     0   0.000000\n",
       "Neighborhood                0   0.000000\n",
       "ZipCode                     0   0.000000\n",
       "latitude                    0   0.000000\n",
       "longitude                   0   0.000000\n",
       "price                       0   0.000000\n",
       "HomeType                    0   0.000000\n",
       "Bedrooms                    0   0.000000\n",
       "Total_Bathrooms             0   0.000000\n",
       "Basement                    0   0.000000\n",
       "Cooling_Available           0   0.000000\n",
       "Fireplace_Available         0   0.000000\n",
       "Heating_Available           0   0.000000\n",
       "Spa_Available               0   0.000000\n",
       "Story_Building              0   0.000000\n",
       "propertyTaxRate            12   0.020249\n",
       "YearBuilt                3875   6.538760\n",
       "LivingArea_Space(SqFT)   7189  12.130876\n",
       "Annual_Tax               8656  14.606324\n",
       "Lot_Size(SqFT)           9276  15.652526\n",
       "Tax_Assessed_Value      10447  17.628497\n",
       "Half_Bathrooms          13919  23.487226\n",
       "Full_Bathrooms          13981  23.591846"
      ]
     },
     "execution_count": 14,
     "metadata": {},
     "output_type": "execute_result"
    }
   ],
   "source": [
    "missing = pd.concat([df.isnull().sum(), 100 * df.isnull().mean()], axis=1)\n",
    "missing.columns=['count', '%']\n",
    "missing.sort_values(by=['count', '%'])"
   ]
  },
  {
   "cell_type": "code",
   "execution_count": 15,
   "metadata": {},
   "outputs": [
    {
     "name": "stderr",
     "output_type": "stream",
     "text": [
      "<ipython-input-15-f62e875c7167>:4: UserWarning: To output multiple subplots, the figure containing the passed axes is being cleared\n",
      "  df.hist(ax = ax)\n"
     ]
    },
    {
     "data": {
      "text/plain": [
       "array([[<AxesSubplot:title={'center':'City'}>,\n",
       "        <AxesSubplot:title={'center':'Borough'}>,\n",
       "        <AxesSubplot:title={'center':'Neighborhood'}>,\n",
       "        <AxesSubplot:title={'center':'ZipCode'}>,\n",
       "        <AxesSubplot:title={'center':'latitude'}>],\n",
       "       [<AxesSubplot:title={'center':'longitude'}>,\n",
       "        <AxesSubplot:title={'center':'price'}>,\n",
       "        <AxesSubplot:title={'center':'propertyTaxRate'}>,\n",
       "        <AxesSubplot:title={'center':'Annual_Tax'}>,\n",
       "        <AxesSubplot:title={'center':'Tax_Assessed_Value'}>],\n",
       "       [<AxesSubplot:title={'center':'Lot_Size(SqFT)'}>,\n",
       "        <AxesSubplot:title={'center':'LivingArea_Space(SqFT)'}>,\n",
       "        <AxesSubplot:title={'center':'HomeType'}>,\n",
       "        <AxesSubplot:title={'center':'YearBuilt'}>,\n",
       "        <AxesSubplot:title={'center':'Bedrooms'}>],\n",
       "       [<AxesSubplot:title={'center':'Total_Bathrooms'}>,\n",
       "        <AxesSubplot:title={'center':'Full_Bathrooms'}>,\n",
       "        <AxesSubplot:title={'center':'Half_Bathrooms'}>,\n",
       "        <AxesSubplot:title={'center':'Basement'}>,\n",
       "        <AxesSubplot:title={'center':'Cooling_Available'}>],\n",
       "       [<AxesSubplot:title={'center':'Fireplace_Available'}>,\n",
       "        <AxesSubplot:title={'center':'Heating_Available'}>,\n",
       "        <AxesSubplot:title={'center':'Spa_Available'}>,\n",
       "        <AxesSubplot:title={'center':'Story_Building'}>, <AxesSubplot:>]],\n",
       "      dtype=object)"
      ]
     },
     "execution_count": 15,
     "metadata": {},
     "output_type": "execute_result"
    },
    {
     "data": {
      "image/png": "[encoded data removed]",
      "text/plain": [
       "<Figure size 1440x1800 with 25 Axes>"
      ]
     },
     "metadata": {
      "needs_background": "light"
     },
     "output_type": "display_data"
    }
   ],
   "source": [
    "# Let's check the distribution of our features to better understand a better type of imputation\n",
    "fig = plt.figure(figsize = (20,25))\n",
    "ax = fig.gca()\n",
    "df.hist(ax = ax)\n"
   ]
  },
  {
   "cell_type": "markdown",
   "metadata": {},
   "source": [
    "## 3.5 Train/Test_Split<a id='3.5_Train/Test_Split'></a>"
   ]
  },
  {
   "cell_type": "code",
   "execution_count": 16,
   "metadata": {},
   "outputs": [],
   "source": [
    "X = df.drop([ 'price'] ,axis=1)\n",
    "y = df.price"
   ]
  },
  {
   "cell_type": "code",
   "execution_count": 17,
   "metadata": {},
   "outputs": [],
   "source": [
    "from sklearn.model_selection import train_test_split\n",
    "\n",
    "X_train, X_test, y_train, y_test = train_test_split(X, y, test_size=.2, random_state=100)"
   ]
  },
  {
   "cell_type": "code",
   "execution_count": 18,
   "metadata": {},
   "outputs": [
    {
     "name": "stdout",
     "output_type": "stream",
     "text": [
      "(47409, 23) (11853, 23)\n",
      "(47409,) (11853,)\n"
     ]
    }
   ],
   "source": [
    "print(X_train.shape, X_test.shape)\n",
    "print(y_train.shape, y_test.shape)"
   ]
  },
  {
   "cell_type": "code",
   "execution_count": 19,
   "metadata": {},
   "outputs": [
    {
     "data": {
      "text/plain": [
       "City                        int16\n",
       "Borough                      int8\n",
       "Neighborhood                int16\n",
       "ZipCode                   float64\n",
       "latitude                  float64\n",
       "longitude                 float64\n",
       "propertyTaxRate           float64\n",
       "Annual_Tax                float64\n",
       "Tax_Assessed_Value        float64\n",
       "Lot_Size(SqFT)            float64\n",
       "LivingArea_Space(SqFT)    float64\n",
       "HomeType                     int8\n",
       "YearBuilt                 float64\n",
       "Bedrooms                  float64\n",
       "Total_Bathrooms           float64\n",
       "Full_Bathrooms            float64\n",
       "Half_Bathrooms            float64\n",
       "Basement                    uint8\n",
       "Cooling_Available           uint8\n",
       "Fireplace_Available         uint8\n",
       "Heating_Available           uint8\n",
       "Spa_Available               uint8\n",
       "Story_Building            float64\n",
       "dtype: object"
      ]
     },
     "execution_count": 19,
     "metadata": {},
     "output_type": "execute_result"
    }
   ],
   "source": [
    "X_train.dtypes"
   ]
  },
  {
   "cell_type": "markdown",
   "metadata": {},
   "source": [
    "## 3.6 Initial Average Model<a id='3.6_Average_Model'></a>"
   ]
  },
  {
   "cell_type": "markdown",
   "metadata": {},
   "source": [
    "#### Let's start by seeing what an average guess would yield for some performance comparison"
   ]
  },
  {
   "cell_type": "code",
   "execution_count": 20,
   "metadata": {},
   "outputs": [],
   "source": [
    "train_mean = y_train.mean()"
   ]
  },
  {
   "cell_type": "code",
   "execution_count": 21,
   "metadata": {},
   "outputs": [
    {
     "name": "stdout",
     "output_type": "stream",
     "text": [
      "[[1081986.54088886]]\n"
     ]
    }
   ],
   "source": [
    "from sklearn.dummy import DummyRegressor\n",
    "\n",
    "dummy_reg = DummyRegressor(strategy='mean')\n",
    "dummy_reg.fit(X_train, y_train)\n",
    "print(dummy_reg.constant_)"
   ]
  },
  {
   "cell_type": "markdown",
   "metadata": {},
   "source": [
    "## 3.7 Metrics<a id='3.7_Metrics'></a>"
   ]
  },
  {
   "cell_type": "markdown",
   "metadata": {},
   "source": [
    "#### R-squared will be one of our metrics used to evaluate performance"
   ]
  },
  {
   "cell_type": "code",
   "execution_count": 22,
   "metadata": {},
   "outputs": [
    {
     "data": {
      "text/plain": [
       "-8.028135457527341e-06"
      ]
     },
     "execution_count": 22,
     "metadata": {},
     "output_type": "execute_result"
    }
   ],
   "source": [
    "y_pred_mean = train_mean * np.ones(len(y_test))\n",
    "\n",
    "r2_score(y_test, y_pred_mean)\n",
    "\n",
    "#### Well that is bad  "
   ]
  },
  {
   "cell_type": "code",
   "execution_count": 23,
   "metadata": {},
   "outputs": [
    {
     "name": "stdout",
     "output_type": "stream",
     "text": [
      "737177.2129790141\n"
     ]
    }
   ],
   "source": [
    "print(mean_absolute_error(y_test, y_pred_mean))\n",
    "# Meaning there is on average a difference of 730k in actual price to predicted price which is pretty bad"
   ]
  },
  {
   "cell_type": "markdown",
   "metadata": {},
   "source": [
    "## 3.8 Imputations<a id='3.8_Imputations'></a>"
   ]
  },
  {
   "cell_type": "markdown",
   "metadata": {},
   "source": [
    "##### We will impute the property taxrate, annual taxrate and Tax_Assessed_Value with the average of each column rates of their respective neighborhood so if a house in Jamaica is missing a value for taxrate we will take the average taxrate in the houses in jamaica and impute in for the missing value"
   ]
  },
  {
   "cell_type": "code",
   "execution_count": 24,
   "metadata": {},
   "outputs": [],
   "source": [
    "X_mean = round(X_train.mean(),3)\n",
    "\n",
    "X_train_mean = X_train.fillna(X_mean)\n",
    "X_test_mean = X_test.fillna(X_mean)"
   ]
  },
  {
   "cell_type": "markdown",
   "metadata": {},
   "source": [
    "### 3.8.1 Scaling the Data<a id='3.8.1_Scale'></a>"
   ]
  },
  {
   "cell_type": "code",
   "execution_count": 25,
   "metadata": {},
   "outputs": [],
   "source": [
    "scaler = StandardScaler()\n",
    "scaler.fit(X_train_mean)\n",
    "X_train_mean_scaled = scaler.transform(X_train_mean)\n",
    "X_test_mean_scaled = scaler.transform(X_test_mean)"
   ]
  },
  {
   "cell_type": "markdown",
   "metadata": {},
   "source": [
    "#### Train the model on the train split and then make prediction using the test split"
   ]
  },
  {
   "cell_type": "code",
   "execution_count": 26,
   "metadata": {},
   "outputs": [],
   "source": [
    "from sklearn.linear_model import LinearRegression\n",
    "lm = LinearRegression().fit(X_train_mean_scaled, y_train)\n",
    "y_train_mean_pred = lm.predict(X_train_mean_scaled)\n",
    "y_test_mean_pred = lm.predict(X_test_mean_scaled)"
   ]
  },
  {
   "cell_type": "code",
   "execution_count": 27,
   "metadata": {},
   "outputs": [
    {
     "name": "stdout",
     "output_type": "stream",
     "text": [
      "R2 of Y_train mean prediction's: 0.16002158613352258\n",
      "R2 of Y_test mean prediction's: -0.042567405042530426\n",
      "MAE of Y_train mean prediction's: 714767.6316323939\n",
      "MAE of Y_test mean prediction's: 731910.8801522799\n"
     ]
    }
   ],
   "source": [
    "print(\"R2 of Y_train mean prediction's:\", r2_score(y_train, y_train_mean_pred))\n",
    "print(\"R2 of Y_test mean prediction's:\",r2_score(y_test, y_test_mean_pred))\n",
    "print(\"MAE of Y_train mean prediction's:\",mean_absolute_error(y_train, y_train_mean_pred))\n",
    "print(\"MAE of Y_test mean prediction's:\",mean_absolute_error(y_test, y_test_mean_pred))\n"
   ]
  },
  {
   "cell_type": "code",
   "execution_count": 28,
   "metadata": {},
   "outputs": [],
   "source": [
    "#### Where does the large error coming from for example is it from small values or large values "
   ]
  },
  {
   "cell_type": "markdown",
   "metadata": {},
   "source": [
    "##### Well it didn't improve performance significantly but it seems some imputation has helped slightly "
   ]
  },
  {
   "cell_type": "markdown",
   "metadata": {},
   "source": [
    "#### Well we can see that the mean was a poor performer when it came to a linear regression, I suspect the results will be similar, but lets try the median "
   ]
  },
  {
   "cell_type": "code",
   "execution_count": 29,
   "metadata": {},
   "outputs": [],
   "source": [
    "X_median = round(X_train.median(),3)\n",
    "\n",
    "X_train_median = X_train.fillna(X_median)\n",
    "X_test_median = X_test.fillna(X_median)"
   ]
  },
  {
   "cell_type": "code",
   "execution_count": 30,
   "metadata": {},
   "outputs": [],
   "source": [
    "scaler = StandardScaler()\n",
    "scaler.fit(X_train_median)\n",
    "X_train_median_scaled = scaler.transform(X_train_median)\n",
    "X_test_median_scaled = scaler.transform(X_test_median)"
   ]
  },
  {
   "cell_type": "code",
   "execution_count": 31,
   "metadata": {},
   "outputs": [],
   "source": [
    "lm = LinearRegression().fit(X_train_median_scaled, y_train)\n",
    "y_train_median_pred = lm.predict(X_train_median_scaled)\n",
    "y_test_median_pred = lm.predict(X_test_median_scaled)"
   ]
  },
  {
   "cell_type": "code",
   "execution_count": 32,
   "metadata": {},
   "outputs": [
    {
     "name": "stdout",
     "output_type": "stream",
     "text": [
      "R2 of Y_train median prediction's: 0.15855294843387435\n",
      "R2 of Y_test median prediction's: -0.07204530447021384\n",
      "MAE of Y_train median prediction's: 723930.7084087887\n",
      "MAE of Y_test median prediction's: 742150.8546457785\n"
     ]
    }
   ],
   "source": [
    "print(\"R2 of Y_train median prediction's:\", r2_score(y_train, y_train_median_pred))\n",
    "print(\"R2 of Y_test median prediction's:\",r2_score(y_test, y_test_median_pred))\n",
    "print(\"MAE of Y_train median prediction's:\",mean_absolute_error(y_train, y_train_median_pred))\n",
    "print(\"MAE of Y_test median prediction's:\",mean_absolute_error(y_test, y_test_median_pred))"
   ]
  },
  {
   "cell_type": "markdown",
   "metadata": {},
   "source": [
    "#### No significant difference in results of using median vs mean, lets try a more intuitive approach, we can impute the taxrate, annual_tax and tax_assessed_value depending on the zipcode of the house which would align more properly rather than just use the mean or median"
   ]
  },
  {
   "cell_type": "markdown",
   "metadata": {},
   "source": [
    "## 3.9 Dimensitionality Reduction<a id='3.9_Dimensitionality'></a>"
   ]
  },
  {
   "cell_type": "markdown",
   "metadata": {},
   "source": [
    "##### With 27 features let's take a look at how each feature impact our dependent variable 'Price' and attempt to reduce the number of features we have. We also need to acknowledge that 'Per_SqFT' was a feature created by me, as it was created combining price/lot_size thus it clearly has a big impact on price but we since it was manufactured and has price directly into it we need to drop this column. "
   ]
  },
  {
   "cell_type": "markdown",
   "metadata": {},
   "source": [
    "#### First lets split our data to train and split to see which features effect what and how we can further reduce the dimensitionality of our feature set"
   ]
  },
  {
   "cell_type": "markdown",
   "metadata": {},
   "source": [
    "### Using RandomForest to find most impactful features"
   ]
  },
  {
   "cell_type": "markdown",
   "metadata": {},
   "source": [
    "#### Lets use a different model which would yield greater results for instances randomforest"
   ]
  },
  {
   "cell_type": "code",
   "execution_count": 33,
   "metadata": {},
   "outputs": [],
   "source": [
    "from sklearn.ensemble import RandomForestRegressor\n",
    "rf = RandomForestRegressor(random_state=100, max_depth=10)\n",
    "rf.fit(X_train_mean_scaled,y_train)\n",
    "y_train_mean_pred = rf.predict(X_train_mean_scaled)\n",
    "y_test_mean_pred = rf.predict(X_test_mean_scaled)"
   ]
  },
  {
   "cell_type": "code",
   "execution_count": 34,
   "metadata": {},
   "outputs": [
    {
     "name": "stdout",
     "output_type": "stream",
     "text": [
      "R2 of Y_train mean prediction's: 0.8961985603343341\n",
      "R2 of Y_test mean prediction's: 0.6579980330633131\n",
      "MAE of Y_train mean prediction's: 257074.86998670624\n",
      "MAE of Y_test mean prediction's: 331936.9711001494\n"
     ]
    }
   ],
   "source": [
    "print(\"R2 of Y_train mean prediction's:\", r2_score(y_train, y_train_mean_pred))\n",
    "print(\"R2 of Y_test mean prediction's:\",r2_score(y_test, y_test_mean_pred))\n",
    "print(\"MAE of Y_train mean prediction's:\",mean_absolute_error(y_train, y_train_mean_pred))\n",
    "print(\"MAE of Y_test mean prediction's:\",mean_absolute_error(y_test, y_test_mean_pred))"
   ]
  },
  {
   "cell_type": "code",
   "execution_count": 35,
   "metadata": {},
   "outputs": [],
   "source": [
    "rf = RandomForestRegressor(random_state=100, max_depth=10)\n",
    "rf.fit(X_train_median_scaled,y_train)\n",
    "y_train_med_pred = rf.predict(X_train_median_scaled)\n",
    "y_test_med_pred = rf.predict(X_test_median_scaled)"
   ]
  },
  {
   "cell_type": "code",
   "execution_count": 36,
   "metadata": {},
   "outputs": [
    {
     "name": "stdout",
     "output_type": "stream",
     "text": [
      "R2 of Y_train mean prediction's: 0.8900171443150857\n",
      "R2 of Y_test mean prediction's: 0.6349877423071595\n",
      "MAE of Y_train mean prediction's: 264942.4402923692\n",
      "MAE of Y_test mean prediction's: 339624.73661779106\n"
     ]
    }
   ],
   "source": [
    "print(\"R2 of Y_train mean prediction's:\", r2_score(y_train, y_train_med_pred))\n",
    "print(\"R2 of Y_test mean prediction's:\",r2_score(y_test, y_test_med_pred))\n",
    "print(\"MAE of Y_train mean prediction's:\",mean_absolute_error(y_train, y_train_med_pred))\n",
    "print(\"MAE of Y_test mean prediction's:\",mean_absolute_error(y_test, y_test_med_pred))"
   ]
  },
  {
   "cell_type": "markdown",
   "metadata": {},
   "source": [
    "#### It seems utilizing a different model has yield significant results we can see decision tree in this case randomforest has done much better than our standard linear model. While it seems our train set significantly more improvement than our test our ultimate goal is the get the best results for our test set without overfitting."
   ]
  },
  {
   "cell_type": "markdown",
   "metadata": {},
   "source": [
    "##### Let's take a look at the most impactful features utilizing randomforest"
   ]
  },
  {
   "cell_type": "code",
   "execution_count": 37,
   "metadata": {},
   "outputs": [
    {
     "data": {
      "image/png": "[encoded data removed]",
      "text/plain": [
       "<Figure size 1152x576 with 1 Axes>"
      ]
     },
     "metadata": {
      "needs_background": "light"
     },
     "output_type": "display_data"
    }
   ],
   "source": [
    "features = X_train_mean.columns\n",
    "importances = rf.feature_importances_\n",
    "indices = np.argsort(importances)[-26:] \n",
    "plt.figure(figsize=(16,8))\n",
    "plt.title('Feature Importances')\n",
    "plt.barh(range(len(indices)), importances[indices], color='b', align='center')\n",
    "plt.yticks(range(len(indices)), [features[i] for i in indices])\n",
    "plt.xlabel('Relative Importance')\n",
    "plt.show()"
   ]
  },
  {
   "cell_type": "code",
   "execution_count": 38,
   "metadata": {},
   "outputs": [
    {
     "data": {
      "text/html": [
       "<div>\n",
       "<style scoped>\n",
       "    .dataframe tbody tr th:only-of-type {\n",
       "        vertical-align: middle;\n",
       "    }\n",
       "\n",
       "    .dataframe tbody tr th {\n",
       "        vertical-align: top;\n",
       "    }\n",
       "\n",
       "    .dataframe thead th {\n",
       "        text-align: right;\n",
       "    }\n",
       "</style>\n",
       "<table border=\"1\" class=\"dataframe\">\n",
       "  <thead>\n",
       "    <tr style=\"text-align: right;\">\n",
       "      <th></th>\n",
       "      <th>count</th>\n",
       "      <th>%</th>\n",
       "    </tr>\n",
       "  </thead>\n",
       "  <tbody>\n",
       "    <tr>\n",
       "      <th>City</th>\n",
       "      <td>0</td>\n",
       "      <td>0.000000</td>\n",
       "    </tr>\n",
       "    <tr>\n",
       "      <th>Borough</th>\n",
       "      <td>0</td>\n",
       "      <td>0.000000</td>\n",
       "    </tr>\n",
       "    <tr>\n",
       "      <th>Neighborhood</th>\n",
       "      <td>0</td>\n",
       "      <td>0.000000</td>\n",
       "    </tr>\n",
       "    <tr>\n",
       "      <th>ZipCode</th>\n",
       "      <td>0</td>\n",
       "      <td>0.000000</td>\n",
       "    </tr>\n",
       "    <tr>\n",
       "      <th>latitude</th>\n",
       "      <td>0</td>\n",
       "      <td>0.000000</td>\n",
       "    </tr>\n",
       "    <tr>\n",
       "      <th>longitude</th>\n",
       "      <td>0</td>\n",
       "      <td>0.000000</td>\n",
       "    </tr>\n",
       "    <tr>\n",
       "      <th>price</th>\n",
       "      <td>0</td>\n",
       "      <td>0.000000</td>\n",
       "    </tr>\n",
       "    <tr>\n",
       "      <th>HomeType</th>\n",
       "      <td>0</td>\n",
       "      <td>0.000000</td>\n",
       "    </tr>\n",
       "    <tr>\n",
       "      <th>Bedrooms</th>\n",
       "      <td>0</td>\n",
       "      <td>0.000000</td>\n",
       "    </tr>\n",
       "    <tr>\n",
       "      <th>Total_Bathrooms</th>\n",
       "      <td>0</td>\n",
       "      <td>0.000000</td>\n",
       "    </tr>\n",
       "    <tr>\n",
       "      <th>Basement</th>\n",
       "      <td>0</td>\n",
       "      <td>0.000000</td>\n",
       "    </tr>\n",
       "    <tr>\n",
       "      <th>Cooling_Available</th>\n",
       "      <td>0</td>\n",
       "      <td>0.000000</td>\n",
       "    </tr>\n",
       "    <tr>\n",
       "      <th>Fireplace_Available</th>\n",
       "      <td>0</td>\n",
       "      <td>0.000000</td>\n",
       "    </tr>\n",
       "    <tr>\n",
       "      <th>Heating_Available</th>\n",
       "      <td>0</td>\n",
       "      <td>0.000000</td>\n",
       "    </tr>\n",
       "    <tr>\n",
       "      <th>Spa_Available</th>\n",
       "      <td>0</td>\n",
       "      <td>0.000000</td>\n",
       "    </tr>\n",
       "    <tr>\n",
       "      <th>Story_Building</th>\n",
       "      <td>0</td>\n",
       "      <td>0.000000</td>\n",
       "    </tr>\n",
       "    <tr>\n",
       "      <th>propertyTaxRate</th>\n",
       "      <td>12</td>\n",
       "      <td>0.020249</td>\n",
       "    </tr>\n",
       "    <tr>\n",
       "      <th>YearBuilt</th>\n",
       "      <td>3875</td>\n",
       "      <td>6.538760</td>\n",
       "    </tr>\n",
       "    <tr>\n",
       "      <th>LivingArea_Space(SqFT)</th>\n",
       "      <td>7189</td>\n",
       "      <td>12.130876</td>\n",
       "    </tr>\n",
       "    <tr>\n",
       "      <th>Annual_Tax</th>\n",
       "      <td>8656</td>\n",
       "      <td>14.606324</td>\n",
       "    </tr>\n",
       "    <tr>\n",
       "      <th>Lot_Size(SqFT)</th>\n",
       "      <td>9276</td>\n",
       "      <td>15.652526</td>\n",
       "    </tr>\n",
       "    <tr>\n",
       "      <th>Tax_Assessed_Value</th>\n",
       "      <td>10447</td>\n",
       "      <td>17.628497</td>\n",
       "    </tr>\n",
       "    <tr>\n",
       "      <th>Half_Bathrooms</th>\n",
       "      <td>13919</td>\n",
       "      <td>23.487226</td>\n",
       "    </tr>\n",
       "    <tr>\n",
       "      <th>Full_Bathrooms</th>\n",
       "      <td>13981</td>\n",
       "      <td>23.591846</td>\n",
       "    </tr>\n",
       "  </tbody>\n",
       "</table>\n",
       "</div>"
      ],
      "text/plain": [
       "                        count          %\n",
       "City                        0   0.000000\n",
       "Borough                     0   0.000000\n",
       "Neighborhood                0   0.000000\n",
       "ZipCode                     0   0.000000\n",
       "latitude                    0   0.000000\n",
       "longitude                   0   0.000000\n",
       "price                       0   0.000000\n",
       "HomeType                    0   0.000000\n",
       "Bedrooms                    0   0.000000\n",
       "Total_Bathrooms             0   0.000000\n",
       "Basement                    0   0.000000\n",
       "Cooling_Available           0   0.000000\n",
       "Fireplace_Available         0   0.000000\n",
       "Heating_Available           0   0.000000\n",
       "Spa_Available               0   0.000000\n",
       "Story_Building              0   0.000000\n",
       "propertyTaxRate            12   0.020249\n",
       "YearBuilt                3875   6.538760\n",
       "LivingArea_Space(SqFT)   7189  12.130876\n",
       "Annual_Tax               8656  14.606324\n",
       "Lot_Size(SqFT)           9276  15.652526\n",
       "Tax_Assessed_Value      10447  17.628497\n",
       "Half_Bathrooms          13919  23.487226\n",
       "Full_Bathrooms          13981  23.591846"
      ]
     },
     "execution_count": 38,
     "metadata": {},
     "output_type": "execute_result"
    }
   ],
   "source": [
    "missing = pd.concat([df.isnull().sum(), 100 * df.isnull().mean()], axis=1)\n",
    "missing.columns=['count', '%']\n",
    "missing.sort_values(by=['count', '%'])"
   ]
  },
  {
   "cell_type": "markdown",
   "metadata": {},
   "source": [
    "#### It seems the following had little to no impact on price, 'Basement', 'Cooling_Available', 'Fireplace_Available', 'Heating_Available', 'Spa_Available', 'City, 'Borough' and both Full_Bathrooms and Half_Bathrooms have high ratio of high missing data. "
   ]
  },
  {
   "cell_type": "markdown",
   "metadata": {},
   "source": [
    "### 3.9.1 Manual Imputation<a id='3.9.1_Manual_Imputations'></a>"
   ]
  },
  {
   "cell_type": "markdown",
   "metadata": {},
   "source": [
    "#### We will try a selective imputation based off zipcode  to see if this yields better results than just imputing the mean"
   ]
  },
  {
   "cell_type": "code",
   "execution_count": 39,
   "metadata": {},
   "outputs": [],
   "source": [
    "X_train_im = X_train.drop(['Basement', 'Cooling_Available', 'Fireplace_Available', 'Heating_Available', 'Spa_Available', 'City', 'Borough', 'Full_Bathrooms', 'Half_Bathrooms'],axis=1)\n",
    "X_test_im = X_test.drop(['Basement', 'Cooling_Available', 'Fireplace_Available', 'Heating_Available', 'Spa_Available', 'City', 'Borough', 'Full_Bathrooms', 'Half_Bathrooms'],axis=1)\n"
   ]
  },
  {
   "cell_type": "code",
   "execution_count": 40,
   "metadata": {},
   "outputs": [],
   "source": [
    "train_TaxRate = X_train_im[X_train_im.propertyTaxRate.isnull()].index\n",
    "for i in train_TaxRate:\n",
    "    x  = (X_train_im.ZipCode[i])\n",
    "    y = X_train_im.propertyTaxRate[i]\n",
    "    y = (round(np.mean(X_train_im[X_train_im.ZipCode == x].propertyTaxRate),3))\n",
    "    X_train_im.propertyTaxRate[i] = y\n",
    "\n",
    "    \n",
    "test_TaxRate = X_test_im[X_test_im.propertyTaxRate.isnull()].index\n",
    "for i in test_TaxRate:\n",
    "    x  = (X_test_im.ZipCode[i])\n",
    "    y = X_test_im.propertyTaxRate[i]\n",
    "    y = (round(np.mean(X_test_im[X_test_im.ZipCode == x].propertyTaxRate),3))\n",
    "    X_test_im.propertyTaxRate[i] = y\n",
    "    "
   ]
  },
  {
   "cell_type": "code",
   "execution_count": 41,
   "metadata": {},
   "outputs": [],
   "source": [
    "train_meananTax = X_train_im[X_train_im.Annual_Tax.isnull()].index\n",
    "for i in train_meananTax:\n",
    "    x  = (X_train_im.ZipCode[i])\n",
    "    y = X_train_im.Annual_Tax[i]\n",
    "    y = (round(np.mean(X_train_im[X_train_im.ZipCode == x].Annual_Tax),3))\n",
    "    X_train_im.Annual_Tax[i] = y\n",
    "    \n",
    "test_meananTax = X_test_im[X_test_im.Annual_Tax.isnull()].index\n",
    "for i in test_meananTax:\n",
    "    x  = (X_test_im.ZipCode[i])\n",
    "    y = X_test_im.Annual_Tax[i]\n",
    "    y = (round(np.mean(X_test_im[X_test_im.ZipCode == x].Annual_Tax),3))\n",
    "    X_test_im.Annual_Tax[i] = y"
   ]
  },
  {
   "cell_type": "code",
   "execution_count": 42,
   "metadata": {},
   "outputs": [],
   "source": [
    "train_meanTATax = X_train_im[X_train_im.Tax_Assessed_Value.isnull()].index\n",
    "for i in train_meanTATax:\n",
    "    x  = (X_train_im.ZipCode[i])\n",
    "    y = X_train_im.Tax_Assessed_Value[i]\n",
    "    y = (round(np.mean(X_train_im[X_train_im.ZipCode == x].Tax_Assessed_Value),3))\n",
    "    X_train_im.Tax_Assessed_Value[i] = y\n",
    "\n",
    "test_meanTATax = X_test_im[X_test_im.Tax_Assessed_Value.isnull()].index\n",
    "for i in test_meanTATax:\n",
    "    x  = (X_test_im.ZipCode[i])\n",
    "    y = X_test_im.Tax_Assessed_Value[i]\n",
    "    y = (round(np.mean(X_test_im[X_test_im.ZipCode == x].Tax_Assessed_Value),3))\n",
    "    X_test_im.Tax_Assessed_Value[i] = y"
   ]
  },
  {
   "cell_type": "code",
   "execution_count": 43,
   "metadata": {},
   "outputs": [],
   "source": [
    "train_meanYRTax = X_train_im[X_train_im.YearBuilt.isnull()].index\n",
    "for i in train_meanYRTax:\n",
    "    x  = (X_train_im.ZipCode[i])\n",
    "    y = X_train_im.YearBuilt[i]\n",
    "    y = (round(np.mean(X_train_im[X_train_im.ZipCode == x].YearBuilt),3))\n",
    "    X_train_im.YearBuilt[i] = y\n",
    "    \n",
    "test_meanYRTax = X_test_im[X_test_im.YearBuilt.isnull()].index\n",
    "for i in test_meanYRTax:\n",
    "    x  = (X_test_im.ZipCode[i])\n",
    "    y = X_test_im.YearBuilt[i]\n",
    "    y = (round(np.mean(X_test_im[X_test_im.ZipCode == x].YearBuilt),3))\n",
    "    X_test_im.YearBuilt[i] = y"
   ]
  },
  {
   "cell_type": "code",
   "execution_count": 44,
   "metadata": {},
   "outputs": [],
   "source": [
    "train_meanLATax = X_train_im[X_train_im['LivingArea_Space(SqFT)'].isnull()].index\n",
    "for i in train_meanLATax:\n",
    "    x  = (X_train_im.ZipCode[i])\n",
    "    y = X_train_im['LivingArea_Space(SqFT)'][i]\n",
    "    y = (round(np.mean(X_train_im[X_train_im.ZipCode == x]['LivingArea_Space(SqFT)']),3))\n",
    "    X_train_im['LivingArea_Space(SqFT)'][i] = y\n",
    "    \n",
    "    \n",
    "test_meanLATax = X_test_im[X_test_im['LivingArea_Space(SqFT)'].isnull()].index\n",
    "for i in test_meanLATax:\n",
    "    x  = (X_test_im.ZipCode[i])\n",
    "    y = X_test_im['LivingArea_Space(SqFT)'][i]\n",
    "    y = (round(np.mean(X_test_im[X_test_im.ZipCode == x]['LivingArea_Space(SqFT)']),3))\n",
    "    X_test_im['LivingArea_Space(SqFT)'][i] = y"
   ]
  },
  {
   "cell_type": "code",
   "execution_count": 45,
   "metadata": {},
   "outputs": [],
   "source": [
    "train_meanLATax = X_train_im[X_train_im['Lot_Size(SqFT)'].isnull()].index\n",
    "for i in train_meanLATax:\n",
    "    x  = (X_train_im.ZipCode[i])\n",
    "    y = X_train_im['Lot_Size(SqFT)'][i]\n",
    "    y = (round(np.mean(X_train_im[X_train_im.ZipCode == x]['Lot_Size(SqFT)']),3))\n",
    "    X_train_im['Lot_Size(SqFT)'][i] = y\n",
    "    \n",
    "    \n",
    "test_meanLATax = X_test_im[X_test_im['Lot_Size(SqFT)'].isnull()].index\n",
    "for i in test_meanLATax:\n",
    "    x  = (X_test_im.ZipCode[i])\n",
    "    y = X_test_im['Lot_Size(SqFT)'][i]\n",
    "    y = (round(np.mean(X_test_im[X_test_im.ZipCode == x]['Lot_Size(SqFT)']),3))\n",
    "    X_test_im['Lot_Size(SqFT)'][i] = y"
   ]
  },
  {
   "cell_type": "code",
   "execution_count": 46,
   "metadata": {},
   "outputs": [],
   "source": [
    "X_train_im = X_train_im.fillna(X_train_im.mean())\n",
    "X_test_im = X_test_im.fillna(X_test_im.mean())"
   ]
  },
  {
   "cell_type": "code",
   "execution_count": 47,
   "metadata": {},
   "outputs": [],
   "source": [
    "rf = RandomForestRegressor(random_state=100, max_depth=10)\n",
    "rf.fit(X_train_im,y_train)\n",
    "y_train_im_pred = rf.predict(X_train_im)\n",
    "y_test_im_pred = rf.predict(X_test_im)"
   ]
  },
  {
   "cell_type": "code",
   "execution_count": 48,
   "metadata": {},
   "outputs": [
    {
     "name": "stdout",
     "output_type": "stream",
     "text": [
      "R2 of Y_train zipcode mean prediction's: 0.8836923439855562\n",
      "R2 of Y_test zipcode mean prediction's: 0.6182285453556258\n",
      "MAE of Y_train zipcode mean prediction's: 264827.5281782541\n",
      "MAE of Y_test zipcode mean prediction's: 344277.4571345384\n"
     ]
    }
   ],
   "source": [
    "print(\"R2 of Y_train zipcode mean prediction's:\", r2_score(y_train, y_train_im_pred))\n",
    "print(\"R2 of Y_test zipcode mean prediction's:\",r2_score(y_test, y_test_im_pred))\n",
    "print(\"MAE of Y_train zipcode mean prediction's:\",mean_absolute_error(y_train, y_train_im_pred))\n",
    "print(\"MAE of Y_test zipcode mean prediction's:\",mean_absolute_error(y_test, y_test_im_pred))"
   ]
  },
  {
   "cell_type": "code",
   "execution_count": 49,
   "metadata": {},
   "outputs": [
    {
     "data": {
      "image/png": "[encoded data removed]",
      "text/plain": [
       "<Figure size 1152x576 with 1 Axes>"
      ]
     },
     "metadata": {
      "needs_background": "light"
     },
     "output_type": "display_data"
    }
   ],
   "source": [
    "features = X_train_im.columns\n",
    "importances = rf.feature_importances_\n",
    "indices = np.argsort(importances)[-26:] \n",
    "plt.figure(figsize=(16,8))\n",
    "plt.title('Feature Importances')\n",
    "plt.barh(range(len(indices)), importances[indices], color='b', align='center')\n",
    "plt.yticks(range(len(indices)), [features[i] for i in indices])\n",
    "plt.xlabel('Relative Importance')\n",
    "plt.show()"
   ]
  },
  {
   "cell_type": "markdown",
   "metadata": {},
   "source": [
    "#### It did not yield better results, while insignificant  the performance was worse than the mean"
   ]
  },
  {
   "cell_type": "markdown",
   "metadata": {},
   "source": [
    "#### Let's check our feature importance using a mean imputation"
   ]
  },
  {
   "cell_type": "code",
   "execution_count": 50,
   "metadata": {},
   "outputs": [
    {
     "data": {
      "text/plain": [
       "RandomForestRegressor(max_depth=10, random_state=100)"
      ]
     },
     "execution_count": 50,
     "metadata": {},
     "output_type": "execute_result"
    }
   ],
   "source": [
    "from sklearn.ensemble import RandomForestRegressor\n",
    "model = RandomForestRegressor(random_state=100, max_depth=10)\n",
    "model.fit(X_train.fillna(X_train.mean()),y_train)"
   ]
  },
  {
   "cell_type": "code",
   "execution_count": 51,
   "metadata": {},
   "outputs": [
    {
     "name": "stdout",
     "output_type": "stream",
     "text": [
      "0.6465461544929338 0.8963039791744637\n"
     ]
    }
   ],
   "source": [
    "y_pred_test = model.predict(X_test.fillna(X_test.mean()))\n",
    "y_pred_train = model.predict(X_train.fillna(X_train.mean()))\n",
    "print(r2_score(y_test, y_pred_test),r2_score(y_train, y_pred_train)) "
   ]
  },
  {
   "cell_type": "code",
   "execution_count": 52,
   "metadata": {},
   "outputs": [
    {
     "data": {
      "image/png": "[encoded data removed]",
      "text/plain": [
       "<Figure size 1152x576 with 1 Axes>"
      ]
     },
     "metadata": {
      "needs_background": "light"
     },
     "output_type": "display_data"
    }
   ],
   "source": [
    "features = X_train.columns\n",
    "importances = model.feature_importances_\n",
    "indices = np.argsort(importances)[-26:] \n",
    "plt.figure(figsize=(16,8))\n",
    "plt.title('Feature Importances')\n",
    "plt.barh(range(len(indices)), importances[indices], color='b', align='center')\n",
    "plt.yticks(range(len(indices)), [features[i] for i in indices])\n",
    "plt.xlabel('Relative Importance')\n",
    "plt.show()"
   ]
  },
  {
   "cell_type": "markdown",
   "metadata": {},
   "source": [
    "#### It seems that the following have little to no impact Neighborhood, ParkingType, City, Heating_Available, Half_Bathrooms, Fireplace, Cooling, Basement, and Spa_Available. Lets remove these features and try to see if we yield a better r2_score. Even though full_bathrooms might have some indication I am going to input on the train data and with 0 for missing values for it. "
   ]
  },
  {
   "cell_type": "code",
   "execution_count": 53,
   "metadata": {},
   "outputs": [],
   "source": [
    "train_df_2 = df.drop(columns=['City', 'Neighborhood', 'Half_Bathrooms',\n",
    "       'Basement', 'Cooling_Available', 'Fireplace_Available',\n",
    "       'Heating_Available', 'Spa_Available'], axis=1)"
   ]
  },
  {
   "cell_type": "code",
   "execution_count": 54,
   "metadata": {},
   "outputs": [
    {
     "data": {
      "text/plain": [
       "0        1.00\n",
       "1        7.00\n",
       "2        3.00\n",
       "3        6.00\n",
       "4        5.00\n",
       "         ... \n",
       "59257    0.00\n",
       "59258    5.00\n",
       "59259    4.00\n",
       "59260    1.96\n",
       "59261    1.00\n",
       "Name: Full_Bathrooms, Length: 59262, dtype: float64"
      ]
     },
     "execution_count": 54,
     "metadata": {},
     "output_type": "execute_result"
    }
   ],
   "source": [
    "train_df_2.Full_Bathrooms.fillna(round(np.mean(train_df_2.Full_Bathrooms), 2))"
   ]
  },
  {
   "cell_type": "code",
   "execution_count": 55,
   "metadata": {},
   "outputs": [],
   "source": [
    "train_df_2 = train_df_2.dropna()"
   ]
  },
  {
   "cell_type": "code",
   "execution_count": 56,
   "metadata": {},
   "outputs": [],
   "source": [
    "X_2 = train_df_2.drop([ 'price'] ,axis=1)\n",
    "y_2 = train_df_2.price"
   ]
  },
  {
   "cell_type": "code",
   "execution_count": 57,
   "metadata": {},
   "outputs": [
    {
     "data": {
      "text/plain": [
       "(33283, 15)"
      ]
     },
     "execution_count": 57,
     "metadata": {},
     "output_type": "execute_result"
    }
   ],
   "source": [
    "X_2.shape\n",
    "#While our dataset definately reduced its still a alot to work with I don't believe we will overfit as we still have 35k observations"
   ]
  },
  {
   "cell_type": "code",
   "execution_count": 58,
   "metadata": {},
   "outputs": [
    {
     "data": {
      "text/plain": [
       "RandomForestRegressor(max_depth=10, random_state=100)"
      ]
     },
     "execution_count": 58,
     "metadata": {},
     "output_type": "execute_result"
    }
   ],
   "source": [
    "X_train_2, X_test_2, y_train_2, y_test_2 = train_test_split(X_2, y_2, test_size=.3, random_state=100)\n",
    "rf = RandomForestRegressor(random_state=100, max_depth=10)\n",
    "rf.fit(X_train_2,y_train_2)"
   ]
  },
  {
   "cell_type": "code",
   "execution_count": 59,
   "metadata": {},
   "outputs": [
    {
     "name": "stdout",
     "output_type": "stream",
     "text": [
      "0.6457979953539843\n",
      "0.9317301155133008\n"
     ]
    }
   ],
   "source": [
    "y_pred = rf.predict(X_test_2)\n",
    "print(r2_score(y_test_2, y_pred))\n",
    "y_pred = rf.predict(X_train_2)\n",
    "print(r2_score(y_train_2, y_pred))"
   ]
  },
  {
   "cell_type": "markdown",
   "metadata": {},
   "source": [
    "#### These are the best results so far I think this is the best iterations of our training and test dataset and in our next notebook of modeling we will further fine tune and select the best machine learning algorithm to perform further test to get the best model."
   ]
  },
  {
   "cell_type": "code",
   "execution_count": 60,
   "metadata": {},
   "outputs": [
    {
     "data": {
      "image/png": "[encoded data removed]",
      "text/plain": [
       "<Figure size 1152x576 with 1 Axes>"
      ]
     },
     "metadata": {
      "needs_background": "light"
     },
     "output_type": "display_data"
    }
   ],
   "source": [
    "features = X_train_2.columns\n",
    "importances = rf.feature_importances_\n",
    "indices = np.argsort(importances)[-26:] \n",
    "plt.figure(figsize=(16,8))\n",
    "plt.title('Feature Importances')\n",
    "plt.barh(range(len(indices)), importances[indices], color='b', align='center')\n",
    "plt.yticks(range(len(indices)), [features[i] for i in indices])\n",
    "plt.xlabel('Relative Importance')\n",
    "plt.show()"
   ]
  },
  {
   "cell_type": "markdown",
   "metadata": {},
   "source": [
    "#### That was a great move, our R2_score has increased significantly so now we know which features to drop"
   ]
  },
  {
   "cell_type": "markdown",
   "metadata": {},
   "source": [
    "## 3.10 Gradient Boosting Model<a id='3.10_Gradient_Boosting'></a>"
   ]
  },
  {
   "cell_type": "code",
   "execution_count": 61,
   "metadata": {},
   "outputs": [],
   "source": [
    "import xgboost as xgb"
   ]
  },
  {
   "cell_type": "code",
   "execution_count": 62,
   "metadata": {},
   "outputs": [],
   "source": [
    "X_df = df.drop(['City', 'Borough', 'Neighborhood', 'price', 'Basement', 'Cooling_Available', 'Fireplace_Available', 'Heating_Available', 'Spa_Available', 'Story_Building'], axis=1)\n",
    "X = X_df.values\n",
    "y = df.price.values"
   ]
  },
  {
   "cell_type": "code",
   "execution_count": 63,
   "metadata": {},
   "outputs": [],
   "source": [
    "X_train, X_test, y_train, y_test = train_test_split(X, y, test_size=.2, random_state=100)"
   ]
  },
  {
   "cell_type": "code",
   "execution_count": 64,
   "metadata": {},
   "outputs": [],
   "source": [
    "GB_pipe = make_pipeline(\n",
    "    SimpleImputer(strategy=\"mean\"),\n",
    "    StandardScaler(),\n",
    "    xgb.XGBRegressor()\n",
    ")"
   ]
  },
  {
   "cell_type": "code",
   "execution_count": 65,
   "metadata": {},
   "outputs": [
    {
     "data": {
      "text/plain": [
       "Pipeline(steps=[('simpleimputer', SimpleImputer()),\n",
       "                ('standardscaler', StandardScaler()),\n",
       "                ('xgbregressor',\n",
       "                 XGBRegressor(base_score=0.5, booster='gbtree',\n",
       "                              colsample_bylevel=1, colsample_bynode=1,\n",
       "                              colsample_bytree=1, gamma=0, gpu_id=-1,\n",
       "                              importance_type='gain',\n",
       "                              interaction_constraints='',\n",
       "                              learning_rate=0.300000012, max_delta_step=0,\n",
       "                              max_depth=6, min_child_weight=1, missing=nan,\n",
       "                              monotone_constraints='()', n_estimators=100,\n",
       "                              n_jobs=8, num_parallel_tree=1, random_state=0,\n",
       "                              reg_alpha=0, reg_lambda=1, scale_pos_weight=1,\n",
       "                              subsample=1, tree_method='exact',\n",
       "                              validate_parameters=1, verbosity=None))])"
      ]
     },
     "execution_count": 65,
     "metadata": {},
     "output_type": "execute_result"
    }
   ],
   "source": [
    "GB_pipe.fit(X_train, y_train)"
   ]
  },
  {
   "cell_type": "code",
   "execution_count": 66,
   "metadata": {},
   "outputs": [],
   "source": [
    "test_preds = GB_pipe.predict(X_test)\n",
    "train_preds = GB_pipe.predict(X_train)"
   ]
  },
  {
   "cell_type": "code",
   "execution_count": 67,
   "metadata": {},
   "outputs": [
    {
     "name": "stdout",
     "output_type": "stream",
     "text": [
      "R2 of Y_train  GB prediction's: 0.9721973242384186\n",
      "R2 of Y_test  GB prediction's: 0.674905875614883\n",
      "MAE of Y_train GB prediction's: 183873.36004355055\n",
      "MAE of Y_test GB prediction's: 308744.5659442098\n"
     ]
    }
   ],
   "source": [
    "print(\"R2 of Y_train  GB prediction's:\", r2_score(y_train, train_preds))\n",
    "print(\"R2 of Y_test  GB prediction's:\",r2_score(y_test, test_preds))\n",
    "print(\"MAE of Y_train GB prediction's:\",mean_absolute_error(y_train, train_preds))\n",
    "print(\"MAE of Y_test GB prediction's:\",mean_absolute_error(y_test, test_preds))"
   ]
  },
  {
   "cell_type": "code",
   "execution_count": 68,
   "metadata": {},
   "outputs": [],
   "source": [
    "gb = xgb.XGBRegressor()"
   ]
  },
  {
   "cell_type": "code",
   "execution_count": 135,
   "metadata": {},
   "outputs": [],
   "source": [
    "X_train, X_test, y_train, y_test = train_test_split(X, y, test_size=.2, random_state=100)"
   ]
  },
  {
   "cell_type": "code",
   "execution_count": 70,
   "metadata": {},
   "outputs": [
    {
     "data": {
      "text/plain": [
       "XGBRegressor(base_score=0.5, booster='gbtree', colsample_bylevel=1,\n",
       "             colsample_bynode=1, colsample_bytree=1, gamma=0, gpu_id=-1,\n",
       "             importance_type='gain', interaction_constraints='',\n",
       "             learning_rate=0.300000012, max_delta_step=0, max_depth=6,\n",
       "             min_child_weight=1, missing=nan, monotone_constraints='()',\n",
       "             n_estimators=100, n_jobs=8, num_parallel_tree=1, random_state=0,\n",
       "             reg_alpha=0, reg_lambda=1, scale_pos_weight=1, subsample=1,\n",
       "             tree_method='exact', validate_parameters=1, verbosity=None)"
      ]
     },
     "execution_count": 70,
     "metadata": {},
     "output_type": "execute_result"
    }
   ],
   "source": [
    "gb.fit(X_train, y_train)"
   ]
  },
  {
   "cell_type": "code",
   "execution_count": 71,
   "metadata": {},
   "outputs": [],
   "source": [
    "pred_test = gb.predict(X_test)\n",
    "pred_train = gb.predict(X_train)"
   ]
  },
  {
   "cell_type": "code",
   "execution_count": 72,
   "metadata": {},
   "outputs": [
    {
     "name": "stdout",
     "output_type": "stream",
     "text": [
      "R2 of Y_train  GB prediction's: 0.9741367029504042\n",
      "R2 of Y_test  GB prediction's: 0.732608903899179\n",
      "MAE of Y_train GB prediction's: 180999.81921811824\n",
      "MAE of Y_test GB prediction's: 296157.9898410476\n"
     ]
    }
   ],
   "source": [
    "print(\"R2 of Y_train  GB prediction's:\", r2_score(y_train, pred_train))\n",
    "print(\"R2 of Y_test  GB prediction's:\",r2_score(y_test, pred_test))\n",
    "print(\"MAE of Y_train GB prediction's:\",mean_absolute_error(y_train, pred_train))\n",
    "print(\"MAE of Y_test GB prediction's:\",mean_absolute_error(y_test, pred_test))"
   ]
  },
  {
   "cell_type": "markdown",
   "metadata": {},
   "source": [
    "#### It seems we get a slight performance boost without StandardScaler and mean imputation"
   ]
  },
  {
   "cell_type": "code",
   "execution_count": 73,
   "metadata": {},
   "outputs": [
    {
     "data": {
      "image/png": "[encoded data removed]",
      "text/plain": [
       "<Figure size 1152x576 with 1 Axes>"
      ]
     },
     "metadata": {
      "needs_background": "light"
     },
     "output_type": "display_data"
    }
   ],
   "source": [
    "features = X_df.columns\n",
    "importances = gb.feature_importances_\n",
    "indices = np.argsort(importances)[-26:] \n",
    "plt.figure(figsize=(16,8))\n",
    "plt.title('Feature Importances')\n",
    "plt.barh(range(len(indices)), importances[indices], color='b', align='center')\n",
    "plt.yticks(range(len(indices)), [features[i] for i in indices])\n",
    "plt.xlabel('Relative Importance')\n",
    "plt.show()"
   ]
  },
  {
   "cell_type": "markdown",
   "metadata": {},
   "source": [
    "### 3.11 Hyper-parameter Tuning Gradient Boost<a id='3.11_Hyper_parameter_Tuning'></a> "
   ]
  },
  {
   "cell_type": "code",
   "execution_count": 142,
   "metadata": {},
   "outputs": [],
   "source": [
    "feature_names = X_df.columns\n",
    "\n",
    "log_y_train = np.log(y_train)\n",
    "log_y_test = np.log(y_test)\n",
    "\n",
    "dtrain = xgb.DMatrix(X_train, label=log_y_train, feature_names=feature_names)\n",
    "\n",
    "dtest = xgb.DMatrix(X_test, label=log_y_test, feature_names=feature_names)\n"
   ]
  },
  {
   "cell_type": "code",
   "execution_count": 143,
   "metadata": {},
   "outputs": [],
   "source": [
    "params = {\n",
    "    # Parameters that we are going to tune.\n",
    "    'max_depth':6,\n",
    "    'min_child_weight': 1,\n",
    "    'eta':.3,\n",
    "    'subsample': 1,\n",
    "    'colsample_bytree': 1,\n",
    "    # Other parameters\n",
    "    'objective':'reg:squarederror',\n",
    "}\n"
   ]
  },
  {
   "cell_type": "code",
   "execution_count": 144,
   "metadata": {},
   "outputs": [],
   "source": [
    "params['eval_metric'] = \"mae\"\n",
    "num_boost_round = 999\n",
    "evallist  = [(X_test,'eval'), (X_train,'train')]\n"
   ]
  },
  {
   "cell_type": "code",
   "execution_count": 145,
   "metadata": {},
   "outputs": [
    {
     "name": "stdout",
     "output_type": "stream",
     "text": [
      "[0]\tTest-mae:9.11658\n",
      "[1]\tTest-mae:6.38162\n",
      "[2]\tTest-mae:4.46626\n",
      "[3]\tTest-mae:3.12529\n",
      "[4]\tTest-mae:2.18649\n",
      "[5]\tTest-mae:1.53001\n",
      "[6]\tTest-mae:1.07393\n",
      "[7]\tTest-mae:0.76170\n",
      "[8]\tTest-mae:0.55174\n",
      "[9]\tTest-mae:0.41441\n",
      "[10]\tTest-mae:0.32815\n",
      "[11]\tTest-mae:0.27491\n",
      "[12]\tTest-mae:0.24529\n",
      "[13]\tTest-mae:0.22901\n",
      "[14]\tTest-mae:0.22057\n",
      "[15]\tTest-mae:0.21559\n",
      "[16]\tTest-mae:0.21230\n",
      "[17]\tTest-mae:0.20993\n",
      "[18]\tTest-mae:0.20856\n",
      "[19]\tTest-mae:0.20721\n",
      "[20]\tTest-mae:0.20670\n",
      "[21]\tTest-mae:0.20572\n",
      "[22]\tTest-mae:0.20517\n",
      "[23]\tTest-mae:0.20484\n",
      "[24]\tTest-mae:0.20452\n",
      "[25]\tTest-mae:0.20356\n",
      "[26]\tTest-mae:0.20351\n",
      "[27]\tTest-mae:0.20281\n",
      "[28]\tTest-mae:0.20261\n",
      "[29]\tTest-mae:0.20232\n",
      "[30]\tTest-mae:0.20184\n",
      "[31]\tTest-mae:0.20168\n",
      "[32]\tTest-mae:0.20120\n",
      "[33]\tTest-mae:0.20114\n",
      "[34]\tTest-mae:0.20109\n",
      "[35]\tTest-mae:0.20091\n",
      "[36]\tTest-mae:0.20093\n",
      "[37]\tTest-mae:0.20086\n",
      "[38]\tTest-mae:0.20084\n",
      "[39]\tTest-mae:0.20035\n",
      "[40]\tTest-mae:0.20049\n",
      "[41]\tTest-mae:0.20051\n",
      "[42]\tTest-mae:0.20052\n",
      "[43]\tTest-mae:0.20023\n",
      "[44]\tTest-mae:0.20000\n",
      "[45]\tTest-mae:0.20001\n",
      "[46]\tTest-mae:0.19966\n",
      "[47]\tTest-mae:0.19958\n",
      "[48]\tTest-mae:0.19944\n",
      "[49]\tTest-mae:0.19922\n",
      "[50]\tTest-mae:0.19916\n",
      "[51]\tTest-mae:0.19887\n",
      "[52]\tTest-mae:0.19877\n",
      "[53]\tTest-mae:0.19836\n",
      "[54]\tTest-mae:0.19821\n",
      "[55]\tTest-mae:0.19803\n",
      "[56]\tTest-mae:0.19790\n",
      "[57]\tTest-mae:0.19771\n",
      "[58]\tTest-mae:0.19763\n",
      "[59]\tTest-mae:0.19764\n",
      "[60]\tTest-mae:0.19756\n",
      "[61]\tTest-mae:0.19747\n",
      "[62]\tTest-mae:0.19747\n",
      "[63]\tTest-mae:0.19748\n",
      "[64]\tTest-mae:0.19747\n",
      "[65]\tTest-mae:0.19739\n",
      "[66]\tTest-mae:0.19731\n",
      "[67]\tTest-mae:0.19722\n",
      "[68]\tTest-mae:0.19712\n",
      "[69]\tTest-mae:0.19702\n",
      "[70]\tTest-mae:0.19675\n",
      "[71]\tTest-mae:0.19651\n",
      "[72]\tTest-mae:0.19643\n",
      "[73]\tTest-mae:0.19640\n",
      "[74]\tTest-mae:0.19644\n",
      "[75]\tTest-mae:0.19645\n",
      "[76]\tTest-mae:0.19652\n",
      "[77]\tTest-mae:0.19649\n",
      "[78]\tTest-mae:0.19649\n",
      "[79]\tTest-mae:0.19637\n",
      "[80]\tTest-mae:0.19637\n",
      "[81]\tTest-mae:0.19639\n",
      "[82]\tTest-mae:0.19631\n",
      "[83]\tTest-mae:0.19636\n",
      "[84]\tTest-mae:0.19632\n",
      "[85]\tTest-mae:0.19623\n",
      "[86]\tTest-mae:0.19624\n",
      "[87]\tTest-mae:0.19613\n",
      "[88]\tTest-mae:0.19620\n",
      "[89]\tTest-mae:0.19620\n",
      "[90]\tTest-mae:0.19622\n",
      "[91]\tTest-mae:0.19614\n",
      "[92]\tTest-mae:0.19606\n",
      "[93]\tTest-mae:0.19590\n",
      "[94]\tTest-mae:0.19589\n",
      "[95]\tTest-mae:0.19572\n",
      "[96]\tTest-mae:0.19570\n",
      "[97]\tTest-mae:0.19570\n",
      "[98]\tTest-mae:0.19574\n",
      "[99]\tTest-mae:0.19565\n",
      "[100]\tTest-mae:0.19544\n",
      "[101]\tTest-mae:0.19549\n",
      "[102]\tTest-mae:0.19524\n",
      "[103]\tTest-mae:0.19526\n",
      "[104]\tTest-mae:0.19519\n",
      "[105]\tTest-mae:0.19518\n",
      "[106]\tTest-mae:0.19510\n",
      "[107]\tTest-mae:0.19504\n",
      "[108]\tTest-mae:0.19506\n",
      "[109]\tTest-mae:0.19510\n",
      "[110]\tTest-mae:0.19513\n",
      "[111]\tTest-mae:0.19521\n",
      "[112]\tTest-mae:0.19518\n",
      "[113]\tTest-mae:0.19516\n",
      "[114]\tTest-mae:0.19516\n",
      "[115]\tTest-mae:0.19517\n",
      "[116]\tTest-mae:0.19517\n",
      "[117]\tTest-mae:0.19517\n"
     ]
    }
   ],
   "source": [
    "model = xgb.train(\n",
    "    params,\n",
    "    dtrain,\n",
    "    num_boost_round=num_boost_round,\n",
    "    evals=[(dtest, \"Test\")],\n",
    "    early_stopping_rounds=10\n",
    ")"
   ]
  },
  {
   "cell_type": "code",
   "execution_count": 146,
   "metadata": {},
   "outputs": [
    {
     "name": "stdout",
     "output_type": "stream",
     "text": [
      "Best MAE: 0.20 with 108 rounds\n"
     ]
    }
   ],
   "source": [
    "print(\"Best MAE: {:.2f} with {} rounds\".format(\n",
    "                 model.best_score,\n",
    "                 model.best_iteration+1))"
   ]
  },
  {
   "cell_type": "code",
   "execution_count": 147,
   "metadata": {},
   "outputs": [
    {
     "data": {
      "text/html": [
       "<div>\n",
       "<style scoped>\n",
       "    .dataframe tbody tr th:only-of-type {\n",
       "        vertical-align: middle;\n",
       "    }\n",
       "\n",
       "    .dataframe tbody tr th {\n",
       "        vertical-align: top;\n",
       "    }\n",
       "\n",
       "    .dataframe thead th {\n",
       "        text-align: right;\n",
       "    }\n",
       "</style>\n",
       "<table border=\"1\" class=\"dataframe\">\n",
       "  <thead>\n",
       "    <tr style=\"text-align: right;\">\n",
       "      <th></th>\n",
       "      <th>train-mae-mean</th>\n",
       "      <th>train-mae-std</th>\n",
       "      <th>test-mae-mean</th>\n",
       "      <th>test-mae-std</th>\n",
       "    </tr>\n",
       "  </thead>\n",
       "  <tbody>\n",
       "    <tr>\n",
       "      <th>0</th>\n",
       "      <td>9.121352</td>\n",
       "      <td>0.000798</td>\n",
       "      <td>9.121437</td>\n",
       "      <td>0.004334</td>\n",
       "    </tr>\n",
       "    <tr>\n",
       "      <th>1</th>\n",
       "      <td>6.386202</td>\n",
       "      <td>0.000541</td>\n",
       "      <td>6.386581</td>\n",
       "      <td>0.003635</td>\n",
       "    </tr>\n",
       "    <tr>\n",
       "      <th>2</th>\n",
       "      <td>4.471341</td>\n",
       "      <td>0.000492</td>\n",
       "      <td>4.471731</td>\n",
       "      <td>0.003482</td>\n",
       "    </tr>\n",
       "    <tr>\n",
       "      <th>3</th>\n",
       "      <td>3.131072</td>\n",
       "      <td>0.000372</td>\n",
       "      <td>3.131723</td>\n",
       "      <td>0.003472</td>\n",
       "    </tr>\n",
       "    <tr>\n",
       "      <th>4</th>\n",
       "      <td>2.192611</td>\n",
       "      <td>0.000241</td>\n",
       "      <td>2.193239</td>\n",
       "      <td>0.003565</td>\n",
       "    </tr>\n",
       "    <tr>\n",
       "      <th>...</th>\n",
       "      <td>...</td>\n",
       "      <td>...</td>\n",
       "      <td>...</td>\n",
       "      <td>...</td>\n",
       "    </tr>\n",
       "    <tr>\n",
       "      <th>123</th>\n",
       "      <td>0.152525</td>\n",
       "      <td>0.000677</td>\n",
       "      <td>0.197228</td>\n",
       "      <td>0.002797</td>\n",
       "    </tr>\n",
       "    <tr>\n",
       "      <th>124</th>\n",
       "      <td>0.152233</td>\n",
       "      <td>0.000629</td>\n",
       "      <td>0.197159</td>\n",
       "      <td>0.002801</td>\n",
       "    </tr>\n",
       "    <tr>\n",
       "      <th>125</th>\n",
       "      <td>0.151934</td>\n",
       "      <td>0.000714</td>\n",
       "      <td>0.197115</td>\n",
       "      <td>0.002813</td>\n",
       "    </tr>\n",
       "    <tr>\n",
       "      <th>126</th>\n",
       "      <td>0.151667</td>\n",
       "      <td>0.000664</td>\n",
       "      <td>0.197107</td>\n",
       "      <td>0.002778</td>\n",
       "    </tr>\n",
       "    <tr>\n",
       "      <th>127</th>\n",
       "      <td>0.151348</td>\n",
       "      <td>0.000690</td>\n",
       "      <td>0.197064</td>\n",
       "      <td>0.002789</td>\n",
       "    </tr>\n",
       "  </tbody>\n",
       "</table>\n",
       "<p>128 rows × 4 columns</p>\n",
       "</div>"
      ],
      "text/plain": [
       "     train-mae-mean  train-mae-std  test-mae-mean  test-mae-std\n",
       "0          9.121352       0.000798       9.121437      0.004334\n",
       "1          6.386202       0.000541       6.386581      0.003635\n",
       "2          4.471341       0.000492       4.471731      0.003482\n",
       "3          3.131072       0.000372       3.131723      0.003472\n",
       "4          2.192611       0.000241       2.193239      0.003565\n",
       "..              ...            ...            ...           ...\n",
       "123        0.152525       0.000677       0.197228      0.002797\n",
       "124        0.152233       0.000629       0.197159      0.002801\n",
       "125        0.151934       0.000714       0.197115      0.002813\n",
       "126        0.151667       0.000664       0.197107      0.002778\n",
       "127        0.151348       0.000690       0.197064      0.002789\n",
       "\n",
       "[128 rows x 4 columns]"
      ]
     },
     "execution_count": 147,
     "metadata": {},
     "output_type": "execute_result"
    }
   ],
   "source": [
    "cv_results = xgb.cv(\n",
    "    params,\n",
    "    dtrain,\n",
    "    num_boost_round=num_boost_round,\n",
    "    seed=100,\n",
    "    nfold=5,\n",
    "    metrics={'mae'},\n",
    "    early_stopping_rounds=10\n",
    ")\n",
    "cv_results\n"
   ]
  },
  {
   "cell_type": "code",
   "execution_count": 148,
   "metadata": {},
   "outputs": [
    {
     "data": {
      "text/plain": [
       "0.19706400000000002"
      ]
     },
     "execution_count": 148,
     "metadata": {},
     "output_type": "execute_result"
    }
   ],
   "source": [
    "cv_results['test-mae-mean'].min()"
   ]
  },
  {
   "cell_type": "code",
   "execution_count": 156,
   "metadata": {},
   "outputs": [],
   "source": [
    "gridsearch_params = [\n",
    "    (max_depth, min_child_weight)\n",
    "    for max_depth in range(6,16)\n",
    "    for min_child_weight in range(3,7)\n",
    "]"
   ]
  },
  {
   "cell_type": "markdown",
   "metadata": {},
   "source": [
    "### The following codes below takes significant amount of time"
   ]
  },
  {
   "cell_type": "code",
   "execution_count": 157,
   "metadata": {},
   "outputs": [
    {
     "name": "stdout",
     "output_type": "stream",
     "text": [
      "CV with max_depth=3, min_child_weight=3\n",
      "\tMAE 0.20140799999999998 for 473 rounds\n",
      "CV with max_depth=3, min_child_weight=4\n",
      "\tMAE 0.20184599999999997 for 385 rounds\n",
      "CV with max_depth=3, min_child_weight=5\n",
      "\tMAE 0.2002986 for 483 rounds\n",
      "CV with max_depth=3, min_child_weight=6\n",
      "\tMAE 0.2017724 for 374 rounds\n",
      "CV with max_depth=4, min_child_weight=3\n",
      "\tMAE 0.19955799999999999 for 242 rounds\n",
      "CV with max_depth=4, min_child_weight=4\n",
      "\tMAE 0.1986094 for 309 rounds\n",
      "CV with max_depth=4, min_child_weight=5\n",
      "\tMAE 0.1984832 for 282 rounds\n",
      "CV with max_depth=4, min_child_weight=6\n",
      "\tMAE 0.19881920000000003 for 243 rounds\n",
      "CV with max_depth=5, min_child_weight=3\n",
      "\tMAE 0.19816519999999999 for 204 rounds\n",
      "CV with max_depth=5, min_child_weight=4\n",
      "\tMAE 0.1978848 for 169 rounds\n",
      "CV with max_depth=5, min_child_weight=5\n",
      "\tMAE 0.1973298 for 164 rounds\n",
      "CV with max_depth=5, min_child_weight=6\n",
      "\tMAE 0.1971438 for 209 rounds\n",
      "CV with max_depth=6, min_child_weight=3\n",
      "\tMAE 0.1976288 for 115 rounds\n",
      "CV with max_depth=6, min_child_weight=4\n",
      "\tMAE 0.1976276 for 105 rounds\n",
      "CV with max_depth=6, min_child_weight=5\n",
      "\tMAE 0.19703980000000001 for 128 rounds\n",
      "CV with max_depth=6, min_child_weight=6\n",
      "\tMAE 0.1971222 for 162 rounds\n",
      "CV with max_depth=7, min_child_weight=3\n",
      "\tMAE 0.1979112 for 83 rounds\n",
      "CV with max_depth=7, min_child_weight=4\n",
      "\tMAE 0.1975384 for 81 rounds\n",
      "CV with max_depth=7, min_child_weight=5\n",
      "\tMAE 0.1982422 for 82 rounds\n",
      "CV with max_depth=7, min_child_weight=6\n",
      "\tMAE 0.1977466 for 74 rounds\n",
      "CV with max_depth=8, min_child_weight=3\n",
      "\tMAE 0.1983622 for 48 rounds\n",
      "CV with max_depth=8, min_child_weight=4\n",
      "\tMAE 0.1983532 for 45 rounds\n",
      "CV with max_depth=8, min_child_weight=5\n",
      "\tMAE 0.1985428 for 74 rounds\n",
      "CV with max_depth=8, min_child_weight=6\n",
      "\tMAE 0.1978968 for 61 rounds\n",
      "CV with max_depth=9, min_child_weight=3\n",
      "\tMAE 0.1992042 for 60 rounds\n",
      "CV with max_depth=9, min_child_weight=4\n",
      "\tMAE 0.1984426 for 42 rounds\n",
      "CV with max_depth=9, min_child_weight=5\n",
      "\tMAE 0.1980536 for 44 rounds\n",
      "CV with max_depth=9, min_child_weight=6\n",
      "\tMAE 0.1979822 for 49 rounds\n",
      "CV with max_depth=10, min_child_weight=3\n",
      "\tMAE 0.19923799999999997 for 36 rounds\n",
      "CV with max_depth=10, min_child_weight=4\n",
      "\tMAE 0.1992588 for 38 rounds\n",
      "CV with max_depth=10, min_child_weight=5\n",
      "\tMAE 0.1990758 for 39 rounds\n",
      "CV with max_depth=10, min_child_weight=6\n",
      "\tMAE 0.19892 for 46 rounds\n",
      "CV with max_depth=11, min_child_weight=3\n",
      "\tMAE 0.2005042 for 27 rounds\n",
      "CV with max_depth=11, min_child_weight=4\n",
      "\tMAE 0.20004840000000002 for 39 rounds\n",
      "CV with max_depth=11, min_child_weight=5\n",
      "\tMAE 0.1996444 for 38 rounds\n",
      "CV with max_depth=11, min_child_weight=6\n",
      "\tMAE 0.198852 for 35 rounds\n",
      "CV with max_depth=12, min_child_weight=3\n",
      "\tMAE 0.2009582 for 27 rounds\n",
      "CV with max_depth=12, min_child_weight=4\n",
      "\tMAE 0.2004084 for 33 rounds\n",
      "CV with max_depth=12, min_child_weight=5\n",
      "\tMAE 0.19947140000000002 for 30 rounds\n",
      "CV with max_depth=12, min_child_weight=6\n",
      "\tMAE 0.1998096 for 26 rounds\n",
      "CV with max_depth=13, min_child_weight=3\n",
      "\tMAE 0.20195939999999996 for 27 rounds\n",
      "CV with max_depth=13, min_child_weight=4\n",
      "\tMAE 0.201531 for 24 rounds\n",
      "CV with max_depth=13, min_child_weight=5\n",
      "\tMAE 0.20092959999999999 for 29 rounds\n",
      "CV with max_depth=13, min_child_weight=6\n",
      "\tMAE 0.20014399999999996 for 26 rounds\n",
      "CV with max_depth=14, min_child_weight=3\n",
      "\tMAE 0.2027272 for 27 rounds\n",
      "CV with max_depth=14, min_child_weight=4\n",
      "\tMAE 0.20235940000000002 for 22 rounds\n",
      "CV with max_depth=14, min_child_weight=5\n",
      "\tMAE 0.201617 for 25 rounds\n",
      "CV with max_depth=14, min_child_weight=6\n",
      "\tMAE 0.2011756 for 24 rounds\n",
      "CV with max_depth=15, min_child_weight=3\n",
      "\tMAE 0.20359259999999998 for 23 rounds\n",
      "CV with max_depth=15, min_child_weight=4\n",
      "\tMAE 0.20353719999999997 for 22 rounds\n",
      "CV with max_depth=15, min_child_weight=5\n",
      "\tMAE 0.20309780000000002 for 21 rounds\n",
      "CV with max_depth=15, min_child_weight=6\n",
      "\tMAE 0.20229780000000003 for 25 rounds\n",
      "Best params: 6, 5, MAE: 0.19703980000000001\n"
     ]
    }
   ],
   "source": [
    "min_mae = float(\"Inf\")\n",
    "best_params = None\n",
    "for max_depth, min_child_weight in gridsearch_params:\n",
    "    print(\"CV with max_depth={}, min_child_weight={}\".format(\n",
    "                             max_depth,\n",
    "                             min_child_weight))\n",
    "    # Update our parameters\n",
    "    params['max_depth'] = max_depth\n",
    "    params['min_child_weight'] = min_child_weight\n",
    "    # Run CV\n",
    "    cv_results = xgb.cv(\n",
    "        params,\n",
    "        dtrain,\n",
    "        num_boost_round=num_boost_round,\n",
    "        seed=100,\n",
    "        nfold=5,\n",
    "        metrics={'mae'},\n",
    "        early_stopping_rounds=10\n",
    "    )\n",
    "    # Update best MAE\n",
    "    mean_mae = cv_results['test-mae-mean'].min()\n",
    "    boost_rounds = cv_results['test-mae-mean'].argmin()\n",
    "    print(\"\\tMAE {} for {} rounds\".format(mean_mae, boost_rounds))\n",
    "    if mean_mae < min_mae:\n",
    "        min_mae = mean_mae\n",
    "        best_params = (max_depth,min_child_weight)\n",
    "print(\"Best params: {}, {}, MAE: {}\".format(best_params[0], best_params[1], min_mae))"
   ]
  },
  {
   "cell_type": "code",
   "execution_count": 159,
   "metadata": {},
   "outputs": [],
   "source": [
    "params['max_depth'] = 6\n",
    "params['min_child_weight'] = 5"
   ]
  },
  {
   "cell_type": "code",
   "execution_count": 160,
   "metadata": {},
   "outputs": [],
   "source": [
    "gridsearch_params = [\n",
    "    (subsample, colsample)\n",
    "    for subsample in [i/10. for i in range(7,11)]\n",
    "    for colsample in [i/10. for i in range(7,11)]\n",
    "]"
   ]
  },
  {
   "cell_type": "code",
   "execution_count": 161,
   "metadata": {},
   "outputs": [
    {
     "name": "stdout",
     "output_type": "stream",
     "text": [
      "CV with subsample=1.0, colsample=1.0\n",
      "\tMAE 0.19703980000000001 for 128 rounds\n",
      "CV with subsample=1.0, colsample=0.9\n",
      "\tMAE 0.19722939999999997 for 131 rounds\n",
      "CV with subsample=1.0, colsample=0.8\n",
      "\tMAE 0.19772859999999998 for 140 rounds\n",
      "CV with subsample=1.0, colsample=0.7\n",
      "\tMAE 0.19766720000000002 for 131 rounds\n",
      "CV with subsample=0.9, colsample=1.0\n",
      "\tMAE 0.1985418 for 101 rounds\n",
      "CV with subsample=0.9, colsample=0.9\n",
      "\tMAE 0.198353 for 137 rounds\n",
      "CV with subsample=0.9, colsample=0.8\n",
      "\tMAE 0.1991504 for 100 rounds\n",
      "CV with subsample=0.9, colsample=0.7\n",
      "\tMAE 0.19846939999999996 for 124 rounds\n",
      "CV with subsample=0.8, colsample=1.0\n",
      "\tMAE 0.1988434 for 104 rounds\n",
      "CV with subsample=0.8, colsample=0.9\n",
      "\tMAE 0.1991272 for 120 rounds\n",
      "CV with subsample=0.8, colsample=0.8\n",
      "\tMAE 0.19992000000000001 for 95 rounds\n",
      "CV with subsample=0.8, colsample=0.7\n",
      "\tMAE 0.1993636 for 83 rounds\n",
      "CV with subsample=0.7, colsample=1.0\n",
      "\tMAE 0.20008940000000003 for 100 rounds\n",
      "CV with subsample=0.7, colsample=0.9\n",
      "\tMAE 0.201142 for 103 rounds\n",
      "CV with subsample=0.7, colsample=0.8\n",
      "\tMAE 0.20129579999999997 for 104 rounds\n",
      "CV with subsample=0.7, colsample=0.7\n",
      "\tMAE 0.2011866 for 101 rounds\n",
      "Best params: 1.0, 1.0, MAE: 0.19703980000000001\n"
     ]
    }
   ],
   "source": [
    "min_mae = float(\"Inf\")\n",
    "best_params = None\n",
    "# We start by the largest values and go down to the smallest\n",
    "for subsample, colsample in reversed(gridsearch_params):\n",
    "    print(\"CV with subsample={}, colsample={}\".format(\n",
    "                             subsample,\n",
    "                             colsample))\n",
    "    # We update our parameters\n",
    "    params['subsample'] = subsample\n",
    "    params['colsample_bytree'] = colsample\n",
    "    # Run CV\n",
    "    cv_results = xgb.cv(\n",
    "        params,\n",
    "        dtrain,\n",
    "        num_boost_round=num_boost_round,\n",
    "        seed=100,\n",
    "        nfold=5,\n",
    "        metrics={'mae'},\n",
    "        early_stopping_rounds=10\n",
    "    )\n",
    "    # Update best score\n",
    "    mean_mae = cv_results['test-mae-mean'].min()\n",
    "    boost_rounds = cv_results['test-mae-mean'].argmin()\n",
    "    print(\"\\tMAE {} for {} rounds\".format(mean_mae, boost_rounds))\n",
    "    if mean_mae < min_mae:\n",
    "        min_mae = mean_mae\n",
    "        best_params = (subsample,colsample)\n",
    "print(\"Best params: {}, {}, MAE: {}\".format(best_params[0], best_params[1], min_mae))"
   ]
  },
  {
   "cell_type": "code",
   "execution_count": 162,
   "metadata": {},
   "outputs": [],
   "source": [
    "params['subsample'] = 1.0\n",
    "params['colsample_bytree'] = 1.0"
   ]
  },
  {
   "cell_type": "code",
   "execution_count": 163,
   "metadata": {},
   "outputs": [
    {
     "name": "stdout",
     "output_type": "stream",
     "text": [
      "Wall time: 0 ns\n",
      "CV with eta=0.3\n",
      "Wall time: 0 ns\n",
      "\tMAE 0.19703980000000001 for 128 rounds\n",
      "\n",
      "CV with eta=0.2\n",
      "Wall time: 0 ns\n",
      "\tMAE 0.19364560000000003 for 193 rounds\n",
      "\n",
      "CV with eta=0.1\n",
      "Wall time: 0 ns\n",
      "\tMAE 0.1911128 for 379 rounds\n",
      "\n",
      "CV with eta=0.05\n",
      "Wall time: 0 ns\n",
      "\tMAE 0.1902544 for 763 rounds\n",
      "\n",
      "CV with eta=0.01\n",
      "Wall time: 0 ns\n",
      "\tMAE 0.19649840000000002 for 998 rounds\n",
      "\n",
      "CV with eta=0.005\n",
      "Wall time: 0 ns\n",
      "\tMAE 0.22433519999999998 for 998 rounds\n",
      "\n",
      "Best params: 0.05, MAE: 0.1902544\n"
     ]
    }
   ],
   "source": [
    "%time\n",
    "# This can take some time…\n",
    "min_mae = float(\"Inf\")\n",
    "best_params = None\n",
    "for eta in [.3, .2, .1, .05, .01, .005]:\n",
    "    print(\"CV with eta={}\".format(eta))\n",
    "    # We update our parameters\n",
    "    params['eta'] = eta\n",
    "    # Run and time CV\n",
    "    %time \n",
    "    cv_results = xgb.cv(\n",
    "            params,\n",
    "            dtrain,\n",
    "            num_boost_round=num_boost_round,\n",
    "            seed=100,\n",
    "            nfold=5,\n",
    "            metrics=['mae'],\n",
    "            early_stopping_rounds=10)\n",
    "    # Update best score\n",
    "    mean_mae = cv_results['test-mae-mean'].min()\n",
    "    boost_rounds = cv_results['test-mae-mean'].argmin()\n",
    "    print(\"\\tMAE {} for {} rounds\\n\".format(mean_mae, boost_rounds))\n",
    "    if mean_mae < min_mae:\n",
    "        min_mae = mean_mae\n",
    "        best_params = eta\n",
    "print(\"Best params: {}, MAE: {}\".format(best_params, min_mae))"
   ]
  },
  {
   "cell_type": "code",
   "execution_count": 164,
   "metadata": {},
   "outputs": [
    {
     "data": {
      "text/plain": [
       "{'max_depth': 6,\n",
       " 'min_child_weight': 5,\n",
       " 'eta': 0.05,\n",
       " 'subsample': 1.0,\n",
       " 'colsample_bytree': 1.0,\n",
       " 'objective': 'reg:squarederror',\n",
       " 'eval_metric': 'mae'}"
      ]
     },
     "execution_count": 164,
     "metadata": {},
     "output_type": "execute_result"
    }
   ],
   "source": [
    "params['eta'] = 0.05\n",
    "params"
   ]
  },
  {
   "cell_type": "code",
   "execution_count": 165,
   "metadata": {},
   "outputs": [
    {
     "name": "stdout",
     "output_type": "stream",
     "text": [
      "[0]\tTest-mae:12.37180\n",
      "[1]\tTest-mae:11.75329\n",
      "[2]\tTest-mae:11.16582\n",
      "[3]\tTest-mae:10.60766\n",
      "[4]\tTest-mae:10.07742\n",
      "[5]\tTest-mae:9.57361\n",
      "[6]\tTest-mae:9.09504\n",
      "[7]\tTest-mae:8.64027\n",
      "[8]\tTest-mae:8.20821\n",
      "[9]\tTest-mae:7.79789\n",
      "[10]\tTest-mae:7.40791\n",
      "[11]\tTest-mae:7.03735\n",
      "[12]\tTest-mae:6.68545\n",
      "[13]\tTest-mae:6.35116\n",
      "[14]\tTest-mae:6.03347\n",
      "[15]\tTest-mae:5.73180\n",
      "[16]\tTest-mae:5.44517\n",
      "[17]\tTest-mae:5.17287\n",
      "[18]\tTest-mae:4.91405\n",
      "[19]\tTest-mae:4.66832\n",
      "[20]\tTest-mae:4.43496\n",
      "[21]\tTest-mae:4.21300\n",
      "[22]\tTest-mae:4.00234\n",
      "[23]\tTest-mae:3.80217\n",
      "[24]\tTest-mae:3.61193\n",
      "[25]\tTest-mae:3.43124\n",
      "[26]\tTest-mae:3.25960\n",
      "[27]\tTest-mae:3.09653\n",
      "[28]\tTest-mae:2.94160\n",
      "[29]\tTest-mae:2.79440\n",
      "[30]\tTest-mae:2.65458\n",
      "[31]\tTest-mae:2.52170\n",
      "[32]\tTest-mae:2.39545\n",
      "[33]\tTest-mae:2.27545\n",
      "[34]\tTest-mae:2.16158\n",
      "[35]\tTest-mae:2.05327\n",
      "[36]\tTest-mae:1.95045\n",
      "[37]\tTest-mae:1.85282\n",
      "[38]\tTest-mae:1.76005\n",
      "[39]\tTest-mae:1.67204\n",
      "[40]\tTest-mae:1.58854\n",
      "[41]\tTest-mae:1.50917\n",
      "[42]\tTest-mae:1.43399\n",
      "[43]\tTest-mae:1.36258\n",
      "[44]\tTest-mae:1.29489\n",
      "[45]\tTest-mae:1.23075\n",
      "[46]\tTest-mae:1.16987\n",
      "[47]\tTest-mae:1.11222\n",
      "[48]\tTest-mae:1.05758\n",
      "[49]\tTest-mae:1.00574\n",
      "[50]\tTest-mae:0.95661\n",
      "[51]\tTest-mae:0.91013\n",
      "[52]\tTest-mae:0.86614\n",
      "[53]\tTest-mae:0.82461\n",
      "[54]\tTest-mae:0.78525\n",
      "[55]\tTest-mae:0.74815\n",
      "[56]\tTest-mae:0.71304\n",
      "[57]\tTest-mae:0.67986\n",
      "[58]\tTest-mae:0.64858\n",
      "[59]\tTest-mae:0.61902\n",
      "[60]\tTest-mae:0.59120\n",
      "[61]\tTest-mae:0.56496\n",
      "[62]\tTest-mae:0.54028\n",
      "[63]\tTest-mae:0.51705\n",
      "[64]\tTest-mae:0.49509\n",
      "[65]\tTest-mae:0.47457\n",
      "[66]\tTest-mae:0.45526\n",
      "[67]\tTest-mae:0.43718\n",
      "[68]\tTest-mae:0.42030\n",
      "[69]\tTest-mae:0.40444\n",
      "[70]\tTest-mae:0.38952\n",
      "[71]\tTest-mae:0.37570\n",
      "[72]\tTest-mae:0.36284\n",
      "[73]\tTest-mae:0.35080\n",
      "[74]\tTest-mae:0.33960\n",
      "[75]\tTest-mae:0.32910\n",
      "[76]\tTest-mae:0.31938\n",
      "[77]\tTest-mae:0.31024\n",
      "[78]\tTest-mae:0.30169\n",
      "[79]\tTest-mae:0.29389\n",
      "[80]\tTest-mae:0.28659\n",
      "[81]\tTest-mae:0.27995\n",
      "[82]\tTest-mae:0.27376\n",
      "[83]\tTest-mae:0.26799\n",
      "[84]\tTest-mae:0.26263\n",
      "[85]\tTest-mae:0.25773\n",
      "[86]\tTest-mae:0.25322\n",
      "[87]\tTest-mae:0.24916\n",
      "[88]\tTest-mae:0.24532\n",
      "[89]\tTest-mae:0.24181\n",
      "[90]\tTest-mae:0.23844\n",
      "[91]\tTest-mae:0.23545\n",
      "[92]\tTest-mae:0.23277\n",
      "[93]\tTest-mae:0.23020\n",
      "[94]\tTest-mae:0.22787\n",
      "[95]\tTest-mae:0.22573\n",
      "[96]\tTest-mae:0.22372\n",
      "[97]\tTest-mae:0.22193\n",
      "[98]\tTest-mae:0.22027\n",
      "[99]\tTest-mae:0.21866\n",
      "[100]\tTest-mae:0.21721\n",
      "[101]\tTest-mae:0.21591\n",
      "[102]\tTest-mae:0.21475\n",
      "[103]\tTest-mae:0.21361\n",
      "[104]\tTest-mae:0.21253\n",
      "[105]\tTest-mae:0.21160\n",
      "[106]\tTest-mae:0.21071\n",
      "[107]\tTest-mae:0.20987\n",
      "[108]\tTest-mae:0.20911\n",
      "[109]\tTest-mae:0.20842\n",
      "[110]\tTest-mae:0.20778\n",
      "[111]\tTest-mae:0.20717\n",
      "[112]\tTest-mae:0.20664\n",
      "[113]\tTest-mae:0.20619\n",
      "[114]\tTest-mae:0.20570\n",
      "[115]\tTest-mae:0.20526\n",
      "[116]\tTest-mae:0.20493\n",
      "[117]\tTest-mae:0.20451\n",
      "[118]\tTest-mae:0.20415\n",
      "[119]\tTest-mae:0.20388\n",
      "[120]\tTest-mae:0.20356\n",
      "[121]\tTest-mae:0.20329\n",
      "[122]\tTest-mae:0.20302\n",
      "[123]\tTest-mae:0.20272\n",
      "[124]\tTest-mae:0.20251\n",
      "[125]\tTest-mae:0.20230\n",
      "[126]\tTest-mae:0.20213\n",
      "[127]\tTest-mae:0.20192\n",
      "[128]\tTest-mae:0.20168\n",
      "[129]\tTest-mae:0.20151\n",
      "[130]\tTest-mae:0.20140\n",
      "[131]\tTest-mae:0.20128\n",
      "[132]\tTest-mae:0.20111\n",
      "[133]\tTest-mae:0.20099\n",
      "[134]\tTest-mae:0.20083\n",
      "[135]\tTest-mae:0.20073\n",
      "[136]\tTest-mae:0.20062\n",
      "[137]\tTest-mae:0.20051\n",
      "[138]\tTest-mae:0.20036\n",
      "[139]\tTest-mae:0.20033\n",
      "[140]\tTest-mae:0.20021\n",
      "[141]\tTest-mae:0.20014\n",
      "[142]\tTest-mae:0.20005\n",
      "[143]\tTest-mae:0.19995\n",
      "[144]\tTest-mae:0.19985\n",
      "[145]\tTest-mae:0.19974\n",
      "[146]\tTest-mae:0.19967\n",
      "[147]\tTest-mae:0.19953\n",
      "[148]\tTest-mae:0.19945\n",
      "[149]\tTest-mae:0.19935\n",
      "[150]\tTest-mae:0.19929\n",
      "[151]\tTest-mae:0.19922\n",
      "[152]\tTest-mae:0.19912\n",
      "[153]\tTest-mae:0.19906\n",
      "[154]\tTest-mae:0.19893\n",
      "[155]\tTest-mae:0.19888\n",
      "[156]\tTest-mae:0.19882\n",
      "[157]\tTest-mae:0.19879\n",
      "[158]\tTest-mae:0.19865\n",
      "[159]\tTest-mae:0.19854\n",
      "[160]\tTest-mae:0.19850\n",
      "[161]\tTest-mae:0.19847\n",
      "[162]\tTest-mae:0.19841\n",
      "[163]\tTest-mae:0.19831\n",
      "[164]\tTest-mae:0.19828\n",
      "[165]\tTest-mae:0.19817\n",
      "[166]\tTest-mae:0.19813\n",
      "[167]\tTest-mae:0.19805\n",
      "[168]\tTest-mae:0.19795\n",
      "[169]\tTest-mae:0.19779\n",
      "[170]\tTest-mae:0.19776\n",
      "[171]\tTest-mae:0.19774\n",
      "[172]\tTest-mae:0.19768\n",
      "[173]\tTest-mae:0.19768\n",
      "[174]\tTest-mae:0.19764\n",
      "[175]\tTest-mae:0.19751\n",
      "[176]\tTest-mae:0.19747\n",
      "[177]\tTest-mae:0.19742\n",
      "[178]\tTest-mae:0.19741\n",
      "[179]\tTest-mae:0.19736\n",
      "[180]\tTest-mae:0.19735\n",
      "[181]\tTest-mae:0.19729\n",
      "[182]\tTest-mae:0.19720\n",
      "[183]\tTest-mae:0.19714\n",
      "[184]\tTest-mae:0.19711\n",
      "[185]\tTest-mae:0.19701\n",
      "[186]\tTest-mae:0.19694\n",
      "[187]\tTest-mae:0.19693\n",
      "[188]\tTest-mae:0.19686\n",
      "[189]\tTest-mae:0.19684\n",
      "[190]\tTest-mae:0.19681\n",
      "[191]\tTest-mae:0.19683\n",
      "[192]\tTest-mae:0.19679\n",
      "[193]\tTest-mae:0.19675\n",
      "[194]\tTest-mae:0.19672\n",
      "[195]\tTest-mae:0.19668\n",
      "[196]\tTest-mae:0.19664\n",
      "[197]\tTest-mae:0.19662\n",
      "[198]\tTest-mae:0.19660\n",
      "[199]\tTest-mae:0.19654\n",
      "[200]\tTest-mae:0.19647\n",
      "[201]\tTest-mae:0.19639\n",
      "[202]\tTest-mae:0.19632\n",
      "[203]\tTest-mae:0.19629\n",
      "[204]\tTest-mae:0.19625\n",
      "[205]\tTest-mae:0.19621\n",
      "[206]\tTest-mae:0.19614\n",
      "[207]\tTest-mae:0.19614\n",
      "[208]\tTest-mae:0.19611\n",
      "[209]\tTest-mae:0.19613\n",
      "[210]\tTest-mae:0.19612\n",
      "[211]\tTest-mae:0.19608\n",
      "[212]\tTest-mae:0.19606\n",
      "[213]\tTest-mae:0.19601\n",
      "[214]\tTest-mae:0.19600\n",
      "[215]\tTest-mae:0.19591\n",
      "[216]\tTest-mae:0.19588\n",
      "[217]\tTest-mae:0.19588\n",
      "[218]\tTest-mae:0.19580\n",
      "[219]\tTest-mae:0.19579\n",
      "[220]\tTest-mae:0.19576\n",
      "[221]\tTest-mae:0.19578\n",
      "[222]\tTest-mae:0.19575\n",
      "[223]\tTest-mae:0.19571\n",
      "[224]\tTest-mae:0.19570\n",
      "[225]\tTest-mae:0.19569\n",
      "[226]\tTest-mae:0.19566\n",
      "[227]\tTest-mae:0.19562\n",
      "[228]\tTest-mae:0.19561\n",
      "[229]\tTest-mae:0.19553\n",
      "[230]\tTest-mae:0.19546\n",
      "[231]\tTest-mae:0.19547\n",
      "[232]\tTest-mae:0.19542\n",
      "[233]\tTest-mae:0.19535\n",
      "[234]\tTest-mae:0.19533\n",
      "[235]\tTest-mae:0.19530\n",
      "[236]\tTest-mae:0.19528\n",
      "[237]\tTest-mae:0.19525\n",
      "[238]\tTest-mae:0.19525\n",
      "[239]\tTest-mae:0.19524\n",
      "[240]\tTest-mae:0.19520\n",
      "[241]\tTest-mae:0.19517\n",
      "[242]\tTest-mae:0.19517\n",
      "[243]\tTest-mae:0.19515\n",
      "[244]\tTest-mae:0.19508\n",
      "[245]\tTest-mae:0.19505\n",
      "[246]\tTest-mae:0.19501\n",
      "[247]\tTest-mae:0.19499\n",
      "[248]\tTest-mae:0.19493\n",
      "[249]\tTest-mae:0.19489\n",
      "[250]\tTest-mae:0.19489\n",
      "[251]\tTest-mae:0.19489\n",
      "[252]\tTest-mae:0.19488\n",
      "[253]\tTest-mae:0.19481\n",
      "[254]\tTest-mae:0.19480\n",
      "[255]\tTest-mae:0.19480\n",
      "[256]\tTest-mae:0.19476\n",
      "[257]\tTest-mae:0.19476\n",
      "[258]\tTest-mae:0.19473\n",
      "[259]\tTest-mae:0.19474\n",
      "[260]\tTest-mae:0.19471\n",
      "[261]\tTest-mae:0.19461\n",
      "[262]\tTest-mae:0.19459\n",
      "[263]\tTest-mae:0.19457\n",
      "[264]\tTest-mae:0.19454\n",
      "[265]\tTest-mae:0.19452\n",
      "[266]\tTest-mae:0.19451\n",
      "[267]\tTest-mae:0.19449\n",
      "[268]\tTest-mae:0.19445\n",
      "[269]\tTest-mae:0.19440\n",
      "[270]\tTest-mae:0.19441\n",
      "[271]\tTest-mae:0.19439\n",
      "[272]\tTest-mae:0.19439\n",
      "[273]\tTest-mae:0.19437\n",
      "[274]\tTest-mae:0.19438\n",
      "[275]\tTest-mae:0.19437\n",
      "[276]\tTest-mae:0.19435\n",
      "[277]\tTest-mae:0.19431\n",
      "[278]\tTest-mae:0.19428\n",
      "[279]\tTest-mae:0.19427\n",
      "[280]\tTest-mae:0.19426\n",
      "[281]\tTest-mae:0.19423\n",
      "[282]\tTest-mae:0.19420\n",
      "[283]\tTest-mae:0.19416\n",
      "[284]\tTest-mae:0.19413\n",
      "[285]\tTest-mae:0.19410\n",
      "[286]\tTest-mae:0.19403\n",
      "[287]\tTest-mae:0.19403\n",
      "[288]\tTest-mae:0.19400\n",
      "[289]\tTest-mae:0.19398\n",
      "[290]\tTest-mae:0.19398\n",
      "[291]\tTest-mae:0.19397\n",
      "[292]\tTest-mae:0.19395\n",
      "[293]\tTest-mae:0.19387\n",
      "[294]\tTest-mae:0.19388\n",
      "[295]\tTest-mae:0.19386\n",
      "[296]\tTest-mae:0.19384\n",
      "[297]\tTest-mae:0.19384\n",
      "[298]\tTest-mae:0.19382\n",
      "[299]\tTest-mae:0.19382\n",
      "[300]\tTest-mae:0.19381\n",
      "[301]\tTest-mae:0.19379\n",
      "[302]\tTest-mae:0.19379\n",
      "[303]\tTest-mae:0.19376\n",
      "[304]\tTest-mae:0.19371\n",
      "[305]\tTest-mae:0.19369\n",
      "[306]\tTest-mae:0.19366\n",
      "[307]\tTest-mae:0.19363\n",
      "[308]\tTest-mae:0.19359\n",
      "[309]\tTest-mae:0.19356\n",
      "[310]\tTest-mae:0.19353\n",
      "[311]\tTest-mae:0.19352\n",
      "[312]\tTest-mae:0.19350\n",
      "[313]\tTest-mae:0.19347\n",
      "[314]\tTest-mae:0.19347\n",
      "[315]\tTest-mae:0.19347\n",
      "[316]\tTest-mae:0.19338\n",
      "[317]\tTest-mae:0.19336\n",
      "[318]\tTest-mae:0.19337\n",
      "[319]\tTest-mae:0.19336\n",
      "[320]\tTest-mae:0.19333\n",
      "[321]\tTest-mae:0.19330\n",
      "[322]\tTest-mae:0.19326\n",
      "[323]\tTest-mae:0.19323\n",
      "[324]\tTest-mae:0.19320\n",
      "[325]\tTest-mae:0.19318\n",
      "[326]\tTest-mae:0.19317\n",
      "[327]\tTest-mae:0.19317\n",
      "[328]\tTest-mae:0.19311\n",
      "[329]\tTest-mae:0.19307\n",
      "[330]\tTest-mae:0.19306\n",
      "[331]\tTest-mae:0.19304\n",
      "[332]\tTest-mae:0.19301\n",
      "[333]\tTest-mae:0.19295\n",
      "[334]\tTest-mae:0.19295\n",
      "[335]\tTest-mae:0.19292\n",
      "[336]\tTest-mae:0.19290\n",
      "[337]\tTest-mae:0.19289\n",
      "[338]\tTest-mae:0.19285\n",
      "[339]\tTest-mae:0.19284\n",
      "[340]\tTest-mae:0.19283\n",
      "[341]\tTest-mae:0.19279\n",
      "[342]\tTest-mae:0.19280\n",
      "[343]\tTest-mae:0.19276\n",
      "[344]\tTest-mae:0.19273\n",
      "[345]\tTest-mae:0.19270\n",
      "[346]\tTest-mae:0.19268\n",
      "[347]\tTest-mae:0.19259\n",
      "[348]\tTest-mae:0.19259\n",
      "[349]\tTest-mae:0.19259\n",
      "[350]\tTest-mae:0.19256\n",
      "[351]\tTest-mae:0.19254\n",
      "[352]\tTest-mae:0.19253\n",
      "[353]\tTest-mae:0.19253\n",
      "[354]\tTest-mae:0.19248\n",
      "[355]\tTest-mae:0.19242\n",
      "[356]\tTest-mae:0.19239\n",
      "[357]\tTest-mae:0.19239\n",
      "[358]\tTest-mae:0.19237\n",
      "[359]\tTest-mae:0.19237\n",
      "[360]\tTest-mae:0.19236\n"
     ]
    },
    {
     "name": "stdout",
     "output_type": "stream",
     "text": [
      "[361]\tTest-mae:0.19235\n",
      "[362]\tTest-mae:0.19231\n",
      "[363]\tTest-mae:0.19231\n",
      "[364]\tTest-mae:0.19230\n",
      "[365]\tTest-mae:0.19229\n",
      "[366]\tTest-mae:0.19226\n",
      "[367]\tTest-mae:0.19224\n",
      "[368]\tTest-mae:0.19221\n",
      "[369]\tTest-mae:0.19221\n",
      "[370]\tTest-mae:0.19220\n",
      "[371]\tTest-mae:0.19219\n",
      "[372]\tTest-mae:0.19218\n",
      "[373]\tTest-mae:0.19218\n",
      "[374]\tTest-mae:0.19218\n",
      "[375]\tTest-mae:0.19215\n",
      "[376]\tTest-mae:0.19211\n",
      "[377]\tTest-mae:0.19206\n",
      "[378]\tTest-mae:0.19206\n",
      "[379]\tTest-mae:0.19206\n",
      "[380]\tTest-mae:0.19205\n",
      "[381]\tTest-mae:0.19200\n",
      "[382]\tTest-mae:0.19199\n",
      "[383]\tTest-mae:0.19195\n",
      "[384]\tTest-mae:0.19192\n",
      "[385]\tTest-mae:0.19192\n",
      "[386]\tTest-mae:0.19193\n",
      "[387]\tTest-mae:0.19190\n",
      "[388]\tTest-mae:0.19188\n",
      "[389]\tTest-mae:0.19188\n",
      "[390]\tTest-mae:0.19187\n",
      "[391]\tTest-mae:0.19188\n",
      "[392]\tTest-mae:0.19187\n",
      "[393]\tTest-mae:0.19184\n",
      "[394]\tTest-mae:0.19182\n",
      "[395]\tTest-mae:0.19182\n",
      "[396]\tTest-mae:0.19182\n",
      "[397]\tTest-mae:0.19180\n",
      "[398]\tTest-mae:0.19176\n",
      "[399]\tTest-mae:0.19177\n",
      "[400]\tTest-mae:0.19175\n",
      "[401]\tTest-mae:0.19175\n",
      "[402]\tTest-mae:0.19174\n",
      "[403]\tTest-mae:0.19174\n",
      "[404]\tTest-mae:0.19173\n",
      "[405]\tTest-mae:0.19173\n",
      "[406]\tTest-mae:0.19170\n",
      "[407]\tTest-mae:0.19169\n",
      "[408]\tTest-mae:0.19166\n",
      "[409]\tTest-mae:0.19165\n",
      "[410]\tTest-mae:0.19161\n",
      "[411]\tTest-mae:0.19158\n",
      "[412]\tTest-mae:0.19157\n",
      "[413]\tTest-mae:0.19156\n",
      "[414]\tTest-mae:0.19153\n",
      "[415]\tTest-mae:0.19151\n",
      "[416]\tTest-mae:0.19151\n",
      "[417]\tTest-mae:0.19152\n",
      "[418]\tTest-mae:0.19150\n",
      "[419]\tTest-mae:0.19147\n",
      "[420]\tTest-mae:0.19144\n",
      "[421]\tTest-mae:0.19143\n",
      "[422]\tTest-mae:0.19139\n",
      "[423]\tTest-mae:0.19138\n",
      "[424]\tTest-mae:0.19136\n",
      "[425]\tTest-mae:0.19134\n",
      "[426]\tTest-mae:0.19131\n",
      "[427]\tTest-mae:0.19132\n",
      "[428]\tTest-mae:0.19132\n",
      "[429]\tTest-mae:0.19132\n",
      "[430]\tTest-mae:0.19132\n",
      "[431]\tTest-mae:0.19130\n",
      "[432]\tTest-mae:0.19128\n",
      "[433]\tTest-mae:0.19128\n",
      "[434]\tTest-mae:0.19127\n",
      "[435]\tTest-mae:0.19125\n",
      "[436]\tTest-mae:0.19119\n",
      "[437]\tTest-mae:0.19117\n",
      "[438]\tTest-mae:0.19117\n",
      "[439]\tTest-mae:0.19114\n",
      "[440]\tTest-mae:0.19113\n",
      "[441]\tTest-mae:0.19113\n",
      "[442]\tTest-mae:0.19113\n",
      "[443]\tTest-mae:0.19113\n",
      "[444]\tTest-mae:0.19111\n",
      "[445]\tTest-mae:0.19108\n",
      "[446]\tTest-mae:0.19107\n",
      "[447]\tTest-mae:0.19105\n",
      "[448]\tTest-mae:0.19101\n",
      "[449]\tTest-mae:0.19097\n",
      "[450]\tTest-mae:0.19096\n",
      "[451]\tTest-mae:0.19096\n",
      "[452]\tTest-mae:0.19087\n",
      "[453]\tTest-mae:0.19085\n",
      "[454]\tTest-mae:0.19086\n",
      "[455]\tTest-mae:0.19086\n",
      "[456]\tTest-mae:0.19085\n",
      "[457]\tTest-mae:0.19085\n",
      "[458]\tTest-mae:0.19085\n",
      "[459]\tTest-mae:0.19084\n",
      "[460]\tTest-mae:0.19085\n",
      "[461]\tTest-mae:0.19085\n",
      "[462]\tTest-mae:0.19085\n",
      "[463]\tTest-mae:0.19085\n",
      "[464]\tTest-mae:0.19084\n",
      "[465]\tTest-mae:0.19085\n",
      "[466]\tTest-mae:0.19081\n",
      "[467]\tTest-mae:0.19074\n",
      "[468]\tTest-mae:0.19072\n",
      "[469]\tTest-mae:0.19071\n",
      "[470]\tTest-mae:0.19070\n",
      "[471]\tTest-mae:0.19070\n",
      "[472]\tTest-mae:0.19072\n",
      "[473]\tTest-mae:0.19072\n",
      "[474]\tTest-mae:0.19071\n",
      "[475]\tTest-mae:0.19070\n",
      "[476]\tTest-mae:0.19066\n",
      "[477]\tTest-mae:0.19066\n",
      "[478]\tTest-mae:0.19064\n",
      "[479]\tTest-mae:0.19063\n",
      "[480]\tTest-mae:0.19063\n",
      "[481]\tTest-mae:0.19063\n",
      "[482]\tTest-mae:0.19063\n",
      "[483]\tTest-mae:0.19062\n",
      "[484]\tTest-mae:0.19060\n",
      "[485]\tTest-mae:0.19057\n",
      "[486]\tTest-mae:0.19055\n",
      "[487]\tTest-mae:0.19054\n",
      "[488]\tTest-mae:0.19052\n",
      "[489]\tTest-mae:0.19052\n",
      "[490]\tTest-mae:0.19053\n",
      "[491]\tTest-mae:0.19053\n",
      "[492]\tTest-mae:0.19053\n",
      "[493]\tTest-mae:0.19054\n",
      "[494]\tTest-mae:0.19052\n",
      "[495]\tTest-mae:0.19052\n",
      "[496]\tTest-mae:0.19053\n",
      "[497]\tTest-mae:0.19053\n",
      "[498]\tTest-mae:0.19052\n",
      "[499]\tTest-mae:0.19053\n",
      "[500]\tTest-mae:0.19053\n",
      "[501]\tTest-mae:0.19052\n",
      "[502]\tTest-mae:0.19051\n",
      "[503]\tTest-mae:0.19049\n",
      "[504]\tTest-mae:0.19046\n",
      "[505]\tTest-mae:0.19047\n",
      "[506]\tTest-mae:0.19047\n",
      "[507]\tTest-mae:0.19046\n",
      "[508]\tTest-mae:0.19046\n",
      "[509]\tTest-mae:0.19046\n",
      "[510]\tTest-mae:0.19046\n",
      "[511]\tTest-mae:0.19046\n",
      "[512]\tTest-mae:0.19045\n",
      "[513]\tTest-mae:0.19046\n",
      "[514]\tTest-mae:0.19046\n",
      "[515]\tTest-mae:0.19047\n",
      "[516]\tTest-mae:0.19046\n",
      "[517]\tTest-mae:0.19044\n",
      "[518]\tTest-mae:0.19040\n",
      "[519]\tTest-mae:0.19039\n",
      "[520]\tTest-mae:0.19037\n",
      "[521]\tTest-mae:0.19037\n",
      "[522]\tTest-mae:0.19037\n",
      "[523]\tTest-mae:0.19036\n",
      "[524]\tTest-mae:0.19034\n",
      "[525]\tTest-mae:0.19036\n",
      "[526]\tTest-mae:0.19035\n",
      "[527]\tTest-mae:0.19035\n",
      "[528]\tTest-mae:0.19032\n",
      "[529]\tTest-mae:0.19032\n",
      "[530]\tTest-mae:0.19032\n",
      "[531]\tTest-mae:0.19033\n",
      "[532]\tTest-mae:0.19034\n",
      "[533]\tTest-mae:0.19032\n",
      "[534]\tTest-mae:0.19032\n",
      "[535]\tTest-mae:0.19031\n",
      "[536]\tTest-mae:0.19032\n",
      "[537]\tTest-mae:0.19032\n",
      "[538]\tTest-mae:0.19032\n",
      "[539]\tTest-mae:0.19032\n",
      "[540]\tTest-mae:0.19029\n",
      "[541]\tTest-mae:0.19028\n",
      "[542]\tTest-mae:0.19026\n",
      "[543]\tTest-mae:0.19027\n",
      "[544]\tTest-mae:0.19027\n",
      "[545]\tTest-mae:0.19028\n",
      "[546]\tTest-mae:0.19027\n",
      "[547]\tTest-mae:0.19028\n",
      "[548]\tTest-mae:0.19025\n",
      "[549]\tTest-mae:0.19024\n",
      "[550]\tTest-mae:0.19025\n",
      "[551]\tTest-mae:0.19024\n",
      "[552]\tTest-mae:0.19024\n",
      "[553]\tTest-mae:0.19022\n",
      "[554]\tTest-mae:0.19021\n",
      "[555]\tTest-mae:0.19021\n",
      "[556]\tTest-mae:0.19018\n",
      "[557]\tTest-mae:0.19019\n",
      "[558]\tTest-mae:0.19019\n",
      "[559]\tTest-mae:0.19018\n",
      "[560]\tTest-mae:0.19017\n",
      "[561]\tTest-mae:0.19016\n",
      "[562]\tTest-mae:0.19013\n",
      "[563]\tTest-mae:0.19012\n",
      "[564]\tTest-mae:0.19011\n",
      "[565]\tTest-mae:0.19012\n",
      "[566]\tTest-mae:0.19011\n",
      "[567]\tTest-mae:0.19011\n",
      "[568]\tTest-mae:0.19011\n",
      "[569]\tTest-mae:0.19009\n",
      "[570]\tTest-mae:0.19008\n",
      "[571]\tTest-mae:0.19007\n",
      "[572]\tTest-mae:0.19009\n",
      "[573]\tTest-mae:0.19009\n",
      "[574]\tTest-mae:0.19007\n",
      "[575]\tTest-mae:0.19007\n",
      "[576]\tTest-mae:0.19007\n",
      "[577]\tTest-mae:0.19007\n",
      "[578]\tTest-mae:0.19006\n",
      "[579]\tTest-mae:0.19006\n",
      "[580]\tTest-mae:0.19006\n",
      "[581]\tTest-mae:0.19002\n",
      "[582]\tTest-mae:0.19002\n",
      "[583]\tTest-mae:0.19003\n",
      "[584]\tTest-mae:0.19002\n",
      "[585]\tTest-mae:0.19003\n",
      "[586]\tTest-mae:0.19002\n",
      "[587]\tTest-mae:0.19002\n",
      "[588]\tTest-mae:0.19002\n",
      "[589]\tTest-mae:0.19002\n",
      "[590]\tTest-mae:0.19001\n",
      "[591]\tTest-mae:0.19001\n",
      "[592]\tTest-mae:0.18999\n",
      "[593]\tTest-mae:0.18999\n",
      "[594]\tTest-mae:0.18999\n",
      "[595]\tTest-mae:0.18999\n",
      "[596]\tTest-mae:0.19001\n",
      "[597]\tTest-mae:0.18997\n",
      "[598]\tTest-mae:0.18996\n",
      "[599]\tTest-mae:0.18996\n",
      "[600]\tTest-mae:0.18996\n",
      "[601]\tTest-mae:0.18996\n",
      "[602]\tTest-mae:0.18995\n",
      "[603]\tTest-mae:0.18996\n",
      "[604]\tTest-mae:0.18992\n",
      "[605]\tTest-mae:0.18990\n",
      "[606]\tTest-mae:0.18990\n",
      "[607]\tTest-mae:0.18989\n",
      "[608]\tTest-mae:0.18989\n",
      "[609]\tTest-mae:0.18989\n",
      "[610]\tTest-mae:0.18987\n",
      "[611]\tTest-mae:0.18986\n",
      "[612]\tTest-mae:0.18985\n",
      "[613]\tTest-mae:0.18985\n",
      "[614]\tTest-mae:0.18985\n",
      "[615]\tTest-mae:0.18985\n",
      "[616]\tTest-mae:0.18986\n",
      "[617]\tTest-mae:0.18985\n",
      "[618]\tTest-mae:0.18986\n",
      "[619]\tTest-mae:0.18986\n",
      "[620]\tTest-mae:0.18986\n",
      "[621]\tTest-mae:0.18986\n",
      "[622]\tTest-mae:0.18986\n"
     ]
    }
   ],
   "source": [
    "model = xgb.train(\n",
    "    params,\n",
    "    dtrain,\n",
    "    num_boost_round=num_boost_round,\n",
    "    evals=[(dtest, \"Test\")],\n",
    "    early_stopping_rounds=10\n",
    ")"
   ]
  },
  {
   "cell_type": "code",
   "execution_count": 166,
   "metadata": {},
   "outputs": [
    {
     "data": {
      "text/plain": [
       "612"
      ]
     },
     "execution_count": 166,
     "metadata": {},
     "output_type": "execute_result"
    }
   ],
   "source": [
    "model.best_iteration"
   ]
  },
  {
   "cell_type": "code",
   "execution_count": 171,
   "metadata": {},
   "outputs": [
    {
     "name": "stdout",
     "output_type": "stream",
     "text": [
      "[0]\tTest-mae:12.37180\n",
      "[1]\tTest-mae:11.75329\n",
      "[2]\tTest-mae:11.16582\n",
      "[3]\tTest-mae:10.60766\n",
      "[4]\tTest-mae:10.07742\n",
      "[5]\tTest-mae:9.57361\n",
      "[6]\tTest-mae:9.09504\n",
      "[7]\tTest-mae:8.64027\n",
      "[8]\tTest-mae:8.20821\n",
      "[9]\tTest-mae:7.79789\n",
      "[10]\tTest-mae:7.40791\n",
      "[11]\tTest-mae:7.03735\n",
      "[12]\tTest-mae:6.68545\n",
      "[13]\tTest-mae:6.35116\n",
      "[14]\tTest-mae:6.03347\n",
      "[15]\tTest-mae:5.73180\n",
      "[16]\tTest-mae:5.44517\n",
      "[17]\tTest-mae:5.17287\n",
      "[18]\tTest-mae:4.91405\n",
      "[19]\tTest-mae:4.66832\n",
      "[20]\tTest-mae:4.43496\n",
      "[21]\tTest-mae:4.21300\n",
      "[22]\tTest-mae:4.00234\n",
      "[23]\tTest-mae:3.80217\n",
      "[24]\tTest-mae:3.61193\n",
      "[25]\tTest-mae:3.43124\n",
      "[26]\tTest-mae:3.25960\n",
      "[27]\tTest-mae:3.09653\n",
      "[28]\tTest-mae:2.94160\n",
      "[29]\tTest-mae:2.79440\n",
      "[30]\tTest-mae:2.65458\n",
      "[31]\tTest-mae:2.52170\n",
      "[32]\tTest-mae:2.39545\n",
      "[33]\tTest-mae:2.27545\n",
      "[34]\tTest-mae:2.16158\n",
      "[35]\tTest-mae:2.05327\n",
      "[36]\tTest-mae:1.95045\n",
      "[37]\tTest-mae:1.85282\n",
      "[38]\tTest-mae:1.76005\n",
      "[39]\tTest-mae:1.67204\n",
      "[40]\tTest-mae:1.58854\n",
      "[41]\tTest-mae:1.50917\n",
      "[42]\tTest-mae:1.43399\n",
      "[43]\tTest-mae:1.36258\n",
      "[44]\tTest-mae:1.29489\n",
      "[45]\tTest-mae:1.23075\n",
      "[46]\tTest-mae:1.16987\n",
      "[47]\tTest-mae:1.11222\n",
      "[48]\tTest-mae:1.05758\n",
      "[49]\tTest-mae:1.00574\n",
      "[50]\tTest-mae:0.95661\n",
      "[51]\tTest-mae:0.91013\n",
      "[52]\tTest-mae:0.86614\n",
      "[53]\tTest-mae:0.82461\n",
      "[54]\tTest-mae:0.78525\n",
      "[55]\tTest-mae:0.74815\n",
      "[56]\tTest-mae:0.71304\n",
      "[57]\tTest-mae:0.67986\n",
      "[58]\tTest-mae:0.64858\n",
      "[59]\tTest-mae:0.61902\n",
      "[60]\tTest-mae:0.59120\n",
      "[61]\tTest-mae:0.56496\n",
      "[62]\tTest-mae:0.54028\n",
      "[63]\tTest-mae:0.51705\n",
      "[64]\tTest-mae:0.49509\n",
      "[65]\tTest-mae:0.47457\n",
      "[66]\tTest-mae:0.45526\n",
      "[67]\tTest-mae:0.43718\n",
      "[68]\tTest-mae:0.42030\n",
      "[69]\tTest-mae:0.40444\n",
      "[70]\tTest-mae:0.38952\n",
      "[71]\tTest-mae:0.37570\n",
      "[72]\tTest-mae:0.36284\n",
      "[73]\tTest-mae:0.35080\n",
      "[74]\tTest-mae:0.33960\n",
      "[75]\tTest-mae:0.32910\n",
      "[76]\tTest-mae:0.31938\n",
      "[77]\tTest-mae:0.31024\n",
      "[78]\tTest-mae:0.30169\n",
      "[79]\tTest-mae:0.29389\n",
      "[80]\tTest-mae:0.28659\n",
      "[81]\tTest-mae:0.27995\n",
      "[82]\tTest-mae:0.27376\n",
      "[83]\tTest-mae:0.26799\n",
      "[84]\tTest-mae:0.26263\n",
      "[85]\tTest-mae:0.25773\n",
      "[86]\tTest-mae:0.25322\n",
      "[87]\tTest-mae:0.24916\n",
      "[88]\tTest-mae:0.24532\n",
      "[89]\tTest-mae:0.24181\n",
      "[90]\tTest-mae:0.23844\n",
      "[91]\tTest-mae:0.23545\n",
      "[92]\tTest-mae:0.23277\n",
      "[93]\tTest-mae:0.23020\n",
      "[94]\tTest-mae:0.22787\n",
      "[95]\tTest-mae:0.22573\n",
      "[96]\tTest-mae:0.22372\n",
      "[97]\tTest-mae:0.22193\n",
      "[98]\tTest-mae:0.22027\n",
      "[99]\tTest-mae:0.21866\n",
      "[100]\tTest-mae:0.21721\n",
      "[101]\tTest-mae:0.21591\n",
      "[102]\tTest-mae:0.21475\n",
      "[103]\tTest-mae:0.21361\n",
      "[104]\tTest-mae:0.21253\n",
      "[105]\tTest-mae:0.21160\n",
      "[106]\tTest-mae:0.21071\n",
      "[107]\tTest-mae:0.20987\n",
      "[108]\tTest-mae:0.20911\n",
      "[109]\tTest-mae:0.20842\n",
      "[110]\tTest-mae:0.20778\n",
      "[111]\tTest-mae:0.20717\n",
      "[112]\tTest-mae:0.20664\n",
      "[113]\tTest-mae:0.20619\n",
      "[114]\tTest-mae:0.20570\n",
      "[115]\tTest-mae:0.20526\n",
      "[116]\tTest-mae:0.20493\n",
      "[117]\tTest-mae:0.20451\n",
      "[118]\tTest-mae:0.20415\n",
      "[119]\tTest-mae:0.20388\n",
      "[120]\tTest-mae:0.20356\n",
      "[121]\tTest-mae:0.20329\n",
      "[122]\tTest-mae:0.20302\n",
      "[123]\tTest-mae:0.20272\n",
      "[124]\tTest-mae:0.20251\n",
      "[125]\tTest-mae:0.20230\n",
      "[126]\tTest-mae:0.20213\n",
      "[127]\tTest-mae:0.20192\n",
      "[128]\tTest-mae:0.20168\n",
      "[129]\tTest-mae:0.20151\n",
      "[130]\tTest-mae:0.20140\n",
      "[131]\tTest-mae:0.20128\n",
      "[132]\tTest-mae:0.20111\n",
      "[133]\tTest-mae:0.20099\n",
      "[134]\tTest-mae:0.20083\n",
      "[135]\tTest-mae:0.20073\n",
      "[136]\tTest-mae:0.20062\n",
      "[137]\tTest-mae:0.20051\n",
      "[138]\tTest-mae:0.20036\n",
      "[139]\tTest-mae:0.20033\n",
      "[140]\tTest-mae:0.20021\n",
      "[141]\tTest-mae:0.20014\n",
      "[142]\tTest-mae:0.20005\n",
      "[143]\tTest-mae:0.19995\n",
      "[144]\tTest-mae:0.19985\n",
      "[145]\tTest-mae:0.19974\n",
      "[146]\tTest-mae:0.19967\n",
      "[147]\tTest-mae:0.19953\n",
      "[148]\tTest-mae:0.19945\n",
      "[149]\tTest-mae:0.19935\n",
      "[150]\tTest-mae:0.19929\n",
      "[151]\tTest-mae:0.19922\n",
      "[152]\tTest-mae:0.19912\n",
      "[153]\tTest-mae:0.19906\n",
      "[154]\tTest-mae:0.19893\n",
      "[155]\tTest-mae:0.19888\n",
      "[156]\tTest-mae:0.19882\n",
      "[157]\tTest-mae:0.19879\n",
      "[158]\tTest-mae:0.19865\n",
      "[159]\tTest-mae:0.19854\n",
      "[160]\tTest-mae:0.19850\n",
      "[161]\tTest-mae:0.19847\n",
      "[162]\tTest-mae:0.19841\n",
      "[163]\tTest-mae:0.19831\n",
      "[164]\tTest-mae:0.19828\n",
      "[165]\tTest-mae:0.19817\n",
      "[166]\tTest-mae:0.19813\n",
      "[167]\tTest-mae:0.19805\n",
      "[168]\tTest-mae:0.19795\n",
      "[169]\tTest-mae:0.19779\n",
      "[170]\tTest-mae:0.19776\n",
      "[171]\tTest-mae:0.19774\n",
      "[172]\tTest-mae:0.19768\n",
      "[173]\tTest-mae:0.19768\n",
      "[174]\tTest-mae:0.19764\n",
      "[175]\tTest-mae:0.19751\n",
      "[176]\tTest-mae:0.19747\n",
      "[177]\tTest-mae:0.19742\n",
      "[178]\tTest-mae:0.19741\n",
      "[179]\tTest-mae:0.19736\n",
      "[180]\tTest-mae:0.19735\n",
      "[181]\tTest-mae:0.19729\n",
      "[182]\tTest-mae:0.19720\n",
      "[183]\tTest-mae:0.19714\n",
      "[184]\tTest-mae:0.19711\n",
      "[185]\tTest-mae:0.19701\n",
      "[186]\tTest-mae:0.19694\n",
      "[187]\tTest-mae:0.19693\n",
      "[188]\tTest-mae:0.19686\n",
      "[189]\tTest-mae:0.19684\n",
      "[190]\tTest-mae:0.19681\n",
      "[191]\tTest-mae:0.19683\n",
      "[192]\tTest-mae:0.19679\n",
      "[193]\tTest-mae:0.19675\n",
      "[194]\tTest-mae:0.19672\n",
      "[195]\tTest-mae:0.19668\n",
      "[196]\tTest-mae:0.19664\n",
      "[197]\tTest-mae:0.19662\n",
      "[198]\tTest-mae:0.19660\n",
      "[199]\tTest-mae:0.19654\n",
      "[200]\tTest-mae:0.19647\n",
      "[201]\tTest-mae:0.19639\n",
      "[202]\tTest-mae:0.19632\n",
      "[203]\tTest-mae:0.19629\n",
      "[204]\tTest-mae:0.19625\n",
      "[205]\tTest-mae:0.19621\n",
      "[206]\tTest-mae:0.19614\n",
      "[207]\tTest-mae:0.19614\n",
      "[208]\tTest-mae:0.19611\n",
      "[209]\tTest-mae:0.19613\n",
      "[210]\tTest-mae:0.19612\n",
      "[211]\tTest-mae:0.19608\n",
      "[212]\tTest-mae:0.19606\n",
      "[213]\tTest-mae:0.19601\n",
      "[214]\tTest-mae:0.19600\n",
      "[215]\tTest-mae:0.19591\n",
      "[216]\tTest-mae:0.19588\n",
      "[217]\tTest-mae:0.19588\n",
      "[218]\tTest-mae:0.19580\n",
      "[219]\tTest-mae:0.19579\n",
      "[220]\tTest-mae:0.19576\n",
      "[221]\tTest-mae:0.19578\n",
      "[222]\tTest-mae:0.19575\n",
      "[223]\tTest-mae:0.19571\n",
      "[224]\tTest-mae:0.19570\n",
      "[225]\tTest-mae:0.19569\n",
      "[226]\tTest-mae:0.19566\n",
      "[227]\tTest-mae:0.19562\n",
      "[228]\tTest-mae:0.19561\n",
      "[229]\tTest-mae:0.19553\n",
      "[230]\tTest-mae:0.19546\n",
      "[231]\tTest-mae:0.19547\n",
      "[232]\tTest-mae:0.19542\n",
      "[233]\tTest-mae:0.19535\n",
      "[234]\tTest-mae:0.19533\n",
      "[235]\tTest-mae:0.19530\n",
      "[236]\tTest-mae:0.19528\n",
      "[237]\tTest-mae:0.19525\n",
      "[238]\tTest-mae:0.19525\n",
      "[239]\tTest-mae:0.19524\n",
      "[240]\tTest-mae:0.19520\n",
      "[241]\tTest-mae:0.19517\n",
      "[242]\tTest-mae:0.19517\n",
      "[243]\tTest-mae:0.19515\n",
      "[244]\tTest-mae:0.19508\n",
      "[245]\tTest-mae:0.19505\n",
      "[246]\tTest-mae:0.19501\n",
      "[247]\tTest-mae:0.19499\n",
      "[248]\tTest-mae:0.19493\n",
      "[249]\tTest-mae:0.19489\n",
      "[250]\tTest-mae:0.19489\n",
      "[251]\tTest-mae:0.19489\n",
      "[252]\tTest-mae:0.19488\n",
      "[253]\tTest-mae:0.19481\n",
      "[254]\tTest-mae:0.19480\n",
      "[255]\tTest-mae:0.19480\n",
      "[256]\tTest-mae:0.19476\n",
      "[257]\tTest-mae:0.19476\n",
      "[258]\tTest-mae:0.19473\n",
      "[259]\tTest-mae:0.19474\n",
      "[260]\tTest-mae:0.19471\n",
      "[261]\tTest-mae:0.19461\n",
      "[262]\tTest-mae:0.19459\n",
      "[263]\tTest-mae:0.19457\n",
      "[264]\tTest-mae:0.19454\n",
      "[265]\tTest-mae:0.19452\n",
      "[266]\tTest-mae:0.19451\n",
      "[267]\tTest-mae:0.19449\n",
      "[268]\tTest-mae:0.19445\n",
      "[269]\tTest-mae:0.19440\n",
      "[270]\tTest-mae:0.19441\n",
      "[271]\tTest-mae:0.19439\n",
      "[272]\tTest-mae:0.19439\n",
      "[273]\tTest-mae:0.19437\n",
      "[274]\tTest-mae:0.19438\n",
      "[275]\tTest-mae:0.19437\n",
      "[276]\tTest-mae:0.19435\n",
      "[277]\tTest-mae:0.19431\n",
      "[278]\tTest-mae:0.19428\n",
      "[279]\tTest-mae:0.19427\n",
      "[280]\tTest-mae:0.19426\n",
      "[281]\tTest-mae:0.19423\n",
      "[282]\tTest-mae:0.19420\n",
      "[283]\tTest-mae:0.19416\n",
      "[284]\tTest-mae:0.19413\n",
      "[285]\tTest-mae:0.19410\n",
      "[286]\tTest-mae:0.19403\n",
      "[287]\tTest-mae:0.19403\n",
      "[288]\tTest-mae:0.19400\n",
      "[289]\tTest-mae:0.19398\n",
      "[290]\tTest-mae:0.19398\n",
      "[291]\tTest-mae:0.19397\n",
      "[292]\tTest-mae:0.19395\n",
      "[293]\tTest-mae:0.19387\n",
      "[294]\tTest-mae:0.19388\n",
      "[295]\tTest-mae:0.19386\n",
      "[296]\tTest-mae:0.19384\n",
      "[297]\tTest-mae:0.19384\n",
      "[298]\tTest-mae:0.19382\n",
      "[299]\tTest-mae:0.19382\n",
      "[300]\tTest-mae:0.19381\n",
      "[301]\tTest-mae:0.19379\n",
      "[302]\tTest-mae:0.19379\n",
      "[303]\tTest-mae:0.19376\n",
      "[304]\tTest-mae:0.19371\n",
      "[305]\tTest-mae:0.19369\n",
      "[306]\tTest-mae:0.19366\n",
      "[307]\tTest-mae:0.19363\n",
      "[308]\tTest-mae:0.19359\n",
      "[309]\tTest-mae:0.19356\n",
      "[310]\tTest-mae:0.19353\n",
      "[311]\tTest-mae:0.19352\n",
      "[312]\tTest-mae:0.19350\n",
      "[313]\tTest-mae:0.19347\n",
      "[314]\tTest-mae:0.19347\n",
      "[315]\tTest-mae:0.19347\n",
      "[316]\tTest-mae:0.19338\n",
      "[317]\tTest-mae:0.19336\n",
      "[318]\tTest-mae:0.19337\n",
      "[319]\tTest-mae:0.19336\n",
      "[320]\tTest-mae:0.19333\n",
      "[321]\tTest-mae:0.19330\n",
      "[322]\tTest-mae:0.19326\n",
      "[323]\tTest-mae:0.19323\n",
      "[324]\tTest-mae:0.19320\n",
      "[325]\tTest-mae:0.19318\n",
      "[326]\tTest-mae:0.19317\n",
      "[327]\tTest-mae:0.19317\n",
      "[328]\tTest-mae:0.19311\n",
      "[329]\tTest-mae:0.19307\n",
      "[330]\tTest-mae:0.19306\n",
      "[331]\tTest-mae:0.19304\n",
      "[332]\tTest-mae:0.19301\n",
      "[333]\tTest-mae:0.19295\n",
      "[334]\tTest-mae:0.19295\n",
      "[335]\tTest-mae:0.19292\n",
      "[336]\tTest-mae:0.19290\n",
      "[337]\tTest-mae:0.19289\n",
      "[338]\tTest-mae:0.19285\n",
      "[339]\tTest-mae:0.19284\n",
      "[340]\tTest-mae:0.19283\n",
      "[341]\tTest-mae:0.19279\n",
      "[342]\tTest-mae:0.19280\n",
      "[343]\tTest-mae:0.19276\n",
      "[344]\tTest-mae:0.19273\n",
      "[345]\tTest-mae:0.19270\n",
      "[346]\tTest-mae:0.19268\n",
      "[347]\tTest-mae:0.19259\n",
      "[348]\tTest-mae:0.19259\n",
      "[349]\tTest-mae:0.19259\n",
      "[350]\tTest-mae:0.19256\n",
      "[351]\tTest-mae:0.19254\n",
      "[352]\tTest-mae:0.19253\n",
      "[353]\tTest-mae:0.19253\n",
      "[354]\tTest-mae:0.19248\n",
      "[355]\tTest-mae:0.19242\n",
      "[356]\tTest-mae:0.19239\n",
      "[357]\tTest-mae:0.19239\n",
      "[358]\tTest-mae:0.19237\n",
      "[359]\tTest-mae:0.19237\n",
      "[360]\tTest-mae:0.19236\n"
     ]
    },
    {
     "name": "stdout",
     "output_type": "stream",
     "text": [
      "[361]\tTest-mae:0.19235\n",
      "[362]\tTest-mae:0.19231\n",
      "[363]\tTest-mae:0.19231\n",
      "[364]\tTest-mae:0.19230\n",
      "[365]\tTest-mae:0.19229\n",
      "[366]\tTest-mae:0.19226\n",
      "[367]\tTest-mae:0.19224\n",
      "[368]\tTest-mae:0.19221\n",
      "[369]\tTest-mae:0.19221\n",
      "[370]\tTest-mae:0.19220\n",
      "[371]\tTest-mae:0.19219\n",
      "[372]\tTest-mae:0.19218\n",
      "[373]\tTest-mae:0.19218\n",
      "[374]\tTest-mae:0.19218\n",
      "[375]\tTest-mae:0.19215\n",
      "[376]\tTest-mae:0.19211\n",
      "[377]\tTest-mae:0.19206\n",
      "[378]\tTest-mae:0.19206\n",
      "[379]\tTest-mae:0.19206\n",
      "[380]\tTest-mae:0.19205\n",
      "[381]\tTest-mae:0.19200\n",
      "[382]\tTest-mae:0.19199\n",
      "[383]\tTest-mae:0.19195\n",
      "[384]\tTest-mae:0.19192\n",
      "[385]\tTest-mae:0.19192\n",
      "[386]\tTest-mae:0.19193\n",
      "[387]\tTest-mae:0.19190\n",
      "[388]\tTest-mae:0.19188\n",
      "[389]\tTest-mae:0.19188\n",
      "[390]\tTest-mae:0.19187\n",
      "[391]\tTest-mae:0.19188\n",
      "[392]\tTest-mae:0.19187\n",
      "[393]\tTest-mae:0.19184\n",
      "[394]\tTest-mae:0.19182\n",
      "[395]\tTest-mae:0.19182\n",
      "[396]\tTest-mae:0.19182\n",
      "[397]\tTest-mae:0.19180\n",
      "[398]\tTest-mae:0.19176\n",
      "[399]\tTest-mae:0.19177\n",
      "[400]\tTest-mae:0.19175\n",
      "[401]\tTest-mae:0.19175\n",
      "[402]\tTest-mae:0.19174\n",
      "[403]\tTest-mae:0.19174\n",
      "[404]\tTest-mae:0.19173\n",
      "[405]\tTest-mae:0.19173\n",
      "[406]\tTest-mae:0.19170\n",
      "[407]\tTest-mae:0.19169\n",
      "[408]\tTest-mae:0.19166\n",
      "[409]\tTest-mae:0.19165\n",
      "[410]\tTest-mae:0.19161\n",
      "[411]\tTest-mae:0.19158\n",
      "[412]\tTest-mae:0.19157\n",
      "[413]\tTest-mae:0.19156\n",
      "[414]\tTest-mae:0.19153\n",
      "[415]\tTest-mae:0.19151\n",
      "[416]\tTest-mae:0.19151\n",
      "[417]\tTest-mae:0.19152\n",
      "[418]\tTest-mae:0.19150\n",
      "[419]\tTest-mae:0.19147\n",
      "[420]\tTest-mae:0.19144\n",
      "[421]\tTest-mae:0.19143\n",
      "[422]\tTest-mae:0.19139\n",
      "[423]\tTest-mae:0.19138\n",
      "[424]\tTest-mae:0.19136\n",
      "[425]\tTest-mae:0.19134\n",
      "[426]\tTest-mae:0.19131\n",
      "[427]\tTest-mae:0.19132\n",
      "[428]\tTest-mae:0.19132\n",
      "[429]\tTest-mae:0.19132\n",
      "[430]\tTest-mae:0.19132\n",
      "[431]\tTest-mae:0.19130\n",
      "[432]\tTest-mae:0.19128\n",
      "[433]\tTest-mae:0.19128\n",
      "[434]\tTest-mae:0.19127\n",
      "[435]\tTest-mae:0.19125\n",
      "[436]\tTest-mae:0.19119\n",
      "[437]\tTest-mae:0.19117\n",
      "[438]\tTest-mae:0.19117\n",
      "[439]\tTest-mae:0.19114\n",
      "[440]\tTest-mae:0.19113\n",
      "[441]\tTest-mae:0.19113\n",
      "[442]\tTest-mae:0.19113\n",
      "[443]\tTest-mae:0.19113\n",
      "[444]\tTest-mae:0.19111\n",
      "[445]\tTest-mae:0.19108\n",
      "[446]\tTest-mae:0.19107\n",
      "[447]\tTest-mae:0.19105\n",
      "[448]\tTest-mae:0.19101\n",
      "[449]\tTest-mae:0.19097\n",
      "[450]\tTest-mae:0.19096\n",
      "[451]\tTest-mae:0.19096\n",
      "[452]\tTest-mae:0.19087\n",
      "[453]\tTest-mae:0.19085\n",
      "[454]\tTest-mae:0.19086\n",
      "[455]\tTest-mae:0.19086\n",
      "[456]\tTest-mae:0.19085\n",
      "[457]\tTest-mae:0.19085\n",
      "[458]\tTest-mae:0.19085\n",
      "[459]\tTest-mae:0.19084\n",
      "[460]\tTest-mae:0.19085\n",
      "[461]\tTest-mae:0.19085\n",
      "[462]\tTest-mae:0.19085\n",
      "[463]\tTest-mae:0.19085\n",
      "[464]\tTest-mae:0.19084\n",
      "[465]\tTest-mae:0.19085\n",
      "[466]\tTest-mae:0.19081\n",
      "[467]\tTest-mae:0.19074\n",
      "[468]\tTest-mae:0.19072\n",
      "[469]\tTest-mae:0.19071\n",
      "[470]\tTest-mae:0.19070\n",
      "[471]\tTest-mae:0.19070\n",
      "[472]\tTest-mae:0.19072\n",
      "[473]\tTest-mae:0.19072\n",
      "[474]\tTest-mae:0.19071\n",
      "[475]\tTest-mae:0.19070\n",
      "[476]\tTest-mae:0.19066\n",
      "[477]\tTest-mae:0.19066\n",
      "[478]\tTest-mae:0.19064\n",
      "[479]\tTest-mae:0.19063\n",
      "[480]\tTest-mae:0.19063\n",
      "[481]\tTest-mae:0.19063\n",
      "[482]\tTest-mae:0.19063\n",
      "[483]\tTest-mae:0.19062\n",
      "[484]\tTest-mae:0.19060\n",
      "[485]\tTest-mae:0.19057\n",
      "[486]\tTest-mae:0.19055\n",
      "[487]\tTest-mae:0.19054\n",
      "[488]\tTest-mae:0.19052\n",
      "[489]\tTest-mae:0.19052\n",
      "[490]\tTest-mae:0.19053\n",
      "[491]\tTest-mae:0.19053\n",
      "[492]\tTest-mae:0.19053\n",
      "[493]\tTest-mae:0.19054\n",
      "[494]\tTest-mae:0.19052\n",
      "[495]\tTest-mae:0.19052\n",
      "[496]\tTest-mae:0.19053\n",
      "[497]\tTest-mae:0.19053\n",
      "[498]\tTest-mae:0.19052\n",
      "[499]\tTest-mae:0.19053\n",
      "[500]\tTest-mae:0.19053\n",
      "[501]\tTest-mae:0.19052\n",
      "[502]\tTest-mae:0.19051\n",
      "[503]\tTest-mae:0.19049\n",
      "[504]\tTest-mae:0.19046\n",
      "[505]\tTest-mae:0.19047\n",
      "[506]\tTest-mae:0.19047\n",
      "[507]\tTest-mae:0.19046\n",
      "[508]\tTest-mae:0.19046\n",
      "[509]\tTest-mae:0.19046\n",
      "[510]\tTest-mae:0.19046\n",
      "[511]\tTest-mae:0.19046\n",
      "[512]\tTest-mae:0.19045\n",
      "[513]\tTest-mae:0.19046\n",
      "[514]\tTest-mae:0.19046\n",
      "[515]\tTest-mae:0.19047\n",
      "[516]\tTest-mae:0.19046\n",
      "[517]\tTest-mae:0.19044\n",
      "[518]\tTest-mae:0.19040\n",
      "[519]\tTest-mae:0.19039\n",
      "[520]\tTest-mae:0.19037\n",
      "[521]\tTest-mae:0.19037\n",
      "[522]\tTest-mae:0.19037\n",
      "[523]\tTest-mae:0.19036\n",
      "[524]\tTest-mae:0.19034\n",
      "[525]\tTest-mae:0.19036\n",
      "[526]\tTest-mae:0.19035\n",
      "[527]\tTest-mae:0.19035\n",
      "[528]\tTest-mae:0.19032\n",
      "[529]\tTest-mae:0.19032\n",
      "[530]\tTest-mae:0.19032\n",
      "[531]\tTest-mae:0.19033\n",
      "[532]\tTest-mae:0.19034\n",
      "[533]\tTest-mae:0.19032\n",
      "[534]\tTest-mae:0.19032\n",
      "[535]\tTest-mae:0.19031\n",
      "[536]\tTest-mae:0.19032\n",
      "[537]\tTest-mae:0.19032\n",
      "[538]\tTest-mae:0.19032\n",
      "[539]\tTest-mae:0.19032\n",
      "[540]\tTest-mae:0.19029\n",
      "[541]\tTest-mae:0.19028\n",
      "[542]\tTest-mae:0.19026\n",
      "[543]\tTest-mae:0.19027\n",
      "[544]\tTest-mae:0.19027\n",
      "[545]\tTest-mae:0.19028\n",
      "[546]\tTest-mae:0.19027\n",
      "[547]\tTest-mae:0.19028\n",
      "[548]\tTest-mae:0.19025\n",
      "[549]\tTest-mae:0.19024\n",
      "[550]\tTest-mae:0.19025\n",
      "[551]\tTest-mae:0.19024\n",
      "[552]\tTest-mae:0.19024\n",
      "[553]\tTest-mae:0.19022\n",
      "[554]\tTest-mae:0.19021\n",
      "[555]\tTest-mae:0.19021\n",
      "[556]\tTest-mae:0.19018\n",
      "[557]\tTest-mae:0.19019\n",
      "[558]\tTest-mae:0.19019\n",
      "[559]\tTest-mae:0.19018\n",
      "[560]\tTest-mae:0.19017\n",
      "[561]\tTest-mae:0.19016\n",
      "[562]\tTest-mae:0.19013\n",
      "[563]\tTest-mae:0.19012\n",
      "[564]\tTest-mae:0.19011\n",
      "[565]\tTest-mae:0.19012\n",
      "[566]\tTest-mae:0.19011\n",
      "[567]\tTest-mae:0.19011\n",
      "[568]\tTest-mae:0.19011\n",
      "[569]\tTest-mae:0.19009\n",
      "[570]\tTest-mae:0.19008\n",
      "[571]\tTest-mae:0.19007\n",
      "[572]\tTest-mae:0.19009\n",
      "[573]\tTest-mae:0.19009\n",
      "[574]\tTest-mae:0.19007\n",
      "[575]\tTest-mae:0.19007\n",
      "[576]\tTest-mae:0.19007\n",
      "[577]\tTest-mae:0.19007\n",
      "[578]\tTest-mae:0.19006\n",
      "[579]\tTest-mae:0.19006\n",
      "[580]\tTest-mae:0.19006\n",
      "[581]\tTest-mae:0.19002\n",
      "[582]\tTest-mae:0.19002\n",
      "[583]\tTest-mae:0.19003\n",
      "[584]\tTest-mae:0.19002\n",
      "[585]\tTest-mae:0.19003\n",
      "[586]\tTest-mae:0.19002\n",
      "[587]\tTest-mae:0.19002\n",
      "[588]\tTest-mae:0.19002\n",
      "[589]\tTest-mae:0.19002\n",
      "[590]\tTest-mae:0.19001\n",
      "[591]\tTest-mae:0.19001\n",
      "[592]\tTest-mae:0.18999\n",
      "[593]\tTest-mae:0.18999\n",
      "[594]\tTest-mae:0.18999\n",
      "[595]\tTest-mae:0.18999\n",
      "[596]\tTest-mae:0.19001\n",
      "[597]\tTest-mae:0.18997\n",
      "[598]\tTest-mae:0.18996\n",
      "[599]\tTest-mae:0.18996\n",
      "[600]\tTest-mae:0.18996\n",
      "[601]\tTest-mae:0.18996\n",
      "[602]\tTest-mae:0.18995\n",
      "[603]\tTest-mae:0.18996\n",
      "[604]\tTest-mae:0.18992\n",
      "[605]\tTest-mae:0.18990\n",
      "[606]\tTest-mae:0.18990\n",
      "[607]\tTest-mae:0.18989\n",
      "[608]\tTest-mae:0.18989\n",
      "[609]\tTest-mae:0.18989\n",
      "[610]\tTest-mae:0.18987\n",
      "[611]\tTest-mae:0.18986\n",
      "[612]\tTest-mae:0.18985\n"
     ]
    }
   ],
   "source": [
    "num_boost_round = model.best_iteration + 1\n",
    "best_model = xgb.train(\n",
    "    params,\n",
    "    dtrain,\n",
    "    num_boost_round=num_boost_round,\n",
    "    evals=[(dtest, \"Test\")]\n",
    ")"
   ]
  },
  {
   "cell_type": "code",
   "execution_count": 174,
   "metadata": {},
   "outputs": [],
   "source": [
    "bmlog_pred_test = best_model.predict(dtest)\n",
    "bmlog_pred_train = best_model.predict(dtrain)"
   ]
  },
  {
   "cell_type": "code",
   "execution_count": 189,
   "metadata": {},
   "outputs": [
    {
     "name": "stdout",
     "output_type": "stream",
     "text": [
      "MAE of Y_train GB prediction with HP Tuning: 0.1605371821907445\n",
      "MAE of Y_test GB prediction with HP Tuning: 0.18984552348861417\n"
     ]
    }
   ],
   "source": [
    "print(\"MAE of Y_train GB prediction with HP Tuning:\",mean_absolute_error(log_y_train, bmlog_pred_train))\n",
    "print(\"MAE of Y_test GB prediction with HP Tuning:\",mean_absolute_error(log_y_test, bmlog_pred_test))"
   ]
  },
  {
   "cell_type": "code",
   "execution_count": 190,
   "metadata": {},
   "outputs": [
    {
     "data": {
      "text/plain": [
       "260341.58035544798"
      ]
     },
     "execution_count": 190,
     "metadata": {},
     "output_type": "execute_result"
    }
   ],
   "source": [
    "(mean_absolute_error(y_test, bm_pred_test))"
   ]
  },
  {
   "cell_type": "code",
   "execution_count": 191,
   "metadata": {},
   "outputs": [],
   "source": [
    "# Turning our prediction back to base numbers on which we did log\n",
    "bm_pred_test = np.exp(bmlog_pred_test)\n",
    "bm_pred_train = np.exp(bmlog_pred_train)"
   ]
  },
  {
   "cell_type": "markdown",
   "metadata": {},
   "source": [
    "## 3.12 Best Model <a id='3.12_Best_Model'></a>  "
   ]
  },
  {
   "cell_type": "markdown",
   "metadata": {},
   "source": [
    "### Here are the results of our Gradient Boosting model with and without Hyper-parameter Tuning"
   ]
  },
  {
   "cell_type": "code",
   "execution_count": 188,
   "metadata": {},
   "outputs": [
    {
     "name": "stdout",
     "output_type": "stream",
     "text": [
      "MAE of Y_train GB prediction with HP Tuning: 197976.21602454834\n",
      "MAE of Y_train GB prediction without HP Tuning: 180999.81921811824\n",
      "MAE of Y_test GB prediction with HP Tuning: 260341.58035544798\n",
      "MAE of Y_test GB prediction without HP Tuning: 296157.9898410476\n"
     ]
    }
   ],
   "source": [
    "print(\"MAE of Y_train GB prediction with HP Tuning:\",mean_absolute_error(y_train, bm_pred_train))\n",
    "print(\"MAE of Y_train GB prediction without HP Tuning:\",mean_absolute_error(y_train, pred_train))\n",
    "print(\"MAE of Y_test GB prediction with HP Tuning:\",mean_absolute_error(y_test, bm_pred_test))\n",
    "print(\"MAE of Y_test GB prediction without HP Tuning:\",mean_absolute_error(y_test, pred_test))"
   ]
  },
  {
   "cell_type": "code",
   "execution_count": 192,
   "metadata": {},
   "outputs": [
    {
     "data": {
      "text/plain": [
       "<AxesSubplot:>"
      ]
     },
     "execution_count": 192,
     "metadata": {},
     "output_type": "execute_result"
    },
    {
     "data": {
      "image/png": "[encoded data removed]",
      "text/plain": [
       "<Figure size 432x288 with 1 Axes>"
      ]
     },
     "metadata": {
      "needs_background": "light"
     },
     "output_type": "display_data"
    }
   ],
   "source": [
    "feature_important = best_model.get_score(importance_type='weight')\n",
    "keys = list(feature_important.keys())\n",
    "values = list(feature_important.values())\n",
    "\n",
    "data = pd.DataFrame(data=values, index=keys, columns=[\"score\"]).sort_values(by = \"score\")\n",
    "data.plot(kind='barh')"
   ]
  },
  {
   "cell_type": "code",
   "execution_count": 193,
   "metadata": {},
   "outputs": [],
   "source": [
    "best_model.save_model(\"xgb_model.model\")"
   ]
  },
  {
   "cell_type": "markdown",
   "metadata": {},
   "source": [
    "### 3.13 Errors"
   ]
  },
  {
   "cell_type": "markdown",
   "metadata": {},
   "source": [
    "#### We like to see what is causing such errors we will try looking at different price brackets to confirm if its overall prediction errors or just  specific price bracket causing a high error rate"
   ]
  },
  {
   "cell_type": "code",
   "execution_count": 179,
   "metadata": {},
   "outputs": [
    {
     "data": {
      "text/plain": [
       "array([], dtype=float32)"
      ]
     },
     "execution_count": 179,
     "metadata": {},
     "output_type": "execute_result"
    }
   ],
   "source": [
    "(bm_pred_test[bm_pred_test < 0])"
   ]
  },
  {
   "cell_type": "markdown",
   "metadata": {},
   "source": [
    "#### It seems we are predicting negative numbers a big reason we are getting a high mae"
   ]
  }
 ],
 "metadata": {
  "kernelspec": {
   "display_name": "Python 3",
   "language": "python",
   "name": "python3"
  },
  "language_info": {
   "codemirror_mode": {
    "name": "ipython",
    "version": 3
   },
   "file_extension": ".py",
   "mimetype": "text/x-python",
   "name": "python",
   "nbconvert_exporter": "python",
   "pygments_lexer": "ipython3",
   "version": "3.8.5"
  }
 },
 "nbformat": 4,
 "nbformat_minor": 4
}
