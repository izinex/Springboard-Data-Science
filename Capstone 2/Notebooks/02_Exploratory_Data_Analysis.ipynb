{
 "cells": [
  {
   "cell_type": "markdown",
   "metadata": {},
   "source": [
    "# 2 Exploratory Data Analysis<a id='2_Exploratory_Data_Analysis'></a>"
   ]
  },
  {
   "cell_type": "markdown",
   "metadata": {},
   "source": [
    "## 2.1 Contents<a id='2.1_Contents'></a>\n",
    "* [2 Exploratory Data Analysis](#2_Exploratory_Data_Analysis)\n",
    "  * [2.1 Contents](#2.1_Contents)\n",
    "  * [2.2 Introduction](#2.2_Introduction)\n",
    "  * [2.3 Imports](#2.2_Imports)\n",
    "  * [2.4 Load The Data](#2.4_Load_The_Data)\n",
    "    * [2.4.1 Ski data](#2.4.1_Ski_data)\n",
    "    * [2.4.2 State-wide summary data](#2.4.2_State-wide_summary_data)\n",
    "  * [2.5 Explore The Data](#2.5_Explore_The_Data)\n",
    "    * [2.5.1 Top States By Order Of Each Of The Summary Statistics](#2.5.1_Top_States_By_Order_Of_Each_Of_The_Summary_Statistics)\n",
    "      * [2.5.1.1 Total state area](#2.5.1.1_Total_state_area)\n",
    "      * [2.5.1.2 Total state population](#2.5.1.2_Total_state_population)\n",
    "      * [2.5.1.3 Resorts per state](#2.5.1.2_Resorts_per_state)\n",
    "      * [2.5.1.4 Total skiable area](#2.5.1.4_Total_skiable_area)\n",
    "      * [2.5.1.5 Total night skiing area](#2.5.1.5_Total_night_skiing_area)\n",
    "      * [2.5.1.6 Total days open](#2.5.1.6_Total_days_open)\n",
    "    * [2.5.2 Resort density](#2.5.2_Resort_density)\n",
    "      * [2.5.2.1 Top states by resort density](#2.5.2.1_Top_states_by_resort_density)\n",
    "    * [2.5.3 Visualizing High Dimensional Data](#2.5.2_Visualizing_High_Dimensional_Data)\n",
    "      * [2.5.2.1 Scale the data](#2.5.2.1_Scale_the_data)\n",
    "        * [2.5.2.1.1 Verifying the scaling](#2.5.2.1.1_Verifying_the_scaling)\n",
    "      * [2.5.3.2 Calculate the PCA transformation](#2.5.2.2_Calculate_the_PCA_transformation)\n",
    "      * [2.5.3.2 Average ticket price by state](#2.5.2.2_Average_ticket_price_by_state)\n",
    "      * [2.5.3.4 Adding average ticket price to scatter plot](#2.5.2.4_Adding_average_ticket_price_to_scatter_plot)\n",
    "    * [2.5.4 Conclusion On How To Handle State Label](#2.5.4_Conclusion_On_How_To_Handle_State_Label)\n",
    "    * [2.5.5 Ski Resort Numeric Data](#2.5.5_Ski_Resort_Numeric_Data)\n",
    "      * [2.5.5.1 Feature engineering](#2.5.5.1_Feature_engineering)\n",
    "      * [2.5.5.2 Feature correlation heatmap](#2.5.5.2_Feature_correlation_heatmap)\n",
    "      * [2.5.5.3 Scatterplots of numeric features against ticket price](#2.5.5.2_Scatterplots_of_numeric_features_against_ticket_price)\n",
    "  * [2.6 Summary](#2.6_Summary)\n"
   ]
  },
  {
   "cell_type": "markdown",
   "metadata": {},
   "source": [
    "## 2.2 Introduction<a id='2.2_Introduction'></a>"
   ]
  },
  {
   "cell_type": "markdown",
   "metadata": {},
   "source": [
    "Our problem for Capital Fortune is to find the best estimates for their houses which are set to finish building by 2024, and find which house type yield the highest return on investment. Our target feature is price in our final dataframe, which will be use to predict house prices for Capital Fortune. We used zillow nyc housing data set with over 75k observations and 1507 variables but we digested it down to over 59k observations and 27 variables. "
   ]
  },
  {
   "cell_type": "markdown",
   "metadata": {},
   "source": [
    "## 2.3 Imports<a id='2.3_Imports'></a>"
   ]
  },
  {
   "cell_type": "code",
   "execution_count": 52,
   "metadata": {},
   "outputs": [],
   "source": [
    "import pandas as pd\n",
    "import numpy as np\n",
    "import os\n",
    "import matplotlib.pyplot as plt\n",
    "import seaborn as sns\n",
    "import scipy.stats\n",
    "import matplotlib.ticker as tick\n",
    "\n",
    "from IPython import display\n",
    "from ipywidgets import interact, widgets\n",
    "from sklearn.decomposition import PCA\n",
    "from sklearn.preprocessing import scale"
   ]
  },
  {
   "cell_type": "markdown",
   "metadata": {},
   "source": [
    "## 2.4 Load The Data<a id='2.4_Load_The_Data'></a>"
   ]
  },
  {
   "cell_type": "markdown",
   "metadata": {},
   "source": [
    "### 2.4.1 Ski data<a id='2.4.1_Ski_data'></a>"
   ]
  },
  {
   "cell_type": "code",
   "execution_count": 4,
   "metadata": {},
   "outputs": [],
   "source": [
    "nyc_df = pd.read_csv('../data/final_nyc.csv')"
   ]
  },
  {
   "cell_type": "code",
   "execution_count": 6,
   "metadata": {},
   "outputs": [
    {
     "name": "stdout",
     "output_type": "stream",
     "text": [
      "<class 'pandas.core.frame.DataFrame'>\n",
      "RangeIndex: 59350 entries, 0 to 59349\n",
      "Data columns (total 27 columns):\n",
      " #   Column                  Non-Null Count  Dtype  \n",
      "---  ------                  --------------  -----  \n",
      " 0   City                    59350 non-null  object \n",
      " 1   Borough                 59350 non-null  object \n",
      " 2   Neighborhood            59350 non-null  object \n",
      " 3   address/streetAddress   59350 non-null  object \n",
      " 4   ZipCode                 59343 non-null  float64\n",
      " 5   latitude                59350 non-null  float64\n",
      " 6   longitude               59350 non-null  float64\n",
      " 7   price                   59350 non-null  float64\n",
      " 8   propertyTaxRate         59338 non-null  float64\n",
      " 9   Annual_Tax              50688 non-null  float64\n",
      " 10  Tax_Assessed_Value      48891 non-null  float64\n",
      " 11  Lot_Size(SqFT)          50072 non-null  float64\n",
      " 12  $_Per_SqFT              50072 non-null  float64\n",
      " 13  LivingArea_Space(SqFT)  52079 non-null  float64\n",
      " 14  HomeType                59135 non-null  object \n",
      " 15  YearBuilt               55394 non-null  float64\n",
      " 16  Bedrooms                59350 non-null  float64\n",
      " 17  Total_Bathrooms         59350 non-null  float64\n",
      " 18  Full_Bathrooms          45282 non-null  float64\n",
      " 19  Half_Bathrooms          45344 non-null  float64\n",
      " 20  ParkingType             59038 non-null  object \n",
      " 21  Basement                59350 non-null  bool   \n",
      " 22  Cooling_Available       59350 non-null  bool   \n",
      " 23  Fireplace_Available     59350 non-null  bool   \n",
      " 24  Heating_Available       59350 non-null  bool   \n",
      " 25  Spa_Available           59350 non-null  bool   \n",
      " 26  Story_Building          59350 non-null  float64\n",
      "dtypes: bool(5), float64(16), object(6)\n",
      "memory usage: 10.2+ MB\n"
     ]
    }
   ],
   "source": [
    "nyc_df.info()"
   ]
  },
  {
   "cell_type": "code",
   "execution_count": 8,
   "metadata": {},
   "outputs": [
    {
     "data": {
      "text/html": [
       "<div>\n",
       "<style scoped>\n",
       "    .dataframe tbody tr th:only-of-type {\n",
       "        vertical-align: middle;\n",
       "    }\n",
       "\n",
       "    .dataframe tbody tr th {\n",
       "        vertical-align: top;\n",
       "    }\n",
       "\n",
       "    .dataframe thead th {\n",
       "        text-align: right;\n",
       "    }\n",
       "</style>\n",
       "<table border=\"1\" class=\"dataframe\">\n",
       "  <thead>\n",
       "    <tr style=\"text-align: right;\">\n",
       "      <th></th>\n",
       "      <th>City</th>\n",
       "      <th>Borough</th>\n",
       "      <th>Neighborhood</th>\n",
       "      <th>address/streetAddress</th>\n",
       "      <th>ZipCode</th>\n",
       "      <th>latitude</th>\n",
       "      <th>longitude</th>\n",
       "      <th>price</th>\n",
       "      <th>propertyTaxRate</th>\n",
       "      <th>Annual_Tax</th>\n",
       "      <th>...</th>\n",
       "      <th>Total_Bathrooms</th>\n",
       "      <th>Full_Bathrooms</th>\n",
       "      <th>Half_Bathrooms</th>\n",
       "      <th>ParkingType</th>\n",
       "      <th>Basement</th>\n",
       "      <th>Cooling_Available</th>\n",
       "      <th>Fireplace_Available</th>\n",
       "      <th>Heating_Available</th>\n",
       "      <th>Spa_Available</th>\n",
       "      <th>Story_Building</th>\n",
       "    </tr>\n",
       "  </thead>\n",
       "  <tbody>\n",
       "    <tr>\n",
       "      <th>0</th>\n",
       "      <td>New York</td>\n",
       "      <td>Manhattan</td>\n",
       "      <td>Marble Hill</td>\n",
       "      <td>60 Terrace View Ave</td>\n",
       "      <td>10463.0</td>\n",
       "      <td>40.877743</td>\n",
       "      <td>-73.910866</td>\n",
       "      <td>799999.0</td>\n",
       "      <td>0.88</td>\n",
       "      <td>5096.0</td>\n",
       "      <td>...</td>\n",
       "      <td>2.0</td>\n",
       "      <td>1.0</td>\n",
       "      <td>1.0</td>\n",
       "      <td>Driveway</td>\n",
       "      <td>True</td>\n",
       "      <td>True</td>\n",
       "      <td>False</td>\n",
       "      <td>True</td>\n",
       "      <td>False</td>\n",
       "      <td>1.0</td>\n",
       "    </tr>\n",
       "    <tr>\n",
       "      <th>1</th>\n",
       "      <td>Bronx</td>\n",
       "      <td>Bronx</td>\n",
       "      <td>Bronx County</td>\n",
       "      <td>625 W 246th St</td>\n",
       "      <td>10471.0</td>\n",
       "      <td>40.892689</td>\n",
       "      <td>-73.910667</td>\n",
       "      <td>3995000.0</td>\n",
       "      <td>0.95</td>\n",
       "      <td>13941.0</td>\n",
       "      <td>...</td>\n",
       "      <td>8.0</td>\n",
       "      <td>7.0</td>\n",
       "      <td>1.0</td>\n",
       "      <td>Garage, Garage - Attached</td>\n",
       "      <td>False</td>\n",
       "      <td>True</td>\n",
       "      <td>True</td>\n",
       "      <td>False</td>\n",
       "      <td>False</td>\n",
       "      <td>1.0</td>\n",
       "    </tr>\n",
       "    <tr>\n",
       "      <th>2</th>\n",
       "      <td>Bronx</td>\n",
       "      <td>Bronx</td>\n",
       "      <td>Bronx County</td>\n",
       "      <td>716 W 231st St</td>\n",
       "      <td>10463.0</td>\n",
       "      <td>40.883419</td>\n",
       "      <td>-73.918106</td>\n",
       "      <td>1495000.0</td>\n",
       "      <td>0.95</td>\n",
       "      <td>12253.0</td>\n",
       "      <td>...</td>\n",
       "      <td>3.0</td>\n",
       "      <td>3.0</td>\n",
       "      <td>0.0</td>\n",
       "      <td>Garage, Garage - Attached</td>\n",
       "      <td>False</td>\n",
       "      <td>False</td>\n",
       "      <td>False</td>\n",
       "      <td>False</td>\n",
       "      <td>False</td>\n",
       "      <td>2.0</td>\n",
       "    </tr>\n",
       "    <tr>\n",
       "      <th>3</th>\n",
       "      <td>Bronx</td>\n",
       "      <td>Bronx</td>\n",
       "      <td>Bronx County</td>\n",
       "      <td>750 W 232nd St</td>\n",
       "      <td>10463.0</td>\n",
       "      <td>40.885033</td>\n",
       "      <td>-73.917793</td>\n",
       "      <td>3450000.0</td>\n",
       "      <td>0.95</td>\n",
       "      <td>19472.0</td>\n",
       "      <td>...</td>\n",
       "      <td>6.0</td>\n",
       "      <td>6.0</td>\n",
       "      <td>0.0</td>\n",
       "      <td>Garage, Garage - Attached</td>\n",
       "      <td>False</td>\n",
       "      <td>True</td>\n",
       "      <td>True</td>\n",
       "      <td>False</td>\n",
       "      <td>False</td>\n",
       "      <td>2.0</td>\n",
       "    </tr>\n",
       "    <tr>\n",
       "      <th>4</th>\n",
       "      <td>Bronx</td>\n",
       "      <td>Bronx</td>\n",
       "      <td>Bronx County</td>\n",
       "      <td>632 W 230th St</td>\n",
       "      <td>10463.0</td>\n",
       "      <td>40.881702</td>\n",
       "      <td>-73.914185</td>\n",
       "      <td>1790000.0</td>\n",
       "      <td>0.95</td>\n",
       "      <td>NaN</td>\n",
       "      <td>...</td>\n",
       "      <td>6.0</td>\n",
       "      <td>5.0</td>\n",
       "      <td>1.0</td>\n",
       "      <td>0 spaces</td>\n",
       "      <td>False</td>\n",
       "      <td>True</td>\n",
       "      <td>False</td>\n",
       "      <td>False</td>\n",
       "      <td>False</td>\n",
       "      <td>1.0</td>\n",
       "    </tr>\n",
       "  </tbody>\n",
       "</table>\n",
       "<p>5 rows × 27 columns</p>\n",
       "</div>"
      ],
      "text/plain": [
       "       City    Borough  Neighborhood address/streetAddress  ZipCode  \\\n",
       "0  New York  Manhattan   Marble Hill   60 Terrace View Ave  10463.0   \n",
       "1     Bronx      Bronx  Bronx County        625 W 246th St  10471.0   \n",
       "2     Bronx      Bronx  Bronx County        716 W 231st St  10463.0   \n",
       "3     Bronx      Bronx  Bronx County        750 W 232nd St  10463.0   \n",
       "4     Bronx      Bronx  Bronx County        632 W 230th St  10463.0   \n",
       "\n",
       "    latitude  longitude      price  propertyTaxRate  Annual_Tax  ...  \\\n",
       "0  40.877743 -73.910866   799999.0             0.88      5096.0  ...   \n",
       "1  40.892689 -73.910667  3995000.0             0.95     13941.0  ...   \n",
       "2  40.883419 -73.918106  1495000.0             0.95     12253.0  ...   \n",
       "3  40.885033 -73.917793  3450000.0             0.95     19472.0  ...   \n",
       "4  40.881702 -73.914185  1790000.0             0.95         NaN  ...   \n",
       "\n",
       "   Total_Bathrooms  Full_Bathrooms  Half_Bathrooms                ParkingType  \\\n",
       "0              2.0             1.0             1.0                   Driveway   \n",
       "1              8.0             7.0             1.0  Garage, Garage - Attached   \n",
       "2              3.0             3.0             0.0  Garage, Garage - Attached   \n",
       "3              6.0             6.0             0.0  Garage, Garage - Attached   \n",
       "4              6.0             5.0             1.0                   0 spaces   \n",
       "\n",
       "  Basement  Cooling_Available  Fireplace_Available  Heating_Available  \\\n",
       "0     True               True                False               True   \n",
       "1    False               True                 True              False   \n",
       "2    False              False                False              False   \n",
       "3    False               True                 True              False   \n",
       "4    False               True                False              False   \n",
       "\n",
       "   Spa_Available  Story_Building  \n",
       "0          False             1.0  \n",
       "1          False             1.0  \n",
       "2          False             2.0  \n",
       "3          False             2.0  \n",
       "4          False             1.0  \n",
       "\n",
       "[5 rows x 27 columns]"
      ]
     },
     "execution_count": 8,
     "metadata": {},
     "output_type": "execute_result"
    }
   ],
   "source": [
    "nyc_df.head()"
   ]
  },
  {
   "cell_type": "code",
   "execution_count": 49,
   "metadata": {},
   "outputs": [],
   "source": [
    "#This is a function by Dan Friedman to change the labels of large numbers \n",
    "#Here is a link\n",
    "#https://dfrieds.com/data-visualizations/how-format-large-tick-values.html\n",
    "sns.set(font_scale=1.4)\n",
    "\n",
    "def reformat_large_tick_values(tick_val, pos):\n",
    "    \"\"\"\n",
    "    Turns large tick values (in the billions, millions and thousands) such as 4500 into 4.5K and also appropriately turns 4000 into 4K (no zero after the decimal).\n",
    "    \"\"\"\n",
    "    if tick_val >= 1000000000:\n",
    "        val = round(tick_val/1000000000, 1)\n",
    "        new_tick_format = '{:}B'.format(val)\n",
    "    elif tick_val >= 1000000:\n",
    "        val = round(tick_val/1000000, 1)\n",
    "        new_tick_format = '{:}M'.format(val)\n",
    "    elif tick_val >= 1000:\n",
    "        val = round(tick_val/1000, 1)\n",
    "        new_tick_format = '{:}K'.format(val)\n",
    "    elif tick_val < 1000:\n",
    "        new_tick_format = round(tick_val, 1)\n",
    "    else:\n",
    "        new_tick_format = tick_val\n",
    "\n",
    "    # make new_tick_format into a string value\n",
    "    new_tick_format = str(new_tick_format)\n",
    "    \n",
    "    # code below will keep 4.5M as is but change values such as 4.0M to 4M since that zero after the decimal isn't needed\n",
    "    index_of_decimal = new_tick_format.find(\".\")\n",
    "    \n",
    "    if index_of_decimal != -1:\n",
    "        value_after_decimal = new_tick_format[index_of_decimal+1]\n",
    "        if value_after_decimal == \"0\":\n",
    "            # remove the 0 after the decimal point since it's not needed\n",
    "            new_tick_format = new_tick_format[0:index_of_decimal] + new_tick_format[index_of_decimal+2:]\n",
    "            \n",
    "    return new_tick_format"
   ]
  },
  {
   "cell_type": "code",
   "execution_count": 94,
   "metadata": {},
   "outputs": [
    {
     "data": {
      "text/plain": [
       "<AxesSubplot:xlabel='Borough', ylabel='count'>"
      ]
     },
     "execution_count": 94,
     "metadata": {},
     "output_type": "execute_result"
    },
    {
     "data": {
      "image/png": "[encoded data removed]",
      "text/plain": [
       "<Figure size 864x576 with 1 Axes>"
      ]
     },
     "metadata": {},
     "output_type": "display_data"
    }
   ],
   "source": [
    "#Lets bar plot the number of houses in each borough\n",
    "plt.subplots(figsize=(12, 8))\n",
    "sns.countplot(x='Borough', data=nyc_df)\n",
    "#Looks like Queens has significantly more houses "
   ]
  },
  {
   "cell_type": "code",
   "execution_count": 79,
   "metadata": {},
   "outputs": [],
   "source": [
    "house_prices_borough = nyc_df[['Borough','price']].groupby('Borough', as_index=False).mean().round()\n"
   ]
  },
  {
   "cell_type": "code",
   "execution_count": null,
   "metadata": {},
   "outputs": [],
   "source": [
    "nyc_df['Borough'].value_counts()"
   ]
  },
  {
   "cell_type": "code",
   "execution_count": 95,
   "metadata": {},
   "outputs": [],
   "source": [
    "num_houses = [7123,12873,3569,23018,12767]\n",
    "house_prices_borough['Houses'] = num_houses"
   ]
  },
  {
   "cell_type": "code",
   "execution_count": 105,
   "metadata": {},
   "outputs": [
    {
     "data": {
      "image/png": "[encoded data removed]",
      "text/plain": [
       "<Figure size 864x576 with 1 Axes>"
      ]
     },
     "metadata": {},
     "output_type": "display_data"
    }
   ],
   "source": [
    "#Lets bar plot the average price of houses by thier boroughs \n",
    "plt.subplots(figsize=(12, 8))\n",
    "sns.barplot(x='Borough', y='price', data=house_prices_borough)\n",
    "plt.xticks(rotation='vertical')\n",
    "plt.ylabel('Average Price($)')\n",
    "plt.xlabel('Borough')\n",
    "plt.ticklabel_format(style='plain', axis='y')\n",
    "ax = plt.gca()\n",
    "ax.yaxis.set_major_formatter(tick.FuncFormatter(reformat_large_tick_values));"
   ]
  }
 ],
 "metadata": {
  "kernelspec": {
   "display_name": "Python 3",
   "language": "python",
   "name": "python3"
  },
  "language_info": {
   "codemirror_mode": {
    "name": "ipython",
    "version": 3
   },
   "file_extension": ".py",
   "mimetype": "text/x-python",
   "name": "python",
   "nbconvert_exporter": "python",
   "pygments_lexer": "ipython3",
   "version": "3.8.5"
  }
 },
 "nbformat": 4,
 "nbformat_minor": 4
}
